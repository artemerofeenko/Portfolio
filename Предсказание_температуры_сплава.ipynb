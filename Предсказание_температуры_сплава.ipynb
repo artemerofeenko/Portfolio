{
 "cells": [
  {
   "cell_type": "markdown",
   "id": "bdd858a7",
   "metadata": {},
   "source": [
    "# Проект: промышленность"
   ]
  },
  {
   "cell_type": "markdown",
   "id": "3546d197",
   "metadata": {},
   "source": [
    "## Описание проекта"
   ]
  },
  {
   "cell_type": "markdown",
   "id": "309cfeb0",
   "metadata": {},
   "source": [
    "Данный проект подразумевает под собой разработку модели для имитации технологического процесса."
   ]
  },
  {
   "cell_type": "markdown",
   "id": "1c9a1af9",
   "metadata": {},
   "source": [
    "## Цель проекта"
   ]
  },
  {
   "cell_type": "markdown",
   "id": "e61acec8",
   "metadata": {},
   "source": [
    "Построить модель, которая будет предсказывать температуру сплава"
   ]
  },
  {
   "cell_type": "markdown",
   "id": "2c497d7e",
   "metadata": {},
   "source": [
    "## Описание данных"
   ]
  },
  {
   "cell_type": "markdown",
   "id": "9fa1502e",
   "metadata": {},
   "source": [
    "Данные состоят из нескольких файлов, полученных из разных источников:\n",
    "\n",
    "data_arc_new.csv — данные об электродах;\n",
    "\n",
    "data_bulk_new.csv — данные о подаче сыпучих материалов (объём);\n",
    "\n",
    "data_bulk_time_new.csv — данные о подаче сыпучих материалов (время);\n",
    "\n",
    "data_gas_new.csv — данные о продувке сплава газом;\n",
    "\n",
    "data_temp_new.csv — результаты измерения температуры;\n",
    "\n",
    "data_wire_new.csv — данные о проволочных материалах (объём);\n",
    "\n",
    "data_wire_time_new.csv — данные о проволочных материалах (время)."
   ]
  },
  {
   "cell_type": "markdown",
   "id": "609244a7",
   "metadata": {},
   "source": [
    "## План работы"
   ]
  },
  {
   "cell_type": "markdown",
   "id": "5f5f1be2",
   "metadata": {},
   "source": [
    "1. Загрузка данных\n",
    "\n",
    "2. Исследовательский анализ и предобработка данных\n",
    "\n",
    "3. Объединение данных\n",
    "\n",
    "4. Исследовательский анализ и предобработка данных объединённого датафрейма\n",
    "\n",
    "5. Подготовка данных\n",
    "\n",
    "6. Обучение моделей машинного обучения\n",
    "\n",
    "7. Выбор лучшей модели\n",
    "\n",
    "8. Общий вывод и рекомендации заказчику"
   ]
  },
  {
   "cell_type": "code",
   "execution_count": 2,
   "id": "0bfca1d6",
   "metadata": {},
   "outputs": [],
   "source": [
    "import pandas as pd\n",
    "import matplotlib.pyplot as plt\n",
    "import numpy as np\n",
    "from scipy import stats\n",
    "pd.options.mode.chained_assignment = None\n",
    "from sklearn.preprocessing import StandardScaler\n",
    "from sklearn.linear_model import LinearRegression\n",
    "from sklearn.linear_model import LogisticRegression\n",
    "from sklearn.model_selection import train_test_split\n",
    "from sklearn.metrics import accuracy_score\n",
    "from sklearn.metrics import recall_score\n",
    "from sklearn.metrics import precision_score\n",
    "from sklearn.metrics import confusion_matrix\n",
    "from sklearn.metrics import roc_auc_score\n",
    "from sklearn.metrics import r2_score\n",
    "from sklearn.metrics import mean_squared_error, mean_absolute_error\n",
    "from sklearn.preprocessing import OneHotEncoder\n",
    "from sklearn.preprocessing import MinMaxScaler\n",
    "import warnings\n",
    "warnings.filterwarnings('ignore')\n",
    "from sklearn.compose import ColumnTransformer\n",
    "from sklearn.pipeline import Pipeline\n",
    "from sklearn.impute import SimpleImputer\n",
    "from sklearn.model_selection import GridSearchCV\n",
    "from sklearn.neighbors import KNeighborsClassifier\n",
    "from sklearn.tree import DecisionTreeClassifier\n",
    "from sklearn.tree import DecisionTreeRegressor\n",
    "from sklearn.neighbors import KNeighborsRegressor\n",
    "from sklearn.svm import SVC\n",
    "from sklearn.ensemble import RandomForestRegressor\n",
    "from sklearn.ensemble import GradientBoostingRegressor\n",
    "from sklearn.metrics import make_scorer\n",
    "from sklearn.svm import SVR\n",
    "from statsmodels.tsa.seasonal import seasonal_decompose\n",
    "import os\n",
    "from sklearn.model_selection import TimeSeriesSplit\n",
    "from sklearn.model_selection import cross_val_score\n",
    "import math\n",
    "from phik import resources, report\n",
    "from phik.phik import phik_matrix\n",
    "import seaborn as sns"
   ]
  },
  {
   "cell_type": "markdown",
   "id": "225474bf",
   "metadata": {},
   "source": [
    "## Загрузка данных"
   ]
  },
  {
   "cell_type": "code",
   "execution_count": 3,
   "id": "e23cf1f6",
   "metadata": {},
   "outputs": [
    {
     "name": "stdout",
     "output_type": "stream",
     "text": [
      "0\n",
      "   key Начало нагрева дугой  Конец нагрева дугой  Активная мощность  \\\n",
      "0    1  2019-05-03 11:02:14  2019-05-03 11:06:02           0.305130   \n",
      "1    1  2019-05-03 11:07:28  2019-05-03 11:10:33           0.765658   \n",
      "2    1  2019-05-03 11:11:44  2019-05-03 11:14:36           0.580313   \n",
      "3    1  2019-05-03 11:18:14  2019-05-03 11:24:19           0.518496   \n",
      "4    1  2019-05-03 11:26:09  2019-05-03 11:28:37           0.867133   \n",
      "5    2  2019-05-03 11:34:14  2019-05-03 11:36:31           0.381124   \n",
      "6    2  2019-05-03 11:38:50  2019-05-03 11:44:28           0.261665   \n",
      "7    2  2019-05-03 11:46:19  2019-05-03 11:48:25           0.710297   \n",
      "8    2  2019-05-03 11:49:48  2019-05-03 11:53:18           0.786322   \n",
      "9    3  2019-05-03 12:06:54  2019-05-03 12:11:34           1.101678   \n",
      "\n",
      "   Реактивная мощность  \n",
      "0             0.211253  \n",
      "1             0.477438  \n",
      "2             0.430460  \n",
      "3             0.379979  \n",
      "4             0.643691  \n",
      "5             0.220351  \n",
      "6             0.205527  \n",
      "7             0.484962  \n",
      "8             0.542517  \n",
      "9             0.820856  \n",
      "<class 'pandas.core.frame.DataFrame'>\n",
      "RangeIndex: 14876 entries, 0 to 14875\n",
      "Data columns (total 5 columns):\n",
      " #   Column                Non-Null Count  Dtype  \n",
      "---  ------                --------------  -----  \n",
      " 0   key                   14876 non-null  int64  \n",
      " 1   Начало нагрева дугой  14876 non-null  object \n",
      " 2   Конец нагрева дугой   14876 non-null  object \n",
      " 3   Активная мощность     14876 non-null  float64\n",
      " 4   Реактивная мощность   14876 non-null  float64\n",
      "dtypes: float64(2), int64(1), object(2)\n",
      "memory usage: 581.2+ KB\n",
      "None\n"
     ]
    }
   ],
   "source": [
    "#анализируем 1 набор данных\n",
    "df_1 = pd.read_csv('/datasets/data_arc_new.csv', sep = ',')\n",
    "#ищем дубликаты\n",
    "print(df_1.duplicated().sum())\n",
    "#выводим первые 10 строк таблицы\n",
    "print(df_1.head(10))\n",
    "#выводим информацию о таблице\n",
    "print(df_1.info())"
   ]
  },
  {
   "cell_type": "code",
   "execution_count": 4,
   "id": "be685b63",
   "metadata": {},
   "outputs": [
    {
     "data": {
      "image/png": "[encoded data removed]",
      "text/plain": [
       "<Figure size 432x288 with 1 Axes>"
      ]
     },
     "metadata": {
      "needs_background": "light"
     },
     "output_type": "display_data"
    }
   ],
   "source": [
    "#строим диаграммы размаха для столбцов, где выбросы надо будет удалять\n",
    "df_1['Активная мощность'].plot(kind = 'box', title = 'Диаграмма размаха по столбцу Активная мощность', ylabel = 'Значения')\n",
    "plt.show()"
   ]
  },
  {
   "cell_type": "code",
   "execution_count": 5,
   "id": "594c53fe",
   "metadata": {},
   "outputs": [
    {
     "data": {
      "image/png": "[encoded data removed]",
      "text/plain": [
       "<Figure size 432x288 with 1 Axes>"
      ]
     },
     "metadata": {
      "needs_background": "light"
     },
     "output_type": "display_data"
    }
   ],
   "source": [
    "df_1['Реактивная мощность'].plot(kind = 'box', title = 'Диаграмма размаха по столбцу Реактивная мощность', ylabel = 'Значения')\n",
    "plt.show()"
   ]
  },
  {
   "cell_type": "markdown",
   "id": "f2a4478e",
   "metadata": {},
   "source": [
    "Имеется неправильный тип данных в столбце с датой и имеются аномальные значение в столбце с реактивной мощностью, все будет исправлено в предобработке."
   ]
  },
  {
   "cell_type": "code",
   "execution_count": 6,
   "id": "afe6f0ca",
   "metadata": {},
   "outputs": [
    {
     "name": "stdout",
     "output_type": "stream",
     "text": [
      "0\n",
      "   key  Bulk 1  Bulk 2  Bulk 3  Bulk 4  Bulk 5  Bulk 6  Bulk 7  Bulk 8  \\\n",
      "0    1     NaN     NaN     NaN    43.0     NaN     NaN     NaN     NaN   \n",
      "1    2     NaN     NaN     NaN    73.0     NaN     NaN     NaN     NaN   \n",
      "2    3     NaN     NaN     NaN    34.0     NaN     NaN     NaN     NaN   \n",
      "3    4     NaN     NaN     NaN    81.0     NaN     NaN     NaN     NaN   \n",
      "4    5     NaN     NaN     NaN    78.0     NaN     NaN     NaN     NaN   \n",
      "5    6     NaN     NaN     NaN   117.0     NaN     NaN     NaN     NaN   \n",
      "6    7     NaN     NaN     NaN   117.0     NaN     NaN     NaN     NaN   \n",
      "7    8     NaN     NaN     NaN    99.0     NaN     NaN     NaN     NaN   \n",
      "8    9     NaN     NaN     NaN   117.0     NaN     NaN     NaN     NaN   \n",
      "9   10     NaN     NaN     NaN     NaN     NaN     NaN     NaN     NaN   \n",
      "\n",
      "   Bulk 9  Bulk 10  Bulk 11  Bulk 12  Bulk 13  Bulk 14  Bulk 15  \n",
      "0     NaN      NaN      NaN    206.0      NaN    150.0    154.0  \n",
      "1     NaN      NaN      NaN    206.0      NaN    149.0    154.0  \n",
      "2     NaN      NaN      NaN    205.0      NaN    152.0    153.0  \n",
      "3     NaN      NaN      NaN    207.0      NaN    153.0    154.0  \n",
      "4     NaN      NaN      NaN    203.0      NaN    151.0    152.0  \n",
      "5     NaN      NaN      NaN    204.0      NaN    201.0    154.0  \n",
      "6     NaN      NaN      NaN    204.0      NaN    152.0    154.0  \n",
      "7     NaN      NaN      NaN    410.0      NaN    252.0    153.0  \n",
      "8     NaN      NaN      NaN    107.0      NaN     99.0    203.0  \n",
      "9     NaN      NaN      NaN    203.0      NaN    102.0    204.0  \n",
      "<class 'pandas.core.frame.DataFrame'>\n",
      "RangeIndex: 3129 entries, 0 to 3128\n",
      "Data columns (total 16 columns):\n",
      " #   Column   Non-Null Count  Dtype  \n",
      "---  ------   --------------  -----  \n",
      " 0   key      3129 non-null   int64  \n",
      " 1   Bulk 1   252 non-null    float64\n",
      " 2   Bulk 2   22 non-null     float64\n",
      " 3   Bulk 3   1298 non-null   float64\n",
      " 4   Bulk 4   1014 non-null   float64\n",
      " 5   Bulk 5   77 non-null     float64\n",
      " 6   Bulk 6   576 non-null    float64\n",
      " 7   Bulk 7   25 non-null     float64\n",
      " 8   Bulk 8   1 non-null      float64\n",
      " 9   Bulk 9   19 non-null     float64\n",
      " 10  Bulk 10  176 non-null    float64\n",
      " 11  Bulk 11  177 non-null    float64\n",
      " 12  Bulk 12  2450 non-null   float64\n",
      " 13  Bulk 13  18 non-null     float64\n",
      " 14  Bulk 14  2806 non-null   float64\n",
      " 15  Bulk 15  2248 non-null   float64\n",
      "dtypes: float64(15), int64(1)\n",
      "memory usage: 391.2 KB\n",
      "None\n"
     ]
    }
   ],
   "source": [
    "#анализируем 2 набор данных\n",
    "df_2 = pd.read_csv('/datasets/data_bulk_new.csv', sep = ',')\n",
    "#ищем дубликаты\n",
    "print(df_2.duplicated().sum())\n",
    "#выводим первые 10 строк таблицы\n",
    "print(df_2.head(10))\n",
    "#выводим информацию о таблице\n",
    "print(df_2.info())"
   ]
  },
  {
   "cell_type": "code",
   "execution_count": 7,
   "id": "a80e5e7c",
   "metadata": {},
   "outputs": [
    {
     "data": {
      "text/plain": [
       "<AxesSubplot:>"
      ]
     },
     "execution_count": 7,
     "metadata": {},
     "output_type": "execute_result"
    },
    {
     "data": {
      "image/png": "[encoded data removed]",
      "text/plain": [
       "<Figure size 792x504 with 1 Axes>"
      ]
     },
     "metadata": {
      "needs_background": "light"
     },
     "output_type": "display_data"
    }
   ],
   "source": [
    "df_2_2 = df_2.drop(['key'], axis=1)\n",
    "df_2_2.boxplot(figsize = (11, 7))"
   ]
  },
  {
   "cell_type": "markdown",
   "id": "825d2887",
   "metadata": {},
   "source": [
    "Nan значения тут не трогаем."
   ]
  },
  {
   "cell_type": "code",
   "execution_count": 8,
   "id": "d71550d3",
   "metadata": {},
   "outputs": [
    {
     "name": "stdout",
     "output_type": "stream",
     "text": [
      "0\n",
      "   key Bulk 1 Bulk 2 Bulk 3               Bulk 4 Bulk 5 Bulk 6 Bulk 7 Bulk 8  \\\n",
      "0    1    NaN    NaN    NaN  2019-05-03 11:28:48    NaN    NaN    NaN    NaN   \n",
      "1    2    NaN    NaN    NaN  2019-05-03 11:36:50    NaN    NaN    NaN    NaN   \n",
      "2    3    NaN    NaN    NaN  2019-05-03 12:32:39    NaN    NaN    NaN    NaN   \n",
      "3    4    NaN    NaN    NaN  2019-05-03 12:43:22    NaN    NaN    NaN    NaN   \n",
      "4    5    NaN    NaN    NaN  2019-05-03 13:30:47    NaN    NaN    NaN    NaN   \n",
      "5    6    NaN    NaN    NaN  2019-05-03 13:57:27    NaN    NaN    NaN    NaN   \n",
      "6    7    NaN    NaN    NaN  2019-05-03 14:18:58    NaN    NaN    NaN    NaN   \n",
      "7    8    NaN    NaN    NaN  2019-05-03 15:17:58    NaN    NaN    NaN    NaN   \n",
      "8    9    NaN    NaN    NaN  2019-05-03 16:03:08    NaN    NaN    NaN    NaN   \n",
      "9   10    NaN    NaN    NaN                  NaN    NaN    NaN    NaN    NaN   \n",
      "\n",
      "  Bulk 9 Bulk 10 Bulk 11              Bulk 12 Bulk 13              Bulk 14  \\\n",
      "0    NaN     NaN     NaN  2019-05-03 11:24:31     NaN  2019-05-03 11:14:50   \n",
      "1    NaN     NaN     NaN  2019-05-03 11:53:30     NaN  2019-05-03 11:48:37   \n",
      "2    NaN     NaN     NaN  2019-05-03 12:27:13     NaN  2019-05-03 12:21:01   \n",
      "3    NaN     NaN     NaN  2019-05-03 12:58:00     NaN  2019-05-03 12:51:11   \n",
      "4    NaN     NaN     NaN  2019-05-03 13:30:47     NaN  2019-05-03 13:34:12   \n",
      "5    NaN     NaN     NaN  2019-05-03 13:48:52     NaN  2019-05-03 14:09:42   \n",
      "6    NaN     NaN     NaN  2019-05-03 14:41:26     NaN  2019-05-03 14:30:50   \n",
      "7    NaN     NaN     NaN  2019-05-03 15:17:58     NaN  2019-05-03 15:13:18   \n",
      "8    NaN     NaN     NaN  2019-05-03 16:03:08     NaN  2019-05-03 16:00:16   \n",
      "9    NaN     NaN     NaN  2019-05-03 16:38:11     NaN  2019-05-03 16:34:24   \n",
      "\n",
      "               Bulk 15  \n",
      "0  2019-05-03 11:10:43  \n",
      "1  2019-05-03 11:44:39  \n",
      "2  2019-05-03 12:16:16  \n",
      "3  2019-05-03 12:46:36  \n",
      "4  2019-05-03 13:30:47  \n",
      "5  2019-05-03 14:03:15  \n",
      "6  2019-05-03 14:27:16  \n",
      "7  2019-05-03 15:05:33  \n",
      "8  2019-05-03 15:52:39  \n",
      "9  2019-05-03 16:29:56  \n",
      "<class 'pandas.core.frame.DataFrame'>\n",
      "RangeIndex: 3129 entries, 0 to 3128\n",
      "Data columns (total 16 columns):\n",
      " #   Column   Non-Null Count  Dtype \n",
      "---  ------   --------------  ----- \n",
      " 0   key      3129 non-null   int64 \n",
      " 1   Bulk 1   252 non-null    object\n",
      " 2   Bulk 2   22 non-null     object\n",
      " 3   Bulk 3   1298 non-null   object\n",
      " 4   Bulk 4   1014 non-null   object\n",
      " 5   Bulk 5   77 non-null     object\n",
      " 6   Bulk 6   576 non-null    object\n",
      " 7   Bulk 7   25 non-null     object\n",
      " 8   Bulk 8   1 non-null      object\n",
      " 9   Bulk 9   19 non-null     object\n",
      " 10  Bulk 10  176 non-null    object\n",
      " 11  Bulk 11  177 non-null    object\n",
      " 12  Bulk 12  2450 non-null   object\n",
      " 13  Bulk 13  18 non-null     object\n",
      " 14  Bulk 14  2806 non-null   object\n",
      " 15  Bulk 15  2248 non-null   object\n",
      "dtypes: int64(1), object(15)\n",
      "memory usage: 391.2+ KB\n",
      "None\n"
     ]
    }
   ],
   "source": [
    "#анализируем 3 набор данных\n",
    "df_3 = pd.read_csv('/datasets/data_bulk_time_new.csv', sep = ',')\n",
    "#ищем дубликаты\n",
    "print(df_3.duplicated().sum())\n",
    "#выводим первые 10 строк таблицы\n",
    "print(df_3.head(10))\n",
    "#выводим информацию о таблице\n",
    "print(df_3.info())"
   ]
  },
  {
   "cell_type": "markdown",
   "id": "aab3f659",
   "metadata": {},
   "source": [
    "Имеется неправильный тип данных в столбце с датой все будет исправлено в предобработке. Nan значения тут не трогаем."
   ]
  },
  {
   "cell_type": "code",
   "execution_count": 9,
   "id": "1eeb0fc2",
   "metadata": {},
   "outputs": [
    {
     "name": "stdout",
     "output_type": "stream",
     "text": [
      "0\n",
      "   key      Газ 1\n",
      "0    1  29.749986\n",
      "1    2  12.555561\n",
      "2    3  28.554793\n",
      "3    4  18.841219\n",
      "4    5   5.413692\n",
      "5    6  11.273392\n",
      "6    7   9.836267\n",
      "7    8  15.171553\n",
      "8    9   8.216623\n",
      "9   10   6.529891\n",
      "<class 'pandas.core.frame.DataFrame'>\n",
      "RangeIndex: 3239 entries, 0 to 3238\n",
      "Data columns (total 2 columns):\n",
      " #   Column  Non-Null Count  Dtype  \n",
      "---  ------  --------------  -----  \n",
      " 0   key     3239 non-null   int64  \n",
      " 1   Газ 1   3239 non-null   float64\n",
      "dtypes: float64(1), int64(1)\n",
      "memory usage: 50.7 KB\n",
      "None\n"
     ]
    }
   ],
   "source": [
    "#анализируем 4 набор данных\n",
    "df_4 = pd.read_csv('/datasets/data_gas_new.csv', sep = ',')\n",
    "#ищем дубликаты\n",
    "print(df_4.duplicated().sum())\n",
    "#выводим первые 10 строк таблицы\n",
    "print(df_4.head(10))\n",
    "#выводим информацию о таблице\n",
    "print(df_4.info())"
   ]
  },
  {
   "cell_type": "code",
   "execution_count": 10,
   "id": "41d3cf39",
   "metadata": {},
   "outputs": [
    {
     "data": {
      "image/png": "[encoded data removed]",
      "text/plain": [
       "<Figure size 432x288 with 1 Axes>"
      ]
     },
     "metadata": {
      "needs_background": "light"
     },
     "output_type": "display_data"
    }
   ],
   "source": [
    "df_4['Газ 1'].plot(kind = 'box', title = 'Диаграмма размаха по столбцу Газ 1', ylabel = 'Значения')\n",
    "plt.show()"
   ]
  },
  {
   "cell_type": "markdown",
   "id": "45a270fb",
   "metadata": {},
   "source": [
    "С данными все хорошо"
   ]
  },
  {
   "cell_type": "code",
   "execution_count": 11,
   "id": "b52f3399",
   "metadata": {},
   "outputs": [
    {
     "name": "stdout",
     "output_type": "stream",
     "text": [
      "0\n",
      "        key         Время замера  Температура\n",
      "0         1  2019-05-03 11:02:04       1571.0\n",
      "1         1  2019-05-03 11:07:18       1604.0\n",
      "2         1  2019-05-03 11:11:34       1618.0\n",
      "3         1  2019-05-03 11:18:04       1601.0\n",
      "4         1  2019-05-03 11:25:59       1606.0\n",
      "...     ...                  ...          ...\n",
      "18087  3241  2019-09-06 16:55:01          NaN\n",
      "18088  3241  2019-09-06 17:06:38          NaN\n",
      "18089  3241  2019-09-06 17:21:48          NaN\n",
      "18090  3241  2019-09-06 17:24:44          NaN\n",
      "18091  3241  2019-09-06 17:30:05          NaN\n",
      "\n",
      "[18092 rows x 3 columns]\n",
      "<class 'pandas.core.frame.DataFrame'>\n",
      "RangeIndex: 18092 entries, 0 to 18091\n",
      "Data columns (total 3 columns):\n",
      " #   Column        Non-Null Count  Dtype  \n",
      "---  ------        --------------  -----  \n",
      " 0   key           18092 non-null  int64  \n",
      " 1   Время замера  18092 non-null  object \n",
      " 2   Температура   14665 non-null  float64\n",
      "dtypes: float64(1), int64(1), object(1)\n",
      "memory usage: 424.2+ KB\n",
      "None\n"
     ]
    }
   ],
   "source": [
    "#анализируем 5 набор данных\n",
    "df_5 = pd.read_csv('/datasets/data_temp_new.csv', sep = ',')\n",
    "#ищем дубликаты\n",
    "print(df_5.duplicated().sum())\n",
    "#выводим первые 10 строк таблицы\n",
    "print(df_5)\n",
    "#выводим информацию о таблице\n",
    "print(df_5.info())"
   ]
  },
  {
   "cell_type": "code",
   "execution_count": 12,
   "id": "b1ba9676",
   "metadata": {},
   "outputs": [
    {
     "data": {
      "image/png": "[encoded data removed]",
      "text/plain": [
       "<Figure size 432x288 with 1 Axes>"
      ]
     },
     "metadata": {
      "needs_background": "light"
     },
     "output_type": "display_data"
    }
   ],
   "source": [
    "df_5['Температура'].plot(kind = 'box', title = 'Диаграмма размаха по столбцу Температура', ylabel = 'Значения')\n",
    "plt.show()"
   ]
  },
  {
   "cell_type": "markdown",
   "id": "0bfb5521",
   "metadata": {},
   "source": [
    "Имеются пропущенные значения в столбце с температурой, данные строки будут удалены. В столбце с датой будет изменен тип данных на правильный. Значения температура должны быть 1400+, будет исправлено."
   ]
  },
  {
   "cell_type": "code",
   "execution_count": 13,
   "id": "2ca76c96",
   "metadata": {},
   "outputs": [
    {
     "name": "stdout",
     "output_type": "stream",
     "text": [
      "0\n",
      "   key      Wire 1     Wire 2  Wire 3  Wire 4  Wire 5  Wire 6  Wire 7  Wire 8  \\\n",
      "0    1   60.059998        NaN     NaN     NaN     NaN     NaN     NaN     NaN   \n",
      "1    2   96.052315        NaN     NaN     NaN     NaN     NaN     NaN     NaN   \n",
      "2    3   91.160157        NaN     NaN     NaN     NaN     NaN     NaN     NaN   \n",
      "3    4   89.063515        NaN     NaN     NaN     NaN     NaN     NaN     NaN   \n",
      "4    5   89.238236   9.114560     NaN     NaN     NaN     NaN     NaN     NaN   \n",
      "5    6   99.109917   9.114560     NaN     NaN     NaN     NaN     NaN     NaN   \n",
      "6    7   98.061600        NaN     NaN     NaN     NaN     NaN     NaN     NaN   \n",
      "7    8  155.282394        NaN     NaN     NaN     NaN     NaN     NaN     NaN   \n",
      "8    9  113.393279   9.143681     NaN     NaN     NaN     NaN     NaN     NaN   \n",
      "9   10   81.244796  12.376000     NaN     NaN     NaN     NaN     NaN     NaN   \n",
      "\n",
      "   Wire 9  \n",
      "0     NaN  \n",
      "1     NaN  \n",
      "2     NaN  \n",
      "3     NaN  \n",
      "4     NaN  \n",
      "5     NaN  \n",
      "6     NaN  \n",
      "7     NaN  \n",
      "8     NaN  \n",
      "9     NaN  \n",
      "<class 'pandas.core.frame.DataFrame'>\n",
      "RangeIndex: 3081 entries, 0 to 3080\n",
      "Data columns (total 10 columns):\n",
      " #   Column  Non-Null Count  Dtype  \n",
      "---  ------  --------------  -----  \n",
      " 0   key     3081 non-null   int64  \n",
      " 1   Wire 1  3055 non-null   float64\n",
      " 2   Wire 2  1079 non-null   float64\n",
      " 3   Wire 3  63 non-null     float64\n",
      " 4   Wire 4  14 non-null     float64\n",
      " 5   Wire 5  1 non-null      float64\n",
      " 6   Wire 6  73 non-null     float64\n",
      " 7   Wire 7  11 non-null     float64\n",
      " 8   Wire 8  19 non-null     float64\n",
      " 9   Wire 9  29 non-null     float64\n",
      "dtypes: float64(9), int64(1)\n",
      "memory usage: 240.8 KB\n",
      "None\n"
     ]
    }
   ],
   "source": [
    "#анализируем 6 набор данных\n",
    "df_6 = pd.read_csv('/datasets/data_wire_new.csv', sep = ',')\n",
    "#ищем дубликаты\n",
    "print(df_6.duplicated().sum())\n",
    "#выводим первые 10 строк таблицы\n",
    "print(df_6.head(10))\n",
    "#выводим информацию о таблице\n",
    "print(df_6.info())"
   ]
  },
  {
   "cell_type": "code",
   "execution_count": 14,
   "id": "5426040e",
   "metadata": {},
   "outputs": [
    {
     "data": {
      "text/plain": [
       "<AxesSubplot:>"
      ]
     },
     "execution_count": 14,
     "metadata": {},
     "output_type": "execute_result"
    },
    {
     "data": {
      "image/png": "[encoded data removed]",
      "text/plain": [
       "<Figure size 792x504 with 1 Axes>"
      ]
     },
     "metadata": {
      "needs_background": "light"
     },
     "output_type": "display_data"
    }
   ],
   "source": [
    "df_6_2 = df_6.drop(['key'], axis=1)\n",
    "df_6_2.boxplot(figsize = (11, 7))"
   ]
  },
  {
   "cell_type": "markdown",
   "id": "e6652adb",
   "metadata": {},
   "source": [
    "С данным все хорошо."
   ]
  },
  {
   "cell_type": "code",
   "execution_count": 15,
   "id": "1e107a8f",
   "metadata": {},
   "outputs": [
    {
     "name": "stdout",
     "output_type": "stream",
     "text": [
      "0\n",
      "   key               Wire 1               Wire 2 Wire 3 Wire 4 Wire 5 Wire 6  \\\n",
      "0    1  2019-05-03 11:06:19                  NaN    NaN    NaN    NaN    NaN   \n",
      "1    2  2019-05-03 11:36:50                  NaN    NaN    NaN    NaN    NaN   \n",
      "2    3  2019-05-03 12:11:46                  NaN    NaN    NaN    NaN    NaN   \n",
      "3    4  2019-05-03 12:43:22                  NaN    NaN    NaN    NaN    NaN   \n",
      "4    5  2019-05-03 13:20:44  2019-05-03 13:15:34    NaN    NaN    NaN    NaN   \n",
      "5    6  2019-05-03 13:57:27  2019-05-03 13:48:52    NaN    NaN    NaN    NaN   \n",
      "6    7  2019-05-03 14:18:58                  NaN    NaN    NaN    NaN    NaN   \n",
      "7    8  2019-05-03 15:01:30                  NaN    NaN    NaN    NaN    NaN   \n",
      "8    9  2019-05-03 15:45:44  2019-05-03 15:39:37    NaN    NaN    NaN    NaN   \n",
      "9   10  2019-05-03 16:27:00  2019-05-03 16:22:36    NaN    NaN    NaN    NaN   \n",
      "\n",
      "  Wire 7 Wire 8 Wire 9  \n",
      "0    NaN    NaN    NaN  \n",
      "1    NaN    NaN    NaN  \n",
      "2    NaN    NaN    NaN  \n",
      "3    NaN    NaN    NaN  \n",
      "4    NaN    NaN    NaN  \n",
      "5    NaN    NaN    NaN  \n",
      "6    NaN    NaN    NaN  \n",
      "7    NaN    NaN    NaN  \n",
      "8    NaN    NaN    NaN  \n",
      "9    NaN    NaN    NaN  \n",
      "<class 'pandas.core.frame.DataFrame'>\n",
      "RangeIndex: 3081 entries, 0 to 3080\n",
      "Data columns (total 10 columns):\n",
      " #   Column  Non-Null Count  Dtype \n",
      "---  ------  --------------  ----- \n",
      " 0   key     3081 non-null   int64 \n",
      " 1   Wire 1  3055 non-null   object\n",
      " 2   Wire 2  1079 non-null   object\n",
      " 3   Wire 3  63 non-null     object\n",
      " 4   Wire 4  14 non-null     object\n",
      " 5   Wire 5  1 non-null      object\n",
      " 6   Wire 6  73 non-null     object\n",
      " 7   Wire 7  11 non-null     object\n",
      " 8   Wire 8  19 non-null     object\n",
      " 9   Wire 9  29 non-null     object\n",
      "dtypes: int64(1), object(9)\n",
      "memory usage: 240.8+ KB\n",
      "None\n"
     ]
    }
   ],
   "source": [
    "#анализируем 7 набор данных\n",
    "df_7 = pd.read_csv('/datasets/data_wire_time_new.csv', sep = ',')\n",
    "#ищем дубликаты\n",
    "print(df_7.duplicated().sum())\n",
    "#выводим первые 10 строк таблицы\n",
    "print(df_7.head(10))\n",
    "#выводим информацию о таблице\n",
    "print(df_7.info())"
   ]
  },
  {
   "cell_type": "markdown",
   "id": "eeabb067",
   "metadata": {},
   "source": [
    "Имеется неправильный тип данных в столбце с датой все будет исправлено в предобработке. Nan значения тут не трогаем."
   ]
  },
  {
   "cell_type": "markdown",
   "id": "c7ebad60",
   "metadata": {},
   "source": [
    "## Исследовательский анализ и предобработка данных"
   ]
  },
  {
   "cell_type": "code",
   "execution_count": 16,
   "id": "995a0f8b",
   "metadata": {},
   "outputs": [],
   "source": [
    "#строим функцию для удаления аномалий\n",
    "def remove_outliers(data, column_name, threshold=1.5):\n",
    "    \n",
    "    # Вычисляем квартили для столбца\n",
    "    Q1 = data[column_name].quantile(0.05)\n",
    "    Q3 = data[column_name].quantile(0.95)\n",
    "    \n",
    "    # Вычисляем IQR\n",
    "    IQR = Q3 - Q1\n",
    "    \n",
    "    # Вычисляем границы для определения выбросов\n",
    "    lower_bound = Q1 - threshold * IQR\n",
    "    upper_bound = Q3 + threshold * IQR\n",
    "    \n",
    "    # Удаляем выбросы\n",
    "    data_cleaned = data[(data[column_name] >= lower_bound) & (data[column_name] <= upper_bound)]\n",
    "    \n",
    "    return data_cleaned"
   ]
  },
  {
   "cell_type": "code",
   "execution_count": 17,
   "id": "4f4fd25b",
   "metadata": {},
   "outputs": [
    {
     "data": {
      "image/png": "[encoded data removed]",
      "text/plain": [
       "<Figure size 432x288 with 1 Axes>"
      ]
     },
     "metadata": {
      "needs_background": "light"
     },
     "output_type": "display_data"
    }
   ],
   "source": [
    "#удаляем аномалии\n",
    "df_1 = df_1[df_1['Реактивная мощность'] > 0]\n",
    "df_1['Реактивная мощность'].plot(kind = 'box', title = 'Диаграмма размаха по столбцу Реактивная мощность', ylabel = 'Значения')\n",
    "plt.show()"
   ]
  },
  {
   "cell_type": "code",
   "execution_count": 18,
   "id": "98654940",
   "metadata": {},
   "outputs": [
    {
     "data": {
      "text/html": [
       "<div>\n",
       "<style scoped>\n",
       "    .dataframe tbody tr th:only-of-type {\n",
       "        vertical-align: middle;\n",
       "    }\n",
       "\n",
       "    .dataframe tbody tr th {\n",
       "        vertical-align: top;\n",
       "    }\n",
       "\n",
       "    .dataframe thead th {\n",
       "        text-align: right;\n",
       "    }\n",
       "</style>\n",
       "<table border=\"1\" class=\"dataframe\">\n",
       "  <thead>\n",
       "    <tr style=\"text-align: right;\">\n",
       "      <th></th>\n",
       "      <th>key</th>\n",
       "      <th>Температура_y</th>\n",
       "      <th>Температура</th>\n",
       "    </tr>\n",
       "  </thead>\n",
       "  <tbody>\n",
       "    <tr>\n",
       "      <th>0</th>\n",
       "      <td>1</td>\n",
       "      <td>1571.0</td>\n",
       "      <td>1613.0</td>\n",
       "    </tr>\n",
       "    <tr>\n",
       "      <th>1</th>\n",
       "      <td>2</td>\n",
       "      <td>1581.0</td>\n",
       "      <td>1602.0</td>\n",
       "    </tr>\n",
       "    <tr>\n",
       "      <th>2</th>\n",
       "      <td>3</td>\n",
       "      <td>1596.0</td>\n",
       "      <td>1599.0</td>\n",
       "    </tr>\n",
       "    <tr>\n",
       "      <th>3</th>\n",
       "      <td>4</td>\n",
       "      <td>1601.0</td>\n",
       "      <td>1625.0</td>\n",
       "    </tr>\n",
       "    <tr>\n",
       "      <th>4</th>\n",
       "      <td>5</td>\n",
       "      <td>1576.0</td>\n",
       "      <td>1602.0</td>\n",
       "    </tr>\n",
       "    <tr>\n",
       "      <th>...</th>\n",
       "      <td>...</td>\n",
       "      <td>...</td>\n",
       "      <td>...</td>\n",
       "    </tr>\n",
       "    <tr>\n",
       "      <th>2472</th>\n",
       "      <td>2495</td>\n",
       "      <td>1570.0</td>\n",
       "      <td>1591.0</td>\n",
       "    </tr>\n",
       "    <tr>\n",
       "      <th>2473</th>\n",
       "      <td>2496</td>\n",
       "      <td>1554.0</td>\n",
       "      <td>1591.0</td>\n",
       "    </tr>\n",
       "    <tr>\n",
       "      <th>2474</th>\n",
       "      <td>2497</td>\n",
       "      <td>1571.0</td>\n",
       "      <td>1589.0</td>\n",
       "    </tr>\n",
       "    <tr>\n",
       "      <th>2475</th>\n",
       "      <td>2498</td>\n",
       "      <td>1591.0</td>\n",
       "      <td>1594.0</td>\n",
       "    </tr>\n",
       "    <tr>\n",
       "      <th>2476</th>\n",
       "      <td>2499</td>\n",
       "      <td>1569.0</td>\n",
       "      <td>1603.0</td>\n",
       "    </tr>\n",
       "  </tbody>\n",
       "</table>\n",
       "<p>2477 rows × 3 columns</p>\n",
       "</div>"
      ],
      "text/plain": [
       "       key  Температура_y  Температура\n",
       "0        1         1571.0       1613.0\n",
       "1        2         1581.0       1602.0\n",
       "2        3         1596.0       1599.0\n",
       "3        4         1601.0       1625.0\n",
       "4        5         1576.0       1602.0\n",
       "...    ...            ...          ...\n",
       "2472  2495         1570.0       1591.0\n",
       "2473  2496         1554.0       1591.0\n",
       "2474  2497         1571.0       1589.0\n",
       "2475  2498         1591.0       1594.0\n",
       "2476  2499         1569.0       1603.0\n",
       "\n",
       "[2477 rows x 3 columns]"
      ]
     },
     "execution_count": 18,
     "metadata": {},
     "output_type": "execute_result"
    }
   ],
   "source": [
    "#Для правильного мерживания оставим только нужную нам температуру(последнюю)\n",
    "# Преобразование столбца 'Время замера' в тип datetime\n",
    "df_5['Время замера'] = pd.to_datetime(df_5['Время замера'])\n",
    "\n",
    "# Выбор последних записей из каждой группы\n",
    "last_temp_per_key = df_5.groupby('key').tail(1)\n",
    "\n",
    "# Выбор первых записей из каждой группы\n",
    "first_temp_per_key = df_5.groupby('key').head(1)\n",
    "\n",
    "df_5 = pd.merge(last_temp_per_key, first_temp_per_key, on='key', how='inner')\n",
    "df_5 = df_5.dropna()\n",
    "df_5 = df_5.reset_index()\n",
    "df_5 = df_5.drop(['index'], axis=1)\n",
    "df_5 = df_5.drop(['Время замера_x'], axis=1)\n",
    "df_5 = df_5.drop(['Время замера_y'], axis=1)\n",
    "df_5['Температура'] = df_5['Температура_x']\n",
    "df_5 = df_5.drop(['Температура_x'], axis=1)\n",
    "df_5"
   ]
  },
  {
   "cell_type": "code",
   "execution_count": 19,
   "id": "13ed2c3b",
   "metadata": {},
   "outputs": [
    {
     "data": {
      "image/png": "[encoded data removed]",
      "text/plain": [
       "<Figure size 432x288 with 1 Axes>"
      ]
     },
     "metadata": {
      "needs_background": "light"
     },
     "output_type": "display_data"
    }
   ],
   "source": [
    "df_5 = df_5[df_5['Температура'] > 1400]\n",
    "df_5['Температура'].plot(kind = 'box', title = 'Диаграмма размаха по столбцу Температура', ylabel = 'Значения')\n",
    "plt.show()"
   ]
  },
  {
   "cell_type": "code",
   "execution_count": 20,
   "id": "910ea6dd",
   "metadata": {},
   "outputs": [],
   "source": [
    "# Преобразование столбцов с временем в формат datetime\n",
    "df_1['Начало нагрева дугой'] = pd.to_datetime(df_1['Начало нагрева дугой'])\n",
    "df_1['Конец нагрева дугой'] = pd.to_datetime(df_1['Конец нагрева дугой'])\n",
    "\n",
    "# Вычисление длительности нагрева дугой и добавление нового столбца\n",
    "df_1['Длительность нагрева дугой'] = (df_1['Конец нагрева дугой'] - df_1['Начало нагрева дугой']).dt.total_seconds()\n",
    "\n",
    "#тоже самое делаем с активной и реактивной мощностями\n",
    "df_1['Конец нагрева дугой'] = pd.to_datetime(df_1['Конец нагрева дугой'])\n",
    "\n",
    "# Сортировка данных по времени замера внутри каждой партии\n",
    "df_1 = df_1.sort_values(by=['key', 'Конец нагрева дугой'])\n",
    "\n",
    "# Выбор последних записей из каждой группы\n",
    "last_temp_per_key = df_1.groupby('key').sum()\n",
    "\n",
    "df_1 = last_temp_per_key"
   ]
  },
  {
   "cell_type": "markdown",
   "id": "3dc4b8aa",
   "metadata": {},
   "source": [
    "Столбцы с датами задействовать не будем, так как они все равно будут удалены за ненадобностью после обьединения датафреймов."
   ]
  },
  {
   "cell_type": "code",
   "execution_count": 21,
   "id": "b341b1a0",
   "metadata": {},
   "outputs": [
    {
     "data": {
      "text/html": [
       "<div>\n",
       "<style scoped>\n",
       "    .dataframe tbody tr th:only-of-type {\n",
       "        vertical-align: middle;\n",
       "    }\n",
       "\n",
       "    .dataframe tbody tr th {\n",
       "        vertical-align: top;\n",
       "    }\n",
       "\n",
       "    .dataframe thead th {\n",
       "        text-align: right;\n",
       "    }\n",
       "</style>\n",
       "<table border=\"1\" class=\"dataframe\">\n",
       "  <thead>\n",
       "    <tr style=\"text-align: right;\">\n",
       "      <th></th>\n",
       "      <th>Активная мощность</th>\n",
       "      <th>Реактивная мощность</th>\n",
       "      <th>Длительность нагрева дугой</th>\n",
       "    </tr>\n",
       "    <tr>\n",
       "      <th>key</th>\n",
       "      <th></th>\n",
       "      <th></th>\n",
       "      <th></th>\n",
       "    </tr>\n",
       "  </thead>\n",
       "  <tbody>\n",
       "    <tr>\n",
       "      <th>1</th>\n",
       "      <td>3.036730</td>\n",
       "      <td>2.142821</td>\n",
       "      <td>1098.0</td>\n",
       "    </tr>\n",
       "    <tr>\n",
       "      <th>2</th>\n",
       "      <td>2.139408</td>\n",
       "      <td>1.453357</td>\n",
       "      <td>811.0</td>\n",
       "    </tr>\n",
       "    <tr>\n",
       "      <th>3</th>\n",
       "      <td>4.063641</td>\n",
       "      <td>2.937457</td>\n",
       "      <td>655.0</td>\n",
       "    </tr>\n",
       "    <tr>\n",
       "      <th>4</th>\n",
       "      <td>2.706489</td>\n",
       "      <td>2.056992</td>\n",
       "      <td>741.0</td>\n",
       "    </tr>\n",
       "    <tr>\n",
       "      <th>5</th>\n",
       "      <td>2.252950</td>\n",
       "      <td>1.687991</td>\n",
       "      <td>869.0</td>\n",
       "    </tr>\n",
       "    <tr>\n",
       "      <th>...</th>\n",
       "      <td>...</td>\n",
       "      <td>...</td>\n",
       "      <td>...</td>\n",
       "    </tr>\n",
       "    <tr>\n",
       "      <th>3237</th>\n",
       "      <td>2.541872</td>\n",
       "      <td>2.025417</td>\n",
       "      <td>909.0</td>\n",
       "    </tr>\n",
       "    <tr>\n",
       "      <th>3238</th>\n",
       "      <td>1.374821</td>\n",
       "      <td>1.038103</td>\n",
       "      <td>546.0</td>\n",
       "    </tr>\n",
       "    <tr>\n",
       "      <th>3239</th>\n",
       "      <td>4.848005</td>\n",
       "      <td>3.541541</td>\n",
       "      <td>1216.0</td>\n",
       "    </tr>\n",
       "    <tr>\n",
       "      <th>3240</th>\n",
       "      <td>3.317679</td>\n",
       "      <td>2.373552</td>\n",
       "      <td>839.0</td>\n",
       "    </tr>\n",
       "    <tr>\n",
       "      <th>3241</th>\n",
       "      <td>3.045283</td>\n",
       "      <td>2.140011</td>\n",
       "      <td>659.0</td>\n",
       "    </tr>\n",
       "  </tbody>\n",
       "</table>\n",
       "<p>3214 rows × 3 columns</p>\n",
       "</div>"
      ],
      "text/plain": [
       "      Активная мощность  Реактивная мощность  Длительность нагрева дугой\n",
       "key                                                                     \n",
       "1              3.036730             2.142821                      1098.0\n",
       "2              2.139408             1.453357                       811.0\n",
       "3              4.063641             2.937457                       655.0\n",
       "4              2.706489             2.056992                       741.0\n",
       "5              2.252950             1.687991                       869.0\n",
       "...                 ...                  ...                         ...\n",
       "3237           2.541872             2.025417                       909.0\n",
       "3238           1.374821             1.038103                       546.0\n",
       "3239           4.848005             3.541541                      1216.0\n",
       "3240           3.317679             2.373552                       839.0\n",
       "3241           3.045283             2.140011                       659.0\n",
       "\n",
       "[3214 rows x 3 columns]"
      ]
     },
     "execution_count": 21,
     "metadata": {},
     "output_type": "execute_result"
    }
   ],
   "source": [
    "df_1"
   ]
  },
  {
   "cell_type": "code",
   "execution_count": 22,
   "id": "4ff26f3a",
   "metadata": {},
   "outputs": [
    {
     "data": {
      "text/plain": [
       "count    3214.000000\n",
       "mean        3.067329\n",
       "std         1.208697\n",
       "min         0.267676\n",
       "25%         2.235394\n",
       "50%         2.984581\n",
       "75%         3.775472\n",
       "max        12.375636\n",
       "Name: Активная мощность, dtype: float64"
      ]
     },
     "execution_count": 22,
     "metadata": {},
     "output_type": "execute_result"
    },
    {
     "data": {
      "image/png": "[encoded data removed]",
      "text/plain": [
       "<Figure size 432x288 with 1 Axes>"
      ]
     },
     "metadata": {
      "needs_background": "light"
     },
     "output_type": "display_data"
    }
   ],
   "source": [
    "#Проводим анализ всех имеющихся признаков\n",
    "df_1.plot(y = 'Активная мощность', kind = 'hist', bins = 50, grid=True, range = (0, 3), title = 'Гистограмма по столбцу Активная мощность')\n",
    "plt.xlabel('Значения')\n",
    "plt.ylabel('Количество')\n",
    "df_1['Активная мощность'].describe()"
   ]
  },
  {
   "cell_type": "markdown",
   "id": "3d47373d",
   "metadata": {},
   "source": [
    "Распределение нормальное, пиковые значения около 0.5. Среднее - 0.662749, минимальное - 0.223120, максимальное - 1.463773."
   ]
  },
  {
   "cell_type": "code",
   "execution_count": 23,
   "id": "1ac88bb7",
   "metadata": {},
   "outputs": [
    {
     "data": {
      "text/plain": [
       "count    3214.000000\n",
       "mean        2.254462\n",
       "std         0.894743\n",
       "min         0.196228\n",
       "25%         1.630658\n",
       "50%         2.176833\n",
       "75%         2.788330\n",
       "max         8.949049\n",
       "Name: Реактивная мощность, dtype: float64"
      ]
     },
     "execution_count": 23,
     "metadata": {},
     "output_type": "execute_result"
    },
    {
     "data": {
      "image/png": "[encoded data removed]",
      "text/plain": [
       "<Figure size 432x288 with 1 Axes>"
      ]
     },
     "metadata": {
      "needs_background": "light"
     },
     "output_type": "display_data"
    }
   ],
   "source": [
    "df_1.plot(y = 'Реактивная мощность', kind = 'hist', bins = 50, grid=True, range = (0, 3), title = 'Гистограмма по столбцу Реактивная мощность')\n",
    "plt.xlabel('Значения')\n",
    "plt.ylabel('Количество')\n",
    "df_1['Реактивная мощность'].describe()"
   ]
  },
  {
   "cell_type": "markdown",
   "id": "755d5a2c",
   "metadata": {},
   "source": [
    "Распределение нормальное, пиковые значения около 0.5. Среднее - 0.487115, минимальное - 0.153777, максимальное - 1.270284."
   ]
  },
  {
   "cell_type": "code",
   "execution_count": 24,
   "id": "bb0ad90f",
   "metadata": {},
   "outputs": [
    {
     "data": {
      "text/plain": [
       "count    3239.000000\n",
       "mean       11.002062\n",
       "std         6.220327\n",
       "min         0.008399\n",
       "25%         7.043089\n",
       "50%         9.836267\n",
       "75%        13.769915\n",
       "max        77.995040\n",
       "Name: Газ 1, dtype: float64"
      ]
     },
     "execution_count": 24,
     "metadata": {},
     "output_type": "execute_result"
    },
    {
     "data": {
      "image/png": "[encoded data removed]",
      "text/plain": [
       "<Figure size 432x288 with 1 Axes>"
      ]
     },
     "metadata": {
      "needs_background": "light"
     },
     "output_type": "display_data"
    }
   ],
   "source": [
    "df_4.plot(y = 'Газ 1', kind = 'hist', bins = 50, grid=True, range = (0, 80), title = 'Гистограмма по столбцу Газ 1')\n",
    "plt.xlabel('Значения')\n",
    "plt.ylabel('Количество')\n",
    "df_4['Газ 1'].describe()"
   ]
  },
  {
   "cell_type": "markdown",
   "id": "d57c33b5",
   "metadata": {},
   "source": [
    "Распределение нормальное, пиковые значения около 5. Среднее - 11.002062, минимальное - 0.008399, максимальное - 77.995040."
   ]
  },
  {
   "cell_type": "code",
   "execution_count": 25,
   "id": "eb6c5a85",
   "metadata": {},
   "outputs": [
    {
     "data": {
      "text/plain": [
       "count    2477.000000\n",
       "mean     1595.334275\n",
       "std        16.019339\n",
       "min      1541.000000\n",
       "25%      1587.000000\n",
       "50%      1593.000000\n",
       "75%      1599.000000\n",
       "max      1700.000000\n",
       "Name: Температура, dtype: float64"
      ]
     },
     "execution_count": 25,
     "metadata": {},
     "output_type": "execute_result"
    },
    {
     "data": {
      "image/png": "[encoded data removed]",
      "text/plain": [
       "<Figure size 432x288 with 1 Axes>"
      ]
     },
     "metadata": {
      "needs_background": "light"
     },
     "output_type": "display_data"
    }
   ],
   "source": [
    "df_5.plot(y = 'Температура', kind = 'hist', bins = 50, grid=True, range = (1000, 2000), title = 'Гистограмма по столбцу Температура')\n",
    "plt.xlabel('Значения')\n",
    "plt.ylabel('Количество')\n",
    "df_5['Температура'].describe()"
   ]
  },
  {
   "cell_type": "markdown",
   "id": "e563ecf8",
   "metadata": {},
   "source": [
    "Распределение нормальное, пиковые значения около 1590. Среднее - 1590.722741, минимальное - 1191.000000, максимальное - 1705.000000."
   ]
  },
  {
   "cell_type": "markdown",
   "id": "30d88200",
   "metadata": {},
   "source": [
    "Вывод: В данной части была проведена предобработка и исследовательский анализ данных. Были удалены нулевые значения, где это необходимо. Так же были удалены аномалии. Во время исследовательского анализа, ничего необычного найдено не было."
   ]
  },
  {
   "cell_type": "markdown",
   "id": "d5195583",
   "metadata": {},
   "source": []
  },
  {
   "cell_type": "markdown",
   "id": "8acff817",
   "metadata": {},
   "source": [
    "## Объединение данных"
   ]
  },
  {
   "cell_type": "code",
   "execution_count": 26,
   "id": "3ee4d40a",
   "metadata": {},
   "outputs": [
    {
     "data": {
      "text/html": [
       "<div>\n",
       "<style scoped>\n",
       "    .dataframe tbody tr th:only-of-type {\n",
       "        vertical-align: middle;\n",
       "    }\n",
       "\n",
       "    .dataframe tbody tr th {\n",
       "        vertical-align: top;\n",
       "    }\n",
       "\n",
       "    .dataframe thead th {\n",
       "        text-align: right;\n",
       "    }\n",
       "</style>\n",
       "<table border=\"1\" class=\"dataframe\">\n",
       "  <thead>\n",
       "    <tr style=\"text-align: right;\">\n",
       "      <th></th>\n",
       "      <th>key</th>\n",
       "      <th>Активная мощность</th>\n",
       "      <th>Реактивная мощность</th>\n",
       "      <th>Длительность нагрева дугой</th>\n",
       "      <th>Bulk 1</th>\n",
       "      <th>Bulk 2</th>\n",
       "      <th>Bulk 3</th>\n",
       "      <th>Bulk 4</th>\n",
       "      <th>Bulk 5</th>\n",
       "      <th>Bulk 6</th>\n",
       "      <th>...</th>\n",
       "      <th>Температура</th>\n",
       "      <th>Wire 1</th>\n",
       "      <th>Wire 2</th>\n",
       "      <th>Wire 3</th>\n",
       "      <th>Wire 4</th>\n",
       "      <th>Wire 5</th>\n",
       "      <th>Wire 6</th>\n",
       "      <th>Wire 7</th>\n",
       "      <th>Wire 8</th>\n",
       "      <th>Wire 9</th>\n",
       "    </tr>\n",
       "  </thead>\n",
       "  <tbody>\n",
       "    <tr>\n",
       "      <th>0</th>\n",
       "      <td>1</td>\n",
       "      <td>3.036730</td>\n",
       "      <td>2.142821</td>\n",
       "      <td>1098.0</td>\n",
       "      <td>NaN</td>\n",
       "      <td>NaN</td>\n",
       "      <td>NaN</td>\n",
       "      <td>43.0</td>\n",
       "      <td>NaN</td>\n",
       "      <td>NaN</td>\n",
       "      <td>...</td>\n",
       "      <td>1613.0</td>\n",
       "      <td>60.059998</td>\n",
       "      <td>NaN</td>\n",
       "      <td>NaN</td>\n",
       "      <td>NaN</td>\n",
       "      <td>NaN</td>\n",
       "      <td>NaN</td>\n",
       "      <td>NaN</td>\n",
       "      <td>NaN</td>\n",
       "      <td>NaN</td>\n",
       "    </tr>\n",
       "    <tr>\n",
       "      <th>1</th>\n",
       "      <td>2</td>\n",
       "      <td>2.139408</td>\n",
       "      <td>1.453357</td>\n",
       "      <td>811.0</td>\n",
       "      <td>NaN</td>\n",
       "      <td>NaN</td>\n",
       "      <td>NaN</td>\n",
       "      <td>73.0</td>\n",
       "      <td>NaN</td>\n",
       "      <td>NaN</td>\n",
       "      <td>...</td>\n",
       "      <td>1602.0</td>\n",
       "      <td>96.052315</td>\n",
       "      <td>NaN</td>\n",
       "      <td>NaN</td>\n",
       "      <td>NaN</td>\n",
       "      <td>NaN</td>\n",
       "      <td>NaN</td>\n",
       "      <td>NaN</td>\n",
       "      <td>NaN</td>\n",
       "      <td>NaN</td>\n",
       "    </tr>\n",
       "    <tr>\n",
       "      <th>2</th>\n",
       "      <td>3</td>\n",
       "      <td>4.063641</td>\n",
       "      <td>2.937457</td>\n",
       "      <td>655.0</td>\n",
       "      <td>NaN</td>\n",
       "      <td>NaN</td>\n",
       "      <td>NaN</td>\n",
       "      <td>34.0</td>\n",
       "      <td>NaN</td>\n",
       "      <td>NaN</td>\n",
       "      <td>...</td>\n",
       "      <td>1599.0</td>\n",
       "      <td>91.160157</td>\n",
       "      <td>NaN</td>\n",
       "      <td>NaN</td>\n",
       "      <td>NaN</td>\n",
       "      <td>NaN</td>\n",
       "      <td>NaN</td>\n",
       "      <td>NaN</td>\n",
       "      <td>NaN</td>\n",
       "      <td>NaN</td>\n",
       "    </tr>\n",
       "    <tr>\n",
       "      <th>3</th>\n",
       "      <td>4</td>\n",
       "      <td>2.706489</td>\n",
       "      <td>2.056992</td>\n",
       "      <td>741.0</td>\n",
       "      <td>NaN</td>\n",
       "      <td>NaN</td>\n",
       "      <td>NaN</td>\n",
       "      <td>81.0</td>\n",
       "      <td>NaN</td>\n",
       "      <td>NaN</td>\n",
       "      <td>...</td>\n",
       "      <td>1625.0</td>\n",
       "      <td>89.063515</td>\n",
       "      <td>NaN</td>\n",
       "      <td>NaN</td>\n",
       "      <td>NaN</td>\n",
       "      <td>NaN</td>\n",
       "      <td>NaN</td>\n",
       "      <td>NaN</td>\n",
       "      <td>NaN</td>\n",
       "      <td>NaN</td>\n",
       "    </tr>\n",
       "    <tr>\n",
       "      <th>4</th>\n",
       "      <td>5</td>\n",
       "      <td>2.252950</td>\n",
       "      <td>1.687991</td>\n",
       "      <td>869.0</td>\n",
       "      <td>NaN</td>\n",
       "      <td>NaN</td>\n",
       "      <td>NaN</td>\n",
       "      <td>78.0</td>\n",
       "      <td>NaN</td>\n",
       "      <td>NaN</td>\n",
       "      <td>...</td>\n",
       "      <td>1602.0</td>\n",
       "      <td>89.238236</td>\n",
       "      <td>9.11456</td>\n",
       "      <td>NaN</td>\n",
       "      <td>NaN</td>\n",
       "      <td>NaN</td>\n",
       "      <td>NaN</td>\n",
       "      <td>NaN</td>\n",
       "      <td>NaN</td>\n",
       "      <td>NaN</td>\n",
       "    </tr>\n",
       "    <tr>\n",
       "      <th>...</th>\n",
       "      <td>...</td>\n",
       "      <td>...</td>\n",
       "      <td>...</td>\n",
       "      <td>...</td>\n",
       "      <td>...</td>\n",
       "      <td>...</td>\n",
       "      <td>...</td>\n",
       "      <td>...</td>\n",
       "      <td>...</td>\n",
       "      <td>...</td>\n",
       "      <td>...</td>\n",
       "      <td>...</td>\n",
       "      <td>...</td>\n",
       "      <td>...</td>\n",
       "      <td>...</td>\n",
       "      <td>...</td>\n",
       "      <td>...</td>\n",
       "      <td>...</td>\n",
       "      <td>...</td>\n",
       "      <td>...</td>\n",
       "      <td>...</td>\n",
       "    </tr>\n",
       "    <tr>\n",
       "      <th>2324</th>\n",
       "      <td>2495</td>\n",
       "      <td>3.168133</td>\n",
       "      <td>2.210936</td>\n",
       "      <td>723.0</td>\n",
       "      <td>NaN</td>\n",
       "      <td>NaN</td>\n",
       "      <td>21.0</td>\n",
       "      <td>NaN</td>\n",
       "      <td>NaN</td>\n",
       "      <td>NaN</td>\n",
       "      <td>...</td>\n",
       "      <td>1591.0</td>\n",
       "      <td>89.150879</td>\n",
       "      <td>NaN</td>\n",
       "      <td>NaN</td>\n",
       "      <td>NaN</td>\n",
       "      <td>NaN</td>\n",
       "      <td>NaN</td>\n",
       "      <td>NaN</td>\n",
       "      <td>NaN</td>\n",
       "      <td>NaN</td>\n",
       "    </tr>\n",
       "    <tr>\n",
       "      <th>2325</th>\n",
       "      <td>2496</td>\n",
       "      <td>4.174918</td>\n",
       "      <td>2.872031</td>\n",
       "      <td>940.0</td>\n",
       "      <td>NaN</td>\n",
       "      <td>NaN</td>\n",
       "      <td>NaN</td>\n",
       "      <td>63.0</td>\n",
       "      <td>NaN</td>\n",
       "      <td>NaN</td>\n",
       "      <td>...</td>\n",
       "      <td>1591.0</td>\n",
       "      <td>114.179527</td>\n",
       "      <td>NaN</td>\n",
       "      <td>NaN</td>\n",
       "      <td>NaN</td>\n",
       "      <td>NaN</td>\n",
       "      <td>NaN</td>\n",
       "      <td>NaN</td>\n",
       "      <td>NaN</td>\n",
       "      <td>NaN</td>\n",
       "    </tr>\n",
       "    <tr>\n",
       "      <th>2326</th>\n",
       "      <td>2497</td>\n",
       "      <td>3.605239</td>\n",
       "      <td>2.452092</td>\n",
       "      <td>569.0</td>\n",
       "      <td>NaN</td>\n",
       "      <td>NaN</td>\n",
       "      <td>NaN</td>\n",
       "      <td>85.0</td>\n",
       "      <td>NaN</td>\n",
       "      <td>NaN</td>\n",
       "      <td>...</td>\n",
       "      <td>1589.0</td>\n",
       "      <td>94.086723</td>\n",
       "      <td>9.04800</td>\n",
       "      <td>NaN</td>\n",
       "      <td>NaN</td>\n",
       "      <td>NaN</td>\n",
       "      <td>NaN</td>\n",
       "      <td>NaN</td>\n",
       "      <td>NaN</td>\n",
       "      <td>NaN</td>\n",
       "    </tr>\n",
       "    <tr>\n",
       "      <th>2327</th>\n",
       "      <td>2498</td>\n",
       "      <td>3.202310</td>\n",
       "      <td>2.239820</td>\n",
       "      <td>750.0</td>\n",
       "      <td>NaN</td>\n",
       "      <td>NaN</td>\n",
       "      <td>90.0</td>\n",
       "      <td>NaN</td>\n",
       "      <td>NaN</td>\n",
       "      <td>NaN</td>\n",
       "      <td>...</td>\n",
       "      <td>1594.0</td>\n",
       "      <td>118.110717</td>\n",
       "      <td>NaN</td>\n",
       "      <td>NaN</td>\n",
       "      <td>NaN</td>\n",
       "      <td>NaN</td>\n",
       "      <td>NaN</td>\n",
       "      <td>NaN</td>\n",
       "      <td>NaN</td>\n",
       "      <td>NaN</td>\n",
       "    </tr>\n",
       "    <tr>\n",
       "      <th>2328</th>\n",
       "      <td>2499</td>\n",
       "      <td>1.737084</td>\n",
       "      <td>1.296836</td>\n",
       "      <td>883.0</td>\n",
       "      <td>NaN</td>\n",
       "      <td>NaN</td>\n",
       "      <td>47.0</td>\n",
       "      <td>NaN</td>\n",
       "      <td>NaN</td>\n",
       "      <td>NaN</td>\n",
       "      <td>...</td>\n",
       "      <td>1603.0</td>\n",
       "      <td>110.160958</td>\n",
       "      <td>50.00528</td>\n",
       "      <td>NaN</td>\n",
       "      <td>NaN</td>\n",
       "      <td>NaN</td>\n",
       "      <td>NaN</td>\n",
       "      <td>NaN</td>\n",
       "      <td>NaN</td>\n",
       "      <td>NaN</td>\n",
       "    </tr>\n",
       "  </tbody>\n",
       "</table>\n",
       "<p>2329 rows × 31 columns</p>\n",
       "</div>"
      ],
      "text/plain": [
       "       key  Активная мощность  Реактивная мощность  \\\n",
       "0        1           3.036730             2.142821   \n",
       "1        2           2.139408             1.453357   \n",
       "2        3           4.063641             2.937457   \n",
       "3        4           2.706489             2.056992   \n",
       "4        5           2.252950             1.687991   \n",
       "...    ...                ...                  ...   \n",
       "2324  2495           3.168133             2.210936   \n",
       "2325  2496           4.174918             2.872031   \n",
       "2326  2497           3.605239             2.452092   \n",
       "2327  2498           3.202310             2.239820   \n",
       "2328  2499           1.737084             1.296836   \n",
       "\n",
       "      Длительность нагрева дугой  Bulk 1  Bulk 2  Bulk 3  Bulk 4  Bulk 5  \\\n",
       "0                         1098.0     NaN     NaN     NaN    43.0     NaN   \n",
       "1                          811.0     NaN     NaN     NaN    73.0     NaN   \n",
       "2                          655.0     NaN     NaN     NaN    34.0     NaN   \n",
       "3                          741.0     NaN     NaN     NaN    81.0     NaN   \n",
       "4                          869.0     NaN     NaN     NaN    78.0     NaN   \n",
       "...                          ...     ...     ...     ...     ...     ...   \n",
       "2324                       723.0     NaN     NaN    21.0     NaN     NaN   \n",
       "2325                       940.0     NaN     NaN     NaN    63.0     NaN   \n",
       "2326                       569.0     NaN     NaN     NaN    85.0     NaN   \n",
       "2327                       750.0     NaN     NaN    90.0     NaN     NaN   \n",
       "2328                       883.0     NaN     NaN    47.0     NaN     NaN   \n",
       "\n",
       "      Bulk 6  ...  Температура      Wire 1    Wire 2  Wire 3  Wire 4  Wire 5  \\\n",
       "0        NaN  ...       1613.0   60.059998       NaN     NaN     NaN     NaN   \n",
       "1        NaN  ...       1602.0   96.052315       NaN     NaN     NaN     NaN   \n",
       "2        NaN  ...       1599.0   91.160157       NaN     NaN     NaN     NaN   \n",
       "3        NaN  ...       1625.0   89.063515       NaN     NaN     NaN     NaN   \n",
       "4        NaN  ...       1602.0   89.238236   9.11456     NaN     NaN     NaN   \n",
       "...      ...  ...          ...         ...       ...     ...     ...     ...   \n",
       "2324     NaN  ...       1591.0   89.150879       NaN     NaN     NaN     NaN   \n",
       "2325     NaN  ...       1591.0  114.179527       NaN     NaN     NaN     NaN   \n",
       "2326     NaN  ...       1589.0   94.086723   9.04800     NaN     NaN     NaN   \n",
       "2327     NaN  ...       1594.0  118.110717       NaN     NaN     NaN     NaN   \n",
       "2328     NaN  ...       1603.0  110.160958  50.00528     NaN     NaN     NaN   \n",
       "\n",
       "      Wire 6  Wire 7  Wire 8  Wire 9  \n",
       "0        NaN     NaN     NaN     NaN  \n",
       "1        NaN     NaN     NaN     NaN  \n",
       "2        NaN     NaN     NaN     NaN  \n",
       "3        NaN     NaN     NaN     NaN  \n",
       "4        NaN     NaN     NaN     NaN  \n",
       "...      ...     ...     ...     ...  \n",
       "2324     NaN     NaN     NaN     NaN  \n",
       "2325     NaN     NaN     NaN     NaN  \n",
       "2326     NaN     NaN     NaN     NaN  \n",
       "2327     NaN     NaN     NaN     NaN  \n",
       "2328     NaN     NaN     NaN     NaN  \n",
       "\n",
       "[2329 rows x 31 columns]"
      ]
     },
     "execution_count": 26,
     "metadata": {},
     "output_type": "execute_result"
    }
   ],
   "source": [
    "#Обьединяем данные (3 и 7 датафрейм нам не нужны, так как там даты)\n",
    "df = pd.merge(df_1, df_2, on='key', how='inner')\n",
    "df = pd.merge(df, df_4, on='key', how='inner')\n",
    "df = pd.merge(df, df_5, on='key', how='inner')\n",
    "df = pd.merge(df, df_6, on='key', how='inner')\n",
    "df"
   ]
  },
  {
   "cell_type": "markdown",
   "id": "0ff0988e",
   "metadata": {},
   "source": [
    "Вывод: В данной части работы мы обьединили данные, которые будет обрабатывать в следующей части работы."
   ]
  },
  {
   "cell_type": "markdown",
   "id": "7abfcc0c",
   "metadata": {},
   "source": [
    "## Исследовательский анализ и предобработка данных объединённого датафрейма"
   ]
  },
  {
   "cell_type": "code",
   "execution_count": 27,
   "id": "a9c3d229",
   "metadata": {},
   "outputs": [
    {
     "data": {
      "text/html": [
       "<div>\n",
       "<style scoped>\n",
       "    .dataframe tbody tr th:only-of-type {\n",
       "        vertical-align: middle;\n",
       "    }\n",
       "\n",
       "    .dataframe tbody tr th {\n",
       "        vertical-align: top;\n",
       "    }\n",
       "\n",
       "    .dataframe thead th {\n",
       "        text-align: right;\n",
       "    }\n",
       "</style>\n",
       "<table border=\"1\" class=\"dataframe\">\n",
       "  <thead>\n",
       "    <tr style=\"text-align: right;\">\n",
       "      <th></th>\n",
       "      <th>key</th>\n",
       "      <th>Активная мощность</th>\n",
       "      <th>Реактивная мощность</th>\n",
       "      <th>Длительность нагрева дугой</th>\n",
       "      <th>Bulk 1</th>\n",
       "      <th>Bulk 2</th>\n",
       "      <th>Bulk 3</th>\n",
       "      <th>Bulk 4</th>\n",
       "      <th>Bulk 5</th>\n",
       "      <th>Bulk 6</th>\n",
       "      <th>...</th>\n",
       "      <th>Температура</th>\n",
       "      <th>Wire 1</th>\n",
       "      <th>Wire 2</th>\n",
       "      <th>Wire 3</th>\n",
       "      <th>Wire 4</th>\n",
       "      <th>Wire 5</th>\n",
       "      <th>Wire 6</th>\n",
       "      <th>Wire 7</th>\n",
       "      <th>Wire 8</th>\n",
       "      <th>Wire 9</th>\n",
       "    </tr>\n",
       "  </thead>\n",
       "  <tbody>\n",
       "    <tr>\n",
       "      <th>0</th>\n",
       "      <td>1</td>\n",
       "      <td>3.036730</td>\n",
       "      <td>2.142821</td>\n",
       "      <td>1098.0</td>\n",
       "      <td>NaN</td>\n",
       "      <td>NaN</td>\n",
       "      <td>NaN</td>\n",
       "      <td>43.0</td>\n",
       "      <td>NaN</td>\n",
       "      <td>NaN</td>\n",
       "      <td>...</td>\n",
       "      <td>1613.0</td>\n",
       "      <td>60.059998</td>\n",
       "      <td>NaN</td>\n",
       "      <td>NaN</td>\n",
       "      <td>NaN</td>\n",
       "      <td>NaN</td>\n",
       "      <td>NaN</td>\n",
       "      <td>NaN</td>\n",
       "      <td>NaN</td>\n",
       "      <td>NaN</td>\n",
       "    </tr>\n",
       "    <tr>\n",
       "      <th>1</th>\n",
       "      <td>2</td>\n",
       "      <td>2.139408</td>\n",
       "      <td>1.453357</td>\n",
       "      <td>811.0</td>\n",
       "      <td>NaN</td>\n",
       "      <td>NaN</td>\n",
       "      <td>NaN</td>\n",
       "      <td>73.0</td>\n",
       "      <td>NaN</td>\n",
       "      <td>NaN</td>\n",
       "      <td>...</td>\n",
       "      <td>1602.0</td>\n",
       "      <td>96.052315</td>\n",
       "      <td>NaN</td>\n",
       "      <td>NaN</td>\n",
       "      <td>NaN</td>\n",
       "      <td>NaN</td>\n",
       "      <td>NaN</td>\n",
       "      <td>NaN</td>\n",
       "      <td>NaN</td>\n",
       "      <td>NaN</td>\n",
       "    </tr>\n",
       "    <tr>\n",
       "      <th>2</th>\n",
       "      <td>3</td>\n",
       "      <td>4.063641</td>\n",
       "      <td>2.937457</td>\n",
       "      <td>655.0</td>\n",
       "      <td>NaN</td>\n",
       "      <td>NaN</td>\n",
       "      <td>NaN</td>\n",
       "      <td>34.0</td>\n",
       "      <td>NaN</td>\n",
       "      <td>NaN</td>\n",
       "      <td>...</td>\n",
       "      <td>1599.0</td>\n",
       "      <td>91.160157</td>\n",
       "      <td>NaN</td>\n",
       "      <td>NaN</td>\n",
       "      <td>NaN</td>\n",
       "      <td>NaN</td>\n",
       "      <td>NaN</td>\n",
       "      <td>NaN</td>\n",
       "      <td>NaN</td>\n",
       "      <td>NaN</td>\n",
       "    </tr>\n",
       "    <tr>\n",
       "      <th>3</th>\n",
       "      <td>4</td>\n",
       "      <td>2.706489</td>\n",
       "      <td>2.056992</td>\n",
       "      <td>741.0</td>\n",
       "      <td>NaN</td>\n",
       "      <td>NaN</td>\n",
       "      <td>NaN</td>\n",
       "      <td>81.0</td>\n",
       "      <td>NaN</td>\n",
       "      <td>NaN</td>\n",
       "      <td>...</td>\n",
       "      <td>1625.0</td>\n",
       "      <td>89.063515</td>\n",
       "      <td>NaN</td>\n",
       "      <td>NaN</td>\n",
       "      <td>NaN</td>\n",
       "      <td>NaN</td>\n",
       "      <td>NaN</td>\n",
       "      <td>NaN</td>\n",
       "      <td>NaN</td>\n",
       "      <td>NaN</td>\n",
       "    </tr>\n",
       "    <tr>\n",
       "      <th>4</th>\n",
       "      <td>5</td>\n",
       "      <td>2.252950</td>\n",
       "      <td>1.687991</td>\n",
       "      <td>869.0</td>\n",
       "      <td>NaN</td>\n",
       "      <td>NaN</td>\n",
       "      <td>NaN</td>\n",
       "      <td>78.0</td>\n",
       "      <td>NaN</td>\n",
       "      <td>NaN</td>\n",
       "      <td>...</td>\n",
       "      <td>1602.0</td>\n",
       "      <td>89.238236</td>\n",
       "      <td>9.11456</td>\n",
       "      <td>NaN</td>\n",
       "      <td>NaN</td>\n",
       "      <td>NaN</td>\n",
       "      <td>NaN</td>\n",
       "      <td>NaN</td>\n",
       "      <td>NaN</td>\n",
       "      <td>NaN</td>\n",
       "    </tr>\n",
       "    <tr>\n",
       "      <th>...</th>\n",
       "      <td>...</td>\n",
       "      <td>...</td>\n",
       "      <td>...</td>\n",
       "      <td>...</td>\n",
       "      <td>...</td>\n",
       "      <td>...</td>\n",
       "      <td>...</td>\n",
       "      <td>...</td>\n",
       "      <td>...</td>\n",
       "      <td>...</td>\n",
       "      <td>...</td>\n",
       "      <td>...</td>\n",
       "      <td>...</td>\n",
       "      <td>...</td>\n",
       "      <td>...</td>\n",
       "      <td>...</td>\n",
       "      <td>...</td>\n",
       "      <td>...</td>\n",
       "      <td>...</td>\n",
       "      <td>...</td>\n",
       "      <td>...</td>\n",
       "    </tr>\n",
       "    <tr>\n",
       "      <th>2324</th>\n",
       "      <td>2495</td>\n",
       "      <td>3.168133</td>\n",
       "      <td>2.210936</td>\n",
       "      <td>723.0</td>\n",
       "      <td>NaN</td>\n",
       "      <td>NaN</td>\n",
       "      <td>21.0</td>\n",
       "      <td>NaN</td>\n",
       "      <td>NaN</td>\n",
       "      <td>NaN</td>\n",
       "      <td>...</td>\n",
       "      <td>1591.0</td>\n",
       "      <td>89.150879</td>\n",
       "      <td>NaN</td>\n",
       "      <td>NaN</td>\n",
       "      <td>NaN</td>\n",
       "      <td>NaN</td>\n",
       "      <td>NaN</td>\n",
       "      <td>NaN</td>\n",
       "      <td>NaN</td>\n",
       "      <td>NaN</td>\n",
       "    </tr>\n",
       "    <tr>\n",
       "      <th>2325</th>\n",
       "      <td>2496</td>\n",
       "      <td>4.174918</td>\n",
       "      <td>2.872031</td>\n",
       "      <td>940.0</td>\n",
       "      <td>NaN</td>\n",
       "      <td>NaN</td>\n",
       "      <td>NaN</td>\n",
       "      <td>63.0</td>\n",
       "      <td>NaN</td>\n",
       "      <td>NaN</td>\n",
       "      <td>...</td>\n",
       "      <td>1591.0</td>\n",
       "      <td>114.179527</td>\n",
       "      <td>NaN</td>\n",
       "      <td>NaN</td>\n",
       "      <td>NaN</td>\n",
       "      <td>NaN</td>\n",
       "      <td>NaN</td>\n",
       "      <td>NaN</td>\n",
       "      <td>NaN</td>\n",
       "      <td>NaN</td>\n",
       "    </tr>\n",
       "    <tr>\n",
       "      <th>2326</th>\n",
       "      <td>2497</td>\n",
       "      <td>3.605239</td>\n",
       "      <td>2.452092</td>\n",
       "      <td>569.0</td>\n",
       "      <td>NaN</td>\n",
       "      <td>NaN</td>\n",
       "      <td>NaN</td>\n",
       "      <td>85.0</td>\n",
       "      <td>NaN</td>\n",
       "      <td>NaN</td>\n",
       "      <td>...</td>\n",
       "      <td>1589.0</td>\n",
       "      <td>94.086723</td>\n",
       "      <td>9.04800</td>\n",
       "      <td>NaN</td>\n",
       "      <td>NaN</td>\n",
       "      <td>NaN</td>\n",
       "      <td>NaN</td>\n",
       "      <td>NaN</td>\n",
       "      <td>NaN</td>\n",
       "      <td>NaN</td>\n",
       "    </tr>\n",
       "    <tr>\n",
       "      <th>2327</th>\n",
       "      <td>2498</td>\n",
       "      <td>3.202310</td>\n",
       "      <td>2.239820</td>\n",
       "      <td>750.0</td>\n",
       "      <td>NaN</td>\n",
       "      <td>NaN</td>\n",
       "      <td>90.0</td>\n",
       "      <td>NaN</td>\n",
       "      <td>NaN</td>\n",
       "      <td>NaN</td>\n",
       "      <td>...</td>\n",
       "      <td>1594.0</td>\n",
       "      <td>118.110717</td>\n",
       "      <td>NaN</td>\n",
       "      <td>NaN</td>\n",
       "      <td>NaN</td>\n",
       "      <td>NaN</td>\n",
       "      <td>NaN</td>\n",
       "      <td>NaN</td>\n",
       "      <td>NaN</td>\n",
       "      <td>NaN</td>\n",
       "    </tr>\n",
       "    <tr>\n",
       "      <th>2328</th>\n",
       "      <td>2499</td>\n",
       "      <td>1.737084</td>\n",
       "      <td>1.296836</td>\n",
       "      <td>883.0</td>\n",
       "      <td>NaN</td>\n",
       "      <td>NaN</td>\n",
       "      <td>47.0</td>\n",
       "      <td>NaN</td>\n",
       "      <td>NaN</td>\n",
       "      <td>NaN</td>\n",
       "      <td>...</td>\n",
       "      <td>1603.0</td>\n",
       "      <td>110.160958</td>\n",
       "      <td>50.00528</td>\n",
       "      <td>NaN</td>\n",
       "      <td>NaN</td>\n",
       "      <td>NaN</td>\n",
       "      <td>NaN</td>\n",
       "      <td>NaN</td>\n",
       "      <td>NaN</td>\n",
       "      <td>NaN</td>\n",
       "    </tr>\n",
       "  </tbody>\n",
       "</table>\n",
       "<p>2329 rows × 31 columns</p>\n",
       "</div>"
      ],
      "text/plain": [
       "       key  Активная мощность  Реактивная мощность  \\\n",
       "0        1           3.036730             2.142821   \n",
       "1        2           2.139408             1.453357   \n",
       "2        3           4.063641             2.937457   \n",
       "3        4           2.706489             2.056992   \n",
       "4        5           2.252950             1.687991   \n",
       "...    ...                ...                  ...   \n",
       "2324  2495           3.168133             2.210936   \n",
       "2325  2496           4.174918             2.872031   \n",
       "2326  2497           3.605239             2.452092   \n",
       "2327  2498           3.202310             2.239820   \n",
       "2328  2499           1.737084             1.296836   \n",
       "\n",
       "      Длительность нагрева дугой  Bulk 1  Bulk 2  Bulk 3  Bulk 4  Bulk 5  \\\n",
       "0                         1098.0     NaN     NaN     NaN    43.0     NaN   \n",
       "1                          811.0     NaN     NaN     NaN    73.0     NaN   \n",
       "2                          655.0     NaN     NaN     NaN    34.0     NaN   \n",
       "3                          741.0     NaN     NaN     NaN    81.0     NaN   \n",
       "4                          869.0     NaN     NaN     NaN    78.0     NaN   \n",
       "...                          ...     ...     ...     ...     ...     ...   \n",
       "2324                       723.0     NaN     NaN    21.0     NaN     NaN   \n",
       "2325                       940.0     NaN     NaN     NaN    63.0     NaN   \n",
       "2326                       569.0     NaN     NaN     NaN    85.0     NaN   \n",
       "2327                       750.0     NaN     NaN    90.0     NaN     NaN   \n",
       "2328                       883.0     NaN     NaN    47.0     NaN     NaN   \n",
       "\n",
       "      Bulk 6  ...  Температура      Wire 1    Wire 2  Wire 3  Wire 4  Wire 5  \\\n",
       "0        NaN  ...       1613.0   60.059998       NaN     NaN     NaN     NaN   \n",
       "1        NaN  ...       1602.0   96.052315       NaN     NaN     NaN     NaN   \n",
       "2        NaN  ...       1599.0   91.160157       NaN     NaN     NaN     NaN   \n",
       "3        NaN  ...       1625.0   89.063515       NaN     NaN     NaN     NaN   \n",
       "4        NaN  ...       1602.0   89.238236   9.11456     NaN     NaN     NaN   \n",
       "...      ...  ...          ...         ...       ...     ...     ...     ...   \n",
       "2324     NaN  ...       1591.0   89.150879       NaN     NaN     NaN     NaN   \n",
       "2325     NaN  ...       1591.0  114.179527       NaN     NaN     NaN     NaN   \n",
       "2326     NaN  ...       1589.0   94.086723   9.04800     NaN     NaN     NaN   \n",
       "2327     NaN  ...       1594.0  118.110717       NaN     NaN     NaN     NaN   \n",
       "2328     NaN  ...       1603.0  110.160958  50.00528     NaN     NaN     NaN   \n",
       "\n",
       "      Wire 6  Wire 7  Wire 8  Wire 9  \n",
       "0        NaN     NaN     NaN     NaN  \n",
       "1        NaN     NaN     NaN     NaN  \n",
       "2        NaN     NaN     NaN     NaN  \n",
       "3        NaN     NaN     NaN     NaN  \n",
       "4        NaN     NaN     NaN     NaN  \n",
       "...      ...     ...     ...     ...  \n",
       "2324     NaN     NaN     NaN     NaN  \n",
       "2325     NaN     NaN     NaN     NaN  \n",
       "2326     NaN     NaN     NaN     NaN  \n",
       "2327     NaN     NaN     NaN     NaN  \n",
       "2328     NaN     NaN     NaN     NaN  \n",
       "\n",
       "[2329 rows x 31 columns]"
      ]
     },
     "execution_count": 27,
     "metadata": {},
     "output_type": "execute_result"
    }
   ],
   "source": [
    "#Удаляем ненужные строки, где нет данных по активной и реактивной мощности\n",
    "df = df.dropna(subset=['Активная мощность'])\n",
    "df = df.dropna(subset=['Реактивная мощность'])\n",
    "df"
   ]
  },
  {
   "cell_type": "code",
   "execution_count": 28,
   "id": "9735bd86",
   "metadata": {},
   "outputs": [
    {
     "data": {
      "text/html": [
       "<div>\n",
       "<style scoped>\n",
       "    .dataframe tbody tr th:only-of-type {\n",
       "        vertical-align: middle;\n",
       "    }\n",
       "\n",
       "    .dataframe tbody tr th {\n",
       "        vertical-align: top;\n",
       "    }\n",
       "\n",
       "    .dataframe thead th {\n",
       "        text-align: right;\n",
       "    }\n",
       "</style>\n",
       "<table border=\"1\" class=\"dataframe\">\n",
       "  <thead>\n",
       "    <tr style=\"text-align: right;\">\n",
       "      <th></th>\n",
       "      <th>key</th>\n",
       "      <th>Активная мощность</th>\n",
       "      <th>Реактивная мощность</th>\n",
       "      <th>Длительность нагрева дугой</th>\n",
       "      <th>Bulk 12</th>\n",
       "      <th>Газ 1</th>\n",
       "      <th>Температура_y</th>\n",
       "      <th>Температура</th>\n",
       "      <th>Wire 1</th>\n",
       "    </tr>\n",
       "  </thead>\n",
       "  <tbody>\n",
       "    <tr>\n",
       "      <th>0</th>\n",
       "      <td>1</td>\n",
       "      <td>3.036730</td>\n",
       "      <td>2.142821</td>\n",
       "      <td>1098.0</td>\n",
       "      <td>206.0</td>\n",
       "      <td>29.749986</td>\n",
       "      <td>1571.0</td>\n",
       "      <td>1613.0</td>\n",
       "      <td>60.059998</td>\n",
       "    </tr>\n",
       "    <tr>\n",
       "      <th>1</th>\n",
       "      <td>2</td>\n",
       "      <td>2.139408</td>\n",
       "      <td>1.453357</td>\n",
       "      <td>811.0</td>\n",
       "      <td>206.0</td>\n",
       "      <td>12.555561</td>\n",
       "      <td>1581.0</td>\n",
       "      <td>1602.0</td>\n",
       "      <td>96.052315</td>\n",
       "    </tr>\n",
       "    <tr>\n",
       "      <th>2</th>\n",
       "      <td>3</td>\n",
       "      <td>4.063641</td>\n",
       "      <td>2.937457</td>\n",
       "      <td>655.0</td>\n",
       "      <td>205.0</td>\n",
       "      <td>28.554793</td>\n",
       "      <td>1596.0</td>\n",
       "      <td>1599.0</td>\n",
       "      <td>91.160157</td>\n",
       "    </tr>\n",
       "    <tr>\n",
       "      <th>3</th>\n",
       "      <td>4</td>\n",
       "      <td>2.706489</td>\n",
       "      <td>2.056992</td>\n",
       "      <td>741.0</td>\n",
       "      <td>207.0</td>\n",
       "      <td>18.841219</td>\n",
       "      <td>1601.0</td>\n",
       "      <td>1625.0</td>\n",
       "      <td>89.063515</td>\n",
       "    </tr>\n",
       "    <tr>\n",
       "      <th>4</th>\n",
       "      <td>5</td>\n",
       "      <td>2.252950</td>\n",
       "      <td>1.687991</td>\n",
       "      <td>869.0</td>\n",
       "      <td>203.0</td>\n",
       "      <td>5.413692</td>\n",
       "      <td>1576.0</td>\n",
       "      <td>1602.0</td>\n",
       "      <td>89.238236</td>\n",
       "    </tr>\n",
       "    <tr>\n",
       "      <th>...</th>\n",
       "      <td>...</td>\n",
       "      <td>...</td>\n",
       "      <td>...</td>\n",
       "      <td>...</td>\n",
       "      <td>...</td>\n",
       "      <td>...</td>\n",
       "      <td>...</td>\n",
       "      <td>...</td>\n",
       "      <td>...</td>\n",
       "    </tr>\n",
       "    <tr>\n",
       "      <th>2324</th>\n",
       "      <td>2495</td>\n",
       "      <td>3.168133</td>\n",
       "      <td>2.210936</td>\n",
       "      <td>723.0</td>\n",
       "      <td>256.0</td>\n",
       "      <td>7.125735</td>\n",
       "      <td>1570.0</td>\n",
       "      <td>1591.0</td>\n",
       "      <td>89.150879</td>\n",
       "    </tr>\n",
       "    <tr>\n",
       "      <th>2325</th>\n",
       "      <td>2496</td>\n",
       "      <td>4.174918</td>\n",
       "      <td>2.872031</td>\n",
       "      <td>940.0</td>\n",
       "      <td>256.0</td>\n",
       "      <td>9.412616</td>\n",
       "      <td>1554.0</td>\n",
       "      <td>1591.0</td>\n",
       "      <td>114.179527</td>\n",
       "    </tr>\n",
       "    <tr>\n",
       "      <th>2326</th>\n",
       "      <td>2497</td>\n",
       "      <td>3.605239</td>\n",
       "      <td>2.452092</td>\n",
       "      <td>569.0</td>\n",
       "      <td>230.0</td>\n",
       "      <td>6.271699</td>\n",
       "      <td>1571.0</td>\n",
       "      <td>1589.0</td>\n",
       "      <td>94.086723</td>\n",
       "    </tr>\n",
       "    <tr>\n",
       "      <th>2327</th>\n",
       "      <td>2498</td>\n",
       "      <td>3.202310</td>\n",
       "      <td>2.239820</td>\n",
       "      <td>750.0</td>\n",
       "      <td>206.0</td>\n",
       "      <td>14.953657</td>\n",
       "      <td>1591.0</td>\n",
       "      <td>1594.0</td>\n",
       "      <td>118.110717</td>\n",
       "    </tr>\n",
       "    <tr>\n",
       "      <th>2328</th>\n",
       "      <td>2499</td>\n",
       "      <td>1.737084</td>\n",
       "      <td>1.296836</td>\n",
       "      <td>883.0</td>\n",
       "      <td>233.0</td>\n",
       "      <td>11.336151</td>\n",
       "      <td>1569.0</td>\n",
       "      <td>1603.0</td>\n",
       "      <td>110.160958</td>\n",
       "    </tr>\n",
       "  </tbody>\n",
       "</table>\n",
       "<p>2329 rows × 9 columns</p>\n",
       "</div>"
      ],
      "text/plain": [
       "       key  Активная мощность  Реактивная мощность  \\\n",
       "0        1           3.036730             2.142821   \n",
       "1        2           2.139408             1.453357   \n",
       "2        3           4.063641             2.937457   \n",
       "3        4           2.706489             2.056992   \n",
       "4        5           2.252950             1.687991   \n",
       "...    ...                ...                  ...   \n",
       "2324  2495           3.168133             2.210936   \n",
       "2325  2496           4.174918             2.872031   \n",
       "2326  2497           3.605239             2.452092   \n",
       "2327  2498           3.202310             2.239820   \n",
       "2328  2499           1.737084             1.296836   \n",
       "\n",
       "      Длительность нагрева дугой  Bulk 12      Газ 1  Температура_y  \\\n",
       "0                         1098.0    206.0  29.749986         1571.0   \n",
       "1                          811.0    206.0  12.555561         1581.0   \n",
       "2                          655.0    205.0  28.554793         1596.0   \n",
       "3                          741.0    207.0  18.841219         1601.0   \n",
       "4                          869.0    203.0   5.413692         1576.0   \n",
       "...                          ...      ...        ...            ...   \n",
       "2324                       723.0    256.0   7.125735         1570.0   \n",
       "2325                       940.0    256.0   9.412616         1554.0   \n",
       "2326                       569.0    230.0   6.271699         1571.0   \n",
       "2327                       750.0    206.0  14.953657         1591.0   \n",
       "2328                       883.0    233.0  11.336151         1569.0   \n",
       "\n",
       "      Температура      Wire 1  \n",
       "0          1613.0   60.059998  \n",
       "1          1602.0   96.052315  \n",
       "2          1599.0   91.160157  \n",
       "3          1625.0   89.063515  \n",
       "4          1602.0   89.238236  \n",
       "...           ...         ...  \n",
       "2324       1591.0   89.150879  \n",
       "2325       1591.0  114.179527  \n",
       "2326       1589.0   94.086723  \n",
       "2327       1594.0  118.110717  \n",
       "2328       1603.0  110.160958  \n",
       "\n",
       "[2329 rows x 9 columns]"
      ]
     },
     "execution_count": 28,
     "metadata": {},
     "output_type": "execute_result"
    }
   ],
   "source": [
    "#оставляем только данные wire 1 и bulk 12, так как там меньше всего пропусков, потом удаляем все пропущенные значения\n",
    "columns_to_drop = [f'Wire {i}' for i in range(2, 10)] + [f'Bulk {i}' for i in range(0, 12)] + [f'Bulk {i}' for i in range(13, 16)]\n",
    "df = df.drop(columns=columns_to_drop, errors='ignore')\n",
    "df['Bulk 12'] = df['Bulk 12'].fillna(0)\n",
    "df['Wire 1'] = df['Wire 1'].fillna(0)\n",
    "df"
   ]
  },
  {
   "cell_type": "code",
   "execution_count": 29,
   "id": "64ff1d92",
   "metadata": {},
   "outputs": [
    {
     "data": {
      "text/html": [
       "<div>\n",
       "<style scoped>\n",
       "    .dataframe tbody tr th:only-of-type {\n",
       "        vertical-align: middle;\n",
       "    }\n",
       "\n",
       "    .dataframe tbody tr th {\n",
       "        vertical-align: top;\n",
       "    }\n",
       "\n",
       "    .dataframe thead th {\n",
       "        text-align: right;\n",
       "    }\n",
       "</style>\n",
       "<table border=\"1\" class=\"dataframe\">\n",
       "  <thead>\n",
       "    <tr style=\"text-align: right;\">\n",
       "      <th></th>\n",
       "      <th>Активная мощность</th>\n",
       "      <th>Реактивная мощность</th>\n",
       "      <th>Длительность нагрева дугой</th>\n",
       "      <th>Bulk 12</th>\n",
       "      <th>Газ 1</th>\n",
       "      <th>Температура_y</th>\n",
       "      <th>Температура</th>\n",
       "      <th>Wire 1</th>\n",
       "    </tr>\n",
       "    <tr>\n",
       "      <th>key</th>\n",
       "      <th></th>\n",
       "      <th></th>\n",
       "      <th></th>\n",
       "      <th></th>\n",
       "      <th></th>\n",
       "      <th></th>\n",
       "      <th></th>\n",
       "      <th></th>\n",
       "    </tr>\n",
       "  </thead>\n",
       "  <tbody>\n",
       "    <tr>\n",
       "      <th>1</th>\n",
       "      <td>3.036730</td>\n",
       "      <td>2.142821</td>\n",
       "      <td>1098.0</td>\n",
       "      <td>206.0</td>\n",
       "      <td>29.749986</td>\n",
       "      <td>1571.0</td>\n",
       "      <td>1613.0</td>\n",
       "      <td>60.059998</td>\n",
       "    </tr>\n",
       "    <tr>\n",
       "      <th>2</th>\n",
       "      <td>2.139408</td>\n",
       "      <td>1.453357</td>\n",
       "      <td>811.0</td>\n",
       "      <td>206.0</td>\n",
       "      <td>12.555561</td>\n",
       "      <td>1581.0</td>\n",
       "      <td>1602.0</td>\n",
       "      <td>96.052315</td>\n",
       "    </tr>\n",
       "    <tr>\n",
       "      <th>3</th>\n",
       "      <td>4.063641</td>\n",
       "      <td>2.937457</td>\n",
       "      <td>655.0</td>\n",
       "      <td>205.0</td>\n",
       "      <td>28.554793</td>\n",
       "      <td>1596.0</td>\n",
       "      <td>1599.0</td>\n",
       "      <td>91.160157</td>\n",
       "    </tr>\n",
       "    <tr>\n",
       "      <th>4</th>\n",
       "      <td>2.706489</td>\n",
       "      <td>2.056992</td>\n",
       "      <td>741.0</td>\n",
       "      <td>207.0</td>\n",
       "      <td>18.841219</td>\n",
       "      <td>1601.0</td>\n",
       "      <td>1625.0</td>\n",
       "      <td>89.063515</td>\n",
       "    </tr>\n",
       "    <tr>\n",
       "      <th>5</th>\n",
       "      <td>2.252950</td>\n",
       "      <td>1.687991</td>\n",
       "      <td>869.0</td>\n",
       "      <td>203.0</td>\n",
       "      <td>5.413692</td>\n",
       "      <td>1576.0</td>\n",
       "      <td>1602.0</td>\n",
       "      <td>89.238236</td>\n",
       "    </tr>\n",
       "    <tr>\n",
       "      <th>...</th>\n",
       "      <td>...</td>\n",
       "      <td>...</td>\n",
       "      <td>...</td>\n",
       "      <td>...</td>\n",
       "      <td>...</td>\n",
       "      <td>...</td>\n",
       "      <td>...</td>\n",
       "      <td>...</td>\n",
       "    </tr>\n",
       "    <tr>\n",
       "      <th>2495</th>\n",
       "      <td>3.168133</td>\n",
       "      <td>2.210936</td>\n",
       "      <td>723.0</td>\n",
       "      <td>256.0</td>\n",
       "      <td>7.125735</td>\n",
       "      <td>1570.0</td>\n",
       "      <td>1591.0</td>\n",
       "      <td>89.150879</td>\n",
       "    </tr>\n",
       "    <tr>\n",
       "      <th>2496</th>\n",
       "      <td>4.174918</td>\n",
       "      <td>2.872031</td>\n",
       "      <td>940.0</td>\n",
       "      <td>256.0</td>\n",
       "      <td>9.412616</td>\n",
       "      <td>1554.0</td>\n",
       "      <td>1591.0</td>\n",
       "      <td>114.179527</td>\n",
       "    </tr>\n",
       "    <tr>\n",
       "      <th>2497</th>\n",
       "      <td>3.605239</td>\n",
       "      <td>2.452092</td>\n",
       "      <td>569.0</td>\n",
       "      <td>230.0</td>\n",
       "      <td>6.271699</td>\n",
       "      <td>1571.0</td>\n",
       "      <td>1589.0</td>\n",
       "      <td>94.086723</td>\n",
       "    </tr>\n",
       "    <tr>\n",
       "      <th>2498</th>\n",
       "      <td>3.202310</td>\n",
       "      <td>2.239820</td>\n",
       "      <td>750.0</td>\n",
       "      <td>206.0</td>\n",
       "      <td>14.953657</td>\n",
       "      <td>1591.0</td>\n",
       "      <td>1594.0</td>\n",
       "      <td>118.110717</td>\n",
       "    </tr>\n",
       "    <tr>\n",
       "      <th>2499</th>\n",
       "      <td>1.737084</td>\n",
       "      <td>1.296836</td>\n",
       "      <td>883.0</td>\n",
       "      <td>233.0</td>\n",
       "      <td>11.336151</td>\n",
       "      <td>1569.0</td>\n",
       "      <td>1603.0</td>\n",
       "      <td>110.160958</td>\n",
       "    </tr>\n",
       "  </tbody>\n",
       "</table>\n",
       "<p>2329 rows × 8 columns</p>\n",
       "</div>"
      ],
      "text/plain": [
       "      Активная мощность  Реактивная мощность  Длительность нагрева дугой  \\\n",
       "key                                                                        \n",
       "1              3.036730             2.142821                      1098.0   \n",
       "2              2.139408             1.453357                       811.0   \n",
       "3              4.063641             2.937457                       655.0   \n",
       "4              2.706489             2.056992                       741.0   \n",
       "5              2.252950             1.687991                       869.0   \n",
       "...                 ...                  ...                         ...   \n",
       "2495           3.168133             2.210936                       723.0   \n",
       "2496           4.174918             2.872031                       940.0   \n",
       "2497           3.605239             2.452092                       569.0   \n",
       "2498           3.202310             2.239820                       750.0   \n",
       "2499           1.737084             1.296836                       883.0   \n",
       "\n",
       "      Bulk 12      Газ 1  Температура_y  Температура      Wire 1  \n",
       "key                                                               \n",
       "1       206.0  29.749986         1571.0       1613.0   60.059998  \n",
       "2       206.0  12.555561         1581.0       1602.0   96.052315  \n",
       "3       205.0  28.554793         1596.0       1599.0   91.160157  \n",
       "4       207.0  18.841219         1601.0       1625.0   89.063515  \n",
       "5       203.0   5.413692         1576.0       1602.0   89.238236  \n",
       "...       ...        ...            ...          ...         ...  \n",
       "2495    256.0   7.125735         1570.0       1591.0   89.150879  \n",
       "2496    256.0   9.412616         1554.0       1591.0  114.179527  \n",
       "2497    230.0   6.271699         1571.0       1589.0   94.086723  \n",
       "2498    206.0  14.953657         1591.0       1594.0  118.110717  \n",
       "2499    233.0  11.336151         1569.0       1603.0  110.160958  \n",
       "\n",
       "[2329 rows x 8 columns]"
      ]
     },
     "execution_count": 29,
     "metadata": {},
     "output_type": "execute_result"
    }
   ],
   "source": [
    "#делаем ключ индексом\n",
    "df.set_index('key', inplace=True)\n",
    "df"
   ]
  },
  {
   "cell_type": "code",
   "execution_count": 30,
   "id": "ff94f277",
   "metadata": {},
   "outputs": [
    {
     "name": "stdout",
     "output_type": "stream",
     "text": [
      "interval columns not set, guessing: ['Активная мощность', 'Реактивная мощность', 'Длительность нагрева дугой', 'Bulk 12', 'Газ 1', 'Температура_y', 'Температура', 'Wire 1']\n"
     ]
    },
    {
     "data": {
      "text/html": [
       "<div>\n",
       "<style scoped>\n",
       "    .dataframe tbody tr th:only-of-type {\n",
       "        vertical-align: middle;\n",
       "    }\n",
       "\n",
       "    .dataframe tbody tr th {\n",
       "        vertical-align: top;\n",
       "    }\n",
       "\n",
       "    .dataframe thead th {\n",
       "        text-align: right;\n",
       "    }\n",
       "</style>\n",
       "<table border=\"1\" class=\"dataframe\">\n",
       "  <thead>\n",
       "    <tr style=\"text-align: right;\">\n",
       "      <th></th>\n",
       "      <th>Активная мощность</th>\n",
       "      <th>Реактивная мощность</th>\n",
       "      <th>Длительность нагрева дугой</th>\n",
       "      <th>Bulk 12</th>\n",
       "      <th>Газ 1</th>\n",
       "      <th>Температура_y</th>\n",
       "      <th>Температура</th>\n",
       "      <th>Wire 1</th>\n",
       "    </tr>\n",
       "  </thead>\n",
       "  <tbody>\n",
       "    <tr>\n",
       "      <th>Активная мощность</th>\n",
       "      <td>1.000000</td>\n",
       "      <td>0.977717</td>\n",
       "      <td>0.782624</td>\n",
       "      <td>0.501017</td>\n",
       "      <td>0.572667</td>\n",
       "      <td>0.214494</td>\n",
       "      <td>0.481373</td>\n",
       "      <td>0.182698</td>\n",
       "    </tr>\n",
       "    <tr>\n",
       "      <th>Реактивная мощность</th>\n",
       "      <td>0.977717</td>\n",
       "      <td>1.000000</td>\n",
       "      <td>0.775084</td>\n",
       "      <td>0.526821</td>\n",
       "      <td>0.715282</td>\n",
       "      <td>0.161449</td>\n",
       "      <td>0.365057</td>\n",
       "      <td>0.139342</td>\n",
       "    </tr>\n",
       "    <tr>\n",
       "      <th>Длительность нагрева дугой</th>\n",
       "      <td>0.782624</td>\n",
       "      <td>0.775084</td>\n",
       "      <td>1.000000</td>\n",
       "      <td>0.517436</td>\n",
       "      <td>0.501014</td>\n",
       "      <td>0.307807</td>\n",
       "      <td>0.317842</td>\n",
       "      <td>0.093824</td>\n",
       "    </tr>\n",
       "    <tr>\n",
       "      <th>Bulk 12</th>\n",
       "      <td>0.501017</td>\n",
       "      <td>0.526821</td>\n",
       "      <td>0.517436</td>\n",
       "      <td>1.000000</td>\n",
       "      <td>0.728225</td>\n",
       "      <td>0.083026</td>\n",
       "      <td>0.274426</td>\n",
       "      <td>0.444580</td>\n",
       "    </tr>\n",
       "    <tr>\n",
       "      <th>Газ 1</th>\n",
       "      <td>0.572667</td>\n",
       "      <td>0.715282</td>\n",
       "      <td>0.501014</td>\n",
       "      <td>0.728225</td>\n",
       "      <td>1.000000</td>\n",
       "      <td>0.103394</td>\n",
       "      <td>0.290854</td>\n",
       "      <td>0.362799</td>\n",
       "    </tr>\n",
       "    <tr>\n",
       "      <th>Температура_y</th>\n",
       "      <td>0.214494</td>\n",
       "      <td>0.161449</td>\n",
       "      <td>0.307807</td>\n",
       "      <td>0.083026</td>\n",
       "      <td>0.103394</td>\n",
       "      <td>1.000000</td>\n",
       "      <td>0.336279</td>\n",
       "      <td>0.253261</td>\n",
       "    </tr>\n",
       "    <tr>\n",
       "      <th>Температура</th>\n",
       "      <td>0.481373</td>\n",
       "      <td>0.365057</td>\n",
       "      <td>0.317842</td>\n",
       "      <td>0.274426</td>\n",
       "      <td>0.290854</td>\n",
       "      <td>0.336279</td>\n",
       "      <td>1.000000</td>\n",
       "      <td>0.470512</td>\n",
       "    </tr>\n",
       "    <tr>\n",
       "      <th>Wire 1</th>\n",
       "      <td>0.182698</td>\n",
       "      <td>0.139342</td>\n",
       "      <td>0.093824</td>\n",
       "      <td>0.444580</td>\n",
       "      <td>0.362799</td>\n",
       "      <td>0.253261</td>\n",
       "      <td>0.470512</td>\n",
       "      <td>1.000000</td>\n",
       "    </tr>\n",
       "  </tbody>\n",
       "</table>\n",
       "</div>"
      ],
      "text/plain": [
       "                            Активная мощность  Реактивная мощность  \\\n",
       "Активная мощность                    1.000000             0.977717   \n",
       "Реактивная мощность                  0.977717             1.000000   \n",
       "Длительность нагрева дугой           0.782624             0.775084   \n",
       "Bulk 12                              0.501017             0.526821   \n",
       "Газ 1                                0.572667             0.715282   \n",
       "Температура_y                        0.214494             0.161449   \n",
       "Температура                          0.481373             0.365057   \n",
       "Wire 1                               0.182698             0.139342   \n",
       "\n",
       "                            Длительность нагрева дугой   Bulk 12     Газ 1  \\\n",
       "Активная мощность                             0.782624  0.501017  0.572667   \n",
       "Реактивная мощность                           0.775084  0.526821  0.715282   \n",
       "Длительность нагрева дугой                    1.000000  0.517436  0.501014   \n",
       "Bulk 12                                       0.517436  1.000000  0.728225   \n",
       "Газ 1                                         0.501014  0.728225  1.000000   \n",
       "Температура_y                                 0.307807  0.083026  0.103394   \n",
       "Температура                                   0.317842  0.274426  0.290854   \n",
       "Wire 1                                        0.093824  0.444580  0.362799   \n",
       "\n",
       "                            Температура_y  Температура    Wire 1  \n",
       "Активная мощность                0.214494     0.481373  0.182698  \n",
       "Реактивная мощность              0.161449     0.365057  0.139342  \n",
       "Длительность нагрева дугой       0.307807     0.317842  0.093824  \n",
       "Bulk 12                          0.083026     0.274426  0.444580  \n",
       "Газ 1                            0.103394     0.290854  0.362799  \n",
       "Температура_y                    1.000000     0.336279  0.253261  \n",
       "Температура                      0.336279     1.000000  0.470512  \n",
       "Wire 1                           0.253261     0.470512  1.000000  "
      ]
     },
     "execution_count": 30,
     "metadata": {},
     "output_type": "execute_result"
    }
   ],
   "source": [
    "#Строим матрицу phik\n",
    "phik_matrix(df)"
   ]
  },
  {
   "cell_type": "markdown",
   "id": "c429b065",
   "metadata": {},
   "source": [
    "Имеется мультиколлинеарность между активной и реактивной мощностями, удалим реактивную мощность."
   ]
  },
  {
   "cell_type": "code",
   "execution_count": 31,
   "id": "6c34389b",
   "metadata": {},
   "outputs": [
    {
     "data": {
      "text/html": [
       "<div>\n",
       "<style scoped>\n",
       "    .dataframe tbody tr th:only-of-type {\n",
       "        vertical-align: middle;\n",
       "    }\n",
       "\n",
       "    .dataframe tbody tr th {\n",
       "        vertical-align: top;\n",
       "    }\n",
       "\n",
       "    .dataframe thead th {\n",
       "        text-align: right;\n",
       "    }\n",
       "</style>\n",
       "<table border=\"1\" class=\"dataframe\">\n",
       "  <thead>\n",
       "    <tr style=\"text-align: right;\">\n",
       "      <th></th>\n",
       "      <th>Активная мощность</th>\n",
       "      <th>Длительность нагрева дугой</th>\n",
       "      <th>Bulk 12</th>\n",
       "      <th>Температура_y</th>\n",
       "      <th>Температура</th>\n",
       "      <th>Wire 1</th>\n",
       "    </tr>\n",
       "    <tr>\n",
       "      <th>key</th>\n",
       "      <th></th>\n",
       "      <th></th>\n",
       "      <th></th>\n",
       "      <th></th>\n",
       "      <th></th>\n",
       "      <th></th>\n",
       "    </tr>\n",
       "  </thead>\n",
       "  <tbody>\n",
       "    <tr>\n",
       "      <th>1</th>\n",
       "      <td>3.036730</td>\n",
       "      <td>1098.0</td>\n",
       "      <td>206.0</td>\n",
       "      <td>1571.0</td>\n",
       "      <td>1613.0</td>\n",
       "      <td>60.059998</td>\n",
       "    </tr>\n",
       "    <tr>\n",
       "      <th>2</th>\n",
       "      <td>2.139408</td>\n",
       "      <td>811.0</td>\n",
       "      <td>206.0</td>\n",
       "      <td>1581.0</td>\n",
       "      <td>1602.0</td>\n",
       "      <td>96.052315</td>\n",
       "    </tr>\n",
       "    <tr>\n",
       "      <th>3</th>\n",
       "      <td>4.063641</td>\n",
       "      <td>655.0</td>\n",
       "      <td>205.0</td>\n",
       "      <td>1596.0</td>\n",
       "      <td>1599.0</td>\n",
       "      <td>91.160157</td>\n",
       "    </tr>\n",
       "    <tr>\n",
       "      <th>4</th>\n",
       "      <td>2.706489</td>\n",
       "      <td>741.0</td>\n",
       "      <td>207.0</td>\n",
       "      <td>1601.0</td>\n",
       "      <td>1625.0</td>\n",
       "      <td>89.063515</td>\n",
       "    </tr>\n",
       "    <tr>\n",
       "      <th>5</th>\n",
       "      <td>2.252950</td>\n",
       "      <td>869.0</td>\n",
       "      <td>203.0</td>\n",
       "      <td>1576.0</td>\n",
       "      <td>1602.0</td>\n",
       "      <td>89.238236</td>\n",
       "    </tr>\n",
       "    <tr>\n",
       "      <th>...</th>\n",
       "      <td>...</td>\n",
       "      <td>...</td>\n",
       "      <td>...</td>\n",
       "      <td>...</td>\n",
       "      <td>...</td>\n",
       "      <td>...</td>\n",
       "    </tr>\n",
       "    <tr>\n",
       "      <th>2495</th>\n",
       "      <td>3.168133</td>\n",
       "      <td>723.0</td>\n",
       "      <td>256.0</td>\n",
       "      <td>1570.0</td>\n",
       "      <td>1591.0</td>\n",
       "      <td>89.150879</td>\n",
       "    </tr>\n",
       "    <tr>\n",
       "      <th>2496</th>\n",
       "      <td>4.174918</td>\n",
       "      <td>940.0</td>\n",
       "      <td>256.0</td>\n",
       "      <td>1554.0</td>\n",
       "      <td>1591.0</td>\n",
       "      <td>114.179527</td>\n",
       "    </tr>\n",
       "    <tr>\n",
       "      <th>2497</th>\n",
       "      <td>3.605239</td>\n",
       "      <td>569.0</td>\n",
       "      <td>230.0</td>\n",
       "      <td>1571.0</td>\n",
       "      <td>1589.0</td>\n",
       "      <td>94.086723</td>\n",
       "    </tr>\n",
       "    <tr>\n",
       "      <th>2498</th>\n",
       "      <td>3.202310</td>\n",
       "      <td>750.0</td>\n",
       "      <td>206.0</td>\n",
       "      <td>1591.0</td>\n",
       "      <td>1594.0</td>\n",
       "      <td>118.110717</td>\n",
       "    </tr>\n",
       "    <tr>\n",
       "      <th>2499</th>\n",
       "      <td>1.737084</td>\n",
       "      <td>883.0</td>\n",
       "      <td>233.0</td>\n",
       "      <td>1569.0</td>\n",
       "      <td>1603.0</td>\n",
       "      <td>110.160958</td>\n",
       "    </tr>\n",
       "  </tbody>\n",
       "</table>\n",
       "<p>2329 rows × 6 columns</p>\n",
       "</div>"
      ],
      "text/plain": [
       "      Активная мощность  Длительность нагрева дугой  Bulk 12  Температура_y  \\\n",
       "key                                                                           \n",
       "1              3.036730                      1098.0    206.0         1571.0   \n",
       "2              2.139408                       811.0    206.0         1581.0   \n",
       "3              4.063641                       655.0    205.0         1596.0   \n",
       "4              2.706489                       741.0    207.0         1601.0   \n",
       "5              2.252950                       869.0    203.0         1576.0   \n",
       "...                 ...                         ...      ...            ...   \n",
       "2495           3.168133                       723.0    256.0         1570.0   \n",
       "2496           4.174918                       940.0    256.0         1554.0   \n",
       "2497           3.605239                       569.0    230.0         1571.0   \n",
       "2498           3.202310                       750.0    206.0         1591.0   \n",
       "2499           1.737084                       883.0    233.0         1569.0   \n",
       "\n",
       "      Температура      Wire 1  \n",
       "key                            \n",
       "1          1613.0   60.059998  \n",
       "2          1602.0   96.052315  \n",
       "3          1599.0   91.160157  \n",
       "4          1625.0   89.063515  \n",
       "5          1602.0   89.238236  \n",
       "...           ...         ...  \n",
       "2495       1591.0   89.150879  \n",
       "2496       1591.0  114.179527  \n",
       "2497       1589.0   94.086723  \n",
       "2498       1594.0  118.110717  \n",
       "2499       1603.0  110.160958  \n",
       "\n",
       "[2329 rows x 6 columns]"
      ]
     },
     "execution_count": 31,
     "metadata": {},
     "output_type": "execute_result"
    }
   ],
   "source": [
    "df = df.drop(['Реактивная мощность'], axis=1)\n",
    "#Оказалось что этот фактор практически не влияет на модель, так что его можно удалить\n",
    "df = df.drop(['Газ 1'], axis=1)\n",
    "df"
   ]
  },
  {
   "cell_type": "markdown",
   "id": "2e94ea09",
   "metadata": {},
   "source": [
    "Вывод: Была проведена предобработка и анализ данных в обьединенном датафрейме, данные были сокращены для возможности построения моедли с ними."
   ]
  },
  {
   "cell_type": "markdown",
   "id": "733d1486",
   "metadata": {},
   "source": [
    "## Подготовка данных и обучение модели"
   ]
  },
  {
   "cell_type": "code",
   "execution_count": 32,
   "id": "61fbdb82",
   "metadata": {
    "scrolled": true
   },
   "outputs": [],
   "source": [
    "# Разделяем данные на признаки и целевую переменную\n",
    "X = df.drop(['Температура'], axis=1)\n",
    "y = df['Температура']\n",
    "\n",
    "# Разбиение данных на обучающую (75%) и тестовую (25%) выборки\n",
    "X_train, X_test, y_train, y_test = train_test_split(X, y, test_size=0.25, random_state=0o40324, shuffle=True)"
   ]
  },
  {
   "cell_type": "code",
   "execution_count": 33,
   "id": "2553a6e8",
   "metadata": {},
   "outputs": [],
   "source": [
    "# Определение количественных и категориальных признаков\n",
    "numeric_features = X_train.select_dtypes(include=['int64', 'float64']).columns"
   ]
  },
  {
   "cell_type": "code",
   "execution_count": 34,
   "id": "467e2252",
   "metadata": {},
   "outputs": [],
   "source": [
    "# Создание трансформатора для количественных данных\n",
    "numeric_transformer = Pipeline(steps=[\n",
    "    ('scaler', StandardScaler())\n",
    "])\n",
    "\n",
    "# Создание ColumnTransformer\n",
    "preprocessor = ColumnTransformer(\n",
    "    transformers=[\n",
    "        ('num', numeric_transformer, numeric_features)\n",
    "    ])\n",
    "\n",
    "# Создание пайплайна предварительной обработки данных и поиска лучшей модели\n",
    "models = {\n",
    "    'LinearRegression': {'model': LinearRegression(), 'param_grid': {}},\n",
    "    'DecisionTreeRegressor': {'model': DecisionTreeRegressor(random_state=42), \n",
    "                              'param_grid': {'regressor__max_depth': [5, 10, 15]}},\n",
    "    'RandomForestRegressor': {'model': RandomForestRegressor(random_state=42), 'param_grid': {\n",
    "            'regressor__n_estimators': [50, 100, 200],\n",
    "            'regressor__max_depth': [5, 10, 15]\n",
    "        }}\n",
    "}"
   ]
  },
  {
   "cell_type": "code",
   "execution_count": 35,
   "id": "53d9fa35",
   "metadata": {},
   "outputs": [
    {
     "name": "stdout",
     "output_type": "stream",
     "text": [
      "LinearRegression: Лучшие параметры - {}\n",
      "LinearRegression: Лучшая модель - Pipeline(steps=[('preprocessor',\n",
      "                 ColumnTransformer(transformers=[('num',\n",
      "                                                  Pipeline(steps=[('scaler',\n",
      "                                                                   StandardScaler())]),\n",
      "                                                  Index(['Активная мощность', 'Длительность нагрева дугой', 'Bulk 12',\n",
      "       'Температура_y', 'Wire 1'],\n",
      "      dtype='object'))])),\n",
      "                ('regressor', LinearRegression())])\n",
      "LinearRegression: Средняя оценка кросс-валидации - 7.043313487965598\n",
      "\n",
      "DecisionTreeRegressor: Лучшие параметры - {'regressor__max_depth': 5}\n",
      "DecisionTreeRegressor: Лучшая модель - Pipeline(steps=[('preprocessor',\n",
      "                 ColumnTransformer(transformers=[('num',\n",
      "                                                  Pipeline(steps=[('scaler',\n",
      "                                                                   StandardScaler())]),\n",
      "                                                  Index(['Активная мощность', 'Длительность нагрева дугой', 'Bulk 12',\n",
      "       'Температура_y', 'Wire 1'],\n",
      "      dtype='object'))])),\n",
      "                ('regressor',\n",
      "                 DecisionTreeRegressor(max_depth=5, random_state=42))])\n",
      "DecisionTreeRegressor: Средняя оценка кросс-валидации - 7.229584039322852\n",
      "\n"
     ]
    },
    {
     "data": {
      "image/png": "[encoded data removed]",
      "text/plain": [
       "<Figure size 720x432 with 1 Axes>"
      ]
     },
     "metadata": {
      "needs_background": "light"
     },
     "output_type": "display_data"
    },
    {
     "name": "stdout",
     "output_type": "stream",
     "text": [
      "RandomForestRegressor: Лучшие параметры - {'regressor__max_depth': 10, 'regressor__n_estimators': 200}\n",
      "RandomForestRegressor: Лучшая модель - Pipeline(steps=[('preprocessor',\n",
      "                 ColumnTransformer(transformers=[('num',\n",
      "                                                  Pipeline(steps=[('scaler',\n",
      "                                                                   StandardScaler())]),\n",
      "                                                  Index(['Активная мощность', 'Длительность нагрева дугой', 'Bulk 12',\n",
      "       'Температура_y', 'Wire 1'],\n",
      "      dtype='object'))])),\n",
      "                ('regressor',\n",
      "                 RandomForestRegressor(max_depth=10, n_estimators=200,\n",
      "                                       random_state=42))])\n",
      "RandomForestRegressor: Средняя оценка кросс-валидации - 6.64393758842626\n",
      "\n"
     ]
    },
    {
     "data": {
      "image/png": "[encoded data removed]",
      "text/plain": [
       "<Figure size 720x432 with 1 Axes>"
      ]
     },
     "metadata": {
      "needs_background": "light"
     },
     "output_type": "display_data"
    }
   ],
   "source": [
    "results = {}\n",
    "\n",
    "for model_name, config in models.items():\n",
    "    pipeline = Pipeline(steps=[\n",
    "        ('preprocessor', preprocessor),\n",
    "        ('regressor', config['model'])\n",
    "    ])\n",
    "    \n",
    "    grid_search = GridSearchCV(pipeline, config['param_grid'], cv=5, scoring='neg_mean_absolute_error')\n",
    "    \n",
    "    grid_search.fit(X_train, y_train)\n",
    "    cv_scores = cross_val_score(grid_search, X_train, y_train, cv=5, scoring='neg_mean_absolute_error')\n",
    "    \n",
    "    print(f\"{model_name}: Лучшие параметры - {grid_search.best_params_}\")\n",
    "    print(f\"{model_name}: Лучшая модель - {grid_search.best_estimator_}\")\n",
    "    \n",
    "    # Вывод средней оценки кросс-валидации\n",
    "    print(f\"{model_name}: Средняя оценка кросс-валидации - {abs(cv_scores).mean()}\\n\")\n",
    "    \n",
    "    # Получение важности признаков\n",
    "    if hasattr(grid_search.best_estimator_['regressor'], 'feature_importances_'):\n",
    "        feature_importances = grid_search.best_estimator_['regressor'].feature_importances_\n",
    "        \n",
    "        # Названия факторов (это названия столбцов в DataFrame)\n",
    "        feature_names = X.columns\n",
    "        \n",
    "        # Создаем DataFrame с важностями факторов\n",
    "        feature_importance_df = pd.DataFrame({'Фактор': feature_names, 'Важность': feature_importances})\n",
    "        \n",
    "        # Сортируем важности по убыванию\n",
    "        feature_importance_df = feature_importance_df.sort_values(by='Важность', ascending=False)\n",
    "        \n",
    "        # Выводим график\n",
    "        plt.figure(figsize=(10, 6))\n",
    "        sns.barplot(x='Важность', y='Фактор', data=feature_importance_df)\n",
    "        plt.title(f'Рейтинг важности факторов для модели {model_name}')\n",
    "        plt.xlabel('Важность')\n",
    "        plt.ylabel('Фактор')\n",
    "        plt.show()\n",
    "    \n",
    "    results[model_name] = {\n",
    "        'best_params': grid_search.best_estimator_['regressor'].get_params(),\n",
    "        'best_model': grid_search.best_estimator_,\n",
    "        'cv_scores': cv_scores,\n",
    "        'feature_importances': feature_importances if hasattr(grid_search.best_estimator_['regressor'], 'feature_importances_') else None\n",
    "    }"
   ]
  },
  {
   "cell_type": "markdown",
   "id": "8d050e60",
   "metadata": {},
   "source": [
    "Вывод: В данной части работы мы подготовили данные и обучили модели. Лучшей моделью оказалась модель RandomForestRegressor с показателем mae - 6.64393758842626, ее мы и будем тестировать."
   ]
  },
  {
   "cell_type": "markdown",
   "id": "b8e10f7d",
   "metadata": {},
   "source": [
    "## Выбор лучшей модели"
   ]
  },
  {
   "cell_type": "code",
   "execution_count": 36,
   "id": "bc41e9e4",
   "metadata": {},
   "outputs": [
    {
     "name": "stdout",
     "output_type": "stream",
     "text": [
      "best_RandomForestRegressor_model на тестовой выборке: MAE - 6.990098120319094\n"
     ]
    }
   ],
   "source": [
    "# Извлекаем лучшую модель RandomForestRegressor\n",
    "best_RandomForestRegressor_model = results['RandomForestRegressor']['best_model']\n",
    "\n",
    "# Предсказания на тестовой выборке\n",
    "y_test_pred = best_RandomForestRegressor_model.predict(X_test)\n",
    "\n",
    "# Рассчитываем MAE на тестовой выборке\n",
    "test_mae = mean_absolute_error(y_test, y_test_pred)\n",
    "\n",
    "print(f\"best_RandomForestRegressor_model на тестовой выборке: MAE - {test_mae}\")"
   ]
  },
  {
   "cell_type": "markdown",
   "id": "77ad719c",
   "metadata": {},
   "source": [
    "Вывод: В данной части работы была протестирована выбранная модель, она показала, тоже хорошие результаты чем во время обучения - 10.460512407268702."
   ]
  },
  {
   "cell_type": "markdown",
   "id": "c299e15e",
   "metadata": {},
   "source": [
    "## Общий вывод и рекомендации заказчику"
   ]
  },
  {
   "cell_type": "markdown",
   "id": "e4811108",
   "metadata": {},
   "source": [
    "В данной работе была построена модель для предсказывания температуры сплава. Для этого сначала мы провели загрузку и предобработку данных, где удалили все аномалии и часть пропущенных значений. Далее мы провели исследовательсикй анализ данных, для большого количества столбцов. Далее мы обьединили датафреймы и предобработали их, чтобы можно было построить модель. Там мы сократили большое количество ненужных данных. Далее мы обучили несколько моделей, где выяснили, что RandomForestRegressor является самой эффективный, что и подтвердилось на тестах. Именно эту модель мы и советуем использовать заказчику."
   ]
  }
 ],
 "metadata": {
  "ExecuteTimeLog": [
   {
    "duration": 51,
    "start_time": "2024-03-12T10:50:11.433Z"
   },
   {
    "duration": 8,
    "start_time": "2024-03-12T10:50:40.270Z"
   },
   {
    "duration": 1693,
    "start_time": "2024-03-12T10:52:03.479Z"
   },
   {
    "duration": 192,
    "start_time": "2024-03-12T10:52:05.174Z"
   },
   {
    "duration": 87,
    "start_time": "2024-03-12T10:52:12.577Z"
   },
   {
    "duration": 136,
    "start_time": "2024-03-12T10:53:24.786Z"
   },
   {
    "duration": 114,
    "start_time": "2024-03-12T10:53:45.281Z"
   },
   {
    "duration": 86,
    "start_time": "2024-03-12T10:58:29.969Z"
   },
   {
    "duration": 278,
    "start_time": "2024-03-12T11:13:32.324Z"
   },
   {
    "duration": 74,
    "start_time": "2024-03-12T11:14:18.518Z"
   },
   {
    "duration": 7,
    "start_time": "2024-03-12T11:14:41.679Z"
   },
   {
    "duration": 352,
    "start_time": "2024-03-12T11:16:48.314Z"
   },
   {
    "duration": 301,
    "start_time": "2024-03-12T14:49:08.953Z"
   },
   {
    "duration": 304,
    "start_time": "2024-03-12T14:49:22.669Z"
   },
   {
    "duration": 103,
    "start_time": "2024-03-12T14:51:57.077Z"
   },
   {
    "duration": 1623,
    "start_time": "2024-03-12T14:52:27.591Z"
   },
   {
    "duration": 116,
    "start_time": "2024-03-12T14:52:41.604Z"
   },
   {
    "duration": 144,
    "start_time": "2024-03-12T14:53:36.829Z"
   },
   {
    "duration": 1518,
    "start_time": "2024-03-12T14:54:39.668Z"
   },
   {
    "duration": 76,
    "start_time": "2024-03-12T14:54:41.188Z"
   },
   {
    "duration": 128,
    "start_time": "2024-03-12T14:54:41.266Z"
   },
   {
    "duration": 124,
    "start_time": "2024-03-12T14:54:41.396Z"
   },
   {
    "duration": 38,
    "start_time": "2024-03-12T14:54:41.522Z"
   },
   {
    "duration": 316,
    "start_time": "2024-03-12T14:54:41.561Z"
   },
   {
    "duration": 48,
    "start_time": "2024-03-12T14:54:41.879Z"
   },
   {
    "duration": 50,
    "start_time": "2024-03-12T14:54:41.929Z"
   },
   {
    "duration": 182,
    "start_time": "2024-03-12T14:54:41.980Z"
   },
   {
    "duration": 99,
    "start_time": "2024-03-12T15:19:27.634Z"
   },
   {
    "duration": 116,
    "start_time": "2024-03-12T15:20:01.534Z"
   },
   {
    "duration": 117,
    "start_time": "2024-03-12T15:21:41.045Z"
   },
   {
    "duration": 43,
    "start_time": "2024-03-12T15:22:15.474Z"
   },
   {
    "duration": 219,
    "start_time": "2024-03-12T15:22:28.534Z"
   },
   {
    "duration": 84,
    "start_time": "2024-03-12T15:23:27.341Z"
   },
   {
    "duration": 9,
    "start_time": "2024-03-13T10:16:16.275Z"
   },
   {
    "duration": 43,
    "start_time": "2024-03-13T10:17:39.619Z"
   },
   {
    "duration": 1642,
    "start_time": "2024-03-13T10:17:48.722Z"
   },
   {
    "duration": 119,
    "start_time": "2024-03-13T10:17:50.366Z"
   },
   {
    "duration": 133,
    "start_time": "2024-03-13T10:17:50.490Z"
   },
   {
    "duration": 139,
    "start_time": "2024-03-13T10:17:50.626Z"
   },
   {
    "duration": 130,
    "start_time": "2024-03-13T10:17:50.767Z"
   },
   {
    "duration": 392,
    "start_time": "2024-03-13T10:17:50.899Z"
   },
   {
    "duration": 114,
    "start_time": "2024-03-13T10:17:51.293Z"
   },
   {
    "duration": 89,
    "start_time": "2024-03-13T10:17:51.408Z"
   },
   {
    "duration": 120,
    "start_time": "2024-03-13T10:17:51.498Z"
   },
   {
    "duration": 113,
    "start_time": "2024-03-13T10:17:51.619Z"
   },
   {
    "duration": 108,
    "start_time": "2024-03-13T10:17:51.734Z"
   },
   {
    "duration": 69,
    "start_time": "2024-03-13T10:17:51.844Z"
   },
   {
    "duration": 258,
    "start_time": "2024-03-13T10:17:51.915Z"
   },
   {
    "duration": 82,
    "start_time": "2024-03-13T10:17:52.175Z"
   },
   {
    "duration": 4,
    "start_time": "2024-03-13T10:17:52.259Z"
   },
   {
    "duration": 120,
    "start_time": "2024-03-13T10:17:52.264Z"
   },
   {
    "duration": 114,
    "start_time": "2024-03-13T10:18:01.353Z"
   },
   {
    "duration": 118,
    "start_time": "2024-03-13T10:20:33.607Z"
   },
   {
    "duration": 16,
    "start_time": "2024-03-13T10:25:49.645Z"
   },
   {
    "duration": 17,
    "start_time": "2024-03-13T10:26:22.025Z"
   },
   {
    "duration": 16,
    "start_time": "2024-03-13T10:26:49.893Z"
   },
   {
    "duration": 18,
    "start_time": "2024-03-13T10:27:22.172Z"
   },
   {
    "duration": 1467,
    "start_time": "2024-03-13T10:27:39.533Z"
   },
   {
    "duration": 75,
    "start_time": "2024-03-13T10:27:41.002Z"
   },
   {
    "duration": 129,
    "start_time": "2024-03-13T10:27:41.079Z"
   },
   {
    "duration": 126,
    "start_time": "2024-03-13T10:27:41.209Z"
   },
   {
    "duration": 38,
    "start_time": "2024-03-13T10:27:41.338Z"
   },
   {
    "duration": 309,
    "start_time": "2024-03-13T10:27:41.378Z"
   },
   {
    "duration": 48,
    "start_time": "2024-03-13T10:27:41.689Z"
   },
   {
    "duration": 49,
    "start_time": "2024-03-13T10:27:41.739Z"
   },
   {
    "duration": 183,
    "start_time": "2024-03-13T10:27:41.790Z"
   },
   {
    "duration": 48,
    "start_time": "2024-03-13T10:27:41.975Z"
   },
   {
    "duration": 113,
    "start_time": "2024-03-13T10:27:42.024Z"
   },
   {
    "duration": 44,
    "start_time": "2024-03-13T10:27:42.139Z"
   },
   {
    "duration": 237,
    "start_time": "2024-03-13T10:27:42.184Z"
   },
   {
    "duration": 38,
    "start_time": "2024-03-13T10:27:42.424Z"
   },
   {
    "duration": 4,
    "start_time": "2024-03-13T10:27:42.463Z"
   },
   {
    "duration": 119,
    "start_time": "2024-03-13T10:27:42.469Z"
   },
   {
    "duration": 127,
    "start_time": "2024-03-13T10:27:42.589Z"
   },
   {
    "duration": 18,
    "start_time": "2024-03-13T10:27:42.718Z"
   },
   {
    "duration": 235,
    "start_time": "2024-03-13T10:59:43.788Z"
   },
   {
    "duration": 245,
    "start_time": "2024-03-13T10:59:58.381Z"
   },
   {
    "duration": 248,
    "start_time": "2024-03-13T11:00:10.602Z"
   },
   {
    "duration": 336,
    "start_time": "2024-03-13T11:00:17.049Z"
   },
   {
    "duration": 223,
    "start_time": "2024-03-13T11:00:21.525Z"
   },
   {
    "duration": 257,
    "start_time": "2024-03-13T11:00:36.703Z"
   },
   {
    "duration": 243,
    "start_time": "2024-03-13T11:01:41.887Z"
   },
   {
    "duration": 242,
    "start_time": "2024-03-13T11:02:14.682Z"
   },
   {
    "duration": 243,
    "start_time": "2024-03-13T11:38:08.985Z"
   },
   {
    "duration": 230,
    "start_time": "2024-03-13T11:38:21.331Z"
   },
   {
    "duration": 1580,
    "start_time": "2024-03-13T11:39:52.866Z"
   },
   {
    "duration": 237,
    "start_time": "2024-03-13T11:40:09.749Z"
   },
   {
    "duration": 226,
    "start_time": "2024-03-13T11:40:32.974Z"
   },
   {
    "duration": 17,
    "start_time": "2024-03-13T11:50:40.738Z"
   },
   {
    "duration": 16,
    "start_time": "2024-03-13T11:50:57.132Z"
   },
   {
    "duration": 22,
    "start_time": "2024-03-13T11:54:49.713Z"
   },
   {
    "duration": 18,
    "start_time": "2024-03-13T11:55:18.222Z"
   },
   {
    "duration": 1451,
    "start_time": "2024-03-13T11:55:46.339Z"
   },
   {
    "duration": 76,
    "start_time": "2024-03-13T11:55:47.792Z"
   },
   {
    "duration": 136,
    "start_time": "2024-03-13T11:55:47.869Z"
   },
   {
    "duration": 139,
    "start_time": "2024-03-13T11:55:48.007Z"
   },
   {
    "duration": 42,
    "start_time": "2024-03-13T11:55:48.148Z"
   },
   {
    "duration": 302,
    "start_time": "2024-03-13T11:55:48.191Z"
   },
   {
    "duration": 49,
    "start_time": "2024-03-13T11:55:48.495Z"
   },
   {
    "duration": 49,
    "start_time": "2024-03-13T11:55:48.546Z"
   },
   {
    "duration": 181,
    "start_time": "2024-03-13T11:55:48.596Z"
   },
   {
    "duration": 50,
    "start_time": "2024-03-13T11:55:48.779Z"
   },
   {
    "duration": 122,
    "start_time": "2024-03-13T11:55:48.832Z"
   },
   {
    "duration": 43,
    "start_time": "2024-03-13T11:55:48.955Z"
   },
   {
    "duration": 231,
    "start_time": "2024-03-13T11:55:48.999Z"
   },
   {
    "duration": 36,
    "start_time": "2024-03-13T11:55:49.233Z"
   },
   {
    "duration": 4,
    "start_time": "2024-03-13T11:55:49.271Z"
   },
   {
    "duration": 129,
    "start_time": "2024-03-13T11:55:49.276Z"
   },
   {
    "duration": 116,
    "start_time": "2024-03-13T11:55:49.407Z"
   },
   {
    "duration": 18,
    "start_time": "2024-03-13T11:55:49.525Z"
   },
   {
    "duration": 271,
    "start_time": "2024-03-13T11:55:49.544Z"
   },
   {
    "duration": 251,
    "start_time": "2024-03-13T11:55:49.816Z"
   },
   {
    "duration": 243,
    "start_time": "2024-03-13T11:55:50.069Z"
   },
   {
    "duration": 316,
    "start_time": "2024-03-13T11:55:50.314Z"
   },
   {
    "duration": 129,
    "start_time": "2024-03-13T11:55:50.631Z"
   },
   {
    "duration": 1649,
    "start_time": "2024-03-13T15:23:30.058Z"
   },
   {
    "duration": 141,
    "start_time": "2024-03-13T15:23:31.709Z"
   },
   {
    "duration": 130,
    "start_time": "2024-03-13T15:23:31.851Z"
   },
   {
    "duration": 124,
    "start_time": "2024-03-13T15:23:31.983Z"
   },
   {
    "duration": 109,
    "start_time": "2024-03-13T15:23:32.109Z"
   },
   {
    "duration": 354,
    "start_time": "2024-03-13T15:23:32.219Z"
   },
   {
    "duration": 111,
    "start_time": "2024-03-13T15:23:32.574Z"
   },
   {
    "duration": 76,
    "start_time": "2024-03-13T15:23:32.686Z"
   },
   {
    "duration": 117,
    "start_time": "2024-03-13T15:23:32.763Z"
   },
   {
    "duration": 126,
    "start_time": "2024-03-13T15:23:32.882Z"
   },
   {
    "duration": 114,
    "start_time": "2024-03-13T15:23:33.009Z"
   },
   {
    "duration": 69,
    "start_time": "2024-03-13T15:23:33.125Z"
   },
   {
    "duration": 212,
    "start_time": "2024-03-13T15:23:33.196Z"
   },
   {
    "duration": 87,
    "start_time": "2024-03-13T15:23:33.411Z"
   },
   {
    "duration": 4,
    "start_time": "2024-03-13T15:23:33.499Z"
   },
   {
    "duration": 122,
    "start_time": "2024-03-13T15:23:33.504Z"
   },
   {
    "duration": 125,
    "start_time": "2024-03-13T15:23:33.628Z"
   },
   {
    "duration": 17,
    "start_time": "2024-03-13T15:23:33.759Z"
   },
   {
    "duration": 241,
    "start_time": "2024-03-13T15:23:33.778Z"
   },
   {
    "duration": 240,
    "start_time": "2024-03-13T15:23:34.020Z"
   },
   {
    "duration": 256,
    "start_time": "2024-03-13T15:23:34.262Z"
   },
   {
    "duration": 326,
    "start_time": "2024-03-13T15:23:34.519Z"
   },
   {
    "duration": 212,
    "start_time": "2024-03-13T15:23:34.847Z"
   },
   {
    "duration": 2,
    "start_time": "2024-03-13T15:27:27.665Z"
   },
   {
    "duration": 1442,
    "start_time": "2024-03-13T15:31:39.246Z"
   },
   {
    "duration": 76,
    "start_time": "2024-03-13T15:31:40.690Z"
   },
   {
    "duration": 125,
    "start_time": "2024-03-13T15:31:40.768Z"
   },
   {
    "duration": 120,
    "start_time": "2024-03-13T15:31:40.894Z"
   },
   {
    "duration": 39,
    "start_time": "2024-03-13T15:31:41.016Z"
   },
   {
    "duration": 328,
    "start_time": "2024-03-13T15:31:41.056Z"
   },
   {
    "duration": 62,
    "start_time": "2024-03-13T15:31:41.386Z"
   },
   {
    "duration": 47,
    "start_time": "2024-03-13T15:31:41.451Z"
   },
   {
    "duration": 186,
    "start_time": "2024-03-13T15:31:41.500Z"
   },
   {
    "duration": 45,
    "start_time": "2024-03-13T15:31:41.687Z"
   },
   {
    "duration": 144,
    "start_time": "2024-03-13T15:31:41.735Z"
   },
   {
    "duration": 41,
    "start_time": "2024-03-13T15:31:41.881Z"
   },
   {
    "duration": 232,
    "start_time": "2024-03-13T15:31:41.923Z"
   },
   {
    "duration": 36,
    "start_time": "2024-03-13T15:31:42.159Z"
   },
   {
    "duration": 4,
    "start_time": "2024-03-13T15:31:42.197Z"
   },
   {
    "duration": 123,
    "start_time": "2024-03-13T15:31:42.202Z"
   },
   {
    "duration": 127,
    "start_time": "2024-03-13T15:31:42.327Z"
   },
   {
    "duration": 16,
    "start_time": "2024-03-13T15:31:42.456Z"
   },
   {
    "duration": 276,
    "start_time": "2024-03-13T15:31:42.474Z"
   },
   {
    "duration": 263,
    "start_time": "2024-03-13T15:31:42.751Z"
   },
   {
    "duration": 248,
    "start_time": "2024-03-13T15:31:43.016Z"
   },
   {
    "duration": 322,
    "start_time": "2024-03-13T15:31:43.266Z"
   },
   {
    "duration": 65,
    "start_time": "2024-03-13T15:31:43.591Z"
   },
   {
    "duration": 3,
    "start_time": "2024-03-13T15:31:43.657Z"
   },
   {
    "duration": 94,
    "start_time": "2024-03-13T15:32:20.355Z"
   },
   {
    "duration": 76,
    "start_time": "2024-03-13T15:33:25.290Z"
   },
   {
    "duration": 22,
    "start_time": "2024-03-13T15:35:03.926Z"
   },
   {
    "duration": 1392,
    "start_time": "2024-03-13T15:35:35.109Z"
   },
   {
    "duration": 84,
    "start_time": "2024-03-13T15:35:36.503Z"
   },
   {
    "duration": 134,
    "start_time": "2024-03-13T15:35:36.588Z"
   },
   {
    "duration": 154,
    "start_time": "2024-03-13T15:35:36.723Z"
   },
   {
    "duration": 39,
    "start_time": "2024-03-13T15:35:36.879Z"
   },
   {
    "duration": 328,
    "start_time": "2024-03-13T15:35:36.919Z"
   },
   {
    "duration": 45,
    "start_time": "2024-03-13T15:35:37.248Z"
   },
   {
    "duration": 57,
    "start_time": "2024-03-13T15:35:37.295Z"
   },
   {
    "duration": 199,
    "start_time": "2024-03-13T15:35:37.354Z"
   },
   {
    "duration": 52,
    "start_time": "2024-03-13T15:35:37.555Z"
   },
   {
    "duration": 117,
    "start_time": "2024-03-13T15:35:37.609Z"
   },
   {
    "duration": 41,
    "start_time": "2024-03-13T15:35:37.728Z"
   },
   {
    "duration": 239,
    "start_time": "2024-03-13T15:35:37.771Z"
   },
   {
    "duration": 48,
    "start_time": "2024-03-13T15:35:38.014Z"
   },
   {
    "duration": 6,
    "start_time": "2024-03-13T15:35:38.064Z"
   },
   {
    "duration": 136,
    "start_time": "2024-03-13T15:35:38.071Z"
   },
   {
    "duration": 142,
    "start_time": "2024-03-13T15:35:38.208Z"
   },
   {
    "duration": 18,
    "start_time": "2024-03-13T15:35:38.351Z"
   },
   {
    "duration": 277,
    "start_time": "2024-03-13T15:35:38.371Z"
   },
   {
    "duration": 248,
    "start_time": "2024-03-13T15:35:38.650Z"
   },
   {
    "duration": 245,
    "start_time": "2024-03-13T15:35:38.899Z"
   },
   {
    "duration": 334,
    "start_time": "2024-03-13T15:35:39.146Z"
   },
   {
    "duration": 125,
    "start_time": "2024-03-13T15:35:39.482Z"
   },
   {
    "duration": 72,
    "start_time": "2024-03-13T15:35:39.609Z"
   },
   {
    "duration": 11,
    "start_time": "2024-03-13T15:35:39.682Z"
   },
   {
    "duration": 1360,
    "start_time": "2024-03-13T15:36:31.512Z"
   },
   {
    "duration": 92,
    "start_time": "2024-03-13T15:36:32.874Z"
   },
   {
    "duration": 133,
    "start_time": "2024-03-13T15:36:32.968Z"
   },
   {
    "duration": 140,
    "start_time": "2024-03-13T15:36:33.103Z"
   },
   {
    "duration": 35,
    "start_time": "2024-03-13T15:36:33.247Z"
   },
   {
    "duration": 282,
    "start_time": "2024-03-13T15:36:33.284Z"
   },
   {
    "duration": 47,
    "start_time": "2024-03-13T15:36:33.568Z"
   },
   {
    "duration": 46,
    "start_time": "2024-03-13T15:36:33.616Z"
   },
   {
    "duration": 201,
    "start_time": "2024-03-13T15:36:33.664Z"
   },
   {
    "duration": 45,
    "start_time": "2024-03-13T15:36:33.866Z"
   },
   {
    "duration": 175,
    "start_time": "2024-03-13T15:36:33.912Z"
   },
   {
    "duration": 41,
    "start_time": "2024-03-13T15:36:34.088Z"
   },
   {
    "duration": 241,
    "start_time": "2024-03-13T15:36:34.131Z"
   },
   {
    "duration": 35,
    "start_time": "2024-03-13T15:36:34.374Z"
   },
   {
    "duration": 4,
    "start_time": "2024-03-13T15:36:34.410Z"
   },
   {
    "duration": 144,
    "start_time": "2024-03-13T15:36:34.415Z"
   },
   {
    "duration": 122,
    "start_time": "2024-03-13T15:36:34.563Z"
   },
   {
    "duration": 17,
    "start_time": "2024-03-13T15:36:34.686Z"
   },
   {
    "duration": 255,
    "start_time": "2024-03-13T15:36:34.704Z"
   },
   {
    "duration": 231,
    "start_time": "2024-03-13T15:36:34.961Z"
   },
   {
    "duration": 242,
    "start_time": "2024-03-13T15:36:35.193Z"
   },
   {
    "duration": 329,
    "start_time": "2024-03-13T15:36:35.445Z"
   },
   {
    "duration": 130,
    "start_time": "2024-03-13T15:36:35.776Z"
   },
   {
    "duration": 80,
    "start_time": "2024-03-13T15:36:35.908Z"
   },
   {
    "duration": 133,
    "start_time": "2024-03-13T15:36:35.990Z"
   },
   {
    "duration": 65,
    "start_time": "2024-03-13T15:39:10.498Z"
   },
   {
    "duration": 18,
    "start_time": "2024-03-13T15:52:56.957Z"
   },
   {
    "duration": 1348,
    "start_time": "2024-03-13T15:53:45.935Z"
   },
   {
    "duration": 74,
    "start_time": "2024-03-13T15:53:47.284Z"
   },
   {
    "duration": 133,
    "start_time": "2024-03-13T15:53:47.360Z"
   },
   {
    "duration": 147,
    "start_time": "2024-03-13T15:53:47.494Z"
   },
   {
    "duration": 41,
    "start_time": "2024-03-13T15:53:47.643Z"
   },
   {
    "duration": 312,
    "start_time": "2024-03-13T15:53:47.685Z"
   },
   {
    "duration": 46,
    "start_time": "2024-03-13T15:53:47.998Z"
   },
   {
    "duration": 45,
    "start_time": "2024-03-13T15:53:48.046Z"
   },
   {
    "duration": 178,
    "start_time": "2024-03-13T15:53:48.093Z"
   },
   {
    "duration": 43,
    "start_time": "2024-03-13T15:53:48.273Z"
   },
   {
    "duration": 106,
    "start_time": "2024-03-13T15:53:48.317Z"
   },
   {
    "duration": 40,
    "start_time": "2024-03-13T15:53:48.425Z"
   },
   {
    "duration": 203,
    "start_time": "2024-03-13T15:53:48.467Z"
   },
   {
    "duration": 35,
    "start_time": "2024-03-13T15:53:48.673Z"
   },
   {
    "duration": 5,
    "start_time": "2024-03-13T15:53:48.710Z"
   },
   {
    "duration": 129,
    "start_time": "2024-03-13T15:53:48.717Z"
   },
   {
    "duration": 115,
    "start_time": "2024-03-13T15:53:48.848Z"
   },
   {
    "duration": 20,
    "start_time": "2024-03-13T15:53:48.965Z"
   },
   {
    "duration": 243,
    "start_time": "2024-03-13T15:53:48.987Z"
   },
   {
    "duration": 227,
    "start_time": "2024-03-13T15:53:49.231Z"
   },
   {
    "duration": 237,
    "start_time": "2024-03-13T15:53:49.460Z"
   },
   {
    "duration": 318,
    "start_time": "2024-03-13T15:53:49.698Z"
   },
   {
    "duration": 120,
    "start_time": "2024-03-13T15:53:50.018Z"
   },
   {
    "duration": 64,
    "start_time": "2024-03-13T15:53:50.139Z"
   },
   {
    "duration": 62,
    "start_time": "2024-03-13T15:53:50.204Z"
   },
   {
    "duration": 15,
    "start_time": "2024-03-13T15:53:50.268Z"
   },
   {
    "duration": 1296,
    "start_time": "2024-03-13T15:54:42.693Z"
   },
   {
    "duration": 71,
    "start_time": "2024-03-13T15:54:43.991Z"
   },
   {
    "duration": 124,
    "start_time": "2024-03-13T15:54:44.063Z"
   },
   {
    "duration": 138,
    "start_time": "2024-03-13T15:54:44.189Z"
   },
   {
    "duration": 36,
    "start_time": "2024-03-13T15:54:44.329Z"
   },
   {
    "duration": 285,
    "start_time": "2024-03-13T15:54:44.367Z"
   },
   {
    "duration": 46,
    "start_time": "2024-03-13T15:54:44.654Z"
   },
   {
    "duration": 46,
    "start_time": "2024-03-13T15:54:44.702Z"
   },
   {
    "duration": 187,
    "start_time": "2024-03-13T15:54:44.749Z"
   },
   {
    "duration": 43,
    "start_time": "2024-03-13T15:54:44.937Z"
   },
   {
    "duration": 113,
    "start_time": "2024-03-13T15:54:44.981Z"
   },
   {
    "duration": 41,
    "start_time": "2024-03-13T15:54:45.095Z"
   },
   {
    "duration": 214,
    "start_time": "2024-03-13T15:54:45.138Z"
   },
   {
    "duration": 35,
    "start_time": "2024-03-13T15:54:45.354Z"
   },
   {
    "duration": 11,
    "start_time": "2024-03-13T15:54:45.390Z"
   },
   {
    "duration": 115,
    "start_time": "2024-03-13T15:54:45.403Z"
   },
   {
    "duration": 121,
    "start_time": "2024-03-13T15:54:45.519Z"
   },
   {
    "duration": 16,
    "start_time": "2024-03-13T15:54:45.641Z"
   },
   {
    "duration": 258,
    "start_time": "2024-03-13T15:54:45.658Z"
   },
   {
    "duration": 211,
    "start_time": "2024-03-13T15:54:45.917Z"
   },
   {
    "duration": 215,
    "start_time": "2024-03-13T15:54:46.132Z"
   },
   {
    "duration": 319,
    "start_time": "2024-03-13T15:54:46.348Z"
   },
   {
    "duration": 119,
    "start_time": "2024-03-13T15:54:46.669Z"
   },
   {
    "duration": 71,
    "start_time": "2024-03-13T15:54:46.789Z"
   },
   {
    "duration": 47,
    "start_time": "2024-03-13T15:54:46.862Z"
   },
   {
    "duration": 31,
    "start_time": "2024-03-13T15:54:46.911Z"
   },
   {
    "duration": 31,
    "start_time": "2024-03-13T15:55:59.885Z"
   },
   {
    "duration": 8,
    "start_time": "2024-03-13T15:58:06.891Z"
   },
   {
    "duration": 17,
    "start_time": "2024-03-13T16:02:40.592Z"
   },
   {
    "duration": 8,
    "start_time": "2024-03-13T16:05:18.002Z"
   },
   {
    "duration": 15,
    "start_time": "2024-03-13T16:05:22.959Z"
   },
   {
    "duration": 1357,
    "start_time": "2024-03-13T16:06:18.343Z"
   },
   {
    "duration": 78,
    "start_time": "2024-03-13T16:06:19.701Z"
   },
   {
    "duration": 128,
    "start_time": "2024-03-13T16:06:19.780Z"
   },
   {
    "duration": 126,
    "start_time": "2024-03-13T16:06:19.909Z"
   },
   {
    "duration": 36,
    "start_time": "2024-03-13T16:06:20.037Z"
   },
   {
    "duration": 294,
    "start_time": "2024-03-13T16:06:20.074Z"
   },
   {
    "duration": 46,
    "start_time": "2024-03-13T16:06:20.369Z"
   },
   {
    "duration": 47,
    "start_time": "2024-03-13T16:06:20.416Z"
   },
   {
    "duration": 174,
    "start_time": "2024-03-13T16:06:20.465Z"
   },
   {
    "duration": 42,
    "start_time": "2024-03-13T16:06:20.641Z"
   },
   {
    "duration": 113,
    "start_time": "2024-03-13T16:06:20.684Z"
   },
   {
    "duration": 41,
    "start_time": "2024-03-13T16:06:20.799Z"
   },
   {
    "duration": 247,
    "start_time": "2024-03-13T16:06:20.842Z"
   },
   {
    "duration": 37,
    "start_time": "2024-03-13T16:06:21.093Z"
   },
   {
    "duration": 5,
    "start_time": "2024-03-13T16:06:21.131Z"
   },
   {
    "duration": 122,
    "start_time": "2024-03-13T16:06:21.138Z"
   },
   {
    "duration": 114,
    "start_time": "2024-03-13T16:06:21.262Z"
   },
   {
    "duration": 17,
    "start_time": "2024-03-13T16:06:21.377Z"
   },
   {
    "duration": 229,
    "start_time": "2024-03-13T16:06:21.395Z"
   },
   {
    "duration": 231,
    "start_time": "2024-03-13T16:06:21.625Z"
   },
   {
    "duration": 220,
    "start_time": "2024-03-13T16:06:21.857Z"
   },
   {
    "duration": 315,
    "start_time": "2024-03-13T16:06:22.078Z"
   },
   {
    "duration": 118,
    "start_time": "2024-03-13T16:06:22.395Z"
   },
   {
    "duration": 66,
    "start_time": "2024-03-13T16:06:22.515Z"
   },
   {
    "duration": 58,
    "start_time": "2024-03-13T16:06:22.583Z"
   },
   {
    "duration": 30,
    "start_time": "2024-03-13T16:06:22.643Z"
   },
   {
    "duration": 16,
    "start_time": "2024-03-13T16:06:22.675Z"
   },
   {
    "duration": 1365,
    "start_time": "2024-03-13T16:09:36.010Z"
   },
   {
    "duration": 70,
    "start_time": "2024-03-13T16:09:37.377Z"
   },
   {
    "duration": 120,
    "start_time": "2024-03-13T16:09:37.449Z"
   },
   {
    "duration": 130,
    "start_time": "2024-03-13T16:09:37.571Z"
   },
   {
    "duration": 37,
    "start_time": "2024-03-13T16:09:37.704Z"
   },
   {
    "duration": 303,
    "start_time": "2024-03-13T16:09:37.742Z"
   },
   {
    "duration": 57,
    "start_time": "2024-03-13T16:09:38.046Z"
   },
   {
    "duration": 46,
    "start_time": "2024-03-13T16:09:38.105Z"
   },
   {
    "duration": 184,
    "start_time": "2024-03-13T16:09:38.153Z"
   },
   {
    "duration": 44,
    "start_time": "2024-03-13T16:09:38.338Z"
   },
   {
    "duration": 125,
    "start_time": "2024-03-13T16:09:38.384Z"
   },
   {
    "duration": 41,
    "start_time": "2024-03-13T16:09:38.511Z"
   },
   {
    "duration": 219,
    "start_time": "2024-03-13T16:09:38.554Z"
   },
   {
    "duration": 34,
    "start_time": "2024-03-13T16:09:38.775Z"
   },
   {
    "duration": 3,
    "start_time": "2024-03-13T16:09:38.811Z"
   },
   {
    "duration": 117,
    "start_time": "2024-03-13T16:09:38.816Z"
   },
   {
    "duration": 118,
    "start_time": "2024-03-13T16:09:38.935Z"
   },
   {
    "duration": 17,
    "start_time": "2024-03-13T16:09:39.055Z"
   },
   {
    "duration": 231,
    "start_time": "2024-03-13T16:09:39.073Z"
   },
   {
    "duration": 230,
    "start_time": "2024-03-13T16:09:39.305Z"
   },
   {
    "duration": 220,
    "start_time": "2024-03-13T16:09:39.537Z"
   },
   {
    "duration": 314,
    "start_time": "2024-03-13T16:09:39.759Z"
   },
   {
    "duration": 126,
    "start_time": "2024-03-13T16:09:40.075Z"
   },
   {
    "duration": 69,
    "start_time": "2024-03-13T16:09:40.202Z"
   },
   {
    "duration": 49,
    "start_time": "2024-03-13T16:09:40.273Z"
   },
   {
    "duration": 40,
    "start_time": "2024-03-13T16:09:40.323Z"
   },
   {
    "duration": 115,
    "start_time": "2024-03-13T16:09:40.365Z"
   },
   {
    "duration": 1398,
    "start_time": "2024-03-13T16:10:14.705Z"
   },
   {
    "duration": 71,
    "start_time": "2024-03-13T16:10:16.105Z"
   },
   {
    "duration": 114,
    "start_time": "2024-03-13T16:10:16.178Z"
   },
   {
    "duration": 125,
    "start_time": "2024-03-13T16:10:16.293Z"
   },
   {
    "duration": 38,
    "start_time": "2024-03-13T16:10:16.421Z"
   },
   {
    "duration": 284,
    "start_time": "2024-03-13T16:10:16.461Z"
   },
   {
    "duration": 46,
    "start_time": "2024-03-13T16:10:16.747Z"
   },
   {
    "duration": 50,
    "start_time": "2024-03-13T16:10:16.795Z"
   },
   {
    "duration": 197,
    "start_time": "2024-03-13T16:10:16.847Z"
   },
   {
    "duration": 42,
    "start_time": "2024-03-13T16:10:17.045Z"
   },
   {
    "duration": 106,
    "start_time": "2024-03-13T16:10:17.089Z"
   },
   {
    "duration": 41,
    "start_time": "2024-03-13T16:10:17.196Z"
   },
   {
    "duration": 216,
    "start_time": "2024-03-13T16:10:17.238Z"
   },
   {
    "duration": 36,
    "start_time": "2024-03-13T16:10:17.456Z"
   },
   {
    "duration": 3,
    "start_time": "2024-03-13T16:10:17.494Z"
   },
   {
    "duration": 115,
    "start_time": "2024-03-13T16:10:17.499Z"
   },
   {
    "duration": 111,
    "start_time": "2024-03-13T16:10:17.615Z"
   },
   {
    "duration": 20,
    "start_time": "2024-03-13T16:10:17.727Z"
   },
   {
    "duration": 240,
    "start_time": "2024-03-13T16:10:17.748Z"
   },
   {
    "duration": 230,
    "start_time": "2024-03-13T16:10:17.989Z"
   },
   {
    "duration": 249,
    "start_time": "2024-03-13T16:10:18.221Z"
   },
   {
    "duration": 297,
    "start_time": "2024-03-13T16:10:18.472Z"
   },
   {
    "duration": 118,
    "start_time": "2024-03-13T16:10:18.771Z"
   },
   {
    "duration": 67,
    "start_time": "2024-03-13T16:10:18.891Z"
   },
   {
    "duration": 51,
    "start_time": "2024-03-13T16:10:18.959Z"
   },
   {
    "duration": 45,
    "start_time": "2024-03-13T16:10:19.011Z"
   },
   {
    "duration": 17,
    "start_time": "2024-03-13T16:10:19.057Z"
   },
   {
    "duration": 125,
    "start_time": "2024-03-13T16:11:36.174Z"
   },
   {
    "duration": 1556,
    "start_time": "2024-03-13T16:11:43.996Z"
   },
   {
    "duration": 72,
    "start_time": "2024-03-13T16:11:45.553Z"
   },
   {
    "duration": 139,
    "start_time": "2024-03-13T16:11:45.627Z"
   },
   {
    "duration": 122,
    "start_time": "2024-03-13T16:11:45.768Z"
   },
   {
    "duration": 35,
    "start_time": "2024-03-13T16:11:45.893Z"
   },
   {
    "duration": 304,
    "start_time": "2024-03-13T16:11:45.929Z"
   },
   {
    "duration": 46,
    "start_time": "2024-03-13T16:11:46.234Z"
   },
   {
    "duration": 47,
    "start_time": "2024-03-13T16:11:46.281Z"
   },
   {
    "duration": 178,
    "start_time": "2024-03-13T16:11:46.330Z"
   },
   {
    "duration": 43,
    "start_time": "2024-03-13T16:11:46.510Z"
   },
   {
    "duration": 112,
    "start_time": "2024-03-13T16:11:46.555Z"
   },
   {
    "duration": 42,
    "start_time": "2024-03-13T16:11:46.669Z"
   },
   {
    "duration": 212,
    "start_time": "2024-03-13T16:11:46.713Z"
   },
   {
    "duration": 36,
    "start_time": "2024-03-13T16:11:46.927Z"
   },
   {
    "duration": 4,
    "start_time": "2024-03-13T16:11:46.965Z"
   },
   {
    "duration": 114,
    "start_time": "2024-03-13T16:11:46.970Z"
   },
   {
    "duration": 124,
    "start_time": "2024-03-13T16:11:47.086Z"
   },
   {
    "duration": 22,
    "start_time": "2024-03-13T16:11:47.212Z"
   },
   {
    "duration": 270,
    "start_time": "2024-03-13T16:11:47.235Z"
   },
   {
    "duration": 230,
    "start_time": "2024-03-13T16:11:47.507Z"
   },
   {
    "duration": 244,
    "start_time": "2024-03-13T16:11:47.739Z"
   },
   {
    "duration": 304,
    "start_time": "2024-03-13T16:11:47.984Z"
   },
   {
    "duration": 120,
    "start_time": "2024-03-13T16:11:48.289Z"
   },
   {
    "duration": 72,
    "start_time": "2024-03-13T16:11:48.410Z"
   },
   {
    "duration": 59,
    "start_time": "2024-03-13T16:11:48.483Z"
   },
   {
    "duration": 32,
    "start_time": "2024-03-13T16:11:48.544Z"
   },
   {
    "duration": 17,
    "start_time": "2024-03-13T16:11:48.578Z"
   },
   {
    "duration": 1356,
    "start_time": "2024-03-13T16:12:12.556Z"
   },
   {
    "duration": 72,
    "start_time": "2024-03-13T16:12:13.914Z"
   },
   {
    "duration": 119,
    "start_time": "2024-03-13T16:12:13.987Z"
   },
   {
    "duration": 118,
    "start_time": "2024-03-13T16:12:14.108Z"
   },
   {
    "duration": 36,
    "start_time": "2024-03-13T16:12:14.233Z"
   },
   {
    "duration": 288,
    "start_time": "2024-03-13T16:12:14.271Z"
   },
   {
    "duration": 46,
    "start_time": "2024-03-13T16:12:14.560Z"
   },
   {
    "duration": 46,
    "start_time": "2024-03-13T16:12:14.607Z"
   },
   {
    "duration": 184,
    "start_time": "2024-03-13T16:12:14.655Z"
   },
   {
    "duration": 45,
    "start_time": "2024-03-13T16:12:14.841Z"
   },
   {
    "duration": 118,
    "start_time": "2024-03-13T16:12:14.888Z"
   },
   {
    "duration": 42,
    "start_time": "2024-03-13T16:12:15.007Z"
   },
   {
    "duration": 228,
    "start_time": "2024-03-13T16:12:15.050Z"
   },
   {
    "duration": 35,
    "start_time": "2024-03-13T16:12:15.280Z"
   },
   {
    "duration": 16,
    "start_time": "2024-03-13T16:12:15.317Z"
   },
   {
    "duration": 115,
    "start_time": "2024-03-13T16:12:15.335Z"
   },
   {
    "duration": 111,
    "start_time": "2024-03-13T16:12:15.452Z"
   },
   {
    "duration": 16,
    "start_time": "2024-03-13T16:12:15.565Z"
   },
   {
    "duration": 264,
    "start_time": "2024-03-13T16:12:15.582Z"
   },
   {
    "duration": 226,
    "start_time": "2024-03-13T16:12:15.848Z"
   },
   {
    "duration": 236,
    "start_time": "2024-03-13T16:12:16.075Z"
   },
   {
    "duration": 303,
    "start_time": "2024-03-13T16:12:16.313Z"
   },
   {
    "duration": 122,
    "start_time": "2024-03-13T16:12:16.618Z"
   },
   {
    "duration": 64,
    "start_time": "2024-03-13T16:12:16.742Z"
   },
   {
    "duration": 62,
    "start_time": "2024-03-13T16:12:16.807Z"
   },
   {
    "duration": 31,
    "start_time": "2024-03-13T16:12:16.871Z"
   },
   {
    "duration": 34,
    "start_time": "2024-03-13T16:12:16.903Z"
   },
   {
    "duration": 1516,
    "start_time": "2024-03-13T18:02:34.101Z"
   },
   {
    "duration": 191,
    "start_time": "2024-03-13T18:02:35.619Z"
   },
   {
    "duration": 126,
    "start_time": "2024-03-13T18:02:35.811Z"
   },
   {
    "duration": 116,
    "start_time": "2024-03-13T18:02:35.939Z"
   },
   {
    "duration": 70,
    "start_time": "2024-03-13T18:02:36.060Z"
   },
   {
    "duration": 279,
    "start_time": "2024-03-13T18:02:36.131Z"
   },
   {
    "duration": 123,
    "start_time": "2024-03-13T18:02:36.412Z"
   },
   {
    "duration": 67,
    "start_time": "2024-03-13T18:02:36.536Z"
   },
   {
    "duration": 175,
    "start_time": "2024-03-13T18:02:36.604Z"
   },
   {
    "duration": 98,
    "start_time": "2024-03-13T18:02:36.780Z"
   },
   {
    "duration": 100,
    "start_time": "2024-03-13T18:02:36.879Z"
   },
   {
    "duration": 72,
    "start_time": "2024-03-13T18:02:36.980Z"
   },
   {
    "duration": 207,
    "start_time": "2024-03-13T18:02:37.053Z"
   },
   {
    "duration": 67,
    "start_time": "2024-03-13T18:02:37.262Z"
   },
   {
    "duration": 4,
    "start_time": "2024-03-13T18:02:37.331Z"
   },
   {
    "duration": 108,
    "start_time": "2024-03-13T18:02:37.336Z"
   },
   {
    "duration": 114,
    "start_time": "2024-03-13T18:02:37.446Z"
   },
   {
    "duration": 20,
    "start_time": "2024-03-13T18:02:37.562Z"
   },
   {
    "duration": 243,
    "start_time": "2024-03-13T18:02:37.584Z"
   },
   {
    "duration": 226,
    "start_time": "2024-03-13T18:02:37.829Z"
   },
   {
    "duration": 242,
    "start_time": "2024-03-13T18:02:38.058Z"
   },
   {
    "duration": 303,
    "start_time": "2024-03-13T18:02:38.302Z"
   },
   {
    "duration": 116,
    "start_time": "2024-03-13T18:02:38.607Z"
   },
   {
    "duration": 71,
    "start_time": "2024-03-13T18:02:38.724Z"
   },
   {
    "duration": 52,
    "start_time": "2024-03-13T18:02:38.796Z"
   },
   {
    "duration": 33,
    "start_time": "2024-03-13T18:02:38.858Z"
   },
   {
    "duration": 16,
    "start_time": "2024-03-13T18:02:38.893Z"
   },
   {
    "duration": 6,
    "start_time": "2024-03-13T18:12:18.382Z"
   },
   {
    "duration": 100,
    "start_time": "2024-03-13T18:12:37.305Z"
   },
   {
    "duration": 1369,
    "start_time": "2024-03-13T18:14:07.321Z"
   },
   {
    "duration": 71,
    "start_time": "2024-03-13T18:14:08.691Z"
   },
   {
    "duration": 114,
    "start_time": "2024-03-13T18:14:08.764Z"
   },
   {
    "duration": 113,
    "start_time": "2024-03-13T18:14:08.880Z"
   },
   {
    "duration": 35,
    "start_time": "2024-03-13T18:14:08.995Z"
   },
   {
    "duration": 272,
    "start_time": "2024-03-13T18:14:09.031Z"
   },
   {
    "duration": 44,
    "start_time": "2024-03-13T18:14:09.305Z"
   },
   {
    "duration": 45,
    "start_time": "2024-03-13T18:14:09.350Z"
   },
   {
    "duration": 178,
    "start_time": "2024-03-13T18:14:09.396Z"
   },
   {
    "duration": 42,
    "start_time": "2024-03-13T18:14:09.576Z"
   },
   {
    "duration": 109,
    "start_time": "2024-03-13T18:14:09.620Z"
   },
   {
    "duration": 44,
    "start_time": "2024-03-13T18:14:09.731Z"
   },
   {
    "duration": 216,
    "start_time": "2024-03-13T18:14:09.776Z"
   },
   {
    "duration": 35,
    "start_time": "2024-03-13T18:14:09.995Z"
   },
   {
    "duration": 3,
    "start_time": "2024-03-13T18:14:10.032Z"
   },
   {
    "duration": 108,
    "start_time": "2024-03-13T18:14:10.037Z"
   },
   {
    "duration": 137,
    "start_time": "2024-03-13T18:14:10.146Z"
   },
   {
    "duration": 16,
    "start_time": "2024-03-13T18:14:10.284Z"
   },
   {
    "duration": 232,
    "start_time": "2024-03-13T18:14:10.302Z"
   },
   {
    "duration": 225,
    "start_time": "2024-03-13T18:14:10.536Z"
   },
   {
    "duration": 227,
    "start_time": "2024-03-13T18:14:10.762Z"
   },
   {
    "duration": 331,
    "start_time": "2024-03-13T18:14:10.991Z"
   },
   {
    "duration": 112,
    "start_time": "2024-03-13T18:14:11.323Z"
   },
   {
    "duration": 69,
    "start_time": "2024-03-13T18:14:11.437Z"
   },
   {
    "duration": 53,
    "start_time": "2024-03-13T18:14:11.507Z"
   },
   {
    "duration": 32,
    "start_time": "2024-03-13T18:14:11.561Z"
   },
   {
    "duration": 16,
    "start_time": "2024-03-13T18:14:11.594Z"
   },
   {
    "duration": 5,
    "start_time": "2024-03-13T18:14:11.611Z"
   },
   {
    "duration": 130,
    "start_time": "2024-03-13T18:14:11.618Z"
   },
   {
    "duration": 0,
    "start_time": "2024-03-13T18:14:11.750Z"
   },
   {
    "duration": 5,
    "start_time": "2024-03-13T18:14:51.327Z"
   },
   {
    "duration": 5,
    "start_time": "2024-03-13T18:14:51.774Z"
   },
   {
    "duration": 70908,
    "start_time": "2024-03-13T18:14:52.356Z"
   },
   {
    "duration": 8,
    "start_time": "2024-03-13T18:20:11.710Z"
   },
   {
    "duration": 1322,
    "start_time": "2024-03-13T18:27:17.071Z"
   },
   {
    "duration": 70,
    "start_time": "2024-03-13T18:27:18.395Z"
   },
   {
    "duration": 126,
    "start_time": "2024-03-13T18:27:18.467Z"
   },
   {
    "duration": 119,
    "start_time": "2024-03-13T18:27:18.594Z"
   },
   {
    "duration": 49,
    "start_time": "2024-03-13T18:27:18.715Z"
   },
   {
    "duration": 290,
    "start_time": "2024-03-13T18:27:18.766Z"
   },
   {
    "duration": 45,
    "start_time": "2024-03-13T18:27:19.057Z"
   },
   {
    "duration": 46,
    "start_time": "2024-03-13T18:27:19.103Z"
   },
   {
    "duration": 175,
    "start_time": "2024-03-13T18:27:19.151Z"
   },
   {
    "duration": 42,
    "start_time": "2024-03-13T18:27:19.328Z"
   },
   {
    "duration": 100,
    "start_time": "2024-03-13T18:27:19.372Z"
   },
   {
    "duration": 41,
    "start_time": "2024-03-13T18:27:19.474Z"
   },
   {
    "duration": 209,
    "start_time": "2024-03-13T18:27:19.517Z"
   },
   {
    "duration": 34,
    "start_time": "2024-03-13T18:27:19.729Z"
   },
   {
    "duration": 3,
    "start_time": "2024-03-13T18:27:19.765Z"
   },
   {
    "duration": 108,
    "start_time": "2024-03-13T18:27:19.770Z"
   },
   {
    "duration": 115,
    "start_time": "2024-03-13T18:27:19.880Z"
   },
   {
    "duration": 16,
    "start_time": "2024-03-13T18:27:19.997Z"
   },
   {
    "duration": 257,
    "start_time": "2024-03-13T18:27:20.015Z"
   },
   {
    "duration": 218,
    "start_time": "2024-03-13T18:27:20.273Z"
   },
   {
    "duration": 226,
    "start_time": "2024-03-13T18:27:20.493Z"
   },
   {
    "duration": 318,
    "start_time": "2024-03-13T18:27:20.721Z"
   },
   {
    "duration": 125,
    "start_time": "2024-03-13T18:27:21.040Z"
   },
   {
    "duration": 69,
    "start_time": "2024-03-13T18:27:21.166Z"
   },
   {
    "duration": 68,
    "start_time": "2024-03-13T18:27:21.236Z"
   },
   {
    "duration": 32,
    "start_time": "2024-03-13T18:27:21.305Z"
   },
   {
    "duration": 25,
    "start_time": "2024-03-13T18:27:21.338Z"
   },
   {
    "duration": 6,
    "start_time": "2024-03-13T18:27:21.364Z"
   },
   {
    "duration": 19,
    "start_time": "2024-03-13T18:27:21.371Z"
   },
   {
    "duration": 8,
    "start_time": "2024-03-13T18:27:21.391Z"
   },
   {
    "duration": 1321,
    "start_time": "2024-03-13T19:04:32.971Z"
   },
   {
    "duration": 77,
    "start_time": "2024-03-13T19:04:36.461Z"
   },
   {
    "duration": 127,
    "start_time": "2024-03-13T19:04:37.283Z"
   },
   {
    "duration": 120,
    "start_time": "2024-03-13T19:04:38.859Z"
   },
   {
    "duration": 50,
    "start_time": "2024-03-13T19:04:40.090Z"
   },
   {
    "duration": 310,
    "start_time": "2024-03-13T19:04:40.738Z"
   },
   {
    "duration": 59,
    "start_time": "2024-03-13T19:07:37.135Z"
   },
   {
    "duration": 58,
    "start_time": "2024-03-13T19:08:11.127Z"
   },
   {
    "duration": 116,
    "start_time": "2024-03-13T19:08:18.268Z"
   },
   {
    "duration": 58,
    "start_time": "2024-03-13T19:08:51.637Z"
   },
   {
    "duration": 194,
    "start_time": "2024-03-13T19:08:55.400Z"
   },
   {
    "duration": 50,
    "start_time": "2024-03-13T19:09:54.439Z"
   },
   {
    "duration": 251,
    "start_time": "2024-03-13T19:09:55.470Z"
   },
   {
    "duration": 47,
    "start_time": "2024-03-13T19:09:57.098Z"
   },
   {
    "duration": 4,
    "start_time": "2024-03-13T19:10:29.802Z"
   },
   {
    "duration": 112,
    "start_time": "2024-03-13T19:10:44.273Z"
   },
   {
    "duration": 117,
    "start_time": "2024-03-13T19:12:09.886Z"
   },
   {
    "duration": 18,
    "start_time": "2024-03-13T19:12:20.088Z"
   },
   {
    "duration": 257,
    "start_time": "2024-03-13T19:14:15.053Z"
   },
   {
    "duration": 220,
    "start_time": "2024-03-13T19:14:26.552Z"
   },
   {
    "duration": 239,
    "start_time": "2024-03-13T19:14:27.888Z"
   },
   {
    "duration": 231,
    "start_time": "2024-03-13T19:14:29.811Z"
   },
   {
    "duration": 128,
    "start_time": "2024-03-13T19:40:00.456Z"
   },
   {
    "duration": 10,
    "start_time": "2024-03-13T19:40:15.222Z"
   },
   {
    "duration": 125,
    "start_time": "2024-03-13T19:40:21.689Z"
   },
   {
    "duration": 71,
    "start_time": "2024-03-13T19:40:26.102Z"
   },
   {
    "duration": 55,
    "start_time": "2024-03-13T19:40:27.244Z"
   },
   {
    "duration": 151,
    "start_time": "2024-03-13T19:40:27.434Z"
   },
   {
    "duration": 18,
    "start_time": "2024-03-13T19:40:28.157Z"
   },
   {
    "duration": 6,
    "start_time": "2024-03-13T19:40:29.910Z"
   },
   {
    "duration": 6,
    "start_time": "2024-03-13T19:42:31.398Z"
   },
   {
    "duration": 5,
    "start_time": "2024-03-13T19:43:28.831Z"
   },
   {
    "duration": 98853,
    "start_time": "2024-03-13T19:45:38.157Z"
   },
   {
    "duration": 11,
    "start_time": "2024-03-13T19:47:17.012Z"
   },
   {
    "duration": 113,
    "start_time": "2024-03-13T20:43:57.327Z"
   },
   {
    "duration": 1386,
    "start_time": "2024-03-13T20:56:23.635Z"
   },
   {
    "duration": 70,
    "start_time": "2024-03-13T20:56:25.022Z"
   },
   {
    "duration": 119,
    "start_time": "2024-03-13T20:56:25.094Z"
   },
   {
    "duration": 115,
    "start_time": "2024-03-13T20:56:25.215Z"
   },
   {
    "duration": 35,
    "start_time": "2024-03-13T20:56:25.332Z"
   },
   {
    "duration": 282,
    "start_time": "2024-03-13T20:56:25.368Z"
   },
   {
    "duration": 44,
    "start_time": "2024-03-13T20:56:25.651Z"
   },
   {
    "duration": 46,
    "start_time": "2024-03-13T20:56:25.696Z"
   },
   {
    "duration": 185,
    "start_time": "2024-03-13T20:56:25.743Z"
   },
   {
    "duration": 47,
    "start_time": "2024-03-13T20:56:25.929Z"
   },
   {
    "duration": 114,
    "start_time": "2024-03-13T20:56:25.978Z"
   },
   {
    "duration": 40,
    "start_time": "2024-03-13T20:56:26.094Z"
   },
   {
    "duration": 203,
    "start_time": "2024-03-13T20:56:26.135Z"
   },
   {
    "duration": 34,
    "start_time": "2024-03-13T20:56:26.341Z"
   },
   {
    "duration": 4,
    "start_time": "2024-03-13T20:56:26.377Z"
   },
   {
    "duration": 114,
    "start_time": "2024-03-13T20:56:26.382Z"
   },
   {
    "duration": 0,
    "start_time": "2024-03-13T20:56:26.498Z"
   },
   {
    "duration": 0,
    "start_time": "2024-03-13T20:56:26.499Z"
   },
   {
    "duration": 0,
    "start_time": "2024-03-13T20:56:26.500Z"
   },
   {
    "duration": 0,
    "start_time": "2024-03-13T20:56:26.501Z"
   },
   {
    "duration": 0,
    "start_time": "2024-03-13T20:56:26.502Z"
   },
   {
    "duration": 0,
    "start_time": "2024-03-13T20:56:26.503Z"
   },
   {
    "duration": 0,
    "start_time": "2024-03-13T20:56:26.504Z"
   },
   {
    "duration": 0,
    "start_time": "2024-03-13T20:56:26.505Z"
   },
   {
    "duration": 0,
    "start_time": "2024-03-13T20:56:26.506Z"
   },
   {
    "duration": 0,
    "start_time": "2024-03-13T20:56:26.507Z"
   },
   {
    "duration": 0,
    "start_time": "2024-03-13T20:56:26.508Z"
   },
   {
    "duration": 0,
    "start_time": "2024-03-13T20:56:26.509Z"
   },
   {
    "duration": 0,
    "start_time": "2024-03-13T20:56:26.510Z"
   },
   {
    "duration": 0,
    "start_time": "2024-03-13T20:56:26.511Z"
   },
   {
    "duration": 0,
    "start_time": "2024-03-13T20:56:26.512Z"
   },
   {
    "duration": 0,
    "start_time": "2024-03-13T20:56:26.513Z"
   },
   {
    "duration": 0,
    "start_time": "2024-03-13T20:56:26.514Z"
   },
   {
    "duration": 7,
    "start_time": "2024-03-13T20:56:57.650Z"
   },
   {
    "duration": 114,
    "start_time": "2024-03-13T20:58:23.174Z"
   },
   {
    "duration": 105,
    "start_time": "2024-03-13T20:59:09.619Z"
   },
   {
    "duration": 111,
    "start_time": "2024-03-13T21:00:08.403Z"
   },
   {
    "duration": 16,
    "start_time": "2024-03-13T21:00:16.671Z"
   },
   {
    "duration": 224,
    "start_time": "2024-03-13T21:00:27.088Z"
   },
   {
    "duration": 255,
    "start_time": "2024-03-13T21:00:27.722Z"
   },
   {
    "duration": 233,
    "start_time": "2024-03-13T21:00:28.903Z"
   },
   {
    "duration": 327,
    "start_time": "2024-03-13T21:00:29.195Z"
   },
   {
    "duration": 1349,
    "start_time": "2024-03-13T21:01:15.465Z"
   },
   {
    "duration": 70,
    "start_time": "2024-03-13T21:01:16.816Z"
   },
   {
    "duration": 120,
    "start_time": "2024-03-13T21:01:16.887Z"
   },
   {
    "duration": 118,
    "start_time": "2024-03-13T21:01:17.008Z"
   },
   {
    "duration": 35,
    "start_time": "2024-03-13T21:01:17.128Z"
   },
   {
    "duration": 276,
    "start_time": "2024-03-13T21:01:17.165Z"
   },
   {
    "duration": 47,
    "start_time": "2024-03-13T21:01:17.443Z"
   },
   {
    "duration": 46,
    "start_time": "2024-03-13T21:01:17.492Z"
   },
   {
    "duration": 172,
    "start_time": "2024-03-13T21:01:17.540Z"
   },
   {
    "duration": 41,
    "start_time": "2024-03-13T21:01:17.714Z"
   },
   {
    "duration": 109,
    "start_time": "2024-03-13T21:01:17.756Z"
   },
   {
    "duration": 44,
    "start_time": "2024-03-13T21:01:17.867Z"
   },
   {
    "duration": 200,
    "start_time": "2024-03-13T21:01:17.912Z"
   },
   {
    "duration": 35,
    "start_time": "2024-03-13T21:01:18.115Z"
   },
   {
    "duration": 4,
    "start_time": "2024-03-13T21:01:18.151Z"
   },
   {
    "duration": 121,
    "start_time": "2024-03-13T21:01:18.156Z"
   },
   {
    "duration": 108,
    "start_time": "2024-03-13T21:01:18.279Z"
   },
   {
    "duration": 17,
    "start_time": "2024-03-13T21:01:18.388Z"
   },
   {
    "duration": 238,
    "start_time": "2024-03-13T21:01:18.406Z"
   },
   {
    "duration": 220,
    "start_time": "2024-03-13T21:01:18.645Z"
   },
   {
    "duration": 218,
    "start_time": "2024-03-13T21:01:18.866Z"
   },
   {
    "duration": 306,
    "start_time": "2024-03-13T21:01:19.086Z"
   },
   {
    "duration": 111,
    "start_time": "2024-03-13T21:01:19.393Z"
   },
   {
    "duration": 0,
    "start_time": "2024-03-13T21:01:19.506Z"
   },
   {
    "duration": 0,
    "start_time": "2024-03-13T21:01:19.507Z"
   },
   {
    "duration": 0,
    "start_time": "2024-03-13T21:01:19.509Z"
   },
   {
    "duration": 0,
    "start_time": "2024-03-13T21:01:19.510Z"
   },
   {
    "duration": 0,
    "start_time": "2024-03-13T21:01:19.511Z"
   },
   {
    "duration": 0,
    "start_time": "2024-03-13T21:01:19.512Z"
   },
   {
    "duration": 0,
    "start_time": "2024-03-13T21:01:19.514Z"
   },
   {
    "duration": 0,
    "start_time": "2024-03-13T21:01:19.515Z"
   },
   {
    "duration": 0,
    "start_time": "2024-03-13T21:01:19.516Z"
   },
   {
    "duration": 0,
    "start_time": "2024-03-13T21:01:19.518Z"
   },
   {
    "duration": 13,
    "start_time": "2024-03-13T21:01:52.352Z"
   },
   {
    "duration": 1367,
    "start_time": "2024-03-13T21:02:35.631Z"
   },
   {
    "duration": 73,
    "start_time": "2024-03-13T21:02:37.000Z"
   },
   {
    "duration": 114,
    "start_time": "2024-03-13T21:02:37.074Z"
   },
   {
    "duration": 114,
    "start_time": "2024-03-13T21:02:37.190Z"
   },
   {
    "duration": 34,
    "start_time": "2024-03-13T21:02:37.307Z"
   },
   {
    "duration": 278,
    "start_time": "2024-03-13T21:02:37.342Z"
   },
   {
    "duration": 47,
    "start_time": "2024-03-13T21:02:37.621Z"
   },
   {
    "duration": 45,
    "start_time": "2024-03-13T21:02:37.670Z"
   },
   {
    "duration": 180,
    "start_time": "2024-03-13T21:02:37.716Z"
   },
   {
    "duration": 43,
    "start_time": "2024-03-13T21:02:37.897Z"
   },
   {
    "duration": 101,
    "start_time": "2024-03-13T21:02:37.941Z"
   },
   {
    "duration": 40,
    "start_time": "2024-03-13T21:02:38.043Z"
   },
   {
    "duration": 208,
    "start_time": "2024-03-13T21:02:38.084Z"
   },
   {
    "duration": 35,
    "start_time": "2024-03-13T21:02:38.295Z"
   },
   {
    "duration": 4,
    "start_time": "2024-03-13T21:02:38.331Z"
   },
   {
    "duration": 107,
    "start_time": "2024-03-13T21:02:38.336Z"
   },
   {
    "duration": 115,
    "start_time": "2024-03-13T21:02:38.445Z"
   },
   {
    "duration": 17,
    "start_time": "2024-03-13T21:02:38.561Z"
   },
   {
    "duration": 242,
    "start_time": "2024-03-13T21:02:38.580Z"
   },
   {
    "duration": 230,
    "start_time": "2024-03-13T21:02:38.824Z"
   },
   {
    "duration": 241,
    "start_time": "2024-03-13T21:02:39.055Z"
   },
   {
    "duration": 315,
    "start_time": "2024-03-13T21:02:39.298Z"
   },
   {
    "duration": 111,
    "start_time": "2024-03-13T21:02:39.615Z"
   },
   {
    "duration": 0,
    "start_time": "2024-03-13T21:02:39.728Z"
   },
   {
    "duration": 0,
    "start_time": "2024-03-13T21:02:39.729Z"
   },
   {
    "duration": 0,
    "start_time": "2024-03-13T21:02:39.730Z"
   },
   {
    "duration": 0,
    "start_time": "2024-03-13T21:02:39.731Z"
   },
   {
    "duration": 0,
    "start_time": "2024-03-13T21:02:39.732Z"
   },
   {
    "duration": 0,
    "start_time": "2024-03-13T21:02:39.733Z"
   },
   {
    "duration": 0,
    "start_time": "2024-03-13T21:02:39.734Z"
   },
   {
    "duration": 0,
    "start_time": "2024-03-13T21:02:39.735Z"
   },
   {
    "duration": 0,
    "start_time": "2024-03-13T21:02:39.736Z"
   },
   {
    "duration": 0,
    "start_time": "2024-03-13T21:02:39.737Z"
   },
   {
    "duration": 19,
    "start_time": "2024-03-13T21:03:16.665Z"
   },
   {
    "duration": 123,
    "start_time": "2024-03-13T21:03:29.467Z"
   },
   {
    "duration": 0,
    "start_time": "2024-03-13T21:08:15.684Z"
   },
   {
    "duration": 0,
    "start_time": "2024-03-13T21:08:15.684Z"
   },
   {
    "duration": 1,
    "start_time": "2024-03-13T21:08:15.685Z"
   },
   {
    "duration": 0,
    "start_time": "2024-03-13T21:08:15.686Z"
   },
   {
    "duration": 0,
    "start_time": "2024-03-13T21:08:15.687Z"
   },
   {
    "duration": 0,
    "start_time": "2024-03-13T21:08:15.688Z"
   },
   {
    "duration": 0,
    "start_time": "2024-03-13T21:08:15.689Z"
   },
   {
    "duration": 0,
    "start_time": "2024-03-13T21:08:15.690Z"
   },
   {
    "duration": 0,
    "start_time": "2024-03-13T21:08:15.691Z"
   },
   {
    "duration": 0,
    "start_time": "2024-03-13T21:08:15.692Z"
   },
   {
    "duration": 0,
    "start_time": "2024-03-13T21:08:15.693Z"
   },
   {
    "duration": 0,
    "start_time": "2024-03-13T21:08:15.694Z"
   },
   {
    "duration": 0,
    "start_time": "2024-03-13T21:08:15.695Z"
   },
   {
    "duration": 0,
    "start_time": "2024-03-13T21:08:15.696Z"
   },
   {
    "duration": 0,
    "start_time": "2024-03-13T21:08:15.697Z"
   },
   {
    "duration": 0,
    "start_time": "2024-03-13T21:08:15.699Z"
   },
   {
    "duration": 0,
    "start_time": "2024-03-13T21:08:15.700Z"
   },
   {
    "duration": 0,
    "start_time": "2024-03-13T21:08:15.701Z"
   },
   {
    "duration": 0,
    "start_time": "2024-03-13T21:08:15.702Z"
   },
   {
    "duration": 0,
    "start_time": "2024-03-13T21:08:15.703Z"
   },
   {
    "duration": 0,
    "start_time": "2024-03-13T21:08:15.704Z"
   },
   {
    "duration": 0,
    "start_time": "2024-03-13T21:08:15.705Z"
   },
   {
    "duration": 0,
    "start_time": "2024-03-13T21:08:15.706Z"
   },
   {
    "duration": 0,
    "start_time": "2024-03-13T21:08:15.707Z"
   },
   {
    "duration": 0,
    "start_time": "2024-03-13T21:08:15.708Z"
   },
   {
    "duration": 0,
    "start_time": "2024-03-13T21:08:15.708Z"
   },
   {
    "duration": 0,
    "start_time": "2024-03-13T21:08:15.709Z"
   },
   {
    "duration": 0,
    "start_time": "2024-03-13T21:08:15.710Z"
   },
   {
    "duration": 0,
    "start_time": "2024-03-13T21:08:15.711Z"
   },
   {
    "duration": 0,
    "start_time": "2024-03-13T21:08:15.712Z"
   },
   {
    "duration": 0,
    "start_time": "2024-03-13T21:08:15.712Z"
   },
   {
    "duration": 0,
    "start_time": "2024-03-13T21:08:15.713Z"
   },
   {
    "duration": 0,
    "start_time": "2024-03-13T21:08:15.714Z"
   },
   {
    "duration": 0,
    "start_time": "2024-03-13T21:08:15.715Z"
   },
   {
    "duration": 1425,
    "start_time": "2024-03-13T21:08:29.936Z"
   },
   {
    "duration": 70,
    "start_time": "2024-03-13T21:08:31.363Z"
   },
   {
    "duration": 118,
    "start_time": "2024-03-13T21:08:31.434Z"
   },
   {
    "duration": 114,
    "start_time": "2024-03-13T21:08:31.553Z"
   },
   {
    "duration": 35,
    "start_time": "2024-03-13T21:08:31.669Z"
   },
   {
    "duration": 284,
    "start_time": "2024-03-13T21:08:31.706Z"
   },
   {
    "duration": 55,
    "start_time": "2024-03-13T21:08:31.992Z"
   },
   {
    "duration": 49,
    "start_time": "2024-03-13T21:08:32.049Z"
   },
   {
    "duration": 177,
    "start_time": "2024-03-13T21:08:32.100Z"
   },
   {
    "duration": 43,
    "start_time": "2024-03-13T21:08:32.278Z"
   },
   {
    "duration": 106,
    "start_time": "2024-03-13T21:08:32.323Z"
   },
   {
    "duration": 40,
    "start_time": "2024-03-13T21:08:32.430Z"
   },
   {
    "duration": 218,
    "start_time": "2024-03-13T21:08:32.472Z"
   },
   {
    "duration": 35,
    "start_time": "2024-03-13T21:08:32.693Z"
   },
   {
    "duration": 4,
    "start_time": "2024-03-13T21:08:32.730Z"
   },
   {
    "duration": 108,
    "start_time": "2024-03-13T21:08:32.735Z"
   },
   {
    "duration": 114,
    "start_time": "2024-03-13T21:08:32.846Z"
   },
   {
    "duration": 16,
    "start_time": "2024-03-13T21:08:32.962Z"
   },
   {
    "duration": 233,
    "start_time": "2024-03-13T21:08:32.980Z"
   },
   {
    "duration": 216,
    "start_time": "2024-03-13T21:08:33.214Z"
   },
   {
    "duration": 238,
    "start_time": "2024-03-13T21:08:33.431Z"
   },
   {
    "duration": 294,
    "start_time": "2024-03-13T21:08:33.671Z"
   },
   {
    "duration": 14,
    "start_time": "2024-03-13T21:08:33.967Z"
   },
   {
    "duration": 15,
    "start_time": "2024-03-13T21:08:33.983Z"
   },
   {
    "duration": 60,
    "start_time": "2024-03-13T21:08:33.999Z"
   },
   {
    "duration": 24,
    "start_time": "2024-03-13T21:08:34.061Z"
   },
   {
    "duration": 28,
    "start_time": "2024-03-13T21:08:34.086Z"
   },
   {
    "duration": 43,
    "start_time": "2024-03-13T21:08:34.116Z"
   },
   {
    "duration": 16,
    "start_time": "2024-03-13T21:08:34.160Z"
   },
   {
    "duration": 4,
    "start_time": "2024-03-13T21:08:34.178Z"
   },
   {
    "duration": 0,
    "start_time": "2024-03-13T21:08:34.183Z"
   },
   {
    "duration": 0,
    "start_time": "2024-03-13T21:08:34.185Z"
   },
   {
    "duration": 0,
    "start_time": "2024-03-13T21:08:34.186Z"
   },
   {
    "duration": 0,
    "start_time": "2024-03-13T21:08:34.187Z"
   },
   {
    "duration": 1379,
    "start_time": "2024-03-13T21:10:18.400Z"
   },
   {
    "duration": 69,
    "start_time": "2024-03-13T21:10:19.781Z"
   },
   {
    "duration": 115,
    "start_time": "2024-03-13T21:10:19.851Z"
   },
   {
    "duration": 109,
    "start_time": "2024-03-13T21:10:19.967Z"
   },
   {
    "duration": 36,
    "start_time": "2024-03-13T21:10:20.077Z"
   },
   {
    "duration": 314,
    "start_time": "2024-03-13T21:10:20.115Z"
   },
   {
    "duration": 45,
    "start_time": "2024-03-13T21:10:20.430Z"
   },
   {
    "duration": 46,
    "start_time": "2024-03-13T21:10:20.477Z"
   },
   {
    "duration": 181,
    "start_time": "2024-03-13T21:10:20.524Z"
   },
   {
    "duration": 43,
    "start_time": "2024-03-13T21:10:20.708Z"
   },
   {
    "duration": 99,
    "start_time": "2024-03-13T21:10:20.752Z"
   },
   {
    "duration": 40,
    "start_time": "2024-03-13T21:10:20.853Z"
   },
   {
    "duration": 202,
    "start_time": "2024-03-13T21:10:20.895Z"
   },
   {
    "duration": 37,
    "start_time": "2024-03-13T21:10:21.099Z"
   },
   {
    "duration": 5,
    "start_time": "2024-03-13T21:10:21.137Z"
   },
   {
    "duration": 117,
    "start_time": "2024-03-13T21:10:21.143Z"
   },
   {
    "duration": 113,
    "start_time": "2024-03-13T21:10:21.262Z"
   },
   {
    "duration": 17,
    "start_time": "2024-03-13T21:10:21.376Z"
   },
   {
    "duration": 236,
    "start_time": "2024-03-13T21:10:21.394Z"
   },
   {
    "duration": 204,
    "start_time": "2024-03-13T21:10:21.631Z"
   },
   {
    "duration": 237,
    "start_time": "2024-03-13T21:10:21.837Z"
   },
   {
    "duration": 297,
    "start_time": "2024-03-13T21:10:22.076Z"
   },
   {
    "duration": 13,
    "start_time": "2024-03-13T21:10:22.375Z"
   },
   {
    "duration": 13,
    "start_time": "2024-03-13T21:10:22.389Z"
   },
   {
    "duration": 59,
    "start_time": "2024-03-13T21:10:22.403Z"
   },
   {
    "duration": 24,
    "start_time": "2024-03-13T21:10:22.463Z"
   },
   {
    "duration": 28,
    "start_time": "2024-03-13T21:10:22.488Z"
   },
   {
    "duration": 17,
    "start_time": "2024-03-13T21:10:22.519Z"
   },
   {
    "duration": 16,
    "start_time": "2024-03-13T21:10:22.559Z"
   },
   {
    "duration": 3,
    "start_time": "2024-03-13T21:10:22.576Z"
   },
   {
    "duration": 0,
    "start_time": "2024-03-13T21:10:22.581Z"
   },
   {
    "duration": 0,
    "start_time": "2024-03-13T21:10:22.582Z"
   },
   {
    "duration": 0,
    "start_time": "2024-03-13T21:10:22.583Z"
   },
   {
    "duration": 0,
    "start_time": "2024-03-13T21:10:22.584Z"
   },
   {
    "duration": 6,
    "start_time": "2024-03-13T21:14:38.902Z"
   },
   {
    "duration": 4,
    "start_time": "2024-03-13T21:16:47.729Z"
   },
   {
    "duration": 4,
    "start_time": "2024-03-13T21:16:48.786Z"
   },
   {
    "duration": 104975,
    "start_time": "2024-03-13T21:16:49.990Z"
   },
   {
    "duration": 14,
    "start_time": "2024-03-13T21:19:04.636Z"
   },
   {
    "duration": 1441,
    "start_time": "2024-03-13T21:20:27.372Z"
   },
   {
    "duration": 72,
    "start_time": "2024-03-13T21:20:28.815Z"
   },
   {
    "duration": 116,
    "start_time": "2024-03-13T21:20:28.888Z"
   },
   {
    "duration": 117,
    "start_time": "2024-03-13T21:20:29.007Z"
   },
   {
    "duration": 35,
    "start_time": "2024-03-13T21:20:29.126Z"
   },
   {
    "duration": 282,
    "start_time": "2024-03-13T21:20:29.163Z"
   },
   {
    "duration": 51,
    "start_time": "2024-03-13T21:20:29.447Z"
   },
   {
    "duration": 46,
    "start_time": "2024-03-13T21:20:29.500Z"
   },
   {
    "duration": 174,
    "start_time": "2024-03-13T21:20:29.548Z"
   },
   {
    "duration": 42,
    "start_time": "2024-03-13T21:20:29.725Z"
   },
   {
    "duration": 115,
    "start_time": "2024-03-13T21:20:29.768Z"
   },
   {
    "duration": 40,
    "start_time": "2024-03-13T21:20:29.884Z"
   },
   {
    "duration": 205,
    "start_time": "2024-03-13T21:20:29.925Z"
   },
   {
    "duration": 35,
    "start_time": "2024-03-13T21:20:30.131Z"
   },
   {
    "duration": 20,
    "start_time": "2024-03-13T21:20:30.167Z"
   },
   {
    "duration": 121,
    "start_time": "2024-03-13T21:20:30.188Z"
   },
   {
    "duration": 110,
    "start_time": "2024-03-13T21:20:30.311Z"
   },
   {
    "duration": 16,
    "start_time": "2024-03-13T21:20:30.423Z"
   },
   {
    "duration": 245,
    "start_time": "2024-03-13T21:20:30.440Z"
   },
   {
    "duration": 213,
    "start_time": "2024-03-13T21:20:30.687Z"
   },
   {
    "duration": 234,
    "start_time": "2024-03-13T21:20:30.902Z"
   },
   {
    "duration": 315,
    "start_time": "2024-03-13T21:20:31.137Z"
   },
   {
    "duration": 26,
    "start_time": "2024-03-13T21:20:31.454Z"
   },
   {
    "duration": 33,
    "start_time": "2024-03-13T21:20:31.482Z"
   },
   {
    "duration": 56,
    "start_time": "2024-03-13T21:20:31.516Z"
   },
   {
    "duration": 25,
    "start_time": "2024-03-13T21:20:31.574Z"
   },
   {
    "duration": 41,
    "start_time": "2024-03-13T21:20:31.600Z"
   },
   {
    "duration": 23,
    "start_time": "2024-03-13T21:20:31.644Z"
   },
   {
    "duration": 15,
    "start_time": "2024-03-13T21:20:31.668Z"
   },
   {
    "duration": 28,
    "start_time": "2024-03-13T21:20:31.684Z"
   },
   {
    "duration": 12,
    "start_time": "2024-03-13T21:20:31.714Z"
   },
   {
    "duration": 4,
    "start_time": "2024-03-13T21:20:31.728Z"
   },
   {
    "duration": 104368,
    "start_time": "2024-03-13T21:20:31.733Z"
   },
   {
    "duration": 14,
    "start_time": "2024-03-13T21:22:16.103Z"
   },
   {
    "duration": 7,
    "start_time": "2024-03-13T21:22:50.323Z"
   },
   {
    "duration": 3304,
    "start_time": "2024-03-14T05:15:34.595Z"
   },
   {
    "duration": 130,
    "start_time": "2024-03-14T05:15:37.901Z"
   },
   {
    "duration": 136,
    "start_time": "2024-03-14T05:15:38.032Z"
   },
   {
    "duration": 124,
    "start_time": "2024-03-14T05:15:38.170Z"
   },
   {
    "duration": 114,
    "start_time": "2024-03-14T05:15:38.296Z"
   },
   {
    "duration": 310,
    "start_time": "2024-03-14T05:15:38.412Z"
   },
   {
    "duration": 129,
    "start_time": "2024-03-14T05:15:39.826Z"
   },
   {
    "duration": 99,
    "start_time": "2024-03-14T05:15:41.077Z"
   },
   {
    "duration": 191,
    "start_time": "2024-03-14T05:15:41.274Z"
   },
   {
    "duration": 173,
    "start_time": "2024-03-14T05:15:42.297Z"
   },
   {
    "duration": 116,
    "start_time": "2024-03-14T05:15:42.532Z"
   },
   {
    "duration": 79,
    "start_time": "2024-03-14T05:15:43.643Z"
   },
   {
    "duration": 235,
    "start_time": "2024-03-14T05:15:43.993Z"
   },
   {
    "duration": 126,
    "start_time": "2024-03-14T05:15:45.008Z"
   },
   {
    "duration": 3,
    "start_time": "2024-03-14T05:15:47.422Z"
   },
   {
    "duration": 113,
    "start_time": "2024-03-14T05:15:48.184Z"
   },
   {
    "duration": 121,
    "start_time": "2024-03-14T05:16:29.333Z"
   },
   {
    "duration": 19,
    "start_time": "2024-03-14T05:16:30.057Z"
   },
   {
    "duration": 249,
    "start_time": "2024-03-14T05:16:36.150Z"
   },
   {
    "duration": 237,
    "start_time": "2024-03-14T05:16:37.478Z"
   },
   {
    "duration": 237,
    "start_time": "2024-03-14T05:16:38.590Z"
   },
   {
    "duration": 325,
    "start_time": "2024-03-14T05:16:40.360Z"
   },
   {
    "duration": 16,
    "start_time": "2024-03-14T05:16:44.569Z"
   },
   {
    "duration": 24,
    "start_time": "2024-03-14T05:16:46.276Z"
   },
   {
    "duration": 54,
    "start_time": "2024-03-14T05:16:51.815Z"
   },
   {
    "duration": 34,
    "start_time": "2024-03-14T05:17:05.759Z"
   },
   {
    "duration": 33,
    "start_time": "2024-03-14T05:17:20.267Z"
   },
   {
    "duration": 22,
    "start_time": "2024-03-14T05:17:21.369Z"
   },
   {
    "duration": 119,
    "start_time": "2024-03-14T05:19:04.420Z"
   },
   {
    "duration": 6,
    "start_time": "2024-03-14T05:19:08.863Z"
   },
   {
    "duration": 5,
    "start_time": "2024-03-14T05:19:11.941Z"
   },
   {
    "duration": 5,
    "start_time": "2024-03-14T05:19:23.146Z"
   },
   {
    "duration": 49,
    "start_time": "2024-03-16T10:10:55.786Z"
   },
   {
    "duration": 1708,
    "start_time": "2024-03-16T10:11:43.273Z"
   },
   {
    "duration": 197,
    "start_time": "2024-03-16T10:11:44.983Z"
   },
   {
    "duration": 136,
    "start_time": "2024-03-16T10:11:45.181Z"
   },
   {
    "duration": 121,
    "start_time": "2024-03-16T10:11:45.319Z"
   },
   {
    "duration": 72,
    "start_time": "2024-03-16T10:11:45.442Z"
   },
   {
    "duration": 391,
    "start_time": "2024-03-16T10:11:45.515Z"
   },
   {
    "duration": 132,
    "start_time": "2024-03-16T10:11:45.907Z"
   },
   {
    "duration": 79,
    "start_time": "2024-03-16T10:11:46.040Z"
   },
   {
    "duration": 181,
    "start_time": "2024-03-16T10:11:46.120Z"
   },
   {
    "duration": 81,
    "start_time": "2024-03-16T10:11:46.303Z"
   },
   {
    "duration": 106,
    "start_time": "2024-03-16T10:11:46.386Z"
   },
   {
    "duration": 75,
    "start_time": "2024-03-16T10:11:46.495Z"
   },
   {
    "duration": 224,
    "start_time": "2024-03-16T10:11:46.572Z"
   },
   {
    "duration": 71,
    "start_time": "2024-03-16T10:11:46.800Z"
   },
   {
    "duration": 6,
    "start_time": "2024-03-16T10:11:46.873Z"
   },
   {
    "duration": 111,
    "start_time": "2024-03-16T10:11:46.881Z"
   },
   {
    "duration": 121,
    "start_time": "2024-03-16T10:11:46.994Z"
   },
   {
    "duration": 27,
    "start_time": "2024-03-16T10:11:47.117Z"
   },
   {
    "duration": 255,
    "start_time": "2024-03-16T10:11:47.145Z"
   },
   {
    "duration": 236,
    "start_time": "2024-03-16T10:11:47.402Z"
   },
   {
    "duration": 250,
    "start_time": "2024-03-16T10:11:47.639Z"
   },
   {
    "duration": 335,
    "start_time": "2024-03-16T10:11:47.890Z"
   },
   {
    "duration": 16,
    "start_time": "2024-03-16T10:11:48.226Z"
   },
   {
    "duration": 49,
    "start_time": "2024-03-16T10:11:48.243Z"
   },
   {
    "duration": 26,
    "start_time": "2024-03-16T10:11:48.293Z"
   },
   {
    "duration": 29,
    "start_time": "2024-03-16T10:11:48.320Z"
   },
   {
    "duration": 38,
    "start_time": "2024-03-16T10:11:48.350Z"
   },
   {
    "duration": 14,
    "start_time": "2024-03-16T10:11:48.389Z"
   },
   {
    "duration": 9,
    "start_time": "2024-03-16T10:11:48.404Z"
   },
   {
    "duration": 8,
    "start_time": "2024-03-16T10:11:48.415Z"
   },
   {
    "duration": 4,
    "start_time": "2024-03-16T10:11:48.424Z"
   },
   {
    "duration": 179,
    "start_time": "2024-03-16T10:11:48.430Z"
   },
   {
    "duration": 0,
    "start_time": "2024-03-16T10:11:48.611Z"
   },
   {
    "duration": 1472,
    "start_time": "2024-03-16T10:15:07.085Z"
   },
   {
    "duration": 74,
    "start_time": "2024-03-16T10:15:08.559Z"
   },
   {
    "duration": 143,
    "start_time": "2024-03-16T10:15:08.634Z"
   },
   {
    "duration": 148,
    "start_time": "2024-03-16T10:15:08.780Z"
   },
   {
    "duration": 39,
    "start_time": "2024-03-16T10:15:08.930Z"
   },
   {
    "duration": 312,
    "start_time": "2024-03-16T10:15:08.970Z"
   },
   {
    "duration": 48,
    "start_time": "2024-03-16T10:15:09.284Z"
   },
   {
    "duration": 46,
    "start_time": "2024-03-16T10:15:09.333Z"
   },
   {
    "duration": 188,
    "start_time": "2024-03-16T10:15:09.381Z"
   },
   {
    "duration": 45,
    "start_time": "2024-03-16T10:15:09.571Z"
   },
   {
    "duration": 119,
    "start_time": "2024-03-16T10:15:09.617Z"
   },
   {
    "duration": 42,
    "start_time": "2024-03-16T10:15:09.738Z"
   },
   {
    "duration": 236,
    "start_time": "2024-03-16T10:15:09.781Z"
   },
   {
    "duration": 36,
    "start_time": "2024-03-16T10:15:10.019Z"
   },
   {
    "duration": 4,
    "start_time": "2024-03-16T10:15:10.057Z"
   },
   {
    "duration": 127,
    "start_time": "2024-03-16T10:15:10.062Z"
   },
   {
    "duration": 127,
    "start_time": "2024-03-16T10:15:10.191Z"
   },
   {
    "duration": 32,
    "start_time": "2024-03-16T10:15:10.320Z"
   },
   {
    "duration": 262,
    "start_time": "2024-03-16T10:15:10.353Z"
   },
   {
    "duration": 244,
    "start_time": "2024-03-16T10:15:10.617Z"
   },
   {
    "duration": 245,
    "start_time": "2024-03-16T10:15:10.863Z"
   },
   {
    "duration": 356,
    "start_time": "2024-03-16T10:15:11.109Z"
   },
   {
    "duration": 26,
    "start_time": "2024-03-16T10:15:11.467Z"
   },
   {
    "duration": 43,
    "start_time": "2024-03-16T10:15:11.494Z"
   },
   {
    "duration": 28,
    "start_time": "2024-03-16T10:15:11.538Z"
   },
   {
    "duration": 47,
    "start_time": "2024-03-16T10:15:11.568Z"
   },
   {
    "duration": 16,
    "start_time": "2024-03-16T10:15:11.617Z"
   },
   {
    "duration": 15,
    "start_time": "2024-03-16T10:15:11.637Z"
   },
   {
    "duration": 7,
    "start_time": "2024-03-16T10:15:11.654Z"
   },
   {
    "duration": 5,
    "start_time": "2024-03-16T10:15:11.687Z"
   },
   {
    "duration": 8,
    "start_time": "2024-03-16T10:15:11.694Z"
   },
   {
    "duration": 143239,
    "start_time": "2024-03-16T10:15:11.703Z"
   },
   {
    "duration": 1416,
    "start_time": "2024-03-16T10:17:36.417Z"
   },
   {
    "duration": 75,
    "start_time": "2024-03-16T10:17:37.835Z"
   },
   {
    "duration": 133,
    "start_time": "2024-03-16T10:17:37.912Z"
   },
   {
    "duration": 126,
    "start_time": "2024-03-16T10:17:38.047Z"
   },
   {
    "duration": 39,
    "start_time": "2024-03-16T10:17:38.176Z"
   },
   {
    "duration": 314,
    "start_time": "2024-03-16T10:17:38.217Z"
   },
   {
    "duration": 50,
    "start_time": "2024-03-16T10:17:38.533Z"
   },
   {
    "duration": 46,
    "start_time": "2024-03-16T10:17:38.585Z"
   },
   {
    "duration": 185,
    "start_time": "2024-03-16T10:17:38.633Z"
   },
   {
    "duration": 46,
    "start_time": "2024-03-16T10:17:38.820Z"
   },
   {
    "duration": 113,
    "start_time": "2024-03-16T10:17:38.868Z"
   },
   {
    "duration": 41,
    "start_time": "2024-03-16T10:17:38.987Z"
   },
   {
    "duration": 241,
    "start_time": "2024-03-16T10:17:39.030Z"
   },
   {
    "duration": 38,
    "start_time": "2024-03-16T10:17:39.275Z"
   },
   {
    "duration": 4,
    "start_time": "2024-03-16T10:17:39.315Z"
   },
   {
    "duration": 132,
    "start_time": "2024-03-16T10:17:39.321Z"
   },
   {
    "duration": 119,
    "start_time": "2024-03-16T10:17:39.455Z"
   },
   {
    "duration": 36,
    "start_time": "2024-03-16T10:17:39.576Z"
   },
   {
    "duration": 254,
    "start_time": "2024-03-16T10:17:39.613Z"
   },
   {
    "duration": 250,
    "start_time": "2024-03-16T10:17:39.869Z"
   },
   {
    "duration": 238,
    "start_time": "2024-03-16T10:17:40.121Z"
   },
   {
    "duration": 328,
    "start_time": "2024-03-16T10:17:40.361Z"
   },
   {
    "duration": 16,
    "start_time": "2024-03-16T10:17:40.690Z"
   },
   {
    "duration": 55,
    "start_time": "2024-03-16T10:17:40.707Z"
   },
   {
    "duration": 37,
    "start_time": "2024-03-16T10:17:40.764Z"
   },
   {
    "duration": 31,
    "start_time": "2024-03-16T10:17:40.803Z"
   },
   {
    "duration": 139,
    "start_time": "2024-03-16T10:17:40.836Z"
   },
   {
    "duration": 0,
    "start_time": "2024-03-16T10:17:40.977Z"
   },
   {
    "duration": 0,
    "start_time": "2024-03-16T10:17:40.979Z"
   },
   {
    "duration": 0,
    "start_time": "2024-03-16T10:17:40.980Z"
   },
   {
    "duration": 0,
    "start_time": "2024-03-16T10:17:40.986Z"
   },
   {
    "duration": 0,
    "start_time": "2024-03-16T10:17:40.987Z"
   },
   {
    "duration": 0,
    "start_time": "2024-03-16T10:17:40.989Z"
   },
   {
    "duration": 17,
    "start_time": "2024-03-16T10:17:59.708Z"
   },
   {
    "duration": 6,
    "start_time": "2024-03-16T10:18:33.963Z"
   },
   {
    "duration": 18,
    "start_time": "2024-03-16T10:19:02.614Z"
   },
   {
    "duration": 13,
    "start_time": "2024-03-16T10:19:07.797Z"
   },
   {
    "duration": 6,
    "start_time": "2024-03-16T10:19:08.548Z"
   },
   {
    "duration": 4,
    "start_time": "2024-03-16T10:19:10.931Z"
   },
   {
    "duration": 4,
    "start_time": "2024-03-16T10:19:11.421Z"
   },
   {
    "duration": 142367,
    "start_time": "2024-03-16T10:19:12.200Z"
   },
   {
    "duration": 8,
    "start_time": "2024-03-16T10:21:34.569Z"
   },
   {
    "duration": 3150,
    "start_time": "2024-03-16T12:26:17.236Z"
   },
   {
    "duration": 203,
    "start_time": "2024-03-16T12:26:20.388Z"
   },
   {
    "duration": 129,
    "start_time": "2024-03-16T12:26:20.593Z"
   },
   {
    "duration": 134,
    "start_time": "2024-03-16T12:26:20.724Z"
   },
   {
    "duration": 85,
    "start_time": "2024-03-16T12:26:21.861Z"
   },
   {
    "duration": 360,
    "start_time": "2024-03-16T12:26:22.324Z"
   },
   {
    "duration": 142,
    "start_time": "2024-03-16T12:26:29.842Z"
   },
   {
    "duration": 108,
    "start_time": "2024-03-16T12:26:35.825Z"
   },
   {
    "duration": 119,
    "start_time": "2024-03-16T12:26:36.400Z"
   },
   {
    "duration": 94,
    "start_time": "2024-03-16T12:26:37.163Z"
   },
   {
    "duration": 107,
    "start_time": "2024-03-16T12:26:37.365Z"
   },
   {
    "duration": 110,
    "start_time": "2024-03-16T12:26:39.416Z"
   },
   {
    "duration": 224,
    "start_time": "2024-03-16T12:26:39.824Z"
   },
   {
    "duration": 84,
    "start_time": "2024-03-16T12:26:40.658Z"
   },
   {
    "duration": 3,
    "start_time": "2024-03-16T12:26:41.859Z"
   },
   {
    "duration": 111,
    "start_time": "2024-03-16T12:26:42.068Z"
   },
   {
    "duration": 114,
    "start_time": "2024-03-16T12:26:48.571Z"
   },
   {
    "duration": 28,
    "start_time": "2024-03-16T12:26:49.037Z"
   },
   {
    "duration": 234,
    "start_time": "2024-03-16T12:27:09.919Z"
   },
   {
    "duration": 231,
    "start_time": "2024-03-16T12:27:11.097Z"
   },
   {
    "duration": 232,
    "start_time": "2024-03-16T12:27:12.118Z"
   },
   {
    "duration": 309,
    "start_time": "2024-03-16T12:27:13.195Z"
   },
   {
    "duration": 14,
    "start_time": "2024-03-16T12:27:16.346Z"
   },
   {
    "duration": 42,
    "start_time": "2024-03-16T12:27:17.833Z"
   },
   {
    "duration": 26,
    "start_time": "2024-03-16T12:27:24.680Z"
   },
   {
    "duration": 34,
    "start_time": "2024-03-16T12:27:34.340Z"
   },
   {
    "duration": 17,
    "start_time": "2024-03-16T12:27:34.885Z"
   },
   {
    "duration": 14,
    "start_time": "2024-03-16T12:27:41.509Z"
   },
   {
    "duration": 7,
    "start_time": "2024-03-16T12:27:45.658Z"
   },
   {
    "duration": 3261,
    "start_time": "2024-03-17T09:23:39.193Z"
   },
   {
    "duration": 195,
    "start_time": "2024-03-17T09:23:42.456Z"
   },
   {
    "duration": 118,
    "start_time": "2024-03-17T09:23:42.653Z"
   },
   {
    "duration": 126,
    "start_time": "2024-03-17T09:23:42.773Z"
   },
   {
    "duration": 83,
    "start_time": "2024-03-17T09:23:46.752Z"
   },
   {
    "duration": 282,
    "start_time": "2024-03-17T09:23:47.952Z"
   },
   {
    "duration": 144,
    "start_time": "2024-03-17T09:23:48.877Z"
   },
   {
    "duration": 91,
    "start_time": "2024-03-17T09:23:49.849Z"
   },
   {
    "duration": 173,
    "start_time": "2024-03-17T09:23:50.085Z"
   },
   {
    "duration": 91,
    "start_time": "2024-03-17T09:23:53.370Z"
   },
   {
    "duration": 102,
    "start_time": "2024-03-17T09:23:54.415Z"
   },
   {
    "duration": 108,
    "start_time": "2024-03-17T09:24:01.222Z"
   },
   {
    "duration": 209,
    "start_time": "2024-03-17T09:24:01.711Z"
   },
   {
    "duration": 70,
    "start_time": "2024-03-17T09:24:02.181Z"
   },
   {
    "duration": 3,
    "start_time": "2024-03-17T09:24:03.739Z"
   },
   {
    "duration": 105,
    "start_time": "2024-03-17T09:24:03.994Z"
   },
   {
    "duration": 114,
    "start_time": "2024-03-17T09:24:06.153Z"
   },
   {
    "duration": 28,
    "start_time": "2024-03-17T09:24:06.514Z"
   },
   {
    "duration": 224,
    "start_time": "2024-03-17T09:24:21.029Z"
   },
   {
    "duration": 203,
    "start_time": "2024-03-17T09:24:22.402Z"
   },
   {
    "duration": 214,
    "start_time": "2024-03-17T09:24:23.713Z"
   },
   {
    "duration": 290,
    "start_time": "2024-03-17T09:24:24.765Z"
   },
   {
    "duration": 14,
    "start_time": "2024-03-17T09:24:27.542Z"
   },
   {
    "duration": 39,
    "start_time": "2024-03-17T09:24:28.176Z"
   },
   {
    "duration": 25,
    "start_time": "2024-03-17T09:24:31.652Z"
   },
   {
    "duration": 30,
    "start_time": "2024-03-17T09:24:40.248Z"
   },
   {
    "duration": 17,
    "start_time": "2024-03-17T09:24:46.642Z"
   },
   {
    "duration": 12,
    "start_time": "2024-03-17T09:24:48.974Z"
   },
   {
    "duration": 5,
    "start_time": "2024-03-17T09:25:23.733Z"
   },
   {
    "duration": 4,
    "start_time": "2024-03-17T09:25:25.467Z"
   },
   {
    "duration": 4,
    "start_time": "2024-03-17T09:25:27.561Z"
   },
   {
    "duration": 1441,
    "start_time": "2024-03-18T20:32:33.384Z"
   },
   {
    "duration": 112,
    "start_time": "2024-03-18T20:32:34.827Z"
   },
   {
    "duration": 139,
    "start_time": "2024-03-18T20:32:34.940Z"
   },
   {
    "duration": 126,
    "start_time": "2024-03-18T20:32:35.080Z"
   },
   {
    "duration": 111,
    "start_time": "2024-03-18T20:32:35.208Z"
   },
   {
    "duration": 249,
    "start_time": "2024-03-18T20:32:35.321Z"
   },
   {
    "duration": 107,
    "start_time": "2024-03-18T20:32:35.572Z"
   },
   {
    "duration": 76,
    "start_time": "2024-03-18T20:32:35.680Z"
   },
   {
    "duration": 168,
    "start_time": "2024-03-18T20:32:35.757Z"
   },
   {
    "duration": 120,
    "start_time": "2024-03-18T20:32:35.927Z"
   },
   {
    "duration": 101,
    "start_time": "2024-03-18T20:32:36.049Z"
   },
   {
    "duration": 65,
    "start_time": "2024-03-18T20:32:36.152Z"
   },
   {
    "duration": 209,
    "start_time": "2024-03-18T20:32:36.219Z"
   },
   {
    "duration": 77,
    "start_time": "2024-03-18T20:32:36.431Z"
   },
   {
    "duration": 5,
    "start_time": "2024-03-18T20:32:36.510Z"
   },
   {
    "duration": 99,
    "start_time": "2024-03-18T20:32:36.516Z"
   },
   {
    "duration": 107,
    "start_time": "2024-03-18T20:32:36.617Z"
   },
   {
    "duration": 35,
    "start_time": "2024-03-18T20:32:36.726Z"
   },
   {
    "duration": 210,
    "start_time": "2024-03-18T20:32:36.762Z"
   },
   {
    "duration": 205,
    "start_time": "2024-03-18T20:32:36.973Z"
   },
   {
    "duration": 270,
    "start_time": "2024-03-18T20:32:37.180Z"
   },
   {
    "duration": 310,
    "start_time": "2024-03-18T20:32:37.452Z"
   },
   {
    "duration": 19,
    "start_time": "2024-03-18T20:32:37.764Z"
   },
   {
    "duration": 73,
    "start_time": "2024-03-18T20:32:37.785Z"
   },
   {
    "duration": 40,
    "start_time": "2024-03-18T20:32:37.859Z"
   },
   {
    "duration": 55,
    "start_time": "2024-03-18T20:32:37.901Z"
   },
   {
    "duration": 25,
    "start_time": "2024-03-18T20:32:37.958Z"
   },
   {
    "duration": 15,
    "start_time": "2024-03-18T20:32:37.984Z"
   },
   {
    "duration": 6,
    "start_time": "2024-03-18T20:32:38.001Z"
   },
   {
    "duration": 7,
    "start_time": "2024-03-18T20:32:38.009Z"
   },
   {
    "duration": 28,
    "start_time": "2024-03-18T20:32:38.017Z"
   },
   {
    "duration": 46612,
    "start_time": "2024-03-18T20:32:38.047Z"
   },
   {
    "duration": 7,
    "start_time": "2024-03-18T20:33:24.661Z"
   },
   {
    "duration": 15,
    "start_time": "2024-03-18T20:34:45.166Z"
   },
   {
    "duration": 14,
    "start_time": "2024-03-18T20:35:33.709Z"
   },
   {
    "duration": 1267,
    "start_time": "2024-03-18T20:35:46.850Z"
   },
   {
    "duration": 68,
    "start_time": "2024-03-18T20:35:48.119Z"
   },
   {
    "duration": 159,
    "start_time": "2024-03-18T20:35:48.189Z"
   },
   {
    "duration": 110,
    "start_time": "2024-03-18T20:35:48.349Z"
   },
   {
    "duration": 42,
    "start_time": "2024-03-18T20:35:48.461Z"
   },
   {
    "duration": 268,
    "start_time": "2024-03-18T20:35:48.505Z"
   },
   {
    "duration": 42,
    "start_time": "2024-03-18T20:35:48.775Z"
   },
   {
    "duration": 46,
    "start_time": "2024-03-18T20:35:48.819Z"
   },
   {
    "duration": 161,
    "start_time": "2024-03-18T20:35:48.867Z"
   },
   {
    "duration": 41,
    "start_time": "2024-03-18T20:35:49.030Z"
   },
   {
    "duration": 98,
    "start_time": "2024-03-18T20:35:49.072Z"
   },
   {
    "duration": 40,
    "start_time": "2024-03-18T20:35:49.172Z"
   },
   {
    "duration": 194,
    "start_time": "2024-03-18T20:35:49.213Z"
   },
   {
    "duration": 33,
    "start_time": "2024-03-18T20:35:49.410Z"
   },
   {
    "duration": 3,
    "start_time": "2024-03-18T20:35:49.446Z"
   },
   {
    "duration": 115,
    "start_time": "2024-03-18T20:35:49.451Z"
   },
   {
    "duration": 106,
    "start_time": "2024-03-18T20:35:49.568Z"
   },
   {
    "duration": 118,
    "start_time": "2024-03-18T20:35:49.675Z"
   },
   {
    "duration": 0,
    "start_time": "2024-03-18T20:35:49.795Z"
   },
   {
    "duration": 0,
    "start_time": "2024-03-18T20:35:49.796Z"
   },
   {
    "duration": 0,
    "start_time": "2024-03-18T20:35:49.797Z"
   },
   {
    "duration": 0,
    "start_time": "2024-03-18T20:35:49.798Z"
   },
   {
    "duration": 0,
    "start_time": "2024-03-18T20:35:49.799Z"
   },
   {
    "duration": 0,
    "start_time": "2024-03-18T20:35:49.801Z"
   },
   {
    "duration": 0,
    "start_time": "2024-03-18T20:35:49.802Z"
   },
   {
    "duration": 0,
    "start_time": "2024-03-18T20:35:49.803Z"
   },
   {
    "duration": 0,
    "start_time": "2024-03-18T20:35:49.804Z"
   },
   {
    "duration": 0,
    "start_time": "2024-03-18T20:35:49.805Z"
   },
   {
    "duration": 0,
    "start_time": "2024-03-18T20:35:49.806Z"
   },
   {
    "duration": 0,
    "start_time": "2024-03-18T20:35:49.807Z"
   },
   {
    "duration": 0,
    "start_time": "2024-03-18T20:35:49.808Z"
   },
   {
    "duration": 0,
    "start_time": "2024-03-18T20:35:49.809Z"
   },
   {
    "duration": 0,
    "start_time": "2024-03-18T20:35:49.810Z"
   },
   {
    "duration": 20,
    "start_time": "2024-03-18T20:36:04.085Z"
   },
   {
    "duration": 197,
    "start_time": "2024-03-18T20:36:06.512Z"
   },
   {
    "duration": 188,
    "start_time": "2024-03-18T20:36:08.290Z"
   },
   {
    "duration": 198,
    "start_time": "2024-03-18T20:36:08.695Z"
   },
   {
    "duration": 320,
    "start_time": "2024-03-18T20:36:09.309Z"
   },
   {
    "duration": 51,
    "start_time": "2024-03-18T20:36:14.096Z"
   },
   {
    "duration": 13,
    "start_time": "2024-03-18T20:36:14.214Z"
   },
   {
    "duration": 40,
    "start_time": "2024-03-18T20:36:15.065Z"
   },
   {
    "duration": 32,
    "start_time": "2024-03-18T20:36:15.562Z"
   },
   {
    "duration": 17,
    "start_time": "2024-03-18T20:36:15.596Z"
   },
   {
    "duration": 14,
    "start_time": "2024-03-18T20:36:17.985Z"
   },
   {
    "duration": 7,
    "start_time": "2024-03-18T20:36:28.803Z"
   },
   {
    "duration": 4,
    "start_time": "2024-03-18T20:36:29.519Z"
   },
   {
    "duration": 4,
    "start_time": "2024-03-18T20:36:30.414Z"
   },
   {
    "duration": 1289,
    "start_time": "2024-03-18T20:39:37.294Z"
   },
   {
    "duration": 68,
    "start_time": "2024-03-18T20:39:38.585Z"
   },
   {
    "duration": 112,
    "start_time": "2024-03-18T20:39:38.655Z"
   },
   {
    "duration": 110,
    "start_time": "2024-03-18T20:39:38.768Z"
   },
   {
    "duration": 33,
    "start_time": "2024-03-18T20:39:38.880Z"
   },
   {
    "duration": 247,
    "start_time": "2024-03-18T20:39:38.914Z"
   },
   {
    "duration": 43,
    "start_time": "2024-03-18T20:39:39.163Z"
   },
   {
    "duration": 47,
    "start_time": "2024-03-18T20:39:39.207Z"
   },
   {
    "duration": 164,
    "start_time": "2024-03-18T20:39:39.255Z"
   },
   {
    "duration": 41,
    "start_time": "2024-03-18T20:39:39.421Z"
   },
   {
    "duration": 102,
    "start_time": "2024-03-18T20:39:39.464Z"
   },
   {
    "duration": 28,
    "start_time": "2024-03-18T20:39:39.568Z"
   },
   {
    "duration": 206,
    "start_time": "2024-03-18T20:39:39.598Z"
   },
   {
    "duration": 44,
    "start_time": "2024-03-18T20:39:39.808Z"
   },
   {
    "duration": 5,
    "start_time": "2024-03-18T20:39:39.854Z"
   },
   {
    "duration": 100,
    "start_time": "2024-03-18T20:39:39.860Z"
   },
   {
    "duration": 107,
    "start_time": "2024-03-18T20:39:39.962Z"
   },
   {
    "duration": 25,
    "start_time": "2024-03-18T20:39:40.070Z"
   },
   {
    "duration": 14,
    "start_time": "2024-03-18T20:39:40.097Z"
   },
   {
    "duration": 229,
    "start_time": "2024-03-18T20:39:40.112Z"
   },
   {
    "duration": 206,
    "start_time": "2024-03-18T20:39:40.344Z"
   },
   {
    "duration": 204,
    "start_time": "2024-03-18T20:39:40.552Z"
   },
   {
    "duration": 308,
    "start_time": "2024-03-18T20:39:40.758Z"
   },
   {
    "duration": 37,
    "start_time": "2024-03-18T20:39:41.068Z"
   },
   {
    "duration": 45,
    "start_time": "2024-03-18T20:39:41.107Z"
   },
   {
    "duration": 27,
    "start_time": "2024-03-18T20:39:41.154Z"
   },
   {
    "duration": 16,
    "start_time": "2024-03-18T20:39:41.183Z"
   },
   {
    "duration": 14,
    "start_time": "2024-03-18T20:39:41.200Z"
   },
   {
    "duration": 32,
    "start_time": "2024-03-18T20:39:41.216Z"
   },
   {
    "duration": 15,
    "start_time": "2024-03-18T20:39:41.250Z"
   },
   {
    "duration": 6,
    "start_time": "2024-03-18T20:39:41.267Z"
   },
   {
    "duration": 120015,
    "start_time": "2024-03-18T20:39:41.274Z"
   },
   {
    "duration": 7,
    "start_time": "2024-03-18T20:41:41.290Z"
   },
   {
    "duration": 1302,
    "start_time": "2024-03-18T20:42:47.999Z"
   },
   {
    "duration": 85,
    "start_time": "2024-03-18T20:42:49.302Z"
   },
   {
    "duration": 138,
    "start_time": "2024-03-18T20:42:49.389Z"
   },
   {
    "duration": 103,
    "start_time": "2024-03-18T20:42:49.529Z"
   },
   {
    "duration": 35,
    "start_time": "2024-03-18T20:42:49.644Z"
   },
   {
    "duration": 252,
    "start_time": "2024-03-18T20:42:49.681Z"
   },
   {
    "duration": 44,
    "start_time": "2024-03-18T20:42:49.934Z"
   },
   {
    "duration": 46,
    "start_time": "2024-03-18T20:42:49.979Z"
   },
   {
    "duration": 160,
    "start_time": "2024-03-18T20:42:50.027Z"
   },
   {
    "duration": 40,
    "start_time": "2024-03-18T20:42:50.189Z"
   },
   {
    "duration": 98,
    "start_time": "2024-03-18T20:42:50.231Z"
   },
   {
    "duration": 40,
    "start_time": "2024-03-18T20:42:50.330Z"
   },
   {
    "duration": 192,
    "start_time": "2024-03-18T20:42:50.371Z"
   },
   {
    "duration": 35,
    "start_time": "2024-03-18T20:42:50.564Z"
   },
   {
    "duration": 3,
    "start_time": "2024-03-18T20:42:50.601Z"
   },
   {
    "duration": 104,
    "start_time": "2024-03-18T20:42:50.605Z"
   },
   {
    "duration": 103,
    "start_time": "2024-03-18T20:42:50.710Z"
   },
   {
    "duration": 36,
    "start_time": "2024-03-18T20:42:50.814Z"
   },
   {
    "duration": 13,
    "start_time": "2024-03-18T20:42:50.851Z"
   },
   {
    "duration": 215,
    "start_time": "2024-03-18T20:42:50.866Z"
   },
   {
    "duration": 193,
    "start_time": "2024-03-18T20:42:51.082Z"
   },
   {
    "duration": 216,
    "start_time": "2024-03-18T20:42:51.276Z"
   },
   {
    "duration": 272,
    "start_time": "2024-03-18T20:42:51.493Z"
   },
   {
    "duration": 49,
    "start_time": "2024-03-18T20:42:51.766Z"
   },
   {
    "duration": 38,
    "start_time": "2024-03-18T20:42:51.817Z"
   },
   {
    "duration": 25,
    "start_time": "2024-03-18T20:42:51.857Z"
   },
   {
    "duration": 25,
    "start_time": "2024-03-18T20:42:51.884Z"
   },
   {
    "duration": 25,
    "start_time": "2024-03-18T20:42:51.912Z"
   },
   {
    "duration": 34,
    "start_time": "2024-03-18T20:42:51.945Z"
   },
   {
    "duration": 45,
    "start_time": "2024-03-18T20:42:51.981Z"
   },
   {
    "duration": 24,
    "start_time": "2024-03-18T20:42:52.027Z"
   },
   {
    "duration": 48663,
    "start_time": "2024-03-18T20:42:52.053Z"
   },
   {
    "duration": 7,
    "start_time": "2024-03-18T20:43:40.717Z"
   },
   {
    "duration": 12,
    "start_time": "2024-03-18T20:43:41.631Z"
   },
   {
    "duration": 6,
    "start_time": "2024-03-18T20:44:31.846Z"
   },
   {
    "duration": 1361,
    "start_time": "2024-03-18T20:45:19.680Z"
   },
   {
    "duration": 69,
    "start_time": "2024-03-18T20:45:21.042Z"
   },
   {
    "duration": 109,
    "start_time": "2024-03-18T20:45:21.112Z"
   },
   {
    "duration": 114,
    "start_time": "2024-03-18T20:45:21.222Z"
   },
   {
    "duration": 35,
    "start_time": "2024-03-18T20:45:21.338Z"
   },
   {
    "duration": 264,
    "start_time": "2024-03-18T20:45:21.374Z"
   },
   {
    "duration": 47,
    "start_time": "2024-03-18T20:45:21.639Z"
   },
   {
    "duration": 47,
    "start_time": "2024-03-18T20:45:21.687Z"
   },
   {
    "duration": 156,
    "start_time": "2024-03-18T20:45:21.736Z"
   },
   {
    "duration": 41,
    "start_time": "2024-03-18T20:45:21.894Z"
   },
   {
    "duration": 97,
    "start_time": "2024-03-18T20:45:21.936Z"
   },
   {
    "duration": 34,
    "start_time": "2024-03-18T20:45:22.034Z"
   },
   {
    "duration": 207,
    "start_time": "2024-03-18T20:45:22.069Z"
   },
   {
    "duration": 45,
    "start_time": "2024-03-18T20:45:22.279Z"
   },
   {
    "duration": 3,
    "start_time": "2024-03-18T20:45:22.326Z"
   },
   {
    "duration": 96,
    "start_time": "2024-03-18T20:45:22.331Z"
   },
   {
    "duration": 110,
    "start_time": "2024-03-18T20:45:22.428Z"
   },
   {
    "duration": 125,
    "start_time": "2024-03-18T20:45:22.540Z"
   },
   {
    "duration": 0,
    "start_time": "2024-03-18T20:45:22.666Z"
   },
   {
    "duration": 0,
    "start_time": "2024-03-18T20:45:22.667Z"
   },
   {
    "duration": 0,
    "start_time": "2024-03-18T20:45:22.668Z"
   },
   {
    "duration": 0,
    "start_time": "2024-03-18T20:45:22.669Z"
   },
   {
    "duration": 0,
    "start_time": "2024-03-18T20:45:22.670Z"
   },
   {
    "duration": 0,
    "start_time": "2024-03-18T20:45:22.671Z"
   },
   {
    "duration": 0,
    "start_time": "2024-03-18T20:45:22.672Z"
   },
   {
    "duration": 0,
    "start_time": "2024-03-18T20:45:22.673Z"
   },
   {
    "duration": 0,
    "start_time": "2024-03-18T20:45:22.673Z"
   },
   {
    "duration": 0,
    "start_time": "2024-03-18T20:45:22.674Z"
   },
   {
    "duration": 0,
    "start_time": "2024-03-18T20:45:22.675Z"
   },
   {
    "duration": 0,
    "start_time": "2024-03-18T20:45:22.676Z"
   },
   {
    "duration": 0,
    "start_time": "2024-03-18T20:45:22.677Z"
   },
   {
    "duration": 0,
    "start_time": "2024-03-18T20:45:22.678Z"
   },
   {
    "duration": 0,
    "start_time": "2024-03-18T20:45:22.679Z"
   },
   {
    "duration": 30,
    "start_time": "2024-03-18T20:46:46.696Z"
   },
   {
    "duration": 27,
    "start_time": "2024-03-18T20:47:08.603Z"
   },
   {
    "duration": 26,
    "start_time": "2024-03-18T20:47:32.850Z"
   },
   {
    "duration": 27,
    "start_time": "2024-03-18T20:48:52.159Z"
   },
   {
    "duration": 88,
    "start_time": "2024-03-18T20:49:14.095Z"
   },
   {
    "duration": 16,
    "start_time": "2024-03-18T20:49:20.194Z"
   },
   {
    "duration": 22,
    "start_time": "2024-03-18T20:52:17.405Z"
   },
   {
    "duration": 16,
    "start_time": "2024-03-18T20:52:23.125Z"
   },
   {
    "duration": 17,
    "start_time": "2024-03-18T20:54:24.480Z"
   },
   {
    "duration": 16,
    "start_time": "2024-03-18T20:54:43.649Z"
   },
   {
    "duration": 1297,
    "start_time": "2024-03-18T20:54:54.036Z"
   },
   {
    "duration": 69,
    "start_time": "2024-03-18T20:54:55.334Z"
   },
   {
    "duration": 121,
    "start_time": "2024-03-18T20:54:55.404Z"
   },
   {
    "duration": 102,
    "start_time": "2024-03-18T20:54:55.526Z"
   },
   {
    "duration": 34,
    "start_time": "2024-03-18T20:54:55.630Z"
   },
   {
    "duration": 258,
    "start_time": "2024-03-18T20:54:55.666Z"
   },
   {
    "duration": 45,
    "start_time": "2024-03-18T20:54:55.926Z"
   },
   {
    "duration": 51,
    "start_time": "2024-03-18T20:54:55.973Z"
   },
   {
    "duration": 153,
    "start_time": "2024-03-18T20:54:56.026Z"
   },
   {
    "duration": 40,
    "start_time": "2024-03-18T20:54:56.180Z"
   },
   {
    "duration": 95,
    "start_time": "2024-03-18T20:54:56.221Z"
   },
   {
    "duration": 29,
    "start_time": "2024-03-18T20:54:56.317Z"
   },
   {
    "duration": 216,
    "start_time": "2024-03-18T20:54:56.347Z"
   },
   {
    "duration": 44,
    "start_time": "2024-03-18T20:54:56.566Z"
   },
   {
    "duration": 4,
    "start_time": "2024-03-18T20:54:56.611Z"
   },
   {
    "duration": 93,
    "start_time": "2024-03-18T20:54:56.616Z"
   },
   {
    "duration": 105,
    "start_time": "2024-03-18T20:54:56.711Z"
   },
   {
    "duration": 27,
    "start_time": "2024-03-18T20:54:56.818Z"
   },
   {
    "duration": 18,
    "start_time": "2024-03-18T20:54:56.846Z"
   },
   {
    "duration": 14,
    "start_time": "2024-03-18T20:54:56.865Z"
   },
   {
    "duration": 221,
    "start_time": "2024-03-18T20:54:56.881Z"
   },
   {
    "duration": 214,
    "start_time": "2024-03-18T20:54:57.104Z"
   },
   {
    "duration": 219,
    "start_time": "2024-03-18T20:54:57.320Z"
   },
   {
    "duration": 300,
    "start_time": "2024-03-18T20:54:57.540Z"
   },
   {
    "duration": 45,
    "start_time": "2024-03-18T20:54:57.844Z"
   },
   {
    "duration": 154,
    "start_time": "2024-03-18T20:54:57.891Z"
   },
   {
    "duration": 0,
    "start_time": "2024-03-18T20:54:58.047Z"
   },
   {
    "duration": 0,
    "start_time": "2024-03-18T20:54:58.048Z"
   },
   {
    "duration": 0,
    "start_time": "2024-03-18T20:54:58.049Z"
   },
   {
    "duration": 0,
    "start_time": "2024-03-18T20:54:58.050Z"
   },
   {
    "duration": 0,
    "start_time": "2024-03-18T20:54:58.051Z"
   },
   {
    "duration": 0,
    "start_time": "2024-03-18T20:54:58.052Z"
   },
   {
    "duration": 0,
    "start_time": "2024-03-18T20:54:58.054Z"
   },
   {
    "duration": 0,
    "start_time": "2024-03-18T20:54:58.055Z"
   },
   {
    "duration": 47,
    "start_time": "2024-03-18T20:56:20.841Z"
   },
   {
    "duration": 27,
    "start_time": "2024-03-18T20:56:22.466Z"
   },
   {
    "duration": 18,
    "start_time": "2024-03-18T20:56:22.610Z"
   },
   {
    "duration": 14,
    "start_time": "2024-03-18T20:56:23.218Z"
   },
   {
    "duration": 7,
    "start_time": "2024-03-18T20:56:35.038Z"
   },
   {
    "duration": 5,
    "start_time": "2024-03-18T20:56:35.718Z"
   },
   {
    "duration": 4,
    "start_time": "2024-03-18T20:56:36.996Z"
   },
   {
    "duration": 141584,
    "start_time": "2024-03-18T20:56:38.145Z"
   },
   {
    "duration": 12,
    "start_time": "2024-03-18T21:06:31.571Z"
   },
   {
    "duration": 3287,
    "start_time": "2024-03-18T21:07:37.476Z"
   },
   {
    "duration": 2277,
    "start_time": "2024-03-18T21:07:48.717Z"
   },
   {
    "duration": 1293,
    "start_time": "2024-03-18T21:07:50.996Z"
   },
   {
    "duration": 73,
    "start_time": "2024-03-18T21:07:52.290Z"
   },
   {
    "duration": 118,
    "start_time": "2024-03-18T21:07:52.364Z"
   },
   {
    "duration": 106,
    "start_time": "2024-03-18T21:07:52.483Z"
   },
   {
    "duration": 34,
    "start_time": "2024-03-18T21:07:52.590Z"
   },
   {
    "duration": 268,
    "start_time": "2024-03-18T21:07:52.625Z"
   },
   {
    "duration": 43,
    "start_time": "2024-03-18T21:07:52.894Z"
   },
   {
    "duration": 47,
    "start_time": "2024-03-18T21:07:52.938Z"
   },
   {
    "duration": 162,
    "start_time": "2024-03-18T21:07:52.987Z"
   },
   {
    "duration": 50,
    "start_time": "2024-03-18T21:07:53.156Z"
   },
   {
    "duration": 100,
    "start_time": "2024-03-18T21:07:53.207Z"
   },
   {
    "duration": 47,
    "start_time": "2024-03-18T21:07:53.308Z"
   },
   {
    "duration": 227,
    "start_time": "2024-03-18T21:07:53.356Z"
   },
   {
    "duration": 34,
    "start_time": "2024-03-18T21:07:53.585Z"
   },
   {
    "duration": 3,
    "start_time": "2024-03-18T21:07:53.621Z"
   },
   {
    "duration": 112,
    "start_time": "2024-03-18T21:07:53.625Z"
   },
   {
    "duration": 120,
    "start_time": "2024-03-18T21:07:53.739Z"
   },
   {
    "duration": 19,
    "start_time": "2024-03-18T21:07:53.861Z"
   },
   {
    "duration": 17,
    "start_time": "2024-03-18T21:07:53.881Z"
   },
   {
    "duration": 13,
    "start_time": "2024-03-18T21:07:53.899Z"
   },
   {
    "duration": 245,
    "start_time": "2024-03-18T21:07:53.913Z"
   },
   {
    "duration": 200,
    "start_time": "2024-03-18T21:07:54.159Z"
   },
   {
    "duration": 214,
    "start_time": "2024-03-18T21:07:54.361Z"
   },
   {
    "duration": 290,
    "start_time": "2024-03-18T21:07:54.577Z"
   },
   {
    "duration": 37,
    "start_time": "2024-03-18T21:07:54.868Z"
   },
   {
    "duration": 52,
    "start_time": "2024-03-18T21:07:54.907Z"
   },
   {
    "duration": 25,
    "start_time": "2024-03-18T21:07:54.962Z"
   },
   {
    "duration": 29,
    "start_time": "2024-03-18T21:07:54.989Z"
   },
   {
    "duration": 14,
    "start_time": "2024-03-18T21:07:55.019Z"
   },
   {
    "duration": 219,
    "start_time": "2024-03-18T21:07:55.048Z"
   },
   {
    "duration": 5,
    "start_time": "2024-03-18T21:07:55.269Z"
   },
   {
    "duration": 12,
    "start_time": "2024-03-18T21:07:55.275Z"
   },
   {
    "duration": 6,
    "start_time": "2024-03-18T21:07:55.288Z"
   },
   {
    "duration": 150922,
    "start_time": "2024-03-18T21:07:55.295Z"
   },
   {
    "duration": 7,
    "start_time": "2024-03-18T21:10:26.219Z"
   },
   {
    "duration": 3,
    "start_time": "2024-03-18T21:14:28.583Z"
   },
   {
    "duration": 111,
    "start_time": "2024-03-18T21:14:36.647Z"
   },
   {
    "duration": 10,
    "start_time": "2024-03-18T21:16:43.187Z"
   },
   {
    "duration": 2142,
    "start_time": "2024-03-18T21:17:27.615Z"
   },
   {
    "duration": 1335,
    "start_time": "2024-03-18T21:17:29.759Z"
   },
   {
    "duration": 70,
    "start_time": "2024-03-18T21:17:31.096Z"
   },
   {
    "duration": 112,
    "start_time": "2024-03-18T21:17:31.167Z"
   },
   {
    "duration": 109,
    "start_time": "2024-03-18T21:17:31.281Z"
   },
   {
    "duration": 35,
    "start_time": "2024-03-18T21:17:31.391Z"
   },
   {
    "duration": 320,
    "start_time": "2024-03-18T21:17:31.427Z"
   },
   {
    "duration": 44,
    "start_time": "2024-03-18T21:17:31.748Z"
   },
   {
    "duration": 46,
    "start_time": "2024-03-18T21:17:31.794Z"
   },
   {
    "duration": 95,
    "start_time": "2024-03-18T21:17:31.842Z"
   },
   {
    "duration": 39,
    "start_time": "2024-03-18T21:17:31.938Z"
   },
   {
    "duration": 127,
    "start_time": "2024-03-18T21:17:31.979Z"
   },
   {
    "duration": 30,
    "start_time": "2024-03-18T21:17:32.107Z"
   },
   {
    "duration": 201,
    "start_time": "2024-03-18T21:17:32.139Z"
   },
   {
    "duration": 43,
    "start_time": "2024-03-18T21:17:32.342Z"
   },
   {
    "duration": 3,
    "start_time": "2024-03-18T21:17:32.387Z"
   },
   {
    "duration": 125,
    "start_time": "2024-03-18T21:17:32.391Z"
   },
   {
    "duration": 158,
    "start_time": "2024-03-18T21:17:32.517Z"
   },
   {
    "duration": 23,
    "start_time": "2024-03-18T21:17:32.676Z"
   },
   {
    "duration": 19,
    "start_time": "2024-03-18T21:17:32.700Z"
   },
   {
    "duration": 46,
    "start_time": "2024-03-18T21:17:32.720Z"
   },
   {
    "duration": 433,
    "start_time": "2024-03-18T21:17:32.767Z"
   },
   {
    "duration": 197,
    "start_time": "2024-03-18T21:17:33.202Z"
   },
   {
    "duration": 285,
    "start_time": "2024-03-18T21:17:33.401Z"
   },
   {
    "duration": 200,
    "start_time": "2024-03-18T21:17:33.688Z"
   },
   {
    "duration": 37,
    "start_time": "2024-03-18T21:17:33.890Z"
   },
   {
    "duration": 42,
    "start_time": "2024-03-18T21:17:33.929Z"
   },
   {
    "duration": 25,
    "start_time": "2024-03-18T21:17:33.973Z"
   },
   {
    "duration": 15,
    "start_time": "2024-03-18T21:17:33.999Z"
   },
   {
    "duration": 39,
    "start_time": "2024-03-18T21:17:34.016Z"
   },
   {
    "duration": 204,
    "start_time": "2024-03-18T21:17:34.056Z"
   },
   {
    "duration": 13,
    "start_time": "2024-03-18T21:17:34.262Z"
   },
   {
    "duration": 146,
    "start_time": "2024-03-18T21:17:34.276Z"
   },
   {
    "duration": 0,
    "start_time": "2024-03-18T21:17:34.423Z"
   },
   {
    "duration": 0,
    "start_time": "2024-03-18T21:17:34.425Z"
   },
   {
    "duration": 0,
    "start_time": "2024-03-18T21:17:34.426Z"
   },
   {
    "duration": 0,
    "start_time": "2024-03-18T21:17:34.426Z"
   },
   {
    "duration": 0,
    "start_time": "2024-03-18T21:17:34.427Z"
   },
   {
    "duration": 6,
    "start_time": "2024-03-18T21:18:08.553Z"
   },
   {
    "duration": 4,
    "start_time": "2024-03-18T21:18:09.879Z"
   },
   {
    "duration": 4,
    "start_time": "2024-03-18T21:18:12.192Z"
   },
   {
    "duration": 128354,
    "start_time": "2024-03-18T21:18:12.937Z"
   },
   {
    "duration": 8,
    "start_time": "2024-03-18T21:20:21.292Z"
   },
   {
    "duration": 11,
    "start_time": "2024-03-18T21:20:25.372Z"
   },
   {
    "duration": 10,
    "start_time": "2024-03-18T21:21:30.630Z"
   },
   {
    "duration": 10,
    "start_time": "2024-03-18T21:21:54.241Z"
   },
   {
    "duration": 15,
    "start_time": "2024-03-18T21:22:30.775Z"
   },
   {
    "duration": 14,
    "start_time": "2024-03-18T21:23:19.549Z"
   },
   {
    "duration": 9,
    "start_time": "2024-03-18T21:25:31.773Z"
   },
   {
    "duration": 12,
    "start_time": "2024-03-18T21:25:47.380Z"
   },
   {
    "duration": 12,
    "start_time": "2024-03-18T21:26:28.610Z"
   },
   {
    "duration": 2,
    "start_time": "2024-03-18T21:27:48.816Z"
   },
   {
    "duration": 3,
    "start_time": "2024-03-18T21:27:56.701Z"
   },
   {
    "duration": 8,
    "start_time": "2024-03-18T21:28:31.159Z"
   },
   {
    "duration": 1882,
    "start_time": "2024-03-18T21:32:15.119Z"
   },
   {
    "duration": 2148,
    "start_time": "2024-03-18T21:34:44.061Z"
   },
   {
    "duration": 1315,
    "start_time": "2024-03-18T21:34:46.211Z"
   },
   {
    "duration": 69,
    "start_time": "2024-03-18T21:34:47.527Z"
   },
   {
    "duration": 119,
    "start_time": "2024-03-18T21:34:47.597Z"
   },
   {
    "duration": 104,
    "start_time": "2024-03-18T21:34:47.719Z"
   },
   {
    "duration": 32,
    "start_time": "2024-03-18T21:34:47.825Z"
   },
   {
    "duration": 314,
    "start_time": "2024-03-18T21:34:47.859Z"
   },
   {
    "duration": 46,
    "start_time": "2024-03-18T21:34:48.175Z"
   },
   {
    "duration": 47,
    "start_time": "2024-03-18T21:34:48.223Z"
   },
   {
    "duration": 103,
    "start_time": "2024-03-18T21:34:48.272Z"
   },
   {
    "duration": 44,
    "start_time": "2024-03-18T21:34:48.377Z"
   },
   {
    "duration": 90,
    "start_time": "2024-03-18T21:34:48.422Z"
   },
   {
    "duration": 29,
    "start_time": "2024-03-18T21:34:48.514Z"
   },
   {
    "duration": 194,
    "start_time": "2024-03-18T21:34:48.545Z"
   },
   {
    "duration": 47,
    "start_time": "2024-03-18T21:34:48.740Z"
   },
   {
    "duration": 3,
    "start_time": "2024-03-18T21:34:48.788Z"
   },
   {
    "duration": 91,
    "start_time": "2024-03-18T21:34:48.793Z"
   },
   {
    "duration": 103,
    "start_time": "2024-03-18T21:34:48.885Z"
   },
   {
    "duration": 18,
    "start_time": "2024-03-18T21:34:48.990Z"
   },
   {
    "duration": 17,
    "start_time": "2024-03-18T21:34:49.010Z"
   },
   {
    "duration": 29,
    "start_time": "2024-03-18T21:34:49.028Z"
   },
   {
    "duration": 210,
    "start_time": "2024-03-18T21:34:49.059Z"
   },
   {
    "duration": 200,
    "start_time": "2024-03-18T21:34:49.270Z"
   },
   {
    "duration": 297,
    "start_time": "2024-03-18T21:34:49.471Z"
   },
   {
    "duration": 192,
    "start_time": "2024-03-18T21:34:49.770Z"
   },
   {
    "duration": 36,
    "start_time": "2024-03-18T21:34:49.964Z"
   },
   {
    "duration": 48,
    "start_time": "2024-03-18T21:34:50.002Z"
   },
   {
    "duration": 27,
    "start_time": "2024-03-18T21:34:50.051Z"
   },
   {
    "duration": 16,
    "start_time": "2024-03-18T21:34:50.080Z"
   },
   {
    "duration": 13,
    "start_time": "2024-03-18T21:34:50.098Z"
   },
   {
    "duration": 216,
    "start_time": "2024-03-18T21:34:50.113Z"
   },
   {
    "duration": 15,
    "start_time": "2024-03-18T21:34:50.330Z"
   },
   {
    "duration": 18,
    "start_time": "2024-03-18T21:34:50.347Z"
   },
   {
    "duration": 17,
    "start_time": "2024-03-18T21:34:50.366Z"
   },
   {
    "duration": 12,
    "start_time": "2024-03-18T21:34:50.384Z"
   },
   {
    "duration": 108958,
    "start_time": "2024-03-18T21:34:50.398Z"
   },
   {
    "duration": 6,
    "start_time": "2024-03-18T21:36:39.358Z"
   },
   {
    "duration": 2161,
    "start_time": "2024-03-18T21:43:26.294Z"
   },
   {
    "duration": 1349,
    "start_time": "2024-03-18T21:43:28.457Z"
   },
   {
    "duration": 69,
    "start_time": "2024-03-18T21:43:29.807Z"
   },
   {
    "duration": 109,
    "start_time": "2024-03-18T21:43:29.877Z"
   },
   {
    "duration": 108,
    "start_time": "2024-03-18T21:43:29.988Z"
   },
   {
    "duration": 35,
    "start_time": "2024-03-18T21:43:30.097Z"
   },
   {
    "duration": 390,
    "start_time": "2024-03-18T21:43:30.133Z"
   },
   {
    "duration": 45,
    "start_time": "2024-03-18T21:43:30.524Z"
   },
   {
    "duration": 103,
    "start_time": "2024-03-18T21:43:30.570Z"
   },
   {
    "duration": 168,
    "start_time": "2024-03-18T21:43:30.675Z"
   },
   {
    "duration": 51,
    "start_time": "2024-03-18T21:43:30.845Z"
   },
   {
    "duration": 93,
    "start_time": "2024-03-18T21:43:30.898Z"
   },
   {
    "duration": 29,
    "start_time": "2024-03-18T21:43:30.992Z"
   },
   {
    "duration": 185,
    "start_time": "2024-03-18T21:43:31.023Z"
   },
   {
    "duration": 33,
    "start_time": "2024-03-18T21:43:31.210Z"
   },
   {
    "duration": 3,
    "start_time": "2024-03-18T21:43:31.245Z"
   },
   {
    "duration": 123,
    "start_time": "2024-03-18T21:43:31.249Z"
   },
   {
    "duration": 106,
    "start_time": "2024-03-18T21:43:31.373Z"
   },
   {
    "duration": 18,
    "start_time": "2024-03-18T21:43:31.480Z"
   },
   {
    "duration": 66,
    "start_time": "2024-03-18T21:43:31.499Z"
   },
   {
    "duration": 30,
    "start_time": "2024-03-18T21:43:31.567Z"
   },
   {
    "duration": 270,
    "start_time": "2024-03-18T21:43:31.598Z"
   },
   {
    "duration": 191,
    "start_time": "2024-03-18T21:43:31.869Z"
   },
   {
    "duration": 267,
    "start_time": "2024-03-18T21:43:32.061Z"
   },
   {
    "duration": 197,
    "start_time": "2024-03-18T21:43:32.329Z"
   },
   {
    "duration": 38,
    "start_time": "2024-03-18T21:43:32.527Z"
   },
   {
    "duration": 46,
    "start_time": "2024-03-18T21:43:32.567Z"
   },
   {
    "duration": 38,
    "start_time": "2024-03-18T21:43:32.615Z"
   },
   {
    "duration": 85,
    "start_time": "2024-03-18T21:43:32.655Z"
   },
   {
    "duration": 78,
    "start_time": "2024-03-18T21:43:32.741Z"
   },
   {
    "duration": 208,
    "start_time": "2024-03-18T21:43:32.821Z"
   },
   {
    "duration": 19,
    "start_time": "2024-03-18T21:43:33.031Z"
   },
   {
    "duration": 8,
    "start_time": "2024-03-18T21:43:33.052Z"
   },
   {
    "duration": 8,
    "start_time": "2024-03-18T21:43:33.061Z"
   },
   {
    "duration": 4,
    "start_time": "2024-03-18T21:43:33.070Z"
   },
   {
    "duration": 3477,
    "start_time": "2024-03-19T04:55:16.899Z"
   },
   {
    "duration": 3600,
    "start_time": "2024-03-19T04:55:20.378Z"
   },
   {
    "duration": 120,
    "start_time": "2024-03-19T04:55:23.980Z"
   },
   {
    "duration": 154,
    "start_time": "2024-03-19T04:55:24.102Z"
   },
   {
    "duration": 132,
    "start_time": "2024-03-19T04:55:24.258Z"
   },
   {
    "duration": 114,
    "start_time": "2024-03-19T04:55:24.392Z"
   },
   {
    "duration": 390,
    "start_time": "2024-03-19T04:55:24.507Z"
   },
   {
    "duration": 113,
    "start_time": "2024-03-19T04:55:24.899Z"
   },
   {
    "duration": 88,
    "start_time": "2024-03-19T04:55:25.014Z"
   },
   {
    "duration": 128,
    "start_time": "2024-03-19T04:55:25.118Z"
   },
   {
    "duration": 163,
    "start_time": "2024-03-19T04:55:26.075Z"
   },
   {
    "duration": 117,
    "start_time": "2024-03-19T04:55:26.610Z"
   },
   {
    "duration": 77,
    "start_time": "2024-03-19T04:55:27.550Z"
   },
   {
    "duration": 247,
    "start_time": "2024-03-19T04:55:27.758Z"
   },
   {
    "duration": 122,
    "start_time": "2024-03-19T04:55:33.204Z"
   },
   {
    "duration": 4,
    "start_time": "2024-03-19T04:55:35.245Z"
   },
   {
    "duration": 123,
    "start_time": "2024-03-19T04:55:35.897Z"
   },
   {
    "duration": 123,
    "start_time": "2024-03-19T04:55:39.916Z"
   },
   {
    "duration": 23,
    "start_time": "2024-03-19T04:55:40.677Z"
   },
   {
    "duration": 21,
    "start_time": "2024-03-19T04:55:41.304Z"
   },
   {
    "duration": 16,
    "start_time": "2024-03-19T04:55:41.950Z"
   },
   {
    "duration": 14,
    "start_time": "2024-03-19T04:56:17.736Z"
   },
   {
    "duration": 251,
    "start_time": "2024-03-19T04:56:33.983Z"
   },
   {
    "duration": 235,
    "start_time": "2024-03-19T04:56:35.336Z"
   },
   {
    "duration": 322,
    "start_time": "2024-03-19T04:56:36.012Z"
   },
   {
    "duration": 231,
    "start_time": "2024-03-19T04:56:36.892Z"
   },
   {
    "duration": 44,
    "start_time": "2024-03-19T04:56:39.643Z"
   },
   {
    "duration": 35,
    "start_time": "2024-03-19T04:56:46.554Z"
   },
   {
    "duration": 33,
    "start_time": "2024-03-19T04:56:54.785Z"
   },
   {
    "duration": 21,
    "start_time": "2024-03-19T04:56:55.369Z"
   },
   {
    "duration": 16,
    "start_time": "2024-03-19T04:56:57.319Z"
   },
   {
    "duration": 242,
    "start_time": "2024-03-19T04:56:58.099Z"
   },
   {
    "duration": 16,
    "start_time": "2024-03-19T04:57:11.245Z"
   },
   {
    "duration": 6,
    "start_time": "2024-03-19T04:57:14.526Z"
   },
   {
    "duration": 119,
    "start_time": "2024-03-19T04:59:58.776Z"
   },
   {
    "duration": 6,
    "start_time": "2024-03-19T05:00:05.795Z"
   },
   {
    "duration": 5,
    "start_time": "2024-03-19T05:00:13.721Z"
   },
   {
    "duration": 5,
    "start_time": "2024-03-19T05:00:15.895Z"
   },
   {
    "duration": 134134,
    "start_time": "2024-03-19T05:00:19.617Z"
   },
   {
    "duration": 46,
    "start_time": "2024-03-19T05:03:42.448Z"
   },
   {
    "duration": 55,
    "start_time": "2024-03-19T05:05:41.921Z"
   },
   {
    "duration": 45,
    "start_time": "2024-03-19T05:06:10.444Z"
   },
   {
    "duration": 61,
    "start_time": "2024-03-19T05:06:24.784Z"
   },
   {
    "duration": 55,
    "start_time": "2024-03-19T05:06:39.750Z"
   },
   {
    "duration": 59,
    "start_time": "2024-03-19T05:06:52.467Z"
   },
   {
    "duration": 54,
    "start_time": "2024-03-19T05:07:16.398Z"
   },
   {
    "duration": 50,
    "start_time": "2024-03-19T05:07:23.925Z"
   },
   {
    "duration": 47,
    "start_time": "2024-03-19T05:07:30.735Z"
   },
   {
    "duration": 8,
    "start_time": "2024-03-19T05:11:15.733Z"
   },
   {
    "duration": 3556,
    "start_time": "2024-03-19T11:07:49.594Z"
   },
   {
    "duration": 1748,
    "start_time": "2024-03-19T11:07:53.152Z"
   },
   {
    "duration": 204,
    "start_time": "2024-03-19T11:07:54.902Z"
   },
   {
    "duration": 144,
    "start_time": "2024-03-19T11:07:55.108Z"
   },
   {
    "duration": 133,
    "start_time": "2024-03-19T11:07:55.253Z"
   },
   {
    "duration": 73,
    "start_time": "2024-03-19T11:07:55.387Z"
   },
   {
    "duration": 400,
    "start_time": "2024-03-19T11:07:55.462Z"
   },
   {
    "duration": 133,
    "start_time": "2024-03-19T11:07:55.864Z"
   },
   {
    "duration": 80,
    "start_time": "2024-03-19T11:07:55.998Z"
   },
   {
    "duration": 124,
    "start_time": "2024-03-19T11:07:56.081Z"
   },
   {
    "duration": 84,
    "start_time": "2024-03-19T11:07:56.207Z"
   },
   {
    "duration": 120,
    "start_time": "2024-03-19T11:07:56.292Z"
   },
   {
    "duration": 78,
    "start_time": "2024-03-19T11:07:56.414Z"
   },
   {
    "duration": 247,
    "start_time": "2024-03-19T11:07:56.494Z"
   },
   {
    "duration": 72,
    "start_time": "2024-03-19T11:07:56.742Z"
   },
   {
    "duration": 4,
    "start_time": "2024-03-19T11:07:56.816Z"
   },
   {
    "duration": 127,
    "start_time": "2024-03-19T11:07:56.821Z"
   },
   {
    "duration": 128,
    "start_time": "2024-03-19T11:07:56.950Z"
   },
   {
    "duration": 27,
    "start_time": "2024-03-19T11:07:57.080Z"
   },
   {
    "duration": 21,
    "start_time": "2024-03-19T11:07:57.109Z"
   },
   {
    "duration": 16,
    "start_time": "2024-03-19T11:07:57.132Z"
   },
   {
    "duration": 14,
    "start_time": "2024-03-19T11:07:57.150Z"
   },
   {
    "duration": 264,
    "start_time": "2024-03-19T11:07:57.192Z"
   },
   {
    "duration": 272,
    "start_time": "2024-03-19T11:07:57.458Z"
   },
   {
    "duration": 357,
    "start_time": "2024-03-19T11:07:57.731Z"
   },
   {
    "duration": 240,
    "start_time": "2024-03-19T11:07:58.091Z"
   },
   {
    "duration": 46,
    "start_time": "2024-03-19T11:07:58.333Z"
   },
   {
    "duration": 47,
    "start_time": "2024-03-19T11:07:58.391Z"
   },
   {
    "duration": 33,
    "start_time": "2024-03-19T11:07:58.439Z"
   },
   {
    "duration": 30,
    "start_time": "2024-03-19T11:07:58.473Z"
   },
   {
    "duration": 18,
    "start_time": "2024-03-19T11:07:58.505Z"
   },
   {
    "duration": 308,
    "start_time": "2024-03-19T11:07:58.525Z"
   },
   {
    "duration": 18,
    "start_time": "2024-03-19T11:07:58.835Z"
   },
   {
    "duration": 25,
    "start_time": "2024-03-19T11:07:58.854Z"
   },
   {
    "duration": 11,
    "start_time": "2024-03-19T11:07:58.881Z"
   },
   {
    "duration": 18,
    "start_time": "2024-03-19T11:07:58.894Z"
   },
   {
    "duration": 138956,
    "start_time": "2024-03-19T11:07:58.914Z"
   },
   {
    "duration": 9,
    "start_time": "2024-03-19T11:10:17.871Z"
   },
   {
    "duration": 56,
    "start_time": "2024-03-19T11:10:17.881Z"
   },
   {
    "duration": 64,
    "start_time": "2024-03-19T14:29:06.281Z"
   },
   {
    "duration": 3296,
    "start_time": "2024-03-19T14:30:39.893Z"
   },
   {
    "duration": 1533,
    "start_time": "2024-03-19T14:30:43.192Z"
   },
   {
    "duration": 114,
    "start_time": "2024-03-19T14:30:44.727Z"
   },
   {
    "duration": 112,
    "start_time": "2024-03-19T14:30:44.843Z"
   },
   {
    "duration": 110,
    "start_time": "2024-03-19T14:30:44.957Z"
   },
   {
    "duration": 112,
    "start_time": "2024-03-19T14:30:45.069Z"
   },
   {
    "duration": 356,
    "start_time": "2024-03-19T14:30:45.183Z"
   },
   {
    "duration": 107,
    "start_time": "2024-03-19T14:30:45.540Z"
   },
   {
    "duration": 76,
    "start_time": "2024-03-19T14:30:45.648Z"
   },
   {
    "duration": 103,
    "start_time": "2024-03-19T14:30:45.726Z"
   },
   {
    "duration": 122,
    "start_time": "2024-03-19T14:30:45.830Z"
   },
   {
    "duration": 99,
    "start_time": "2024-03-19T14:30:45.953Z"
   },
   {
    "duration": 65,
    "start_time": "2024-03-19T14:30:46.054Z"
   },
   {
    "duration": 199,
    "start_time": "2024-03-19T14:30:46.120Z"
   },
   {
    "duration": 79,
    "start_time": "2024-03-19T14:30:46.321Z"
   },
   {
    "duration": 4,
    "start_time": "2024-03-19T14:30:46.401Z"
   },
   {
    "duration": 116,
    "start_time": "2024-03-19T14:30:46.406Z"
   },
   {
    "duration": 104,
    "start_time": "2024-03-19T14:30:46.524Z"
   },
   {
    "duration": 27,
    "start_time": "2024-03-19T14:30:46.629Z"
   },
   {
    "duration": 42,
    "start_time": "2024-03-19T14:30:46.657Z"
   },
   {
    "duration": 41,
    "start_time": "2024-03-19T14:30:46.700Z"
   },
   {
    "duration": 25,
    "start_time": "2024-03-19T14:30:46.743Z"
   },
   {
    "duration": 220,
    "start_time": "2024-03-19T14:30:46.770Z"
   },
   {
    "duration": 300,
    "start_time": "2024-03-19T14:30:46.991Z"
   },
   {
    "duration": 222,
    "start_time": "2024-03-19T14:30:47.292Z"
   },
   {
    "duration": 258,
    "start_time": "2024-03-19T14:30:47.516Z"
   },
   {
    "duration": 40,
    "start_time": "2024-03-19T14:30:47.776Z"
   },
   {
    "duration": 1347,
    "start_time": "2024-03-19T14:30:47.820Z"
   },
   {
    "duration": 0,
    "start_time": "2024-03-19T14:30:49.169Z"
   },
   {
    "duration": 0,
    "start_time": "2024-03-19T14:30:49.170Z"
   },
   {
    "duration": 0,
    "start_time": "2024-03-19T14:30:49.172Z"
   },
   {
    "duration": 0,
    "start_time": "2024-03-19T14:30:49.173Z"
   },
   {
    "duration": 0,
    "start_time": "2024-03-19T14:30:49.174Z"
   },
   {
    "duration": 0,
    "start_time": "2024-03-19T14:30:49.175Z"
   },
   {
    "duration": 0,
    "start_time": "2024-03-19T14:30:49.177Z"
   },
   {
    "duration": 0,
    "start_time": "2024-03-19T14:30:49.178Z"
   },
   {
    "duration": 0,
    "start_time": "2024-03-19T14:30:49.179Z"
   },
   {
    "duration": 0,
    "start_time": "2024-03-19T14:30:49.180Z"
   },
   {
    "duration": 0,
    "start_time": "2024-03-19T14:30:49.181Z"
   },
   {
    "duration": 2300,
    "start_time": "2024-03-19T14:33:05.084Z"
   },
   {
    "duration": 1344,
    "start_time": "2024-03-19T14:33:07.386Z"
   },
   {
    "duration": 74,
    "start_time": "2024-03-19T14:33:08.731Z"
   },
   {
    "duration": 110,
    "start_time": "2024-03-19T14:33:08.807Z"
   },
   {
    "duration": 113,
    "start_time": "2024-03-19T14:33:08.918Z"
   },
   {
    "duration": 36,
    "start_time": "2024-03-19T14:33:09.033Z"
   },
   {
    "duration": 352,
    "start_time": "2024-03-19T14:33:09.071Z"
   },
   {
    "duration": 50,
    "start_time": "2024-03-19T14:33:09.425Z"
   },
   {
    "duration": 49,
    "start_time": "2024-03-19T14:33:09.477Z"
   },
   {
    "duration": 108,
    "start_time": "2024-03-19T14:33:09.529Z"
   },
   {
    "duration": 43,
    "start_time": "2024-03-19T14:33:09.638Z"
   },
   {
    "duration": 121,
    "start_time": "2024-03-19T14:33:09.682Z"
   },
   {
    "duration": 42,
    "start_time": "2024-03-19T14:33:09.805Z"
   },
   {
    "duration": 222,
    "start_time": "2024-03-19T14:33:09.848Z"
   },
   {
    "duration": 35,
    "start_time": "2024-03-19T14:33:10.072Z"
   },
   {
    "duration": 15,
    "start_time": "2024-03-19T14:33:10.108Z"
   },
   {
    "duration": 109,
    "start_time": "2024-03-19T14:33:10.124Z"
   },
   {
    "duration": 107,
    "start_time": "2024-03-19T14:33:10.234Z"
   },
   {
    "duration": 18,
    "start_time": "2024-03-19T14:33:10.344Z"
   },
   {
    "duration": 45,
    "start_time": "2024-03-19T14:33:10.364Z"
   },
   {
    "duration": 48,
    "start_time": "2024-03-19T14:33:10.410Z"
   },
   {
    "duration": 35,
    "start_time": "2024-03-19T14:33:10.460Z"
   },
   {
    "duration": 246,
    "start_time": "2024-03-19T14:33:10.497Z"
   },
   {
    "duration": 289,
    "start_time": "2024-03-19T14:33:10.745Z"
   },
   {
    "duration": 219,
    "start_time": "2024-03-19T14:33:11.036Z"
   },
   {
    "duration": 212,
    "start_time": "2024-03-19T14:33:11.257Z"
   },
   {
    "duration": 44,
    "start_time": "2024-03-19T14:33:11.471Z"
   },
   {
    "duration": 39,
    "start_time": "2024-03-19T14:33:11.518Z"
   },
   {
    "duration": 17,
    "start_time": "2024-03-19T14:33:11.559Z"
   },
   {
    "duration": 29,
    "start_time": "2024-03-19T14:33:11.578Z"
   },
   {
    "duration": 249,
    "start_time": "2024-03-19T14:33:11.608Z"
   },
   {
    "duration": 14,
    "start_time": "2024-03-19T14:33:11.859Z"
   },
   {
    "duration": 37,
    "start_time": "2024-03-19T14:33:11.875Z"
   },
   {
    "duration": 31,
    "start_time": "2024-03-19T14:33:11.913Z"
   },
   {
    "duration": 40,
    "start_time": "2024-03-19T14:33:11.946Z"
   },
   {
    "duration": 117128,
    "start_time": "2024-03-19T14:33:11.988Z"
   },
   {
    "duration": 7,
    "start_time": "2024-03-19T14:35:09.117Z"
   },
   {
    "duration": 53,
    "start_time": "2024-03-19T14:35:09.125Z"
   },
   {
    "duration": 2367,
    "start_time": "2024-03-19T14:38:35.229Z"
   },
   {
    "duration": 1472,
    "start_time": "2024-03-19T14:38:37.598Z"
   },
   {
    "duration": 72,
    "start_time": "2024-03-19T14:38:39.071Z"
   },
   {
    "duration": 123,
    "start_time": "2024-03-19T14:38:39.145Z"
   },
   {
    "duration": 116,
    "start_time": "2024-03-19T14:38:39.269Z"
   },
   {
    "duration": 38,
    "start_time": "2024-03-19T14:38:39.387Z"
   },
   {
    "duration": 328,
    "start_time": "2024-03-19T14:38:39.426Z"
   },
   {
    "duration": 45,
    "start_time": "2024-03-19T14:38:39.756Z"
   },
   {
    "duration": 48,
    "start_time": "2024-03-19T14:38:39.802Z"
   },
   {
    "duration": 109,
    "start_time": "2024-03-19T14:38:39.852Z"
   },
   {
    "duration": 43,
    "start_time": "2024-03-19T14:38:39.963Z"
   },
   {
    "duration": 103,
    "start_time": "2024-03-19T14:38:40.007Z"
   },
   {
    "duration": 40,
    "start_time": "2024-03-19T14:38:40.112Z"
   },
   {
    "duration": 221,
    "start_time": "2024-03-19T14:38:40.153Z"
   },
   {
    "duration": 36,
    "start_time": "2024-03-19T14:38:40.376Z"
   },
   {
    "duration": 5,
    "start_time": "2024-03-19T14:38:40.413Z"
   },
   {
    "duration": 109,
    "start_time": "2024-03-19T14:38:40.419Z"
   },
   {
    "duration": 116,
    "start_time": "2024-03-19T14:38:40.530Z"
   },
   {
    "duration": 20,
    "start_time": "2024-03-19T14:38:40.648Z"
   },
   {
    "duration": 20,
    "start_time": "2024-03-19T14:38:40.669Z"
   },
   {
    "duration": 15,
    "start_time": "2024-03-19T14:38:40.691Z"
   },
   {
    "duration": 51,
    "start_time": "2024-03-19T14:38:40.707Z"
   },
   {
    "duration": 10,
    "start_time": "2024-03-19T14:38:40.760Z"
   },
   {
    "duration": 233,
    "start_time": "2024-03-19T14:38:40.771Z"
   },
   {
    "duration": 289,
    "start_time": "2024-03-19T14:38:41.007Z"
   },
   {
    "duration": 248,
    "start_time": "2024-03-19T14:38:41.298Z"
   },
   {
    "duration": 215,
    "start_time": "2024-03-19T14:38:41.548Z"
   },
   {
    "duration": 35,
    "start_time": "2024-03-19T14:38:41.767Z"
   },
   {
    "duration": 43,
    "start_time": "2024-03-19T14:38:41.804Z"
   },
   {
    "duration": 20,
    "start_time": "2024-03-19T14:38:41.849Z"
   },
   {
    "duration": 16,
    "start_time": "2024-03-19T14:38:41.871Z"
   },
   {
    "duration": 256,
    "start_time": "2024-03-19T14:38:41.889Z"
   },
   {
    "duration": 16,
    "start_time": "2024-03-19T14:38:42.146Z"
   },
   {
    "duration": 16,
    "start_time": "2024-03-19T14:38:42.164Z"
   },
   {
    "duration": 6,
    "start_time": "2024-03-19T14:38:42.182Z"
   },
   {
    "duration": 8,
    "start_time": "2024-03-19T14:38:42.190Z"
   },
   {
    "duration": 120799,
    "start_time": "2024-03-19T14:38:42.200Z"
   },
   {
    "duration": 7,
    "start_time": "2024-03-19T14:40:43.000Z"
   },
   {
    "duration": 61,
    "start_time": "2024-03-19T14:40:43.009Z"
   },
   {
    "duration": 57,
    "start_time": "2024-03-19T14:42:21.397Z"
   },
   {
    "duration": 2257,
    "start_time": "2024-03-19T14:43:14.782Z"
   },
   {
    "duration": 1377,
    "start_time": "2024-03-19T14:43:17.041Z"
   },
   {
    "duration": 71,
    "start_time": "2024-03-19T14:43:18.419Z"
   },
   {
    "duration": 121,
    "start_time": "2024-03-19T14:43:18.492Z"
   },
   {
    "duration": 120,
    "start_time": "2024-03-19T14:43:18.614Z"
   },
   {
    "duration": 41,
    "start_time": "2024-03-19T14:43:18.736Z"
   },
   {
    "duration": 314,
    "start_time": "2024-03-19T14:43:18.778Z"
   },
   {
    "duration": 45,
    "start_time": "2024-03-19T14:43:19.093Z"
   },
   {
    "duration": 48,
    "start_time": "2024-03-19T14:43:19.139Z"
   },
   {
    "duration": 101,
    "start_time": "2024-03-19T14:43:19.189Z"
   },
   {
    "duration": 43,
    "start_time": "2024-03-19T14:43:19.291Z"
   },
   {
    "duration": 94,
    "start_time": "2024-03-19T14:43:19.336Z"
   },
   {
    "duration": 43,
    "start_time": "2024-03-19T14:43:19.431Z"
   },
   {
    "duration": 197,
    "start_time": "2024-03-19T14:43:19.476Z"
   },
   {
    "duration": 35,
    "start_time": "2024-03-19T14:43:19.675Z"
   },
   {
    "duration": 3,
    "start_time": "2024-03-19T14:43:19.711Z"
   },
   {
    "duration": 130,
    "start_time": "2024-03-19T14:43:19.716Z"
   },
   {
    "duration": 113,
    "start_time": "2024-03-19T14:43:19.848Z"
   },
   {
    "duration": 7,
    "start_time": "2024-03-19T14:43:19.962Z"
   },
   {
    "duration": 34,
    "start_time": "2024-03-19T14:43:19.970Z"
   },
   {
    "duration": 31,
    "start_time": "2024-03-19T14:43:20.005Z"
   },
   {
    "duration": 27,
    "start_time": "2024-03-19T14:43:20.037Z"
   },
   {
    "duration": 40,
    "start_time": "2024-03-19T14:43:20.066Z"
   },
   {
    "duration": 221,
    "start_time": "2024-03-19T14:43:20.107Z"
   },
   {
    "duration": 281,
    "start_time": "2024-03-19T14:43:20.329Z"
   },
   {
    "duration": 201,
    "start_time": "2024-03-19T14:43:20.611Z"
   },
   {
    "duration": 209,
    "start_time": "2024-03-19T14:43:20.813Z"
   },
   {
    "duration": 44,
    "start_time": "2024-03-19T14:43:21.025Z"
   },
   {
    "duration": 32,
    "start_time": "2024-03-19T14:43:21.070Z"
   },
   {
    "duration": 19,
    "start_time": "2024-03-19T14:43:21.104Z"
   },
   {
    "duration": 33,
    "start_time": "2024-03-19T14:43:21.124Z"
   },
   {
    "duration": 224,
    "start_time": "2024-03-19T14:43:21.159Z"
   },
   {
    "duration": 14,
    "start_time": "2024-03-19T14:43:21.384Z"
   },
   {
    "duration": 7,
    "start_time": "2024-03-19T14:43:21.399Z"
   },
   {
    "duration": 14,
    "start_time": "2024-03-19T14:43:21.408Z"
   },
   {
    "duration": 14,
    "start_time": "2024-03-19T14:43:21.423Z"
   },
   {
    "duration": 116894,
    "start_time": "2024-03-19T14:43:21.439Z"
   },
   {
    "duration": 13,
    "start_time": "2024-03-19T14:45:18.334Z"
   },
   {
    "duration": 52,
    "start_time": "2024-03-19T14:45:18.348Z"
   },
   {
    "duration": 25,
    "start_time": "2024-03-19T14:45:45.659Z"
   },
   {
    "duration": 2306,
    "start_time": "2024-03-19T14:47:12.598Z"
   },
   {
    "duration": 1329,
    "start_time": "2024-03-19T14:47:14.907Z"
   },
   {
    "duration": 74,
    "start_time": "2024-03-19T14:47:16.237Z"
   },
   {
    "duration": 118,
    "start_time": "2024-03-19T14:47:16.312Z"
   },
   {
    "duration": 108,
    "start_time": "2024-03-19T14:47:16.432Z"
   },
   {
    "duration": 36,
    "start_time": "2024-03-19T14:47:16.544Z"
   },
   {
    "duration": 331,
    "start_time": "2024-03-19T14:47:16.582Z"
   },
   {
    "duration": 44,
    "start_time": "2024-03-19T14:47:16.914Z"
   },
   {
    "duration": 47,
    "start_time": "2024-03-19T14:47:16.959Z"
   },
   {
    "duration": 106,
    "start_time": "2024-03-19T14:47:17.009Z"
   },
   {
    "duration": 44,
    "start_time": "2024-03-19T14:47:17.116Z"
   },
   {
    "duration": 110,
    "start_time": "2024-03-19T14:47:17.162Z"
   },
   {
    "duration": 40,
    "start_time": "2024-03-19T14:47:17.274Z"
   },
   {
    "duration": 227,
    "start_time": "2024-03-19T14:47:17.315Z"
   },
   {
    "duration": 35,
    "start_time": "2024-03-19T14:47:17.543Z"
   },
   {
    "duration": 4,
    "start_time": "2024-03-19T14:47:17.579Z"
   },
   {
    "duration": 110,
    "start_time": "2024-03-19T14:47:17.584Z"
   },
   {
    "duration": 38,
    "start_time": "2024-03-19T14:47:17.696Z"
   },
   {
    "duration": 117,
    "start_time": "2024-03-19T14:47:17.745Z"
   },
   {
    "duration": 27,
    "start_time": "2024-03-19T14:47:17.863Z"
   },
   {
    "duration": 10,
    "start_time": "2024-03-19T14:47:17.891Z"
   },
   {
    "duration": 226,
    "start_time": "2024-03-19T14:47:17.902Z"
   },
   {
    "duration": 305,
    "start_time": "2024-03-19T14:47:18.130Z"
   },
   {
    "duration": 212,
    "start_time": "2024-03-19T14:47:18.437Z"
   },
   {
    "duration": 223,
    "start_time": "2024-03-19T14:47:18.651Z"
   },
   {
    "duration": 32,
    "start_time": "2024-03-19T14:47:18.876Z"
   },
   {
    "duration": 38,
    "start_time": "2024-03-19T14:47:18.909Z"
   },
   {
    "duration": 16,
    "start_time": "2024-03-19T14:47:18.950Z"
   },
   {
    "duration": 15,
    "start_time": "2024-03-19T14:47:18.967Z"
   },
   {
    "duration": 213,
    "start_time": "2024-03-19T14:47:18.983Z"
   },
   {
    "duration": 13,
    "start_time": "2024-03-19T14:47:19.197Z"
   },
   {
    "duration": 5,
    "start_time": "2024-03-19T14:47:19.211Z"
   },
   {
    "duration": 7,
    "start_time": "2024-03-19T14:47:19.218Z"
   },
   {
    "duration": 20,
    "start_time": "2024-03-19T14:47:19.226Z"
   },
   {
    "duration": 99487,
    "start_time": "2024-03-19T14:47:19.247Z"
   },
   {
    "duration": 15,
    "start_time": "2024-03-19T14:48:58.735Z"
   },
   {
    "duration": 76,
    "start_time": "2024-03-19T14:48:58.751Z"
   },
   {
    "duration": 37,
    "start_time": "2024-03-19T14:49:58.847Z"
   },
   {
    "duration": 45,
    "start_time": "2024-03-19T14:50:36.666Z"
   },
   {
    "duration": 3644,
    "start_time": "2024-03-19T19:44:49.636Z"
   },
   {
    "duration": 3339,
    "start_time": "2024-03-19T19:44:53.282Z"
   },
   {
    "duration": 224,
    "start_time": "2024-03-19T19:44:56.623Z"
   },
   {
    "duration": 132,
    "start_time": "2024-03-19T19:44:56.850Z"
   },
   {
    "duration": 133,
    "start_time": "2024-03-19T19:44:56.984Z"
   },
   {
    "duration": 72,
    "start_time": "2024-03-19T19:44:57.119Z"
   },
   {
    "duration": 391,
    "start_time": "2024-03-19T19:44:57.193Z"
   },
   {
    "duration": 132,
    "start_time": "2024-03-19T19:44:57.586Z"
   },
   {
    "duration": 81,
    "start_time": "2024-03-19T19:44:57.719Z"
   },
   {
    "duration": 114,
    "start_time": "2024-03-19T19:44:57.802Z"
   },
   {
    "duration": 85,
    "start_time": "2024-03-19T19:44:57.918Z"
   },
   {
    "duration": 124,
    "start_time": "2024-03-19T19:44:58.005Z"
   },
   {
    "duration": 78,
    "start_time": "2024-03-19T19:44:58.132Z"
   },
   {
    "duration": 229,
    "start_time": "2024-03-19T19:44:58.211Z"
   },
   {
    "duration": 73,
    "start_time": "2024-03-19T19:44:58.442Z"
   },
   {
    "duration": 3,
    "start_time": "2024-03-19T19:44:59.332Z"
   },
   {
    "duration": 112,
    "start_time": "2024-03-19T19:44:59.480Z"
   },
   {
    "duration": 31,
    "start_time": "2024-03-19T19:45:01.243Z"
   },
   {
    "duration": 121,
    "start_time": "2024-03-19T19:45:01.553Z"
   },
   {
    "duration": 30,
    "start_time": "2024-03-19T19:45:03.345Z"
   },
   {
    "duration": 11,
    "start_time": "2024-03-19T19:45:17.788Z"
   },
   {
    "duration": 246,
    "start_time": "2024-03-19T19:45:19.793Z"
   },
   {
    "duration": 304,
    "start_time": "2024-03-19T19:45:20.839Z"
   },
   {
    "duration": 231,
    "start_time": "2024-03-19T19:45:21.464Z"
   },
   {
    "duration": 241,
    "start_time": "2024-03-19T19:45:22.334Z"
   },
   {
    "duration": 41,
    "start_time": "2024-03-19T19:45:24.310Z"
   },
   {
    "duration": 31,
    "start_time": "2024-03-19T19:45:35.888Z"
   },
   {
    "duration": 20,
    "start_time": "2024-03-19T19:45:36.054Z"
   },
   {
    "duration": 18,
    "start_time": "2024-03-19T19:45:38.072Z"
   },
   {
    "duration": 221,
    "start_time": "2024-03-19T19:45:43.569Z"
   },
   {
    "duration": 19,
    "start_time": "2024-03-19T19:45:44.716Z"
   },
   {
    "duration": 6,
    "start_time": "2024-03-19T19:45:53.313Z"
   },
   {
    "duration": 6,
    "start_time": "2024-03-19T19:45:58.231Z"
   },
   {
    "duration": 5,
    "start_time": "2024-03-19T19:46:03.545Z"
   },
   {
    "duration": 112043,
    "start_time": "2024-03-19T19:46:08.830Z"
   },
   {
    "duration": 38,
    "start_time": "2024-03-19T19:48:00.875Z"
   }
  ],
  "kernelspec": {
   "display_name": "Python 3 (ipykernel)",
   "language": "python",
   "name": "python3"
  },
  "language_info": {
   "codemirror_mode": {
    "name": "ipython",
    "version": 3
   },
   "file_extension": ".py",
   "mimetype": "text/x-python",
   "name": "python",
   "nbconvert_exporter": "python",
   "pygments_lexer": "ipython3",
   "version": "3.12.1"
  },
  "toc": {
   "base_numbering": 1,
   "nav_menu": {},
   "number_sections": true,
   "sideBar": true,
   "skip_h1_title": true,
   "title_cell": "Table of Contents",
   "title_sidebar": "Contents",
   "toc_cell": false,
   "toc_position": {},
   "toc_section_display": true,
   "toc_window_display": false
  }
 },
 "nbformat": 4,
 "nbformat_minor": 5
}
