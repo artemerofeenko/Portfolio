{
 "cells": [
  {
   "cell_type": "markdown",
   "metadata": {},
   "source": [
    "# Проект для «Викишоп»"
   ]
  },
  {
   "cell_type": "markdown",
   "metadata": {},
   "source": [
    "Интернет-магазин «Викишоп» запускает новый сервис. Теперь пользователи могут редактировать и дополнять описания товаров, как в вики-сообществах. То есть клиенты предлагают свои правки и комментируют изменения других. Магазину нужен инструмент, который будет искать токсичные комментарии и отправлять их на модерацию. \n",
    "\n",
    "Обучите модель классифицировать комментарии на позитивные и негативные. В вашем распоряжении набор данных с разметкой о токсичности правок.\n",
    "\n",
    "Постройте модель со значением метрики качества *F1* не меньше 0.75. \n",
    "\n",
    "**Инструкция по выполнению проекта**\n",
    "\n",
    "1. Загрузите и подготовьте данные.\n",
    "2. Обучите разные модели. \n",
    "3. Сделайте выводы.\n",
    "\n",
    "Для выполнения проекта применять *BERT* необязательно, но вы можете попробовать.\n",
    "\n",
    "**Описание данных**\n",
    "\n",
    "Данные находятся в файле `toxic_comments.csv`. Столбец *text* в нём содержит текст комментария, а *toxic* — целевой признак."
   ]
  },
  {
   "cell_type": "code",
   "execution_count": 1,
   "metadata": {},
   "outputs": [
    {
     "name": "stderr",
     "output_type": "stream",
     "text": [
      "[nltk_data] Downloading package wordnet to\n",
      "[nltk_data]     C:\\Users\\erofe\\AppData\\Roaming\\nltk_data...\n",
      "[nltk_data]   Package wordnet is already up-to-date!\n",
      "[nltk_data] Downloading package stopwords to\n",
      "[nltk_data]     C:\\Users\\erofe\\AppData\\Roaming\\nltk_data...\n",
      "[nltk_data]   Package stopwords is already up-to-date!\n"
     ]
    }
   ],
   "source": [
    "import nltk\n",
    "nltk.download('wordnet')\n",
    "nltk.download('stopwords')\n",
    "import pandas as pd\n",
    "import matplotlib.pyplot as plt\n",
    "import numpy as np\n",
    "from scipy import stats\n",
    "pd.options.mode.chained_assignment = None\n",
    "from sklearn.preprocessing import StandardScaler\n",
    "from sklearn.linear_model import LinearRegression\n",
    "from sklearn.linear_model import LogisticRegression\n",
    "from sklearn.model_selection import train_test_split\n",
    "from sklearn.metrics import accuracy_score\n",
    "from sklearn.metrics import recall_score\n",
    "from sklearn.metrics import precision_score\n",
    "from sklearn.metrics import confusion_matrix\n",
    "from sklearn.metrics import roc_auc_score\n",
    "from sklearn.metrics import r2_score\n",
    "from sklearn.metrics import mean_squared_error, mean_absolute_error\n",
    "import seaborn as sns\n",
    "from sklearn.preprocessing import OneHotEncoder\n",
    "from sklearn.preprocessing import OrdinalEncoder\n",
    "from sklearn.preprocessing import MinMaxScaler\n",
    "import warnings\n",
    "warnings.filterwarnings('ignore')\n",
    "from sklearn.compose import ColumnTransformer\n",
    "from sklearn.pipeline import Pipeline\n",
    "from sklearn.impute import SimpleImputer\n",
    "from sklearn.model_selection import GridSearchCV\n",
    "from sklearn.neighbors import KNeighborsClassifier\n",
    "from sklearn.tree import DecisionTreeClassifier\n",
    "from sklearn.tree import DecisionTreeRegressor\n",
    "from sklearn.neighbors import KNeighborsRegressor\n",
    "from sklearn.svm import SVC\n",
    "from sklearn.ensemble import RandomForestRegressor\n",
    "from sklearn.ensemble import GradientBoostingRegressor\n",
    "from sklearn.metrics import make_scorer\n",
    "from sklearn.svm import SVR\n",
    "from catboost import Pool, CatBoostRegressor, cv\n",
    "from lightgbm import LGBMRegressor\n",
    "import time\n",
    "from sklearn.feature_extraction.text import TfidfVectorizer\n",
    "from nltk.stem import WordNetLemmatizer\n",
    "from nltk.corpus import stopwords\n",
    "from sklearn.metrics import f1_score\n",
    "from sklearn.utils import class_weight\n",
    "from sklearn.ensemble import RandomForestClassifier\n",
    "import re\n",
    "import scipy\n",
    "import spacy\n",
    "import lightgbm as lgb\n",
    "from sklearn.linear_model import PassiveAggressiveClassifier"
   ]
  },
  {
   "cell_type": "markdown",
   "metadata": {},
   "source": [
    "## Подготовка"
   ]
  },
  {
   "cell_type": "code",
   "execution_count": 2,
   "metadata": {},
   "outputs": [
    {
     "name": "stdout",
     "output_type": "stream",
     "text": [
      "0\n",
      "   Unnamed: 0                                               text  toxic\n",
      "0           0  Explanation\\nWhy the edits made under my usern...      0\n",
      "1           1  D'aww! He matches this background colour I'm s...      0\n",
      "2           2  Hey man, I'm really not trying to edit war. It...      0\n",
      "3           3  \"\\nMore\\nI can't make any real suggestions on ...      0\n",
      "4           4  You, sir, are my hero. Any chance you remember...      0\n",
      "5           5  \"\\n\\nCongratulations from me as well, use the ...      0\n",
      "6           6       COCKSUCKER BEFORE YOU PISS AROUND ON MY WORK      1\n",
      "7           7  Your vandalism to the Matt Shirvington article...      0\n",
      "8           8  Sorry if the word 'nonsense' was offensive to ...      0\n",
      "9           9  alignment on this subject and which are contra...      0\n",
      "<class 'pandas.core.frame.DataFrame'>\n",
      "RangeIndex: 159292 entries, 0 to 159291\n",
      "Data columns (total 3 columns):\n",
      " #   Column      Non-Null Count   Dtype \n",
      "---  ------      --------------   ----- \n",
      " 0   Unnamed: 0  159292 non-null  int64 \n",
      " 1   text        159292 non-null  object\n",
      " 2   toxic       159292 non-null  int64 \n",
      "dtypes: int64(2), object(1)\n",
      "memory usage: 3.6+ MB\n",
      "None\n"
     ]
    }
   ],
   "source": [
    "#анализируем набор данных\n",
    "filepath = r\"C:\\Users\\erofe\\Downloads\\toxic_comments.csv\"\n",
    "df = pd.read_csv(filepath, sep=',')\n",
    "#ищем дубликаты\n",
    "print(df.duplicated().sum())\n",
    "#выводим первые 10 строк таблицы\n",
    "print(df.head(10))\n",
    "#выводим информацию о таблице\n",
    "print(df.info())"
   ]
  },
  {
   "cell_type": "markdown",
   "metadata": {},
   "source": [
    "с данными все хорошо, за исключением непонятного 1 столбца, который не был описан в условии."
   ]
  },
  {
   "cell_type": "code",
   "execution_count": 3,
   "metadata": {},
   "outputs": [
    {
     "data": {
      "text/plain": [
       "array([0, 1], dtype=int64)"
      ]
     },
     "execution_count": 3,
     "metadata": {},
     "output_type": "execute_result"
    }
   ],
   "source": [
    "#проверяем значения в столбце с оценкой\n",
    "df['toxic'].unique()"
   ]
  },
  {
   "cell_type": "markdown",
   "metadata": {},
   "source": [
    "Значения корректны"
   ]
  },
  {
   "cell_type": "code",
   "execution_count": 4,
   "metadata": {},
   "outputs": [
    {
     "data": {
      "text/plain": [
       "Unnamed: 0\n",
       "0         1\n",
       "106294    1\n",
       "106287    1\n",
       "106288    1\n",
       "106289    1\n",
       "         ..\n",
       "53159     1\n",
       "53160     1\n",
       "53161     1\n",
       "53162     1\n",
       "159450    1\n",
       "Name: count, Length: 159292, dtype: int64"
      ]
     },
     "execution_count": 4,
     "metadata": {},
     "output_type": "execute_result"
    }
   ],
   "source": [
    "#изучаем столбец с непонятными на 1 глаз данными\n",
    "df['Unnamed: 0'].value_counts()"
   ]
  },
  {
   "cell_type": "markdown",
   "metadata": {},
   "source": [
    "Скорее всего этот столбец является просто повторением индексов строк, так что его можно удалить."
   ]
  },
  {
   "cell_type": "code",
   "execution_count": 5,
   "metadata": {},
   "outputs": [
    {
     "data": {
      "text/html": [
       "<div>\n",
       "<style scoped>\n",
       "    .dataframe tbody tr th:only-of-type {\n",
       "        vertical-align: middle;\n",
       "    }\n",
       "\n",
       "    .dataframe tbody tr th {\n",
       "        vertical-align: top;\n",
       "    }\n",
       "\n",
       "    .dataframe thead th {\n",
       "        text-align: right;\n",
       "    }\n",
       "</style>\n",
       "<table border=\"1\" class=\"dataframe\">\n",
       "  <thead>\n",
       "    <tr style=\"text-align: right;\">\n",
       "      <th></th>\n",
       "      <th>text</th>\n",
       "      <th>toxic</th>\n",
       "    </tr>\n",
       "  </thead>\n",
       "  <tbody>\n",
       "    <tr>\n",
       "      <th>0</th>\n",
       "      <td>Explanation\\nWhy the edits made under my usern...</td>\n",
       "      <td>0</td>\n",
       "    </tr>\n",
       "    <tr>\n",
       "      <th>1</th>\n",
       "      <td>D'aww! He matches this background colour I'm s...</td>\n",
       "      <td>0</td>\n",
       "    </tr>\n",
       "    <tr>\n",
       "      <th>2</th>\n",
       "      <td>Hey man, I'm really not trying to edit war. It...</td>\n",
       "      <td>0</td>\n",
       "    </tr>\n",
       "    <tr>\n",
       "      <th>3</th>\n",
       "      <td>\"\\nMore\\nI can't make any real suggestions on ...</td>\n",
       "      <td>0</td>\n",
       "    </tr>\n",
       "    <tr>\n",
       "      <th>4</th>\n",
       "      <td>You, sir, are my hero. Any chance you remember...</td>\n",
       "      <td>0</td>\n",
       "    </tr>\n",
       "    <tr>\n",
       "      <th>...</th>\n",
       "      <td>...</td>\n",
       "      <td>...</td>\n",
       "    </tr>\n",
       "    <tr>\n",
       "      <th>159287</th>\n",
       "      <td>\":::::And for the second time of asking, when ...</td>\n",
       "      <td>0</td>\n",
       "    </tr>\n",
       "    <tr>\n",
       "      <th>159288</th>\n",
       "      <td>You should be ashamed of yourself \\n\\nThat is ...</td>\n",
       "      <td>0</td>\n",
       "    </tr>\n",
       "    <tr>\n",
       "      <th>159289</th>\n",
       "      <td>Spitzer \\n\\nUmm, theres no actual article for ...</td>\n",
       "      <td>0</td>\n",
       "    </tr>\n",
       "    <tr>\n",
       "      <th>159290</th>\n",
       "      <td>And it looks like it was actually you who put ...</td>\n",
       "      <td>0</td>\n",
       "    </tr>\n",
       "    <tr>\n",
       "      <th>159291</th>\n",
       "      <td>\"\\nAnd ... I really don't think you understand...</td>\n",
       "      <td>0</td>\n",
       "    </tr>\n",
       "  </tbody>\n",
       "</table>\n",
       "<p>159292 rows × 2 columns</p>\n",
       "</div>"
      ],
      "text/plain": [
       "                                                     text  toxic\n",
       "0       Explanation\\nWhy the edits made under my usern...      0\n",
       "1       D'aww! He matches this background colour I'm s...      0\n",
       "2       Hey man, I'm really not trying to edit war. It...      0\n",
       "3       \"\\nMore\\nI can't make any real suggestions on ...      0\n",
       "4       You, sir, are my hero. Any chance you remember...      0\n",
       "...                                                   ...    ...\n",
       "159287  \":::::And for the second time of asking, when ...      0\n",
       "159288  You should be ashamed of yourself \\n\\nThat is ...      0\n",
       "159289  Spitzer \\n\\nUmm, theres no actual article for ...      0\n",
       "159290  And it looks like it was actually you who put ...      0\n",
       "159291  \"\\nAnd ... I really don't think you understand...      0\n",
       "\n",
       "[159292 rows x 2 columns]"
      ]
     },
     "execution_count": 5,
     "metadata": {},
     "output_type": "execute_result"
    }
   ],
   "source": [
    "df = df.drop(['Unnamed: 0'], axis = 1)\n",
    "df"
   ]
  },
  {
   "cell_type": "code",
   "execution_count": 6,
   "metadata": {},
   "outputs": [],
   "source": [
    "#Очистим в тексте разделители строки и заглавные символы\n",
    "def cleaning(text):\n",
    "    text = re.sub(r\"(?:\\n|\\r)\", \" \", text)\n",
    "    text = re.sub(r\"[^a-zA-Z ]+\", \"\", text).strip()\n",
    "    text = text.lower()\n",
    "    return text\n",
    "\n",
    "df['text'] = df['text'].apply(cleaning)"
   ]
  },
  {
   "cell_type": "code",
   "execution_count": 7,
   "metadata": {},
   "outputs": [],
   "source": [
    "# Загрузка модели SpaCy для английского языка\n",
    "nlp = spacy.load(\"en_core_web_sm\")\n",
    "\n",
    "# Функция для лемматизации текста с использованием SpaCy\n",
    "def lemmatize_text_spacy(text):\n",
    "    doc = nlp(text)\n",
    "    return ' '.join([token.lemma_ for token in doc])\n",
    "\n",
    "# Применение лемматизации к текстам\n",
    "df['text_lemmatized'] = df['text'].apply(lemmatize_text_spacy)"
   ]
  },
  {
   "cell_type": "markdown",
   "metadata": {},
   "source": [
    "Вывод: В данной части работы была проведена подготовка и обработка данных, данные были загружены и удален столбец, который не несёт смысла. Так же была проведена очистка и лемматизация текста."
   ]
  },
  {
   "cell_type": "markdown",
   "metadata": {},
   "source": [
    "## Обучение"
   ]
  },
  {
   "cell_type": "code",
   "execution_count": 8,
   "metadata": {},
   "outputs": [
    {
     "name": "stdout",
     "output_type": "stream",
     "text": [
      "Best Parameters: {'C': 4, 'penalty': 'l1'}\n",
      "F1 Score: 0.7689655172413793\n"
     ]
    }
   ],
   "source": [
    "# Создание TF-IDF векторизатора\n",
    "vectorizer = TfidfVectorizer(stop_words=stopwords.words('english'))\n",
    "\n",
    "# Вычисление TF-IDF значений для текстов\n",
    "X = vectorizer.fit_transform(df['text_lemmatized'])\n",
    "y = df['toxic']\n",
    "\n",
    "# Разделение данных на обучающий и проверочный наборы\n",
    "X_train, X_prom, y_train, y_prom = train_test_split(X, y, test_size=0.4, random_state=42)\n",
    "X_val, X_test, y_val, y_test = train_test_split(X_prom, y_prom, test_size=0.5, random_state=42)\n",
    "\n",
    "\n",
    "# Определение параметров для GridSearchCV\n",
    "param_grid = {\n",
    "    'C': [0.1, 1, 4, 10, 100],\n",
    "    'penalty': ['l1', 'l2']\n",
    "}\n",
    "\n",
    "# Инициализация модели\n",
    "model = LogisticRegression(max_iter=100, random_state=12345, solver='liblinear')\n",
    "\n",
    "# Поиск лучших параметров\n",
    "grid_search = GridSearchCV(model, param_grid, scoring= 'f1', cv=5, n_jobs = -1)\n",
    "grid_search.fit(X_train, y_train)\n",
    "\n",
    "# Получение лучших параметров и оценка модели\n",
    "best_params = grid_search.best_params_\n",
    "best_model = grid_search.best_estimator_\n",
    "y_pred = best_model.predict(X_val)\n",
    "f1 = f1_score(y_val, y_pred)\n",
    "print(\"Best Parameters:\", best_params)\n",
    "print(\"F1 Score:\", f1)"
   ]
  },
  {
   "cell_type": "code",
   "execution_count": 9,
   "metadata": {},
   "outputs": [
    {
     "name": "stdout",
     "output_type": "stream",
     "text": [
      "Best Parameters: {'C': 0.1, 'loss': 'hinge'}\n",
      "F1 Score: 0.7688117126319374\n"
     ]
    }
   ],
   "source": [
    "# Определение параметров для GridSearchCV\n",
    "param_grid = {\n",
    "    'C': [0.1, 1, 4, 10, 100],\n",
    "    'loss': ['hinge', 'squared_hinge']\n",
    "}\n",
    "\n",
    "# Инициализация модели PassiveAggressiveClassifier\n",
    "model1 = PassiveAggressiveClassifier(random_state=12345)\n",
    "\n",
    "# Поиск лучших параметров\n",
    "grid_search = GridSearchCV(model1, param_grid, scoring='f1', cv=5, n_jobs=-1)\n",
    "grid_search.fit(X_train, y_train)\n",
    "\n",
    "# Получение лучших параметров и оценка модели\n",
    "best_params1 = grid_search.best_params_\n",
    "best_model1 = grid_search.best_estimator_\n",
    "y_pred = best_model1.predict(X_val)\n",
    "f1 = f1_score(y_val, y_pred)\n",
    "print(\"Best Parameters:\", best_params1)\n",
    "print(\"F1 Score:\", f1)"
   ]
  },
  {
   "cell_type": "markdown",
   "metadata": {},
   "source": [
    "Лучшей моделью оказалась PassiveAggressiveClassifier, ее и будем тестировать."
   ]
  },
  {
   "cell_type": "code",
   "execution_count": 10,
   "metadata": {},
   "outputs": [
    {
     "name": "stdout",
     "output_type": "stream",
     "text": [
      "F1 Score on Test Data: 0.7878057182225284\n"
     ]
    }
   ],
   "source": [
    "# Создание модели с лучшими параметрами\n",
    "best_model = PassiveAggressiveClassifier(random_state=12345, **best_params1)\n",
    "\n",
    "# Объединение обучающих и валидационных данных\n",
    "X_train_full = scipy.sparse.vstack([X_train, X_val])\n",
    "y_train_full = pd.concat([y_train, y_val])\n",
    "\n",
    "# Обучение модели на всех обучающих данных\n",
    "best_model.fit(X_train_full, y_train_full)\n",
    "\n",
    "# Предсказание на тестовых данных\n",
    "y_test_pred = best_model.predict(X_test)\n",
    "\n",
    "# Оценка качества модели на тестовых данных\n",
    "f1_test = f1_score(y_test, y_test_pred)\n",
    "print(\"F1 Score on Test Data:\", f1_test)"
   ]
  },
  {
   "cell_type": "markdown",
   "metadata": {},
   "source": [
    "Модель показала достойное значение."
   ]
  },
  {
   "cell_type": "markdown",
   "metadata": {},
   "source": [
    "## Выводы"
   ]
  },
  {
   "cell_type": "markdown",
   "metadata": {},
   "source": [
    "В 1 части работы была проведена загрузка и подготовкеа данных. Данные состояли из 3 столбцов(Один ненужный с индексами, который был удален, столбец с самим комментарием и столбец с определением токсичности(целевой признак)). Была так же проведена лемматизация и очистка текста. Во 2 части работы были обучены и протестированы 2 модели PassiveAggressiveClassifier и LogisticRegression, лучшей оказалась PassiveAggressiveClassifier, она и была использована на тестовых данных, где показала нужное нам значение метрики f1 (больше 0.75)"
   ]
  }
 ],
 "metadata": {
  "ExecuteTimeLog": [
   {
    "duration": 1894,
    "start_time": "2024-02-13T12:11:20.547Z"
   },
   {
    "duration": 4038,
    "start_time": "2024-02-13T12:11:22.443Z"
   },
   {
    "duration": 7,
    "start_time": "2024-02-13T12:12:44.028Z"
   },
   {
    "duration": 8,
    "start_time": "2024-02-13T12:12:58.702Z"
   },
   {
    "duration": 16,
    "start_time": "2024-02-13T12:14:28.825Z"
   },
   {
    "duration": 34,
    "start_time": "2024-02-13T12:17:13.733Z"
   },
   {
    "duration": 1424,
    "start_time": "2024-02-13T12:18:36.756Z"
   },
   {
    "duration": 16,
    "start_time": "2024-02-13T12:18:38.212Z"
   },
   {
    "duration": 1643,
    "start_time": "2024-02-13T12:19:57.191Z"
   },
   {
    "duration": 1374,
    "start_time": "2024-02-13T12:19:58.836Z"
   },
   {
    "duration": 8,
    "start_time": "2024-02-13T12:20:00.216Z"
   },
   {
    "duration": 240,
    "start_time": "2024-02-13T12:20:00.226Z"
   },
   {
    "duration": 66,
    "start_time": "2024-02-13T12:20:00.468Z"
   },
   {
    "duration": 2089,
    "start_time": "2024-02-13T12:31:24.177Z"
   },
   {
    "duration": 1340,
    "start_time": "2024-02-13T12:31:26.268Z"
   },
   {
    "duration": 8,
    "start_time": "2024-02-13T12:31:27.610Z"
   },
   {
    "duration": 20,
    "start_time": "2024-02-13T12:31:27.619Z"
   },
   {
    "duration": 23,
    "start_time": "2024-02-13T12:31:27.644Z"
   },
   {
    "duration": 183,
    "start_time": "2024-02-13T12:31:27.669Z"
   },
   {
    "duration": 12,
    "start_time": "2024-02-13T12:33:43.017Z"
   },
   {
    "duration": 50623,
    "start_time": "2024-02-13T12:33:58.085Z"
   },
   {
    "duration": 2148,
    "start_time": "2024-02-13T12:41:26.375Z"
   },
   {
    "duration": 1379,
    "start_time": "2024-02-13T12:41:28.525Z"
   },
   {
    "duration": 17,
    "start_time": "2024-02-13T12:41:29.909Z"
   },
   {
    "duration": 38,
    "start_time": "2024-02-13T12:41:29.932Z"
   },
   {
    "duration": 33,
    "start_time": "2024-02-13T12:41:29.972Z"
   },
   {
    "duration": 51696,
    "start_time": "2024-02-13T12:41:30.011Z"
   },
   {
    "duration": 49443,
    "start_time": "2024-02-13T12:44:37.095Z"
   },
   {
    "duration": 49645,
    "start_time": "2024-02-13T12:47:31.566Z"
   },
   {
    "duration": 50492,
    "start_time": "2024-02-13T12:52:31.656Z"
   },
   {
    "duration": 7,
    "start_time": "2024-02-13T12:53:30.295Z"
   },
   {
    "duration": 17,
    "start_time": "2024-02-13T12:53:39.207Z"
   },
   {
    "duration": 6,
    "start_time": "2024-02-13T12:53:45.924Z"
   },
   {
    "duration": 8,
    "start_time": "2024-02-13T12:59:58.998Z"
   },
   {
    "duration": 2100,
    "start_time": "2024-02-13T13:05:08.261Z"
   },
   {
    "duration": 1316,
    "start_time": "2024-02-13T13:05:10.363Z"
   },
   {
    "duration": 19,
    "start_time": "2024-02-13T13:05:11.681Z"
   },
   {
    "duration": 32,
    "start_time": "2024-02-13T13:05:11.709Z"
   },
   {
    "duration": 29,
    "start_time": "2024-02-13T13:05:11.743Z"
   },
   {
    "duration": 49794,
    "start_time": "2024-02-13T13:05:11.774Z"
   },
   {
    "duration": 5,
    "start_time": "2024-02-13T13:06:01.570Z"
   },
   {
    "duration": 2200,
    "start_time": "2024-02-13T13:25:27.220Z"
   },
   {
    "duration": 1375,
    "start_time": "2024-02-13T13:25:29.429Z"
   },
   {
    "duration": 9,
    "start_time": "2024-02-13T13:25:30.806Z"
   },
   {
    "duration": 40,
    "start_time": "2024-02-13T13:25:30.818Z"
   },
   {
    "duration": 67,
    "start_time": "2024-02-13T13:25:30.860Z"
   },
   {
    "duration": 41933,
    "start_time": "2024-02-13T13:25:30.929Z"
   },
   {
    "duration": 8,
    "start_time": "2024-02-13T13:26:12.863Z"
   },
   {
    "duration": 649,
    "start_time": "2024-02-13T13:26:12.873Z"
   },
   {
    "duration": 2121,
    "start_time": "2024-02-13T13:34:13.584Z"
   },
   {
    "duration": 1333,
    "start_time": "2024-02-13T13:34:15.713Z"
   },
   {
    "duration": 6,
    "start_time": "2024-02-13T13:34:17.047Z"
   },
   {
    "duration": 14,
    "start_time": "2024-02-13T13:34:17.055Z"
   },
   {
    "duration": 51,
    "start_time": "2024-02-13T13:34:17.071Z"
   },
   {
    "duration": 41252,
    "start_time": "2024-02-13T13:34:17.123Z"
   },
   {
    "duration": 177,
    "start_time": "2024-02-13T13:34:58.377Z"
   },
   {
    "duration": 0,
    "start_time": "2024-02-13T13:34:58.555Z"
   },
   {
    "duration": 6,
    "start_time": "2024-02-13T13:35:34.520Z"
   },
   {
    "duration": 492,
    "start_time": "2024-02-13T13:35:35.375Z"
   },
   {
    "duration": 6,
    "start_time": "2024-02-13T13:36:04.546Z"
   },
   {
    "duration": 5,
    "start_time": "2024-02-13T13:36:13.747Z"
   },
   {
    "duration": 10,
    "start_time": "2024-02-13T13:38:30.753Z"
   },
   {
    "duration": 11,
    "start_time": "2024-02-13T13:38:39.171Z"
   },
   {
    "duration": 6,
    "start_time": "2024-02-13T13:38:51.239Z"
   },
   {
    "duration": 12,
    "start_time": "2024-02-13T13:39:23.860Z"
   },
   {
    "duration": 28,
    "start_time": "2024-02-13T13:39:40.484Z"
   },
   {
    "duration": 31,
    "start_time": "2024-02-13T13:39:49.184Z"
   },
   {
    "duration": 9,
    "start_time": "2024-02-13T13:40:45.586Z"
   },
   {
    "duration": 10,
    "start_time": "2024-02-13T13:40:47.736Z"
   },
   {
    "duration": 16,
    "start_time": "2024-02-13T13:40:55.427Z"
   },
   {
    "duration": 24,
    "start_time": "2024-02-13T13:40:55.626Z"
   },
   {
    "duration": 2121,
    "start_time": "2024-02-13T13:41:16.815Z"
   },
   {
    "duration": 1349,
    "start_time": "2024-02-13T13:41:18.938Z"
   },
   {
    "duration": 27,
    "start_time": "2024-02-13T13:41:20.289Z"
   },
   {
    "duration": 28,
    "start_time": "2024-02-13T13:41:20.319Z"
   },
   {
    "duration": 22,
    "start_time": "2024-02-13T13:41:20.349Z"
   },
   {
    "duration": 41447,
    "start_time": "2024-02-13T13:41:20.373Z"
   },
   {
    "duration": 7,
    "start_time": "2024-02-13T13:42:01.822Z"
   },
   {
    "duration": 1204,
    "start_time": "2024-02-13T13:42:01.831Z"
   },
   {
    "duration": 0,
    "start_time": "2024-02-13T13:42:03.037Z"
   },
   {
    "duration": 0,
    "start_time": "2024-02-13T13:42:03.038Z"
   },
   {
    "duration": 10,
    "start_time": "2024-02-13T13:42:46.341Z"
   },
   {
    "duration": 25,
    "start_time": "2024-02-13T13:42:48.108Z"
   },
   {
    "duration": 539,
    "start_time": "2024-02-13T13:42:49.664Z"
   },
   {
    "duration": 37301,
    "start_time": "2024-02-13T13:45:55.768Z"
   },
   {
    "duration": 6,
    "start_time": "2024-02-13T13:46:33.071Z"
   },
   {
    "duration": 365,
    "start_time": "2024-02-13T13:46:33.079Z"
   },
   {
    "duration": 36821,
    "start_time": "2024-02-13T13:48:30.275Z"
   },
   {
    "duration": 5,
    "start_time": "2024-02-13T13:49:07.098Z"
   },
   {
    "duration": 470,
    "start_time": "2024-02-13T13:49:07.109Z"
   },
   {
    "duration": 2226,
    "start_time": "2024-02-13T13:50:01.458Z"
   },
   {
    "duration": 1259,
    "start_time": "2024-02-13T13:50:03.686Z"
   },
   {
    "duration": 6,
    "start_time": "2024-02-13T13:50:04.946Z"
   },
   {
    "duration": 33,
    "start_time": "2024-02-13T13:50:04.954Z"
   },
   {
    "duration": 40,
    "start_time": "2024-02-13T13:50:04.989Z"
   },
   {
    "duration": 38153,
    "start_time": "2024-02-13T13:50:05.030Z"
   },
   {
    "duration": 99,
    "start_time": "2024-02-13T13:50:43.185Z"
   },
   {
    "duration": 0,
    "start_time": "2024-02-13T13:50:43.285Z"
   },
   {
    "duration": 4,
    "start_time": "2024-02-13T13:51:33.128Z"
   },
   {
    "duration": 553,
    "start_time": "2024-02-13T13:51:34.583Z"
   },
   {
    "duration": 2032,
    "start_time": "2024-02-13T13:52:37.430Z"
   },
   {
    "duration": 1343,
    "start_time": "2024-02-13T13:52:39.464Z"
   },
   {
    "duration": 6,
    "start_time": "2024-02-13T13:52:40.808Z"
   },
   {
    "duration": 33,
    "start_time": "2024-02-13T13:52:40.816Z"
   },
   {
    "duration": 82,
    "start_time": "2024-02-13T13:52:40.851Z"
   },
   {
    "duration": 37645,
    "start_time": "2024-02-13T13:52:40.935Z"
   },
   {
    "duration": 21,
    "start_time": "2024-02-13T13:53:18.582Z"
   },
   {
    "duration": 603,
    "start_time": "2024-02-13T13:53:18.604Z"
   },
   {
    "duration": 2081,
    "start_time": "2024-02-13T14:01:25.876Z"
   },
   {
    "duration": 1249,
    "start_time": "2024-02-13T14:01:27.959Z"
   },
   {
    "duration": 6,
    "start_time": "2024-02-13T14:01:29.210Z"
   },
   {
    "duration": 15,
    "start_time": "2024-02-13T14:01:29.218Z"
   },
   {
    "duration": 20,
    "start_time": "2024-02-13T14:01:29.235Z"
   },
   {
    "duration": 38003,
    "start_time": "2024-02-13T14:01:29.257Z"
   },
   {
    "duration": 7,
    "start_time": "2024-02-13T14:02:07.261Z"
   },
   {
    "duration": 501,
    "start_time": "2024-02-13T14:02:07.269Z"
   },
   {
    "duration": 1992,
    "start_time": "2024-02-13T14:08:07.611Z"
   },
   {
    "duration": 1304,
    "start_time": "2024-02-13T14:08:09.605Z"
   },
   {
    "duration": 7,
    "start_time": "2024-02-13T14:08:10.910Z"
   },
   {
    "duration": 54,
    "start_time": "2024-02-13T14:08:10.918Z"
   },
   {
    "duration": 66,
    "start_time": "2024-02-13T14:08:10.975Z"
   },
   {
    "duration": 37524,
    "start_time": "2024-02-13T14:08:11.043Z"
   },
   {
    "duration": 6,
    "start_time": "2024-02-13T14:08:48.568Z"
   },
   {
    "duration": 996,
    "start_time": "2024-02-13T14:08:48.576Z"
   },
   {
    "duration": 2119,
    "start_time": "2024-02-13T14:10:01.168Z"
   },
   {
    "duration": 1286,
    "start_time": "2024-02-13T14:10:03.289Z"
   },
   {
    "duration": 7,
    "start_time": "2024-02-13T14:10:04.576Z"
   },
   {
    "duration": 22,
    "start_time": "2024-02-13T14:10:04.593Z"
   },
   {
    "duration": 21,
    "start_time": "2024-02-13T14:10:04.618Z"
   },
   {
    "duration": 37449,
    "start_time": "2024-02-13T14:10:04.641Z"
   },
   {
    "duration": 7,
    "start_time": "2024-02-13T14:10:42.094Z"
   },
   {
    "duration": 646,
    "start_time": "2024-02-13T14:10:42.103Z"
   },
   {
    "duration": 2122,
    "start_time": "2024-02-13T14:11:08.106Z"
   },
   {
    "duration": 1273,
    "start_time": "2024-02-13T14:11:10.230Z"
   },
   {
    "duration": 6,
    "start_time": "2024-02-13T14:11:11.505Z"
   },
   {
    "duration": 17,
    "start_time": "2024-02-13T14:11:11.513Z"
   },
   {
    "duration": 20,
    "start_time": "2024-02-13T14:11:11.533Z"
   },
   {
    "duration": 37670,
    "start_time": "2024-02-13T14:11:11.555Z"
   },
   {
    "duration": 7,
    "start_time": "2024-02-13T14:11:49.226Z"
   },
   {
    "duration": 674,
    "start_time": "2024-02-13T14:11:49.235Z"
   },
   {
    "duration": 47010,
    "start_time": "2024-02-13T14:14:52.608Z"
   },
   {
    "duration": 2020,
    "start_time": "2024-02-13T14:19:08.016Z"
   },
   {
    "duration": 1288,
    "start_time": "2024-02-13T14:19:10.038Z"
   },
   {
    "duration": 7,
    "start_time": "2024-02-13T14:19:11.328Z"
   },
   {
    "duration": 15,
    "start_time": "2024-02-13T14:19:11.337Z"
   },
   {
    "duration": 20,
    "start_time": "2024-02-13T14:19:11.354Z"
   },
   {
    "duration": 2105,
    "start_time": "2024-02-13T14:19:38.708Z"
   },
   {
    "duration": 1293,
    "start_time": "2024-02-13T14:19:40.815Z"
   },
   {
    "duration": 6,
    "start_time": "2024-02-13T14:19:42.110Z"
   },
   {
    "duration": 20,
    "start_time": "2024-02-13T14:19:42.118Z"
   },
   {
    "duration": 20,
    "start_time": "2024-02-13T14:19:42.140Z"
   },
   {
    "duration": 95927,
    "start_time": "2024-02-13T14:19:42.162Z"
   },
   {
    "duration": 141,
    "start_time": "2024-02-13T14:23:17.729Z"
   },
   {
    "duration": 9,
    "start_time": "2024-02-13T14:23:37.804Z"
   },
   {
    "duration": 2268,
    "start_time": "2024-02-14T16:47:59.883Z"
   },
   {
    "duration": 3668,
    "start_time": "2024-02-14T16:48:02.154Z"
   },
   {
    "duration": 5,
    "start_time": "2024-02-14T16:48:05.824Z"
   },
   {
    "duration": 14,
    "start_time": "2024-02-14T16:48:05.830Z"
   },
   {
    "duration": 18,
    "start_time": "2024-02-14T16:48:05.846Z"
   },
   {
    "duration": 86110,
    "start_time": "2024-02-14T16:48:05.866Z"
   },
   {
    "duration": 1840,
    "start_time": "2024-02-14T17:16:04.066Z"
   },
   {
    "duration": 1102,
    "start_time": "2024-02-14T17:16:05.909Z"
   },
   {
    "duration": 6,
    "start_time": "2024-02-14T17:16:07.013Z"
   },
   {
    "duration": 22,
    "start_time": "2024-02-14T17:16:07.021Z"
   },
   {
    "duration": 19,
    "start_time": "2024-02-14T17:16:07.045Z"
   },
   {
    "duration": 83569,
    "start_time": "2024-02-14T17:16:07.065Z"
   },
   {
    "duration": 1873,
    "start_time": "2024-02-14T18:16:23.163Z"
   },
   {
    "duration": 1116,
    "start_time": "2024-02-14T18:16:25.038Z"
   },
   {
    "duration": 7,
    "start_time": "2024-02-14T18:16:26.156Z"
   },
   {
    "duration": 75,
    "start_time": "2024-02-14T18:16:26.164Z"
   },
   {
    "duration": 38,
    "start_time": "2024-02-14T18:16:26.241Z"
   },
   {
    "duration": 79622,
    "start_time": "2024-02-14T18:16:26.281Z"
   },
   {
    "duration": 146,
    "start_time": "2024-02-14T18:17:45.905Z"
   },
   {
    "duration": 1917,
    "start_time": "2024-02-14T19:10:02.747Z"
   },
   {
    "duration": 1084,
    "start_time": "2024-02-14T19:10:04.666Z"
   },
   {
    "duration": 5,
    "start_time": "2024-02-14T19:10:05.752Z"
   },
   {
    "duration": 28,
    "start_time": "2024-02-14T19:10:05.759Z"
   },
   {
    "duration": 18,
    "start_time": "2024-02-14T19:10:05.789Z"
   },
   {
    "duration": 64749,
    "start_time": "2024-02-14T19:10:05.809Z"
   },
   {
    "duration": 1871,
    "start_time": "2024-02-14T19:13:14.915Z"
   },
   {
    "duration": 1080,
    "start_time": "2024-02-14T19:13:16.788Z"
   },
   {
    "duration": 5,
    "start_time": "2024-02-14T19:13:17.870Z"
   },
   {
    "duration": 86,
    "start_time": "2024-02-14T19:13:17.876Z"
   },
   {
    "duration": 52,
    "start_time": "2024-02-14T19:13:17.964Z"
   },
   {
    "duration": 51183,
    "start_time": "2024-02-14T19:13:18.018Z"
   },
   {
    "duration": 1856,
    "start_time": "2024-02-14T19:14:53.899Z"
   },
   {
    "duration": 1054,
    "start_time": "2024-02-14T19:14:55.757Z"
   },
   {
    "duration": 7,
    "start_time": "2024-02-14T19:14:56.813Z"
   },
   {
    "duration": 48,
    "start_time": "2024-02-14T19:14:56.821Z"
   },
   {
    "duration": 29,
    "start_time": "2024-02-14T19:14:56.872Z"
   },
   {
    "duration": 1880,
    "start_time": "2024-02-14T19:16:03.298Z"
   },
   {
    "duration": 1079,
    "start_time": "2024-02-14T19:16:05.180Z"
   },
   {
    "duration": 7,
    "start_time": "2024-02-14T19:16:06.260Z"
   },
   {
    "duration": 22,
    "start_time": "2024-02-14T19:16:06.268Z"
   },
   {
    "duration": 28,
    "start_time": "2024-02-14T19:16:06.295Z"
   },
   {
    "duration": 102,
    "start_time": "2024-02-14T19:16:06.325Z"
   },
   {
    "duration": 133,
    "start_time": "2024-02-14T19:17:44.011Z"
   },
   {
    "duration": 1904,
    "start_time": "2024-02-14T19:19:39.856Z"
   },
   {
    "duration": 1071,
    "start_time": "2024-02-14T19:19:41.762Z"
   },
   {
    "duration": 6,
    "start_time": "2024-02-14T19:19:42.834Z"
   },
   {
    "duration": 13,
    "start_time": "2024-02-14T19:19:42.841Z"
   },
   {
    "duration": 19,
    "start_time": "2024-02-14T19:19:42.855Z"
   },
   {
    "duration": 470,
    "start_time": "2024-02-14T19:19:42.894Z"
   },
   {
    "duration": 0,
    "start_time": "2024-02-14T19:19:43.365Z"
   },
   {
    "duration": 1840,
    "start_time": "2024-02-14T19:20:22.399Z"
   },
   {
    "duration": 1081,
    "start_time": "2024-02-14T19:20:24.241Z"
   },
   {
    "duration": 6,
    "start_time": "2024-02-14T19:20:25.323Z"
   },
   {
    "duration": 31,
    "start_time": "2024-02-14T19:20:25.330Z"
   },
   {
    "duration": 21,
    "start_time": "2024-02-14T19:20:25.363Z"
   },
   {
    "duration": 2537,
    "start_time": "2024-02-14T19:20:25.386Z"
   },
   {
    "duration": 65148,
    "start_time": "2024-02-14T19:20:27.925Z"
   },
   {
    "duration": 1811,
    "start_time": "2024-02-14T19:24:02.067Z"
   },
   {
    "duration": 1086,
    "start_time": "2024-02-14T19:24:03.880Z"
   },
   {
    "duration": 6,
    "start_time": "2024-02-14T19:24:04.968Z"
   },
   {
    "duration": 26,
    "start_time": "2024-02-14T19:24:04.976Z"
   },
   {
    "duration": 21,
    "start_time": "2024-02-14T19:24:05.005Z"
   },
   {
    "duration": 2548,
    "start_time": "2024-02-14T19:24:05.027Z"
   },
   {
    "duration": 71828,
    "start_time": "2024-02-14T19:24:07.577Z"
   },
   {
    "duration": 1912,
    "start_time": "2024-02-14T19:28:24.675Z"
   },
   {
    "duration": 1061,
    "start_time": "2024-02-14T19:28:26.589Z"
   },
   {
    "duration": 5,
    "start_time": "2024-02-14T19:28:27.651Z"
   },
   {
    "duration": 15,
    "start_time": "2024-02-14T19:28:27.658Z"
   },
   {
    "duration": 30,
    "start_time": "2024-02-14T19:28:27.674Z"
   },
   {
    "duration": 2478,
    "start_time": "2024-02-14T19:28:27.705Z"
   },
   {
    "duration": 468722,
    "start_time": "2024-02-14T19:28:30.185Z"
   },
   {
    "duration": 1805,
    "start_time": "2024-02-14T19:43:11.223Z"
   },
   {
    "duration": 1099,
    "start_time": "2024-02-14T19:43:13.030Z"
   },
   {
    "duration": 6,
    "start_time": "2024-02-14T19:43:14.130Z"
   },
   {
    "duration": 25,
    "start_time": "2024-02-14T19:43:14.137Z"
   },
   {
    "duration": 23,
    "start_time": "2024-02-14T19:43:14.164Z"
   },
   {
    "duration": 2529,
    "start_time": "2024-02-14T19:43:14.188Z"
   },
   {
    "duration": 378999,
    "start_time": "2024-02-14T19:43:16.720Z"
   },
   {
    "duration": 128,
    "start_time": "2024-02-14T19:49:35.721Z"
   },
   {
    "duration": 1852,
    "start_time": "2024-02-14T19:50:40.391Z"
   },
   {
    "duration": 1116,
    "start_time": "2024-02-14T19:50:42.244Z"
   },
   {
    "duration": 6,
    "start_time": "2024-02-14T19:50:43.362Z"
   },
   {
    "duration": 13,
    "start_time": "2024-02-14T19:50:43.369Z"
   },
   {
    "duration": 41,
    "start_time": "2024-02-14T19:50:43.383Z"
   },
   {
    "duration": 2704,
    "start_time": "2024-02-14T19:50:43.425Z"
   },
   {
    "duration": 346357,
    "start_time": "2024-02-14T19:50:46.130Z"
   },
   {
    "duration": 2289,
    "start_time": "2024-02-14T19:56:32.488Z"
   },
   {
    "duration": 1838,
    "start_time": "2024-02-14T20:02:24.933Z"
   },
   {
    "duration": 1094,
    "start_time": "2024-02-14T20:02:26.773Z"
   },
   {
    "duration": 5,
    "start_time": "2024-02-14T20:02:27.869Z"
   },
   {
    "duration": 50,
    "start_time": "2024-02-14T20:02:27.875Z"
   },
   {
    "duration": 24,
    "start_time": "2024-02-14T20:02:27.927Z"
   },
   {
    "duration": 2522,
    "start_time": "2024-02-14T20:02:27.952Z"
   },
   {
    "duration": 378833,
    "start_time": "2024-02-14T20:02:30.476Z"
   },
   {
    "duration": 2328,
    "start_time": "2024-02-14T20:08:49.311Z"
   },
   {
    "duration": 10864,
    "start_time": "2024-02-16T09:41:17.169Z"
   },
   {
    "duration": 4443,
    "start_time": "2024-02-16T09:48:14.378Z"
   },
   {
    "duration": 2588,
    "start_time": "2024-02-16T09:48:18.823Z"
   },
   {
    "duration": 5,
    "start_time": "2024-02-16T09:48:21.412Z"
   },
   {
    "duration": 18,
    "start_time": "2024-02-16T09:48:21.419Z"
   },
   {
    "duration": 32,
    "start_time": "2024-02-16T09:48:21.438Z"
   },
   {
    "duration": 2527,
    "start_time": "2024-02-16T09:48:21.471Z"
   },
   {
    "duration": 4255,
    "start_time": "2024-02-16T09:48:57.173Z"
   },
   {
    "duration": 1086,
    "start_time": "2024-02-16T09:49:01.430Z"
   },
   {
    "duration": 5,
    "start_time": "2024-02-16T09:49:02.518Z"
   },
   {
    "duration": 34,
    "start_time": "2024-02-16T09:49:02.525Z"
   },
   {
    "duration": 36,
    "start_time": "2024-02-16T09:49:02.561Z"
   },
   {
    "duration": 2490,
    "start_time": "2024-02-16T09:49:02.598Z"
   },
   {
    "duration": 2171100,
    "start_time": "2024-02-16T09:49:05.090Z"
   },
   {
    "duration": 355743,
    "start_time": "2024-02-16T10:25:16.191Z"
   },
   {
    "duration": 4319,
    "start_time": "2024-02-16T11:00:27.371Z"
   },
   {
    "duration": 1116,
    "start_time": "2024-02-16T11:00:31.692Z"
   },
   {
    "duration": 6,
    "start_time": "2024-02-16T11:00:32.810Z"
   },
   {
    "duration": 80,
    "start_time": "2024-02-16T11:00:32.817Z"
   },
   {
    "duration": 55,
    "start_time": "2024-02-16T11:00:32.899Z"
   },
   {
    "duration": 2584,
    "start_time": "2024-02-16T11:00:32.955Z"
   },
   {
    "duration": 4359,
    "start_time": "2024-02-16T11:01:01.709Z"
   },
   {
    "duration": 1101,
    "start_time": "2024-02-16T11:01:06.070Z"
   },
   {
    "duration": 5,
    "start_time": "2024-02-16T11:01:07.173Z"
   },
   {
    "duration": 36,
    "start_time": "2024-02-16T11:01:07.180Z"
   },
   {
    "duration": 19,
    "start_time": "2024-02-16T11:01:07.217Z"
   },
   {
    "duration": 2541,
    "start_time": "2024-02-16T11:01:07.237Z"
   },
   {
    "duration": 2176804,
    "start_time": "2024-02-16T11:01:09.779Z"
   },
   {
    "duration": 334276,
    "start_time": "2024-02-16T11:37:26.585Z"
   },
   {
    "duration": 31962,
    "start_time": "2024-02-16T11:43:00.865Z"
   },
   {
    "duration": 2369,
    "start_time": "2024-02-16T11:43:32.829Z"
   },
   {
    "duration": 4270,
    "start_time": "2024-02-16T11:56:32.974Z"
   },
   {
    "duration": 1110,
    "start_time": "2024-02-16T11:56:37.246Z"
   },
   {
    "duration": 8,
    "start_time": "2024-02-16T11:56:38.358Z"
   },
   {
    "duration": 12,
    "start_time": "2024-02-16T11:56:38.367Z"
   },
   {
    "duration": 19,
    "start_time": "2024-02-16T11:56:38.381Z"
   },
   {
    "duration": 2511,
    "start_time": "2024-02-16T11:56:38.402Z"
   },
   {
    "duration": 2130494,
    "start_time": "2024-02-16T11:56:40.915Z"
   },
   {
    "duration": 345811,
    "start_time": "2024-02-16T12:32:11.410Z"
   },
   {
    "duration": 32161,
    "start_time": "2024-02-16T12:37:57.222Z"
   },
   {
    "duration": 74,
    "start_time": "2024-02-16T12:38:29.384Z"
   },
   {
    "duration": 0,
    "start_time": "2024-02-16T12:38:29.460Z"
   },
   {
    "duration": 350,
    "start_time": "2024-02-16T12:39:23.384Z"
   },
   {
    "duration": 1231,
    "start_time": "2024-02-16T12:39:48.405Z"
   }
  ],
  "kernelspec": {
   "display_name": "Python 3 (ipykernel)",
   "language": "python",
   "name": "python3"
  },
  "language_info": {
   "codemirror_mode": {
    "name": "ipython",
    "version": 3
   },
   "file_extension": ".py",
   "mimetype": "text/x-python",
   "name": "python",
   "nbconvert_exporter": "python",
   "pygments_lexer": "ipython3",
   "version": "3.12.1"
  },
  "toc": {
   "base_numbering": 1,
   "nav_menu": {},
   "number_sections": true,
   "sideBar": true,
   "skip_h1_title": true,
   "title_cell": "Содержание",
   "title_sidebar": "Contents",
   "toc_cell": true,
   "toc_position": {
    "height": "calc(100% - 180px)",
    "left": "10px",
    "top": "150px",
    "width": "302.391px"
   },
   "toc_section_display": true,
   "toc_window_display": false
  }
 },
 "nbformat": 4,
 "nbformat_minor": 4
}
