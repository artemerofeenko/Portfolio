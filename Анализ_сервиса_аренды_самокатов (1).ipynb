{
 "cells": [
  {
   "cell_type": "markdown",
   "id": "fc8dff8f",
   "metadata": {},
   "source": [
    "# Анализ сервиса аренды самокатов GoFast"
   ]
  },
  {
   "cell_type": "markdown",
   "id": "97c60a32",
   "metadata": {},
   "source": [
    "## Описание проекта"
   ]
  },
  {
   "cell_type": "markdown",
   "id": "ce15eaa6",
   "metadata": {},
   "source": [
    "Данный проект подразумевает под собой общий анализ сервиса по аренде электросамокатов и проверке гипотез о том, какие пользователи прибыльнее для компании - с подпиской или без нее."
   ]
  },
  {
   "cell_type": "markdown",
   "id": "df33c432",
   "metadata": {},
   "source": [
    "## Цель проекта"
   ]
  },
  {
   "cell_type": "markdown",
   "id": "35c1849c",
   "metadata": {},
   "source": [
    "Выяснить являются ли пользователи с подпиской \"выгоднее\" для компании."
   ]
  },
  {
   "cell_type": "markdown",
   "id": "5c09bf29",
   "metadata": {},
   "source": [
    "## Описание данных"
   ]
  },
  {
   "cell_type": "markdown",
   "id": "fd6c1ecc",
   "metadata": {},
   "source": [
    "В основных данных есть информация о пользователях, их поездках и подписках. Это 3 разных набора данных. Первый даёт базовое представление о пользователях(id, имя, возраст, город проживания и тип подписки). Второй даёт конкретную информацию о поездках(id, расстояние, время и дату совершения поездки). А третий даёт исключительно информацию о тарифах для каждого типа подписок."
   ]
  },
  {
   "cell_type": "markdown",
   "id": "0138fb23",
   "metadata": {},
   "source": [
    "## План работы"
   ]
  },
  {
   "cell_type": "markdown",
   "id": "e5547d42",
   "metadata": {},
   "source": [
    "1. Загрузить данные и изучить информацию о них. Так же изучить данные на предмет аномалий.\n",
    "2. Предобработка данных. Уничтожение всех аномалий.\n",
    "3. Описание и визуализация информации о пользователях и поездках.\n",
    "4. Обьединение всех данных в 1 датафрейм и создание двух новых датафреймов(с платными и бесплатными подписчиками), а так же их визуализация.\n",
    "5. Создание нового датафрейма с агрегированными данными(суммарное расстояние, количество поездок и суммарное время для каждого пользователя за каждый месяц) и добавление в него столбца с помесячной выручкой от каждого клиента.\n",
    "6. Проверка нескольких гипотез о прибыльности платных подписчиков"
   ]
  },
  {
   "cell_type": "code",
   "execution_count": 1,
   "id": "72576667",
   "metadata": {},
   "outputs": [],
   "source": [
    "import pandas as pd\n",
    "import matplotlib.pyplot as plt\n",
    "import numpy as np\n",
    "from scipy import stats\n",
    "pd.options.mode.chained_assignment = None"
   ]
  },
  {
   "cell_type": "markdown",
   "id": "c42cbe00",
   "metadata": {},
   "source": [
    "#### Шаг 1. Загрузка данных"
   ]
  },
  {
   "cell_type": "code",
   "execution_count": 2,
   "id": "eff9f206",
   "metadata": {},
   "outputs": [
    {
     "name": "stdout",
     "output_type": "stream",
     "text": [
      "31\n",
      "   user_id        name  age            city subscription_type\n",
      "0        1        Кира   22          Тюмень             ultra\n",
      "1        2   Станислав   31            Омск             ultra\n",
      "2        3     Алексей   20          Москва             ultra\n",
      "3        4  Константин   26  Ростов-на-Дону             ultra\n",
      "4        5       Адель   28            Омск             ultra\n",
      "5        6      Регина   25       Краснодар             ultra\n",
      "6        7       Игорь   23            Омск             ultra\n",
      "7        8        Юрий   23       Краснодар             ultra\n",
      "8        9          Ян   21       Пятигорск             ultra\n",
      "9       10     Валерий   18    Екатеринбург             ultra\n",
      "<class 'pandas.core.frame.DataFrame'>\n",
      "RangeIndex: 1565 entries, 0 to 1564\n",
      "Data columns (total 5 columns):\n",
      " #   Column             Non-Null Count  Dtype \n",
      "---  ------             --------------  ----- \n",
      " 0   user_id            1565 non-null   int64 \n",
      " 1   name               1565 non-null   object\n",
      " 2   age                1565 non-null   int64 \n",
      " 3   city               1565 non-null   object\n",
      " 4   subscription_type  1565 non-null   object\n",
      "dtypes: int64(2), object(3)\n",
      "memory usage: 61.3+ KB\n",
      "None\n"
     ]
    },
    {
     "data": {
      "text/plain": [
       "<Axes: >"
      ]
     },
     "execution_count": 2,
     "metadata": {},
     "output_type": "execute_result"
    },
    {
     "data": {
      "image/png": "[encoded data removed]",
      "text/plain": [
       "<Figure size 640x480 with 1 Axes>"
      ]
     },
     "metadata": {},
     "output_type": "display_data"
    }
   ],
   "source": [
    "#анализируем 1 набор данных\n",
    "filepath = r\"C:\\Users\\erofe\\Downloads\\users_go.csv\"\n",
    "data_users = pd.read_csv(filepath, sep=',')\n",
    "#ищем дубликаты\n",
    "print(data_users.duplicated().sum())\n",
    "#выводим первые 10 строк таблицы\n",
    "print(data_users.head(10))\n",
    "#выводим информацию о таблице\n",
    "print(data_users.info())\n",
    "#строим диаграмму размаха для единственного числового столбца\n",
    "data_users['age'].plot(kind = 'box')"
   ]
  },
  {
   "cell_type": "markdown",
   "id": "27d8d17b",
   "metadata": {},
   "source": [
    "В данном датафрейме не имеется пропущенных значений. Присутствуют выбросы в единственном числовом столбце(возраст) и дубликаты. Все будет исправлено в предобработке данных."
   ]
  },
  {
   "cell_type": "code",
   "execution_count": 3,
   "id": "11cd8872",
   "metadata": {},
   "outputs": [
    {
     "name": "stdout",
     "output_type": "stream",
     "text": [
      "0\n",
      "   user_id     distance   duration        date\n",
      "0        1  4409.919140  25.599769  2021-01-01\n",
      "1        1  2617.592153  15.816871  2021-01-18\n",
      "2        1   754.159807   6.232113  2021-04-20\n",
      "3        1  2694.783254  18.511000  2021-08-11\n",
      "4        1  4028.687306  26.265803  2021-08-28\n",
      "5        1  2770.890808  16.650138  2021-10-09\n",
      "6        1  3039.020292  14.927879  2021-10-19\n",
      "7        1  2842.118050  23.117468  2021-11-06\n",
      "8        1  3412.690668  15.238072  2021-11-14\n",
      "9        1   748.690645  15.041884  2021-11-22\n",
      "<class 'pandas.core.frame.DataFrame'>\n",
      "RangeIndex: 18068 entries, 0 to 18067\n",
      "Data columns (total 4 columns):\n",
      " #   Column    Non-Null Count  Dtype  \n",
      "---  ------    --------------  -----  \n",
      " 0   user_id   18068 non-null  int64  \n",
      " 1   distance  18068 non-null  float64\n",
      " 2   duration  18068 non-null  float64\n",
      " 3   date      18068 non-null  object \n",
      "dtypes: float64(2), int64(1), object(1)\n",
      "memory usage: 564.8+ KB\n",
      "None\n"
     ]
    },
    {
     "data": {
      "text/plain": [
       "<Axes: >"
      ]
     },
     "execution_count": 3,
     "metadata": {},
     "output_type": "execute_result"
    },
    {
     "data": {
      "image/png": "[encoded data removed]",
      "text/plain": [
       "<Figure size 640x480 with 1 Axes>"
      ]
     },
     "metadata": {},
     "output_type": "display_data"
    }
   ],
   "source": [
    "#анализируем 2 набор данных\n",
    "filepath = r\"C:\\Users\\erofe\\Downloads\\rides_go.csv\"\n",
    "data_rides = pd.read_csv(filepath, sep=',')\n",
    "#ищем дубликаты\n",
    "print(data_rides.duplicated().sum())\n",
    "#выводим первые 10 строк таблицы\n",
    "print(data_rides.head(10))\n",
    "#выводим информацию о таблице\n",
    "print(data_rides.info())\n",
    "#строим диаграмму размаха для столбца с расстоянием поездки\n",
    "data_rides['distance'].plot(kind = 'box')"
   ]
  },
  {
   "cell_type": "code",
   "execution_count": 4,
   "id": "3133555d",
   "metadata": {},
   "outputs": [
    {
     "data": {
      "text/plain": [
       "<Axes: >"
      ]
     },
     "execution_count": 4,
     "metadata": {},
     "output_type": "execute_result"
    },
    {
     "data": {
      "image/png": "[encoded data removed]",
      "text/plain": [
       "<Figure size 640x480 with 1 Axes>"
      ]
     },
     "metadata": {},
     "output_type": "display_data"
    }
   ],
   "source": [
    "#строим диаграмму размаха для столбца с временем поездки\n",
    "data_rides['duration'].plot(kind = 'box')"
   ]
  },
  {
   "cell_type": "markdown",
   "id": "e29d89d3",
   "metadata": {},
   "source": [
    "В данном датафрейме не имеется пропущенных значений и дубликатов. Присутствуют выбросы в обоих числовых столбцах(расстояние и время поездки). Неправильный тип данных в столбце с датой. Все будет исправлено в предобработке данных."
   ]
  },
  {
   "cell_type": "code",
   "execution_count": 5,
   "id": "a93b057f",
   "metadata": {},
   "outputs": [
    {
     "name": "stdout",
     "output_type": "stream",
     "text": [
      "  subscription_type  minute_price  start_ride_price  subscription_fee\n",
      "0              free             8                50                 0\n",
      "1             ultra             6                 0               199\n",
      "<class 'pandas.core.frame.DataFrame'>\n",
      "RangeIndex: 2 entries, 0 to 1\n",
      "Data columns (total 4 columns):\n",
      " #   Column             Non-Null Count  Dtype \n",
      "---  ------             --------------  ----- \n",
      " 0   subscription_type  2 non-null      object\n",
      " 1   minute_price       2 non-null      int64 \n",
      " 2   start_ride_price   2 non-null      int64 \n",
      " 3   subscription_fee   2 non-null      int64 \n",
      "dtypes: int64(3), object(1)\n",
      "memory usage: 196.0+ bytes\n",
      "None\n"
     ]
    }
   ],
   "source": [
    "#анализируем 3 набор данных\n",
    "filepath = r\"C:\\Users\\erofe\\Downloads\\subscriptions_go.csv\"\n",
    "data_sub = pd.read_csv(filepath, sep=',')\n",
    "#выводим первые 10 строк таблицы\n",
    "print(data_sub.head(10))\n",
    "#выводим информацию о таблице\n",
    "print(data_sub.info())"
   ]
  },
  {
   "cell_type": "markdown",
   "id": "55a3457b",
   "metadata": {},
   "source": [
    "Данный датафрейм имеет всего 2 строки. Никаких выбросов, дубликатов, пропущенных значений и других аномалий тут не наблюдается. Он не будет тронут в предобработке данных"
   ]
  },
  {
   "cell_type": "markdown",
   "id": "e95ebca7",
   "metadata": {},
   "source": [
    "#### Шаг 2. Предобработка данных"
   ]
  },
  {
   "cell_type": "code",
   "execution_count": 6,
   "id": "af6d202c",
   "metadata": {},
   "outputs": [],
   "source": [
    "#удаляем дубликаты в 1 датафрейме\n",
    "data_users = data_users.drop_duplicates().reset_index()\n",
    "#приводим дату в правильный тип данных\n",
    "data_rides['date'] = pd.to_datetime(data_rides['date'], format = '%Y-%m-%d')"
   ]
  },
  {
   "cell_type": "code",
   "execution_count": 7,
   "id": "bb8528ae",
   "metadata": {},
   "outputs": [],
   "source": [
    "#строим функцию для удаления выбросов\n",
    "def remove_outliers(data, column_name, threshold=1.5):\n",
    "    \n",
    "    # Вычисляем квартили для столбца\n",
    "    Q1 = data[column_name].quantile(0.25)\n",
    "    Q3 = data[column_name].quantile(0.75)\n",
    "    \n",
    "    # Вычисляем IQR\n",
    "    IQR = Q3 - Q1\n",
    "    \n",
    "    # Вычисляем границы для определения выбросов\n",
    "    lower_bound = Q1 - threshold * IQR\n",
    "    upper_bound = Q3 + threshold * IQR\n",
    "    \n",
    "    # Удаляем выбросы\n",
    "    data_cleaned = data[(data[column_name] >= lower_bound) & (data[column_name] <= upper_bound)]\n",
    "    \n",
    "    return data_cleaned"
   ]
  },
  {
   "cell_type": "code",
   "execution_count": 8,
   "id": "2546a52d",
   "metadata": {},
   "outputs": [],
   "source": [
    "##применяем функцию для удаления выбросов\n",
    "#cleaned_data = remove_outliers(data_users, 'age')\n",
    "#print (f\"Процент потерянных значений: {(1 - len(cleaned_data['age']) / len(data_users['age'])) * 100:.2f}%\")\n",
    "#data_users = cleaned_data\n",
    "#cleaned_data1 = remove_outliers(data_rides, 'duration')\n",
    "#print (f\"Процент потерянных значений: {(1 - len(cleaned_data1['duration']) / len(data_rides['duration'])) * 100:.2f}%\")\n",
    "#cleaned_data2 = remove_outliers(cleaned_data1, 'distance')\n",
    "#print (f\"Процент потерянных значений: {(1 - len(cleaned_data2['distance']) / len(cleaned_data1['distance'])) * 100:.2f}%\")\n",
    "#data_rides = cleaned_data2"
   ]
  },
  {
   "cell_type": "markdown",
   "id": "25c7693a",
   "metadata": {},
   "source": [
    "В данном случае мы не будем удалять выбросы, так как за эти поездки могла начисляться плата. Из-за чего \"поплывут\" контрольные числа по объединению данных, созданию отдельных датафреймов и расчету выручки."
   ]
  },
  {
   "cell_type": "code",
   "execution_count": 9,
   "id": "bb1ae2b0",
   "metadata": {},
   "outputs": [],
   "source": [
    "#делаем столбец с месяцами\n",
    "data_rides['month'] = data_rides['date'].dt.month"
   ]
  },
  {
   "cell_type": "markdown",
   "id": "e8a7c432",
   "metadata": {},
   "source": [
    "Была проведена предобработка со всеми 3 датафреймами, были удалены дубликаты в 1 датафрейме. Так же были найдены выбросы в столбце с возрастом в 1 датафрейме и в столбцах с длительностью и дальностью поездки во 2 датафрейме, но не были удалены, по причинам сказанным выше. Так же был сделан правильный формат даты и добавлен столбец, который показывает в каком месяце была совершенна поездка."
   ]
  },
  {
   "cell_type": "markdown",
   "id": "212593c7",
   "metadata": {},
   "source": [
    "#### Шаг 3. Исследовательский анализ данных"
   ]
  },
  {
   "cell_type": "code",
   "execution_count": 10,
   "id": "e3a4274c",
   "metadata": {},
   "outputs": [
    {
     "name": "stdout",
     "output_type": "stream",
     "text": [
      "city\n",
      "Пятигорск         219\n",
      "Екатеринбург      204\n",
      "Ростов-на-Дону    198\n",
      "Краснодар         193\n",
      "Сочи              189\n",
      "Омск              183\n",
      "Тюмень            180\n",
      "Москва            168\n",
      "Name: count, dtype: int64\n"
     ]
    },
    {
     "data": {
      "text/plain": [
       "<Axes: title={'center': 'Частота встречаемости городов'}, xlabel='Название города', ylabel='Количество людей'>"
      ]
     },
     "execution_count": 10,
     "metadata": {},
     "output_type": "execute_result"
    },
    {
     "data": {
      "image/png": "[encoded data removed]",
      "text/plain": [
       "<Figure size 1000x600 with 1 Axes>"
      ]
     },
     "metadata": {},
     "output_type": "display_data"
    }
   ],
   "source": [
    "#описываем чистоту встречаемости городов и строим диаграмму\n",
    "print(data_users['city'].value_counts())\n",
    "data_users['city'].value_counts().plot(kind='bar', figsize = (10,6), title = 'Частота встречаемости городов', xlabel = 'Название города', ylabel = 'Количество людей')"
   ]
  },
  {
   "cell_type": "markdown",
   "id": "02ca6006",
   "metadata": {},
   "source": [
    "Как мы видим больше всего клиентов находятся в Пятигорске, в то время как самое меньшое количество клиентов находятся в Москве."
   ]
  },
  {
   "cell_type": "code",
   "execution_count": 11,
   "id": "757f2882",
   "metadata": {},
   "outputs": [
    {
     "name": "stdout",
     "output_type": "stream",
     "text": [
      "1.1945636623748213\n"
     ]
    },
    {
     "data": {
      "text/plain": [
       "<Axes: title={'center': 'Соотношение пользователей с подпиской и без подписки'}, ylabel='Количество пользователей'>"
      ]
     },
     "execution_count": 11,
     "metadata": {},
     "output_type": "execute_result"
    },
    {
     "data": {
      "image/png": "[encoded data removed]",
      "text/plain": [
       "<Figure size 1000x600 with 1 Axes>"
      ]
     },
     "metadata": {},
     "output_type": "display_data"
    }
   ],
   "source": [
    "#описываем соотношение пользователей с подпиской и без подписки встречаемости городов и строим диаграмму\n",
    "subscribers = data_users['subscription_type'].value_counts()\n",
    "print (subscribers.iloc[0]/subscribers.iloc[1])\n",
    "data_users['subscription_type'].value_counts().plot(kind='pie', figsize = (10,6), title = 'Соотношение пользователей с подпиской и без подписки',  ylabel = 'Количество пользователей')"
   ]
  },
  {
   "cell_type": "markdown",
   "id": "88b0e547",
   "metadata": {},
   "source": [
    "Большинство людей используют сервис без подписки, но отрыв не очень большой. Бесплатных пользователей почти в 1.2 больше чем платных."
   ]
  },
  {
   "cell_type": "code",
   "execution_count": 12,
   "id": "f0e00b49",
   "metadata": {},
   "outputs": [
    {
     "name": "stdout",
     "output_type": "stream",
     "text": [
      "age\n",
      "25    145\n",
      "24    132\n",
      "26    131\n",
      "23    129\n",
      "22    119\n",
      "27    119\n",
      "28    112\n",
      "21     93\n",
      "20     71\n",
      "30     68\n",
      "29     68\n",
      "31     48\n",
      "19     47\n",
      "18     46\n",
      "32     41\n",
      "33     39\n",
      "17     26\n",
      "16     19\n",
      "34     19\n",
      "35     15\n",
      "15     13\n",
      "14      9\n",
      "13      8\n",
      "36      6\n",
      "12      4\n",
      "38      3\n",
      "37      2\n",
      "39      1\n",
      "43      1\n",
      "Name: count, dtype: int64\n"
     ]
    },
    {
     "data": {
      "text/plain": [
       "<Axes: title={'center': 'Возраст пользователей'}, xlabel='Возраст', ylabel='Количество пользователей'>"
      ]
     },
     "execution_count": 12,
     "metadata": {},
     "output_type": "execute_result"
    },
    {
     "data": {
      "image/png": "[encoded data removed]",
      "text/plain": [
       "<Figure size 1000x600 with 1 Axes>"
      ]
     },
     "metadata": {},
     "output_type": "display_data"
    }
   ],
   "source": [
    "#описываем возраст пользователей и строим диаграмму\n",
    "print(data_users['age'].value_counts())\n",
    "age = data_users['age'].value_counts().reset_index()\n",
    "age.columns = ['age', 'count']\n",
    "age_sorted = age.sort_values(by = 'age')\n",
    "age_sorted.plot(kind='bar', figsize = (10,6),x = 'age', y = 'count', title = 'Возраст пользователей', xlabel = 'Возраст', ylabel = 'Количество пользователей')"
   ]
  },
  {
   "cell_type": "markdown",
   "id": "eb1c6f17",
   "metadata": {},
   "source": [
    "Целевой аудиторией для сервиса являются люди от 20 до 30 лет, остальные возрастные группы пользуются им не в таком большом количестве. Пик призодится на 25 лет. Распределение нормальное."
   ]
  },
  {
   "cell_type": "code",
   "execution_count": 13,
   "id": "f8057573",
   "metadata": {},
   "outputs": [
    {
     "name": "stdout",
     "output_type": "stream",
     "text": [
      "count    18068.000000\n",
      "mean      3070.659976\n",
      "std       1116.831209\n",
      "min          0.855683\n",
      "25%       2543.226360\n",
      "50%       3133.609994\n",
      "75%       3776.222735\n",
      "max       7211.007745\n",
      "Name: distance, dtype: float64\n"
     ]
    },
    {
     "data": {
      "text/plain": [
       "Text(0.5, 1.0, 'Расстояние, которое пользователь преодолел за одну поездку')"
      ]
     },
     "execution_count": 13,
     "metadata": {},
     "output_type": "execute_result"
    },
    {
     "data": {
      "image/png": "[encoded data removed]",
      "text/plain": [
       "<Figure size 1000x600 with 1 Axes>"
      ]
     },
     "metadata": {},
     "output_type": "display_data"
    }
   ],
   "source": [
    "#описываем расстояние поездки пользователей и строим гистограмму\n",
    "print(data_rides['distance'].describe())\n",
    "data_rides['distance'].hist(figsize = (10,6))\n",
    "plt.xlabel('Расстояние')\n",
    "plt.ylabel('Частота')\n",
    "plt.title('Расстояние, которое пользователь преодолел за одну поездку')"
   ]
  },
  {
   "cell_type": "markdown",
   "id": "7b9902b7",
   "metadata": {},
   "source": [
    "Самой популярной дистанцией является примерно 3 км. Распределение нормальное."
   ]
  },
  {
   "cell_type": "code",
   "execution_count": 14,
   "id": "51c91ab4",
   "metadata": {},
   "outputs": [
    {
     "name": "stdout",
     "output_type": "stream",
     "text": [
      "count    18068.000000\n",
      "mean        17.805011\n",
      "std          6.091051\n",
      "min          0.500000\n",
      "25%         13.597563\n",
      "50%         17.678395\n",
      "75%         21.724800\n",
      "max         40.823963\n",
      "Name: duration, dtype: float64\n"
     ]
    },
    {
     "data": {
      "text/plain": [
       "Text(0.5, 1.0, 'Продолжительность поездок')"
      ]
     },
     "execution_count": 14,
     "metadata": {},
     "output_type": "execute_result"
    },
    {
     "data": {
      "image/png": "[encoded data removed]",
      "text/plain": [
       "<Figure size 1000x600 with 1 Axes>"
      ]
     },
     "metadata": {},
     "output_type": "display_data"
    }
   ],
   "source": [
    "#описываем время поездки пользователей и строим гистограмму\n",
    "print(data_rides['duration'].describe())\n",
    "data_rides['duration'].hist(figsize = (10,6))\n",
    "plt.xlabel('Время')\n",
    "plt.ylabel('Частота')\n",
    "plt.title('Продолжительность поездок')"
   ]
  },
  {
   "cell_type": "markdown",
   "id": "43ed1b60",
   "metadata": {},
   "source": [
    "Чаще всего люди проводят за рулём электросамоката от 15 до 20 минут. Распределение нормальное. "
   ]
  },
  {
   "cell_type": "markdown",
   "id": "818beba6",
   "metadata": {},
   "source": [
    "Вывод: в результате исследований мы выяснили, что целевой аудиторией сервиса являются люди от 20 до 30 лет. Больше всего пользователей находятся в Пятигорске, хотя отрыв от других городов не так велик. В основном, люди проезжают за рулём электросамоката около 3 километров, тратя на это от 15 до 20 минут."
   ]
  },
  {
   "cell_type": "markdown",
   "id": "4ef51331",
   "metadata": {},
   "source": [
    "#### Шаг 4. Объединение данных"
   ]
  },
  {
   "cell_type": "code",
   "execution_count": 15,
   "id": "6bf288b5",
   "metadata": {},
   "outputs": [
    {
     "name": "stdout",
     "output_type": "stream",
     "text": [
      "<class 'pandas.core.frame.DataFrame'>\n",
      "RangeIndex: 18068 entries, 0 to 18067\n",
      "Data columns (total 13 columns):\n",
      " #   Column             Non-Null Count  Dtype         \n",
      "---  ------             --------------  -----         \n",
      " 0   index              18068 non-null  int64         \n",
      " 1   user_id            18068 non-null  int64         \n",
      " 2   name               18068 non-null  object        \n",
      " 3   age                18068 non-null  int64         \n",
      " 4   city               18068 non-null  object        \n",
      " 5   subscription_type  18068 non-null  object        \n",
      " 6   distance           18068 non-null  float64       \n",
      " 7   duration           18068 non-null  float64       \n",
      " 8   date               18068 non-null  datetime64[ns]\n",
      " 9   month              18068 non-null  int32         \n",
      " 10  minute_price       18068 non-null  int64         \n",
      " 11  start_ride_price   18068 non-null  int64         \n",
      " 12  subscription_fee   18068 non-null  int64         \n",
      "dtypes: datetime64[ns](1), float64(2), int32(1), int64(6), object(3)\n",
      "memory usage: 1.7+ MB\n",
      "None\n",
      "index                0\n",
      "user_id              0\n",
      "name                 0\n",
      "age                  0\n",
      "city                 0\n",
      "subscription_type    0\n",
      "distance             0\n",
      "duration             0\n",
      "date                 0\n",
      "month                0\n",
      "minute_price         0\n",
      "start_ride_price     0\n",
      "subscription_fee     0\n",
      "dtype: int64\n"
     ]
    }
   ],
   "source": [
    "#обьединяем 1 датафрейм со 2\n",
    "data_0 = pd.merge(data_users, data_rides, how = 'inner', on = 'user_id')\n",
    "#обьединяем новый датафрейм с 3\n",
    "data = pd.merge(data_0, data_sub, how = 'inner', on = 'subscription_type')\n",
    "#проверяем новый датафрейм\n",
    "print (data.info())\n",
    "print (data.isnull().sum())\n",
    "#делаем новый датафрейм с бесплатными подписчиками сервиса\n",
    "data_sub0 = data[data['subscription_type'] == 'free']\n",
    "#делаем новый датафрейм с платными подписчиками сервиса\n",
    "data_sub1 = data[data['subscription_type'] == 'ultra']"
   ]
  },
  {
   "cell_type": "markdown",
   "id": "fecc57bf",
   "metadata": {},
   "source": [
    "В новом датафрейме количество строк не изменилось. Пропуски не появились."
   ]
  },
  {
   "cell_type": "code",
   "execution_count": 16,
   "id": "64c0fd75",
   "metadata": {},
   "outputs": [
    {
     "data": {
      "text/plain": [
       "Text(0.5, 1.0, 'Расстояние, которое пользователь преодолел за одну поездку(без платной подписки)')"
      ]
     },
     "execution_count": 16,
     "metadata": {},
     "output_type": "execute_result"
    },
    {
     "data": {
      "image/png": "[encoded data removed]",
      "text/plain": [
       "<Figure size 1000x600 with 1 Axes>"
      ]
     },
     "metadata": {},
     "output_type": "display_data"
    }
   ],
   "source": [
    "#строим гистограмму для расстояния поездки людей без платной подписки\n",
    "data_sub0['distance'].hist(figsize = (10,6))\n",
    "plt.xlabel('Расстояние')\n",
    "plt.ylabel('Частота')\n",
    "plt.title('Расстояние, которое пользователь преодолел за одну поездку(без платной подписки)')"
   ]
  },
  {
   "cell_type": "markdown",
   "id": "8ca1dd19",
   "metadata": {},
   "source": [
    "Расстояние, в основном, проходят меньше, чем в общей выборке."
   ]
  },
  {
   "cell_type": "code",
   "execution_count": 17,
   "id": "6d6af2de",
   "metadata": {},
   "outputs": [
    {
     "data": {
      "text/plain": [
       "Text(0.5, 1.0, 'Продолжительность поездок без платной подписки')"
      ]
     },
     "execution_count": 17,
     "metadata": {},
     "output_type": "execute_result"
    },
    {
     "data": {
      "image/png": "[encoded data removed]",
      "text/plain": [
       "<Figure size 1000x600 with 1 Axes>"
      ]
     },
     "metadata": {},
     "output_type": "display_data"
    }
   ],
   "source": [
    "#строим гистограмму для времени поездки людей без платной подписки\n",
    "data_sub0['duration'].hist(figsize = (10,6))\n",
    "plt.xlabel('Время')\n",
    "plt.ylabel('Частота')\n",
    "plt.title('Продолжительность поездок без платной подписки')"
   ]
  },
  {
   "cell_type": "markdown",
   "id": "111521c1",
   "metadata": {},
   "source": [
    "Практически те же данные, что и по общей выборке"
   ]
  },
  {
   "cell_type": "code",
   "execution_count": 18,
   "id": "291c5028",
   "metadata": {},
   "outputs": [
    {
     "data": {
      "text/plain": [
       "Text(0.5, 1.0, 'Расстояние, которое пользователь преодолел за одну поездку(с платной подпиской)')"
      ]
     },
     "execution_count": 18,
     "metadata": {},
     "output_type": "execute_result"
    },
    {
     "data": {
      "image/png": "[encoded data removed]",
      "text/plain": [
       "<Figure size 1000x600 with 1 Axes>"
      ]
     },
     "metadata": {},
     "output_type": "display_data"
    }
   ],
   "source": [
    "#строим гистограмму для расстояния поездки людей с платной подпиской\n",
    "data_sub1['distance'].hist(figsize = (10,6))\n",
    "plt.xlabel('Расстояние')\n",
    "plt.ylabel('Частота')\n",
    "plt.title('Расстояние, которое пользователь преодолел за одну поездку(с платной подпиской)')"
   ]
  },
  {
   "cell_type": "markdown",
   "id": "7505ca76",
   "metadata": {},
   "source": [
    "Расстояние, в основном, проходят меньше, чем в общей выборке."
   ]
  },
  {
   "cell_type": "code",
   "execution_count": 19,
   "id": "25bfe561",
   "metadata": {},
   "outputs": [
    {
     "data": {
      "text/plain": [
       "Text(0.5, 1.0, 'Продолжительность поездок с платной подпиской')"
      ]
     },
     "execution_count": 19,
     "metadata": {},
     "output_type": "execute_result"
    },
    {
     "data": {
      "image/png": "[encoded data removed]",
      "text/plain": [
       "<Figure size 1000x600 with 1 Axes>"
      ]
     },
     "metadata": {},
     "output_type": "display_data"
    }
   ],
   "source": [
    "#строим гистограмму для времени поездки людей с платной подпиской\n",
    "data_sub1['duration'].hist(figsize = (10,6))\n",
    "plt.xlabel('Время')\n",
    "plt.ylabel('Частота')\n",
    "plt.title('Продолжительность поездок с платной подпиской')"
   ]
  },
  {
   "cell_type": "markdown",
   "id": "a79ffda1",
   "metadata": {},
   "source": [
    "Практически те же данные, что и по общей выборке"
   ]
  },
  {
   "cell_type": "markdown",
   "id": "3ce21577",
   "metadata": {},
   "source": [
    "Вывод: В данном блоке я обьединил 3 искомых датафрейма в один, а так же создали два новых(для пользователей с платной подпиской и без нее). Далее мы изучили два новых датафрейма, данные по времени не так сильно отклоняются от общей выборки, а столбцы с расстояниями отличаются сильно, ведь с платной подпиской люди проезжают большое расстояние, чем при общей выборке, а люди без нее проезжают меньшее расстояние, чем при общей выборке. Так же люди с платной подпиской имеет меньший разброс в километраже, так как проезжают, в основном, похожие маршруты, так как платные подписчики пользуются сервисом на более постоянной основе, чем без нее."
   ]
  },
  {
   "cell_type": "markdown",
   "id": "402d620f",
   "metadata": {},
   "source": [
    "#### Шаг 5. Подсчёт выручки"
   ]
  },
  {
   "cell_type": "code",
   "execution_count": 20,
   "id": "53049e0a",
   "metadata": {},
   "outputs": [
    {
     "name": "stdout",
     "output_type": "stream",
     "text": [
      "rides     0\n",
      "m_dist    0\n",
      "m_dur     0\n",
      "dtype: int64\n",
      "               rides        m_dist      m_dur\n",
      "user_id month                                \n",
      "1       1          2   7027.511294  41.416640\n",
      "        4          1    754.159807   6.232113\n",
      "        8          2   6723.470560  44.776802\n",
      "        10         2   5809.911100  31.578017\n",
      "        11         3   7003.499363  53.397424\n",
      "        12         2   6751.629942  27.203912\n",
      "2       3          3  10187.723006  60.959959\n",
      "        4          2   6164.381824  39.048633\n",
      "        6          1   3255.338202  13.851127\n",
      "        7          2   6780.722964  46.170157\n"
     ]
    }
   ],
   "source": [
    "#строим датафрейм с агрегированными данными(суммарное расстояние, количество поездок и суммарное время для каждого пользователя за каждый месяц.)\n",
    "data_agr = data.pivot_table(index = ['user_id', 'month'], values = ['date', 'distance', 'duration'], aggfunc = {'date': 'count', 'distance': 'sum', 'duration': 'sum'})\n",
    "data_agr.columns = ['rides', 'm_dist', 'm_dur']\n",
    "print(data_agr.isnull().sum())\n",
    "print(data_agr.head(10))"
   ]
  },
  {
   "cell_type": "markdown",
   "id": "d37410bb",
   "metadata": {},
   "source": [
    "Пропущенные значения не появились."
   ]
  },
  {
   "cell_type": "code",
   "execution_count": 21,
   "id": "79496bd2",
   "metadata": {},
   "outputs": [
    {
     "name": "stdout",
     "output_type": "stream",
     "text": [
      "date                 0\n",
      "distance             0\n",
      "duration             0\n",
      "minute_price         0\n",
      "start_ride_price     0\n",
      "subscription_fee     0\n",
      "subscription_type    0\n",
      "dtype: int64\n",
      "               rides        m_dist      m_dur  revenue\n",
      "user_id month                                         \n",
      "1       1          2   7027.511294  41.416640    451.0\n",
      "        4          1    754.159807   6.232113    241.0\n",
      "        8          2   6723.470560  44.776802    475.0\n",
      "        10         2   5809.911100  31.578017    391.0\n",
      "        11         3   7003.499363  53.397424    535.0\n",
      "...              ...           ...        ...      ...\n",
      "1534    6          2   3409.468534  24.812678    308.0\n",
      "        8          2   7622.453034  47.205960    484.0\n",
      "        9          1   4928.173852  22.560373    234.0\n",
      "        11         4  13350.015305  76.342174    824.0\n",
      "        12         1   2371.711192  15.893917    178.0\n",
      "\n",
      "[11331 rows x 4 columns]\n"
     ]
    }
   ],
   "source": [
    "#округляем столбец с временем поездки для подсчёта выручки\n",
    "data['duration'] = np.ceil(data['duration'])\n",
    "#строим новый датафрейм для подсчета выручки\n",
    "data_agr1 = data.pivot_table(index = ['user_id', 'month'], values = ['date', 'distance', 'duration', 'subscription_type', 'minute_price', 'start_ride_price', 'subscription_fee'], aggfunc = {'date': 'count', 'distance':'sum', 'duration':'sum', 'subscription_type':'first', 'minute_price':'first', 'start_ride_price':'first', 'subscription_fee':'first'})\n",
    "#проверяем на пропуски\n",
    "print (data_agr1.isnull().sum())\n",
    "data_agr1.columns = ['rides', 'sum_dist', 'sum_dur','minute_price',  'start_ride_price', 'subscription_fee', 'subscription_type']\n",
    "#подсчитываем выручки и добавляем в новый столбец\n",
    "data_agr['revenue'] = data_agr1['start_ride_price']*data_agr1['rides']+data_agr1['minute_price']*data_agr1['sum_dur']+data_agr1['subscription_fee']\n",
    "#делаем такой же столбец в доп. датафрейме для будущего удобства\n",
    "data_agr1['revenue'] = data_agr1['start_ride_price']*data_agr1['rides']+data_agr1['minute_price']*data_agr1['sum_dur']+data_agr1['subscription_fee']\n",
    "print(data_agr)"
   ]
  },
  {
   "cell_type": "markdown",
   "id": "91180b49",
   "metadata": {},
   "source": [
    "Пропущенные значения не появились."
   ]
  },
  {
   "cell_type": "markdown",
   "id": "987aa569",
   "metadata": {},
   "source": [
    "В данном блоке был создан новый датафрейм с агрегированными данными(суммарное расстояние, количество поездок и суммарное время для каждого пользователя за каждый месяц). Далее был создан дополнительный датафрейм для подсчёта помесячной выручки с каждого клиента. Далее была подсчитана сама выручка и добавлена в новый стобец в датафрейме с агрегированными данными."
   ]
  },
  {
   "cell_type": "markdown",
   "id": "41545ac0",
   "metadata": {},
   "source": [
    "#### Шаг 6. Проверка гипотез"
   ]
  },
  {
   "cell_type": "markdown",
   "id": "fdbf5b48",
   "metadata": {},
   "source": [
    "№6.1:\n",
    "Нулевая гипотеза (H0): Средняя продолжительность сессий для пользователей с подпиской и без нее не различается.\n",
    "\n",
    "Альтернативная гипотеза (H1): Средняя продолжительность сессий для пользователей с подпиской больше."
   ]
  },
  {
   "cell_type": "code",
   "execution_count": 22,
   "id": "23ea867b",
   "metadata": {},
   "outputs": [
    {
     "name": "stdout",
     "output_type": "stream",
     "text": [
      "Отвергаем нулевую гипотезу: средняя продолжительность сессий для пользователей с подпиской больше.\n",
      "Значение p-value: 1.2804098316645613e-34\n"
     ]
    }
   ],
   "source": [
    "# Выполняем t-тест с указанием односторонней альтернативной гипотезы\n",
    "t_statistic, p_value = stats.ttest_ind(data_sub1['duration'], data_sub0['duration'], alternative='greater')\n",
    "\n",
    "# Оцениваем результаты теста\n",
    "alpha = 0.05  # Уровень значимости\n",
    "if p_value < alpha:\n",
    "    print(\"Отвергаем нулевую гипотезу: средняя продолжительность сессий для пользователей с подпиской больше.\")\n",
    "else:\n",
    "    print(\"Не отвергаем нулевую гипотезу: средняя продолжительность сессий для пользователей с подпиской и без нее не различается.\")\n",
    "    \n",
    "print(\"Значение p-value:\", p_value)"
   ]
  },
  {
   "cell_type": "markdown",
   "id": "cebf6bd2",
   "metadata": {},
   "source": [
    "Средняя продолжительность сессий для пользователей с подпиской больше, соответственно гипотеза верна и люди с подпиской могут быть \"выгоднее\" для компании."
   ]
  },
  {
   "cell_type": "markdown",
   "id": "7803cd78",
   "metadata": {},
   "source": [
    "№6.2: Нулевая гипотеза (H0): Среднее расстояние поездки пользователей с подпиской равно 3130 метров.\n",
    "\n",
    "Альтернативная гипотеза (H1): Среднее расстояние поездки пользователей с подпиской превышает 3130 метров."
   ]
  },
  {
   "cell_type": "code",
   "execution_count": 23,
   "id": "68d1a622",
   "metadata": {},
   "outputs": [
    {
     "name": "stdout",
     "output_type": "stream",
     "text": [
      "Не отвергаем нулевую гипотезу: среднее расстояние равно 3130 метров.\n",
      "Значение p-value: 0.9195368847849785\n"
     ]
    }
   ],
   "source": [
    "# Выполняем t-тест с указанием односторонней альтернативной гипотезы\n",
    "t_statistic, p_value = stats.ttest_1samp(data_sub1['distance'], 3130, alternative='greater')\n",
    "\n",
    "# Оцениваем результаты теста\n",
    "alpha = 0.05  # Уровень значимости\n",
    "if p_value < alpha:\n",
    "    print(\"Отвергаем нулевую гипотезу: среднее расстояние превышает 3130 метров.\")\n",
    "else:\n",
    "    print(\"Не отвергаем нулевую гипотезу: среднее расстояние равно 3130 метров.\")\n",
    "    \n",
    "print(\"Значение p-value:\", p_value)"
   ]
  },
  {
   "cell_type": "markdown",
   "id": "81171586",
   "metadata": {},
   "source": [
    "Не отвергаем нулевую гипотезу среднее расстояние людей с подписками не превышает 3130 (нулевая гипотеза декларирует равенство,а она подтвердилась, это не значит, что среднее именно равно этому числу, тест был на превышение, оно не подтвердилось), что очень хорошо для компании, ведь эти показатели очень хороши для износа самокатов."
   ]
  },
  {
   "cell_type": "markdown",
   "id": "e4610565",
   "metadata": {},
   "source": [
    "№6.3: Нулевая гипотеза (H0): Средняя помесячная выручка от пользователей с подпиской не отличается от средней помесячной выручки от пользователей без подписки.\n",
    "\n",
    "Альтернативная гипотеза (H1): Средняя помесячная выручка от пользователей с подпиской выше, чем средняя помесячная выручка от пользователей без подписки."
   ]
  },
  {
   "cell_type": "code",
   "execution_count": 24,
   "id": "d8d54fd1",
   "metadata": {},
   "outputs": [
    {
     "name": "stdout",
     "output_type": "stream",
     "text": [
      "Отвергаем нулевую гипотезу: средняя помесячная выручка от пользователей с подпиской выше.\n"
     ]
    }
   ],
   "source": [
    "#делаем дополнительные датафреймы для проверки гипотезы\n",
    "data_agr1_sub0 = data_agr1[data_agr1['subscription_type'] == 'free']\n",
    "data_agr1_sub1 = data_agr1[data_agr1['subscription_type'] == 'ultra']\n",
    "\n",
    "# Выполняем t-тест\n",
    "t_statistic, p_value = stats.ttest_ind(data_agr1_sub1['revenue'], data_agr1_sub0['revenue'], alternative = 'greater')\n",
    "# Оцениваем результаты теста\n",
    "alpha = 0.05  # Уровень значимости\n",
    "if p_value < alpha:\n",
    "    print(\"Отвергаем нулевую гипотезу: средняя помесячная выручка от пользователей с подпиской выше.\")\n",
    "else:\n",
    "    print(\"Не отвергаем нулевую гипотезу: средняя помесячная выручка от пользователей с подпиской не отличается от средней помесячной выручки от пользователей без подписки.\")"
   ]
  },
  {
   "cell_type": "markdown",
   "id": "d52b54b1",
   "metadata": {},
   "source": [
    "Средняя выручка от пользователей с подпиской выше, что так же делает их \"выгоднее\" для компании."
   ]
  },
  {
   "cell_type": "markdown",
   "id": "d8259ca7",
   "metadata": {},
   "source": [
    "№6.4: Односторонний t-тест(st.ttest_rel()).\n",
    "\n",
    "Гипотезы:\n",
    "\n",
    "Нулевая гипотеза (H0): Среднее количество обращений после обновления серверов такое же как до обновления.\n",
    "\n",
    "Альтернативная гипотеза (H1): Среднее количество обращений после обновления серверов меньше, чем до обновления.\n",
    "\n",
    "Теперь используем односторонний t-тест на равенство средних для зависимых выборок, до и после изменений (st.ttest_rel()) для проверки этой гипотезы, с учетом того, что мы интересуемся снижением показателей:\n",
    "\n",
    "Если p-значение меньше выбранного уровня значимости (alpha), то вы сможете отвергнуть нулевую гипотезу и сделать вывод о статистически значимом снижении показателей.\n",
    "\n",
    "Если p-значение больше alpha, то не отвергнем нулевую гипотезу и скажем, что статистически значимого снижения показателей не обнаружено."
   ]
  },
  {
   "cell_type": "markdown",
   "id": "4e5f8a0e",
   "metadata": {},
   "source": [
    "Вывод: После проверки нескольких гипотез, видно, что клиенты с подпиской гораздо прибыльнее, нежели клиенты без нее, по всем проверенным гипотезам."
   ]
  },
  {
   "cell_type": "markdown",
   "id": "ad94bb55",
   "metadata": {},
   "source": [
    "Общий вывод: в данном проекте я изучил и обработал данные о сервисе электросамокатов. Я изучил и предобработал данные(уничтожили все аномалии в данных). Исследовали информацию о клинетах сервиса(целевая аудитория - 20-30 лет, самый популярный город - Пятигорск, самые популярные расстояние и время поездки - 3 км и 15-20 минут соответственно). Далее, после обьединения старых и создания новых датафреймов, я выяснил, что платные подписчики более постоянны в своих поездках и проезжают больший километраж. Далее я создал новый датафрейм с помесячной вырочкой от каждого клиента и новый датафрейм с агрегированными данными (суммарное расстояние, количество поездок и суммарное время для каждого пользователя за каждый месяц).\n",
    "\n",
    "Главной частью данного проекта было решение главного вопроса - являются ли пользователи с подпиской \"выгоднее\" для компании, и, благодаря проверке гипотез, я уверен, что пользователи с подпиской и правда прибыльнее для компании. Это доказывается тем, что пользователи с подпиской проводят больше времени за рулём электросамоката, чем пользователи без нее, что выгодно для компании, ведь на самокаты поминутная аренда. Так же стоит отметить, что проезжают пользователи с подпиской не более 3130 метров за сессию, что очень хорошо, с точки зрения износа самоката. В конце концов помесячная выручка от людей с подпиской выше, что является очень важным показателям для компании. Еще можно учесть, что постоянность маршрутов людьми с подпиской выше, нежели без нее, что видно на графиках, это принесёт компании дополнительную стабильность."
   ]
  }
 ],
 "metadata": {
  "ExecuteTimeLog": [
   {
    "duration": 46,
    "start_time": "2023-09-14T18:00:52.843Z"
   },
   {
    "duration": 868,
    "start_time": "2023-09-14T18:00:58.351Z"
   },
   {
    "duration": 118,
    "start_time": "2023-09-14T18:00:59.221Z"
   },
   {
    "duration": 179,
    "start_time": "2023-09-14T18:05:29.445Z"
   },
   {
    "duration": 77,
    "start_time": "2023-09-14T18:07:36.178Z"
   },
   {
    "duration": 69,
    "start_time": "2023-09-14T18:09:51.315Z"
   },
   {
    "duration": 48,
    "start_time": "2023-09-14T18:09:59.807Z"
   },
   {
    "duration": 51,
    "start_time": "2023-09-14T18:10:05.363Z"
   },
   {
    "duration": 48,
    "start_time": "2023-09-14T18:10:28.868Z"
   },
   {
    "duration": 35,
    "start_time": "2023-09-14T18:10:42.892Z"
   },
   {
    "duration": 53,
    "start_time": "2023-09-14T18:10:44.222Z"
   },
   {
    "duration": 33,
    "start_time": "2023-09-14T18:10:45.426Z"
   },
   {
    "duration": 132,
    "start_time": "2023-09-14T18:13:27.102Z"
   },
   {
    "duration": 156,
    "start_time": "2023-09-14T18:15:48.850Z"
   },
   {
    "duration": 119,
    "start_time": "2023-09-14T18:16:00.748Z"
   },
   {
    "duration": 155,
    "start_time": "2023-09-14T18:16:21.436Z"
   },
   {
    "duration": 124,
    "start_time": "2023-09-14T18:16:59.833Z"
   },
   {
    "duration": 136,
    "start_time": "2023-09-14T18:17:39.473Z"
   },
   {
    "duration": 41,
    "start_time": "2023-09-14T18:17:56.861Z"
   },
   {
    "duration": 227,
    "start_time": "2023-09-14T18:18:17.332Z"
   },
   {
    "duration": 1313,
    "start_time": "2023-09-14T18:18:40.655Z"
   },
   {
    "duration": 121,
    "start_time": "2023-09-14T18:19:02.912Z"
   },
   {
    "duration": 58,
    "start_time": "2023-09-14T18:22:56.486Z"
   },
   {
    "duration": 46,
    "start_time": "2023-09-14T18:23:13.544Z"
   },
   {
    "duration": 51,
    "start_time": "2023-09-14T18:23:32.969Z"
   },
   {
    "duration": 127,
    "start_time": "2023-09-14T18:25:10.929Z"
   },
   {
    "duration": 138,
    "start_time": "2023-09-14T18:25:54.873Z"
   },
   {
    "duration": 170,
    "start_time": "2023-09-14T18:26:11.802Z"
   },
   {
    "duration": 206,
    "start_time": "2023-09-14T18:26:24.143Z"
   },
   {
    "duration": 99,
    "start_time": "2023-09-14T18:26:32.589Z"
   },
   {
    "duration": 10,
    "start_time": "2023-09-14T19:37:18.427Z"
   },
   {
    "duration": 16,
    "start_time": "2023-09-14T19:37:25.794Z"
   },
   {
    "duration": 13,
    "start_time": "2023-09-14T19:37:49.916Z"
   },
   {
    "duration": 12,
    "start_time": "2023-09-14T19:37:56.645Z"
   },
   {
    "duration": 14,
    "start_time": "2023-09-14T19:38:09.629Z"
   },
   {
    "duration": 6,
    "start_time": "2023-09-14T19:38:37.987Z"
   },
   {
    "duration": 8,
    "start_time": "2023-09-14T19:43:35.930Z"
   },
   {
    "duration": 4,
    "start_time": "2023-09-14T19:43:39.745Z"
   },
   {
    "duration": 9,
    "start_time": "2023-09-14T19:43:40.144Z"
   },
   {
    "duration": 15,
    "start_time": "2023-09-14T19:47:28.008Z"
   },
   {
    "duration": 605,
    "start_time": "2023-09-14T19:47:48.109Z"
   },
   {
    "duration": 140,
    "start_time": "2023-09-14T19:47:48.716Z"
   },
   {
    "duration": 135,
    "start_time": "2023-09-14T19:47:48.858Z"
   },
   {
    "duration": 106,
    "start_time": "2023-09-14T19:47:48.995Z"
   },
   {
    "duration": 23,
    "start_time": "2023-09-14T19:47:49.103Z"
   },
   {
    "duration": 1265,
    "start_time": "2023-09-14T19:47:49.127Z"
   },
   {
    "duration": 0,
    "start_time": "2023-09-14T19:47:50.394Z"
   },
   {
    "duration": 0,
    "start_time": "2023-09-14T19:47:50.395Z"
   },
   {
    "duration": 556,
    "start_time": "2023-09-14T19:48:38.099Z"
   },
   {
    "duration": 132,
    "start_time": "2023-09-14T19:48:38.657Z"
   },
   {
    "duration": 124,
    "start_time": "2023-09-14T19:48:38.790Z"
   },
   {
    "duration": 105,
    "start_time": "2023-09-14T19:48:38.916Z"
   },
   {
    "duration": 24,
    "start_time": "2023-09-14T19:48:39.023Z"
   },
   {
    "duration": 1394,
    "start_time": "2023-09-14T19:48:39.048Z"
   },
   {
    "duration": 0,
    "start_time": "2023-09-14T19:48:40.443Z"
   },
   {
    "duration": 0,
    "start_time": "2023-09-14T19:48:40.444Z"
   },
   {
    "duration": 1248,
    "start_time": "2023-09-14T19:49:26.008Z"
   },
   {
    "duration": 16,
    "start_time": "2023-09-14T19:49:30.556Z"
   },
   {
    "duration": 563,
    "start_time": "2023-09-14T19:49:47.204Z"
   },
   {
    "duration": 135,
    "start_time": "2023-09-14T19:49:47.769Z"
   },
   {
    "duration": 130,
    "start_time": "2023-09-14T19:49:47.905Z"
   },
   {
    "duration": 108,
    "start_time": "2023-09-14T19:49:48.048Z"
   },
   {
    "duration": 25,
    "start_time": "2023-09-14T19:49:48.160Z"
   },
   {
    "duration": 1327,
    "start_time": "2023-09-14T19:49:48.187Z"
   },
   {
    "duration": 0,
    "start_time": "2023-09-14T19:49:49.516Z"
   },
   {
    "duration": 0,
    "start_time": "2023-09-14T19:49:49.517Z"
   },
   {
    "duration": 646,
    "start_time": "2023-09-14T19:52:13.127Z"
   },
   {
    "duration": 142,
    "start_time": "2023-09-14T19:52:13.775Z"
   },
   {
    "duration": 142,
    "start_time": "2023-09-14T19:52:13.919Z"
   },
   {
    "duration": 128,
    "start_time": "2023-09-14T19:52:14.063Z"
   },
   {
    "duration": 24,
    "start_time": "2023-09-14T19:52:14.193Z"
   },
   {
    "duration": 10,
    "start_time": "2023-09-14T19:52:14.218Z"
   },
   {
    "duration": 11,
    "start_time": "2023-09-14T19:52:14.229Z"
   },
   {
    "duration": 39,
    "start_time": "2023-09-14T19:52:14.242Z"
   },
   {
    "duration": 159,
    "start_time": "2023-09-14T19:52:34.280Z"
   },
   {
    "duration": 143,
    "start_time": "2023-09-14T19:52:40.449Z"
   },
   {
    "duration": 151,
    "start_time": "2023-09-14T19:52:47.320Z"
   },
   {
    "duration": 107,
    "start_time": "2023-09-14T19:52:50.605Z"
   },
   {
    "duration": 626,
    "start_time": "2023-09-14T19:52:56.008Z"
   },
   {
    "duration": 159,
    "start_time": "2023-09-14T19:52:56.635Z"
   },
   {
    "duration": 134,
    "start_time": "2023-09-14T19:52:56.796Z"
   },
   {
    "duration": 108,
    "start_time": "2023-09-14T19:52:56.931Z"
   },
   {
    "duration": 23,
    "start_time": "2023-09-14T19:52:57.051Z"
   },
   {
    "duration": 9,
    "start_time": "2023-09-14T19:52:57.075Z"
   },
   {
    "duration": 3,
    "start_time": "2023-09-14T19:52:57.085Z"
   },
   {
    "duration": 15,
    "start_time": "2023-09-14T19:52:57.090Z"
   },
   {
    "duration": 166,
    "start_time": "2023-09-14T19:53:05.195Z"
   },
   {
    "duration": 13,
    "start_time": "2023-09-14T19:55:16.991Z"
   },
   {
    "duration": 7,
    "start_time": "2023-09-14T19:55:28.512Z"
   },
   {
    "duration": 6,
    "start_time": "2023-09-14T19:55:35.886Z"
   },
   {
    "duration": 7,
    "start_time": "2023-09-14T19:55:50.328Z"
   },
   {
    "duration": 69,
    "start_time": "2023-09-14T19:57:14.484Z"
   },
   {
    "duration": 638,
    "start_time": "2023-09-14T19:57:33.920Z"
   },
   {
    "duration": 132,
    "start_time": "2023-09-14T19:57:34.560Z"
   },
   {
    "duration": 125,
    "start_time": "2023-09-14T19:57:34.694Z"
   },
   {
    "duration": 107,
    "start_time": "2023-09-14T19:57:34.822Z"
   },
   {
    "duration": 24,
    "start_time": "2023-09-14T19:57:34.930Z"
   },
   {
    "duration": 9,
    "start_time": "2023-09-14T19:57:34.956Z"
   },
   {
    "duration": 3,
    "start_time": "2023-09-14T19:57:34.966Z"
   },
   {
    "duration": 16,
    "start_time": "2023-09-14T19:57:34.971Z"
   },
   {
    "duration": 4,
    "start_time": "2023-09-14T19:57:34.989Z"
   },
   {
    "duration": 615,
    "start_time": "2023-09-14T19:58:08.963Z"
   },
   {
    "duration": 130,
    "start_time": "2023-09-14T19:58:09.580Z"
   },
   {
    "duration": 133,
    "start_time": "2023-09-14T19:58:09.711Z"
   },
   {
    "duration": 105,
    "start_time": "2023-09-14T19:58:09.845Z"
   },
   {
    "duration": 23,
    "start_time": "2023-09-14T19:58:09.953Z"
   },
   {
    "duration": 9,
    "start_time": "2023-09-14T19:58:09.977Z"
   },
   {
    "duration": 13,
    "start_time": "2023-09-14T19:58:09.987Z"
   },
   {
    "duration": 34,
    "start_time": "2023-09-14T19:58:10.001Z"
   },
   {
    "duration": 4,
    "start_time": "2023-09-14T19:58:10.037Z"
   },
   {
    "duration": 5,
    "start_time": "2023-09-14T19:58:23.344Z"
   },
   {
    "duration": 6,
    "start_time": "2023-09-14T19:58:32.512Z"
   },
   {
    "duration": 6,
    "start_time": "2023-09-14T19:58:41.580Z"
   },
   {
    "duration": 5,
    "start_time": "2023-09-14T20:07:40.888Z"
   },
   {
    "duration": 114,
    "start_time": "2023-09-14T20:08:44.385Z"
   },
   {
    "duration": 172,
    "start_time": "2023-09-14T20:20:02.318Z"
   },
   {
    "duration": 223,
    "start_time": "2023-09-14T20:21:00.930Z"
   },
   {
    "duration": 101,
    "start_time": "2023-09-14T20:21:19.706Z"
   },
   {
    "duration": 11,
    "start_time": "2023-09-14T20:21:28.207Z"
   },
   {
    "duration": 186,
    "start_time": "2023-09-14T20:21:37.215Z"
   },
   {
    "duration": 210,
    "start_time": "2023-09-14T20:21:59.977Z"
   },
   {
    "duration": 136,
    "start_time": "2023-09-14T20:24:59.911Z"
   },
   {
    "duration": 128,
    "start_time": "2023-09-14T20:26:25.387Z"
   },
   {
    "duration": 27,
    "start_time": "2023-09-14T20:42:09.193Z"
   },
   {
    "duration": 13,
    "start_time": "2023-09-14T20:45:46.074Z"
   },
   {
    "duration": 27,
    "start_time": "2023-09-14T20:46:07.261Z"
   },
   {
    "duration": 35,
    "start_time": "2023-09-14T20:46:24.173Z"
   },
   {
    "duration": 13,
    "start_time": "2023-09-14T20:54:09.414Z"
   },
   {
    "duration": 1102,
    "start_time": "2023-09-14T20:56:56.094Z"
   },
   {
    "duration": 28,
    "start_time": "2023-09-14T20:58:18.568Z"
   },
   {
    "duration": 978,
    "start_time": "2023-09-14T20:58:54.960Z"
   },
   {
    "duration": 938,
    "start_time": "2023-09-14T20:59:41.781Z"
   },
   {
    "duration": 1134,
    "start_time": "2023-09-14T21:00:26.918Z"
   },
   {
    "duration": 23,
    "start_time": "2023-09-14T21:04:11.094Z"
   },
   {
    "duration": 32,
    "start_time": "2023-09-14T21:04:36.882Z"
   },
   {
    "duration": 46,
    "start_time": "2023-09-14T21:05:52.430Z"
   },
   {
    "duration": 1045,
    "start_time": "2023-09-14T21:06:03.116Z"
   },
   {
    "duration": 18,
    "start_time": "2023-09-14T21:07:23.800Z"
   },
   {
    "duration": 25,
    "start_time": "2023-09-14T21:07:57.363Z"
   },
   {
    "duration": 40,
    "start_time": "2023-09-14T21:08:04.622Z"
   },
   {
    "duration": 143,
    "start_time": "2023-09-14T21:09:36.984Z"
   },
   {
    "duration": 151,
    "start_time": "2023-09-14T21:09:45.415Z"
   },
   {
    "duration": 129,
    "start_time": "2023-09-14T21:09:58.629Z"
   },
   {
    "duration": 129,
    "start_time": "2023-09-14T21:10:01.874Z"
   },
   {
    "duration": 124,
    "start_time": "2023-09-14T21:10:31.492Z"
   },
   {
    "duration": 206,
    "start_time": "2023-09-14T21:11:04.454Z"
   },
   {
    "duration": 19,
    "start_time": "2023-09-14T21:34:44.672Z"
   },
   {
    "duration": 680,
    "start_time": "2023-09-14T21:34:53.224Z"
   },
   {
    "duration": 171,
    "start_time": "2023-09-14T21:34:53.906Z"
   },
   {
    "duration": 188,
    "start_time": "2023-09-14T21:34:54.083Z"
   },
   {
    "duration": 129,
    "start_time": "2023-09-14T21:34:54.277Z"
   },
   {
    "duration": 25,
    "start_time": "2023-09-14T21:34:54.408Z"
   },
   {
    "duration": 22,
    "start_time": "2023-09-14T21:34:54.434Z"
   },
   {
    "duration": 5,
    "start_time": "2023-09-14T21:34:54.468Z"
   },
   {
    "duration": 33,
    "start_time": "2023-09-14T21:34:54.474Z"
   },
   {
    "duration": 5,
    "start_time": "2023-09-14T21:34:54.510Z"
   },
   {
    "duration": 136,
    "start_time": "2023-09-14T21:34:54.516Z"
   },
   {
    "duration": 159,
    "start_time": "2023-09-14T21:34:54.662Z"
   },
   {
    "duration": 227,
    "start_time": "2023-09-14T21:34:54.822Z"
   },
   {
    "duration": 144,
    "start_time": "2023-09-14T21:34:55.051Z"
   },
   {
    "duration": 160,
    "start_time": "2023-09-14T21:34:55.196Z"
   },
   {
    "duration": 24,
    "start_time": "2023-09-14T21:34:55.360Z"
   },
   {
    "duration": 136,
    "start_time": "2023-09-14T21:34:55.386Z"
   },
   {
    "duration": 148,
    "start_time": "2023-09-14T21:34:55.524Z"
   },
   {
    "duration": 133,
    "start_time": "2023-09-14T21:34:55.674Z"
   },
   {
    "duration": 151,
    "start_time": "2023-09-14T21:34:55.808Z"
   },
   {
    "duration": 131,
    "start_time": "2023-09-14T21:40:56.318Z"
   },
   {
    "duration": 152,
    "start_time": "2023-09-14T21:41:14.442Z"
   },
   {
    "duration": 83,
    "start_time": "2023-09-14T22:06:09.207Z"
   },
   {
    "duration": 23,
    "start_time": "2023-09-14T22:06:45.702Z"
   },
   {
    "duration": 27,
    "start_time": "2023-09-14T22:07:04.151Z"
   },
   {
    "duration": 24,
    "start_time": "2023-09-14T22:18:24.300Z"
   },
   {
    "duration": 736,
    "start_time": "2023-09-14T22:18:55.550Z"
   },
   {
    "duration": 182,
    "start_time": "2023-09-14T22:18:56.290Z"
   },
   {
    "duration": 162,
    "start_time": "2023-09-14T22:18:56.474Z"
   },
   {
    "duration": 135,
    "start_time": "2023-09-14T22:18:56.637Z"
   },
   {
    "duration": 35,
    "start_time": "2023-09-14T22:18:56.775Z"
   },
   {
    "duration": 14,
    "start_time": "2023-09-14T22:18:56.813Z"
   },
   {
    "duration": 5,
    "start_time": "2023-09-14T22:18:56.829Z"
   },
   {
    "duration": 34,
    "start_time": "2023-09-14T22:18:56.836Z"
   },
   {
    "duration": 6,
    "start_time": "2023-09-14T22:18:56.872Z"
   },
   {
    "duration": 144,
    "start_time": "2023-09-14T22:18:56.884Z"
   },
   {
    "duration": 191,
    "start_time": "2023-09-14T22:18:57.031Z"
   },
   {
    "duration": 264,
    "start_time": "2023-09-14T22:18:57.223Z"
   },
   {
    "duration": 180,
    "start_time": "2023-09-14T22:18:57.489Z"
   },
   {
    "duration": 168,
    "start_time": "2023-09-14T22:18:57.671Z"
   },
   {
    "duration": 37,
    "start_time": "2023-09-14T22:18:57.850Z"
   },
   {
    "duration": 187,
    "start_time": "2023-09-14T22:18:57.895Z"
   },
   {
    "duration": 168,
    "start_time": "2023-09-14T22:18:58.084Z"
   },
   {
    "duration": 167,
    "start_time": "2023-09-14T22:18:58.257Z"
   },
   {
    "duration": 160,
    "start_time": "2023-09-14T22:18:58.426Z"
   },
   {
    "duration": 23,
    "start_time": "2023-09-14T22:18:58.588Z"
   },
   {
    "duration": 97,
    "start_time": "2023-09-14T22:33:44.415Z"
   },
   {
    "duration": 41,
    "start_time": "2023-09-14T22:34:18.619Z"
   },
   {
    "duration": 22,
    "start_time": "2023-09-14T22:34:40.577Z"
   },
   {
    "duration": 31,
    "start_time": "2023-09-14T22:36:32.261Z"
   },
   {
    "duration": 1806,
    "start_time": "2023-09-14T22:37:16.588Z"
   },
   {
    "duration": 28,
    "start_time": "2023-09-14T22:39:06.904Z"
   },
   {
    "duration": 83,
    "start_time": "2023-09-14T22:39:36.325Z"
   },
   {
    "duration": 29,
    "start_time": "2023-09-14T22:39:40.980Z"
   },
   {
    "duration": 55,
    "start_time": "2023-09-14T22:40:10.360Z"
   },
   {
    "duration": 20,
    "start_time": "2023-09-14T22:41:08.118Z"
   },
   {
    "duration": 20,
    "start_time": "2023-09-14T22:41:12.369Z"
   },
   {
    "duration": 29,
    "start_time": "2023-09-14T22:41:17.070Z"
   },
   {
    "duration": 43,
    "start_time": "2023-09-14T22:42:19.963Z"
   },
   {
    "duration": 30,
    "start_time": "2023-09-14T22:42:38.177Z"
   },
   {
    "duration": 630,
    "start_time": "2023-09-14T22:42:47.766Z"
   },
   {
    "duration": 153,
    "start_time": "2023-09-14T22:42:48.398Z"
   },
   {
    "duration": 152,
    "start_time": "2023-09-14T22:42:48.557Z"
   },
   {
    "duration": 124,
    "start_time": "2023-09-14T22:42:48.711Z"
   },
   {
    "duration": 39,
    "start_time": "2023-09-14T22:42:48.837Z"
   },
   {
    "duration": 12,
    "start_time": "2023-09-14T22:42:48.878Z"
   },
   {
    "duration": 8,
    "start_time": "2023-09-14T22:42:48.892Z"
   },
   {
    "duration": 23,
    "start_time": "2023-09-14T22:42:48.902Z"
   },
   {
    "duration": 6,
    "start_time": "2023-09-14T22:42:48.927Z"
   },
   {
    "duration": 184,
    "start_time": "2023-09-14T22:42:48.935Z"
   },
   {
    "duration": 184,
    "start_time": "2023-09-14T22:42:49.120Z"
   },
   {
    "duration": 244,
    "start_time": "2023-09-14T22:42:49.306Z"
   },
   {
    "duration": 146,
    "start_time": "2023-09-14T22:42:49.558Z"
   },
   {
    "duration": 160,
    "start_time": "2023-09-14T22:42:49.706Z"
   },
   {
    "duration": 27,
    "start_time": "2023-09-14T22:42:49.868Z"
   },
   {
    "duration": 122,
    "start_time": "2023-09-14T22:42:49.897Z"
   },
   {
    "duration": 157,
    "start_time": "2023-09-14T22:42:50.020Z"
   },
   {
    "duration": 138,
    "start_time": "2023-09-14T22:42:50.179Z"
   },
   {
    "duration": 160,
    "start_time": "2023-09-14T22:42:50.319Z"
   },
   {
    "duration": 19,
    "start_time": "2023-09-14T22:42:50.480Z"
   },
   {
    "duration": 27,
    "start_time": "2023-09-14T22:42:50.501Z"
   },
   {
    "duration": 69,
    "start_time": "2023-09-14T22:43:28.390Z"
   },
   {
    "duration": 30,
    "start_time": "2023-09-14T22:45:02.812Z"
   },
   {
    "duration": 105,
    "start_time": "2023-09-14T22:46:26.193Z"
   },
   {
    "duration": 29,
    "start_time": "2023-09-14T22:46:32.779Z"
   },
   {
    "duration": 29,
    "start_time": "2023-09-14T22:46:41.917Z"
   },
   {
    "duration": 61,
    "start_time": "2023-09-14T22:48:43.829Z"
   },
   {
    "duration": 31,
    "start_time": "2023-09-14T22:48:56.495Z"
   },
   {
    "duration": 31,
    "start_time": "2023-09-14T22:49:26.700Z"
   },
   {
    "duration": 28,
    "start_time": "2023-09-14T22:49:35.987Z"
   },
   {
    "duration": 28,
    "start_time": "2023-09-14T22:50:02.785Z"
   },
   {
    "duration": 1436,
    "start_time": "2023-09-14T22:56:06.070Z"
   },
   {
    "duration": 31,
    "start_time": "2023-09-14T22:56:19.429Z"
   },
   {
    "duration": 34,
    "start_time": "2023-09-14T22:56:36.924Z"
   },
   {
    "duration": 1114,
    "start_time": "2023-09-14T23:08:29.399Z"
   },
   {
    "duration": 161,
    "start_time": "2023-09-14T23:08:30.515Z"
   },
   {
    "duration": 145,
    "start_time": "2023-09-14T23:08:30.677Z"
   },
   {
    "duration": 110,
    "start_time": "2023-09-14T23:08:30.824Z"
   },
   {
    "duration": 40,
    "start_time": "2023-09-14T23:08:30.936Z"
   },
   {
    "duration": 25,
    "start_time": "2023-09-14T23:08:30.977Z"
   },
   {
    "duration": 24,
    "start_time": "2023-09-14T23:08:31.003Z"
   },
   {
    "duration": 64,
    "start_time": "2023-09-14T23:08:31.028Z"
   },
   {
    "duration": 29,
    "start_time": "2023-09-14T23:08:31.094Z"
   },
   {
    "duration": 167,
    "start_time": "2023-09-14T23:08:31.124Z"
   },
   {
    "duration": 118,
    "start_time": "2023-09-14T23:08:31.293Z"
   },
   {
    "duration": 227,
    "start_time": "2023-09-14T23:08:31.413Z"
   },
   {
    "duration": 152,
    "start_time": "2023-09-14T23:08:31.644Z"
   },
   {
    "duration": 158,
    "start_time": "2023-09-14T23:08:31.799Z"
   },
   {
    "duration": 23,
    "start_time": "2023-09-14T23:08:31.963Z"
   },
   {
    "duration": 138,
    "start_time": "2023-09-14T23:08:31.987Z"
   },
   {
    "duration": 240,
    "start_time": "2023-09-14T23:08:32.127Z"
   },
   {
    "duration": 149,
    "start_time": "2023-09-14T23:08:32.368Z"
   },
   {
    "duration": 145,
    "start_time": "2023-09-14T23:08:32.519Z"
   },
   {
    "duration": 19,
    "start_time": "2023-09-14T23:08:32.668Z"
   },
   {
    "duration": 29,
    "start_time": "2023-09-14T23:08:32.688Z"
   },
   {
    "duration": 112,
    "start_time": "2023-09-14T23:08:32.719Z"
   },
   {
    "duration": 8,
    "start_time": "2023-09-14T23:08:40.522Z"
   },
   {
    "duration": 5,
    "start_time": "2023-09-14T23:09:11.072Z"
   },
   {
    "duration": 5,
    "start_time": "2023-09-14T23:09:38.685Z"
   },
   {
    "duration": 5,
    "start_time": "2023-09-14T23:11:38.063Z"
   },
   {
    "duration": 9,
    "start_time": "2023-09-14T23:20:44.404Z"
   },
   {
    "duration": 5,
    "start_time": "2023-09-14T23:21:53.223Z"
   },
   {
    "duration": 4,
    "start_time": "2023-09-14T23:23:56.100Z"
   },
   {
    "duration": 8,
    "start_time": "2023-09-14T23:24:07.439Z"
   },
   {
    "duration": 1163,
    "start_time": "2023-09-14T23:27:58.542Z"
   },
   {
    "duration": 153,
    "start_time": "2023-09-14T23:27:59.708Z"
   },
   {
    "duration": 155,
    "start_time": "2023-09-14T23:27:59.865Z"
   },
   {
    "duration": 133,
    "start_time": "2023-09-14T23:28:00.022Z"
   },
   {
    "duration": 25,
    "start_time": "2023-09-14T23:28:00.157Z"
   },
   {
    "duration": 54,
    "start_time": "2023-09-14T23:28:00.183Z"
   },
   {
    "duration": 63,
    "start_time": "2023-09-14T23:28:00.238Z"
   },
   {
    "duration": 120,
    "start_time": "2023-09-14T23:28:00.303Z"
   },
   {
    "duration": 88,
    "start_time": "2023-09-14T23:28:00.426Z"
   },
   {
    "duration": 191,
    "start_time": "2023-09-14T23:28:00.516Z"
   },
   {
    "duration": 116,
    "start_time": "2023-09-14T23:28:00.708Z"
   },
   {
    "duration": 236,
    "start_time": "2023-09-14T23:28:00.825Z"
   },
   {
    "duration": 138,
    "start_time": "2023-09-14T23:28:01.063Z"
   },
   {
    "duration": 156,
    "start_time": "2023-09-14T23:28:01.203Z"
   },
   {
    "duration": 99,
    "start_time": "2023-09-14T23:28:01.360Z"
   },
   {
    "duration": 139,
    "start_time": "2023-09-14T23:28:01.461Z"
   },
   {
    "duration": 228,
    "start_time": "2023-09-14T23:28:01.602Z"
   },
   {
    "duration": 145,
    "start_time": "2023-09-14T23:28:01.832Z"
   },
   {
    "duration": 141,
    "start_time": "2023-09-14T23:28:01.978Z"
   },
   {
    "duration": 30,
    "start_time": "2023-09-14T23:28:02.121Z"
   },
   {
    "duration": 55,
    "start_time": "2023-09-14T23:28:02.152Z"
   },
   {
    "duration": 29,
    "start_time": "2023-09-14T23:28:02.209Z"
   },
   {
    "duration": 50,
    "start_time": "2023-09-14T23:28:02.240Z"
   },
   {
    "duration": 8,
    "start_time": "2023-09-14T23:30:41.326Z"
   },
   {
    "duration": 9,
    "start_time": "2023-09-14T23:36:16.963Z"
   },
   {
    "duration": 1085,
    "start_time": "2023-09-14T23:44:59.517Z"
   },
   {
    "duration": 160,
    "start_time": "2023-09-14T23:45:00.604Z"
   },
   {
    "duration": 143,
    "start_time": "2023-09-14T23:45:00.766Z"
   },
   {
    "duration": 112,
    "start_time": "2023-09-14T23:45:00.911Z"
   },
   {
    "duration": 26,
    "start_time": "2023-09-14T23:45:01.025Z"
   },
   {
    "duration": 21,
    "start_time": "2023-09-14T23:45:01.059Z"
   },
   {
    "duration": 38,
    "start_time": "2023-09-14T23:45:01.082Z"
   },
   {
    "duration": 71,
    "start_time": "2023-09-14T23:45:01.122Z"
   },
   {
    "duration": 95,
    "start_time": "2023-09-14T23:45:01.195Z"
   },
   {
    "duration": 201,
    "start_time": "2023-09-14T23:45:01.291Z"
   },
   {
    "duration": 122,
    "start_time": "2023-09-14T23:45:01.494Z"
   },
   {
    "duration": 217,
    "start_time": "2023-09-14T23:45:01.618Z"
   },
   {
    "duration": 148,
    "start_time": "2023-09-14T23:45:01.837Z"
   },
   {
    "duration": 149,
    "start_time": "2023-09-14T23:45:01.987Z"
   },
   {
    "duration": 34,
    "start_time": "2023-09-14T23:45:02.138Z"
   },
   {
    "duration": 130,
    "start_time": "2023-09-14T23:45:02.174Z"
   },
   {
    "duration": 218,
    "start_time": "2023-09-14T23:45:02.305Z"
   },
   {
    "duration": 143,
    "start_time": "2023-09-14T23:45:02.524Z"
   },
   {
    "duration": 134,
    "start_time": "2023-09-14T23:45:02.673Z"
   },
   {
    "duration": 17,
    "start_time": "2023-09-14T23:45:02.809Z"
   },
   {
    "duration": 72,
    "start_time": "2023-09-14T23:45:02.827Z"
   },
   {
    "duration": 4,
    "start_time": "2023-09-14T23:45:02.901Z"
   },
   {
    "duration": 11,
    "start_time": "2023-09-14T23:45:02.906Z"
   },
   {
    "duration": 10,
    "start_time": "2023-09-14T23:45:02.918Z"
   },
   {
    "duration": 1157,
    "start_time": "2023-09-15T00:46:30.331Z"
   },
   {
    "duration": 146,
    "start_time": "2023-09-15T00:46:31.490Z"
   },
   {
    "duration": 148,
    "start_time": "2023-09-15T00:46:31.638Z"
   },
   {
    "duration": 114,
    "start_time": "2023-09-15T00:46:31.788Z"
   },
   {
    "duration": 23,
    "start_time": "2023-09-15T00:46:31.905Z"
   },
   {
    "duration": 9,
    "start_time": "2023-09-15T00:46:31.929Z"
   },
   {
    "duration": 33,
    "start_time": "2023-09-15T00:46:31.940Z"
   },
   {
    "duration": 46,
    "start_time": "2023-09-15T00:46:31.975Z"
   },
   {
    "duration": 33,
    "start_time": "2023-09-15T00:46:32.024Z"
   },
   {
    "duration": 146,
    "start_time": "2023-09-15T00:46:32.059Z"
   },
   {
    "duration": 125,
    "start_time": "2023-09-15T00:46:32.207Z"
   },
   {
    "duration": 208,
    "start_time": "2023-09-15T00:46:32.333Z"
   },
   {
    "duration": 142,
    "start_time": "2023-09-15T00:46:32.544Z"
   },
   {
    "duration": 141,
    "start_time": "2023-09-15T00:46:32.689Z"
   },
   {
    "duration": 31,
    "start_time": "2023-09-15T00:46:32.832Z"
   },
   {
    "duration": 127,
    "start_time": "2023-09-15T00:46:32.865Z"
   },
   {
    "duration": 208,
    "start_time": "2023-09-15T00:46:32.993Z"
   },
   {
    "duration": 131,
    "start_time": "2023-09-15T00:46:33.203Z"
   },
   {
    "duration": 139,
    "start_time": "2023-09-15T00:46:33.336Z"
   },
   {
    "duration": 18,
    "start_time": "2023-09-15T00:46:33.476Z"
   },
   {
    "duration": 31,
    "start_time": "2023-09-15T00:46:33.496Z"
   },
   {
    "duration": 5,
    "start_time": "2023-09-15T00:46:33.556Z"
   },
   {
    "duration": 6,
    "start_time": "2023-09-15T00:46:33.563Z"
   },
   {
    "duration": 20,
    "start_time": "2023-09-15T00:46:33.571Z"
   },
   {
    "duration": 1231,
    "start_time": "2023-09-15T11:09:49.837Z"
   },
   {
    "duration": 232,
    "start_time": "2023-09-15T11:09:51.071Z"
   },
   {
    "duration": 290,
    "start_time": "2023-09-15T11:09:51.305Z"
   },
   {
    "duration": 129,
    "start_time": "2023-09-15T11:09:51.596Z"
   },
   {
    "duration": 79,
    "start_time": "2023-09-15T11:09:51.728Z"
   },
   {
    "duration": 12,
    "start_time": "2023-09-15T11:09:51.809Z"
   },
   {
    "duration": 36,
    "start_time": "2023-09-15T11:09:51.823Z"
   },
   {
    "duration": 37,
    "start_time": "2023-09-15T11:09:51.869Z"
   },
   {
    "duration": 21,
    "start_time": "2023-09-15T11:09:51.907Z"
   },
   {
    "duration": 165,
    "start_time": "2023-09-15T11:09:51.930Z"
   },
   {
    "duration": 132,
    "start_time": "2023-09-15T11:09:52.097Z"
   },
   {
    "duration": 248,
    "start_time": "2023-09-15T11:09:52.231Z"
   },
   {
    "duration": 168,
    "start_time": "2023-09-15T11:09:52.480Z"
   },
   {
    "duration": 183,
    "start_time": "2023-09-15T11:09:52.656Z"
   },
   {
    "duration": 40,
    "start_time": "2023-09-15T11:09:52.841Z"
   },
   {
    "duration": 157,
    "start_time": "2023-09-15T11:09:52.883Z"
   },
   {
    "duration": 240,
    "start_time": "2023-09-15T11:09:53.042Z"
   },
   {
    "duration": 163,
    "start_time": "2023-09-15T11:09:53.284Z"
   },
   {
    "duration": 167,
    "start_time": "2023-09-15T11:09:53.449Z"
   },
   {
    "duration": 21,
    "start_time": "2023-09-15T11:09:53.618Z"
   },
   {
    "duration": 51,
    "start_time": "2023-09-15T11:09:53.641Z"
   },
   {
    "duration": 5,
    "start_time": "2023-09-15T11:09:53.694Z"
   },
   {
    "duration": 34,
    "start_time": "2023-09-15T11:09:53.700Z"
   },
   {
    "duration": 38,
    "start_time": "2023-09-15T11:09:53.736Z"
   },
   {
    "duration": 32,
    "start_time": "2023-09-15T12:44:54.480Z"
   },
   {
    "duration": 21,
    "start_time": "2023-09-15T12:45:44.524Z"
   },
   {
    "duration": 33,
    "start_time": "2023-09-15T12:49:58.046Z"
   },
   {
    "duration": 1345,
    "start_time": "2023-09-15T14:46:47.008Z"
   },
   {
    "duration": 235,
    "start_time": "2023-09-15T14:46:48.362Z"
   },
   {
    "duration": 216,
    "start_time": "2023-09-15T14:46:48.599Z"
   },
   {
    "duration": 111,
    "start_time": "2023-09-15T14:46:48.816Z"
   },
   {
    "duration": 68,
    "start_time": "2023-09-15T14:46:48.929Z"
   },
   {
    "duration": 13,
    "start_time": "2023-09-15T14:46:48.999Z"
   },
   {
    "duration": 4,
    "start_time": "2023-09-15T14:46:49.017Z"
   },
   {
    "duration": 54,
    "start_time": "2023-09-15T14:46:49.023Z"
   },
   {
    "duration": 34,
    "start_time": "2023-09-15T14:46:49.079Z"
   },
   {
    "duration": 162,
    "start_time": "2023-09-15T14:46:49.115Z"
   },
   {
    "duration": 127,
    "start_time": "2023-09-15T14:46:49.278Z"
   },
   {
    "duration": 260,
    "start_time": "2023-09-15T14:46:49.408Z"
   },
   {
    "duration": 155,
    "start_time": "2023-09-15T14:46:49.670Z"
   },
   {
    "duration": 151,
    "start_time": "2023-09-15T14:46:49.828Z"
   },
   {
    "duration": 24,
    "start_time": "2023-09-15T14:46:49.981Z"
   },
   {
    "duration": 221,
    "start_time": "2023-09-15T14:46:50.007Z"
   },
   {
    "duration": 148,
    "start_time": "2023-09-15T14:46:50.230Z"
   },
   {
    "duration": 146,
    "start_time": "2023-09-15T14:46:50.380Z"
   },
   {
    "duration": 217,
    "start_time": "2023-09-15T14:46:50.528Z"
   },
   {
    "duration": 30,
    "start_time": "2023-09-15T14:46:50.747Z"
   },
   {
    "duration": 73,
    "start_time": "2023-09-15T14:46:50.778Z"
   },
   {
    "duration": 7,
    "start_time": "2023-09-15T14:46:50.861Z"
   },
   {
    "duration": 27,
    "start_time": "2023-09-15T14:46:50.869Z"
   },
   {
    "duration": 41,
    "start_time": "2023-09-15T14:46:50.898Z"
   },
   {
    "duration": 1456,
    "start_time": "2023-09-15T16:54:13.981Z"
   },
   {
    "duration": 248,
    "start_time": "2023-09-15T16:54:15.439Z"
   },
   {
    "duration": 264,
    "start_time": "2023-09-15T16:54:15.689Z"
   },
   {
    "duration": 154,
    "start_time": "2023-09-15T16:54:15.955Z"
   },
   {
    "duration": 89,
    "start_time": "2023-09-15T16:54:16.111Z"
   },
   {
    "duration": 18,
    "start_time": "2023-09-15T16:54:17.059Z"
   },
   {
    "duration": 8,
    "start_time": "2023-09-15T16:54:17.419Z"
   },
   {
    "duration": 3,
    "start_time": "2023-09-15T16:54:17.952Z"
   },
   {
    "duration": 7,
    "start_time": "2023-09-15T16:54:19.067Z"
   },
   {
    "duration": 139,
    "start_time": "2023-09-15T16:54:21.068Z"
   },
   {
    "duration": 150,
    "start_time": "2023-09-15T16:55:44.253Z"
   },
   {
    "duration": 147,
    "start_time": "2023-09-15T16:55:48.692Z"
   },
   {
    "duration": 157,
    "start_time": "2023-09-15T16:55:51.050Z"
   },
   {
    "duration": 163,
    "start_time": "2023-09-15T16:55:53.171Z"
   },
   {
    "duration": 164,
    "start_time": "2023-09-15T16:56:14.217Z"
   },
   {
    "duration": 174,
    "start_time": "2023-09-15T16:57:08.892Z"
   },
   {
    "duration": 236,
    "start_time": "2023-09-15T16:57:15.175Z"
   },
   {
    "duration": 154,
    "start_time": "2023-09-15T16:57:54.446Z"
   },
   {
    "duration": 170,
    "start_time": "2023-09-15T16:57:59.509Z"
   },
   {
    "duration": 163,
    "start_time": "2023-09-15T16:58:56.155Z"
   },
   {
    "duration": 188,
    "start_time": "2023-09-15T16:59:06.767Z"
   },
   {
    "duration": 1338,
    "start_time": "2023-09-15T22:42:07.356Z"
   },
   {
    "duration": 196,
    "start_time": "2023-09-15T22:42:08.696Z"
   },
   {
    "duration": 190,
    "start_time": "2023-09-15T22:42:08.902Z"
   },
   {
    "duration": 128,
    "start_time": "2023-09-15T22:42:09.102Z"
   },
   {
    "duration": 61,
    "start_time": "2023-09-15T22:42:09.233Z"
   },
   {
    "duration": 10,
    "start_time": "2023-09-15T22:42:09.296Z"
   },
   {
    "duration": 19,
    "start_time": "2023-09-15T22:42:09.308Z"
   },
   {
    "duration": 8,
    "start_time": "2023-09-15T22:42:09.328Z"
   },
   {
    "duration": 22,
    "start_time": "2023-09-15T22:42:09.338Z"
   },
   {
    "duration": 168,
    "start_time": "2023-09-15T22:42:09.361Z"
   },
   {
    "duration": 155,
    "start_time": "2023-09-15T22:42:09.531Z"
   },
   {
    "duration": 271,
    "start_time": "2023-09-15T22:42:09.688Z"
   },
   {
    "duration": 153,
    "start_time": "2023-09-15T22:42:09.961Z"
   },
   {
    "duration": 169,
    "start_time": "2023-09-15T22:42:10.118Z"
   },
   {
    "duration": 41,
    "start_time": "2023-09-15T22:42:10.289Z"
   },
   {
    "duration": 252,
    "start_time": "2023-09-15T22:42:10.332Z"
   },
   {
    "duration": 169,
    "start_time": "2023-09-15T22:42:10.586Z"
   },
   {
    "duration": 130,
    "start_time": "2023-09-15T22:42:10.758Z"
   },
   {
    "duration": 167,
    "start_time": "2023-09-15T22:42:10.890Z"
   },
   {
    "duration": 24,
    "start_time": "2023-09-15T22:42:11.059Z"
   },
   {
    "duration": 49,
    "start_time": "2023-09-15T22:42:11.084Z"
   },
   {
    "duration": 6,
    "start_time": "2023-09-15T22:42:11.135Z"
   },
   {
    "duration": 31,
    "start_time": "2023-09-15T22:42:11.143Z"
   },
   {
    "duration": 12,
    "start_time": "2023-09-15T22:42:11.176Z"
   },
   {
    "duration": 88,
    "start_time": "2023-09-15T22:42:56.296Z"
   },
   {
    "duration": 81,
    "start_time": "2023-09-15T22:44:41.444Z"
   },
   {
    "duration": 175,
    "start_time": "2023-09-15T22:46:10.202Z"
   },
   {
    "duration": 162,
    "start_time": "2023-09-15T22:46:21.846Z"
   },
   {
    "duration": 77,
    "start_time": "2023-09-15T22:47:07.815Z"
   },
   {
    "duration": 92,
    "start_time": "2023-09-15T22:47:21.712Z"
   },
   {
    "duration": 103,
    "start_time": "2023-09-15T22:52:47.283Z"
   },
   {
    "duration": 14,
    "start_time": "2023-09-15T22:53:19.854Z"
   },
   {
    "duration": 14,
    "start_time": "2023-09-15T22:53:28.740Z"
   },
   {
    "duration": 264,
    "start_time": "2023-09-15T22:53:41.687Z"
   },
   {
    "duration": 13,
    "start_time": "2023-09-15T22:59:16.300Z"
   },
   {
    "duration": 16,
    "start_time": "2023-09-15T22:59:41.816Z"
   },
   {
    "duration": 12,
    "start_time": "2023-09-15T22:59:51.432Z"
   },
   {
    "duration": 21,
    "start_time": "2023-09-15T22:59:59.089Z"
   },
   {
    "duration": 2750,
    "start_time": "2023-09-15T23:02:20.497Z"
   },
   {
    "duration": 3257,
    "start_time": "2023-09-15T23:03:07.507Z"
   },
   {
    "duration": 15,
    "start_time": "2023-09-15T23:05:29.532Z"
   },
   {
    "duration": 15,
    "start_time": "2023-09-15T23:05:39.360Z"
   },
   {
    "duration": 13,
    "start_time": "2023-09-15T23:05:51.598Z"
   },
   {
    "duration": 399,
    "start_time": "2023-09-15T23:07:24.671Z"
   },
   {
    "duration": 355,
    "start_time": "2023-09-15T23:09:46.246Z"
   },
   {
    "duration": 340,
    "start_time": "2023-09-15T23:10:11.866Z"
   },
   {
    "duration": 310,
    "start_time": "2023-09-15T23:10:54.090Z"
   },
   {
    "duration": 715,
    "start_time": "2023-09-15T23:11:04.242Z"
   },
   {
    "duration": 317,
    "start_time": "2023-09-15T23:12:22.438Z"
   },
   {
    "duration": 298,
    "start_time": "2023-09-15T23:13:13.477Z"
   },
   {
    "duration": 157,
    "start_time": "2023-09-15T23:14:31.961Z"
   },
   {
    "duration": 155,
    "start_time": "2023-09-15T23:14:50.561Z"
   },
   {
    "duration": 151,
    "start_time": "2023-09-15T23:16:10.827Z"
   },
   {
    "duration": 167,
    "start_time": "2023-09-15T23:16:20.558Z"
   },
   {
    "duration": 168,
    "start_time": "2023-09-15T23:16:41.455Z"
   },
   {
    "duration": 164,
    "start_time": "2023-09-15T23:17:43.723Z"
   },
   {
    "duration": 161,
    "start_time": "2023-09-15T23:19:01.841Z"
   },
   {
    "duration": 38,
    "start_time": "2023-09-15T23:23:19.898Z"
   },
   {
    "duration": 175,
    "start_time": "2023-09-15T23:25:46.219Z"
   },
   {
    "duration": 176,
    "start_time": "2023-09-15T23:26:31.308Z"
   },
   {
    "duration": 168,
    "start_time": "2023-09-15T23:28:08.766Z"
   },
   {
    "duration": 1143,
    "start_time": "2023-09-15T23:28:56.130Z"
   },
   {
    "duration": 157,
    "start_time": "2023-09-15T23:28:57.275Z"
   },
   {
    "duration": 144,
    "start_time": "2023-09-15T23:28:57.433Z"
   },
   {
    "duration": 123,
    "start_time": "2023-09-15T23:28:57.580Z"
   },
   {
    "duration": 24,
    "start_time": "2023-09-15T23:28:57.705Z"
   },
   {
    "duration": 10,
    "start_time": "2023-09-15T23:28:57.731Z"
   },
   {
    "duration": 5,
    "start_time": "2023-09-15T23:28:57.743Z"
   },
   {
    "duration": 21,
    "start_time": "2023-09-15T23:28:57.750Z"
   },
   {
    "duration": 8,
    "start_time": "2023-09-15T23:28:57.773Z"
   },
   {
    "duration": 176,
    "start_time": "2023-09-15T23:28:57.783Z"
   },
   {
    "duration": 97,
    "start_time": "2023-09-15T23:28:57.960Z"
   },
   {
    "duration": 308,
    "start_time": "2023-09-15T23:28:58.059Z"
   },
   {
    "duration": 178,
    "start_time": "2023-09-15T23:28:58.369Z"
   },
   {
    "duration": 197,
    "start_time": "2023-09-15T23:28:58.550Z"
   },
   {
    "duration": 109,
    "start_time": "2023-09-15T23:28:58.749Z"
   },
   {
    "duration": 173,
    "start_time": "2023-09-15T23:28:58.860Z"
   },
   {
    "duration": 166,
    "start_time": "2023-09-15T23:28:59.034Z"
   },
   {
    "duration": 159,
    "start_time": "2023-09-15T23:28:59.202Z"
   },
   {
    "duration": 187,
    "start_time": "2023-09-15T23:28:59.363Z"
   },
   {
    "duration": 20,
    "start_time": "2023-09-15T23:28:59.552Z"
   },
   {
    "duration": 55,
    "start_time": "2023-09-15T23:28:59.574Z"
   },
   {
    "duration": 6,
    "start_time": "2023-09-15T23:28:59.631Z"
   },
   {
    "duration": 25,
    "start_time": "2023-09-15T23:28:59.638Z"
   },
   {
    "duration": 24,
    "start_time": "2023-09-15T23:28:59.664Z"
   },
   {
    "duration": 180,
    "start_time": "2023-09-15T23:29:58.721Z"
   },
   {
    "duration": 22,
    "start_time": "2023-09-15T23:36:36.117Z"
   },
   {
    "duration": 39,
    "start_time": "2023-09-15T23:38:07.102Z"
   },
   {
    "duration": 1125,
    "start_time": "2023-09-15T23:39:01.440Z"
   },
   {
    "duration": 155,
    "start_time": "2023-09-15T23:39:02.567Z"
   },
   {
    "duration": 138,
    "start_time": "2023-09-15T23:39:02.724Z"
   },
   {
    "duration": 125,
    "start_time": "2023-09-15T23:39:02.864Z"
   },
   {
    "duration": 26,
    "start_time": "2023-09-15T23:39:03.001Z"
   },
   {
    "duration": 12,
    "start_time": "2023-09-15T23:39:03.029Z"
   },
   {
    "duration": 17,
    "start_time": "2023-09-15T23:39:03.042Z"
   },
   {
    "duration": 46,
    "start_time": "2023-09-15T23:39:03.060Z"
   },
   {
    "duration": 20,
    "start_time": "2023-09-15T23:39:03.108Z"
   },
   {
    "duration": 204,
    "start_time": "2023-09-15T23:39:03.130Z"
   },
   {
    "duration": 105,
    "start_time": "2023-09-15T23:39:03.335Z"
   },
   {
    "duration": 302,
    "start_time": "2023-09-15T23:39:03.442Z"
   },
   {
    "duration": 179,
    "start_time": "2023-09-15T23:39:03.745Z"
   },
   {
    "duration": 176,
    "start_time": "2023-09-15T23:39:03.927Z"
   },
   {
    "duration": 112,
    "start_time": "2023-09-15T23:39:04.105Z"
   },
   {
    "duration": 195,
    "start_time": "2023-09-15T23:39:04.220Z"
   },
   {
    "duration": 201,
    "start_time": "2023-09-15T23:39:04.417Z"
   },
   {
    "duration": 206,
    "start_time": "2023-09-15T23:39:04.620Z"
   },
   {
    "duration": 184,
    "start_time": "2023-09-15T23:39:04.827Z"
   },
   {
    "duration": 23,
    "start_time": "2023-09-15T23:39:05.012Z"
   },
   {
    "duration": 39,
    "start_time": "2023-09-15T23:39:05.037Z"
   },
   {
    "duration": 26,
    "start_time": "2023-09-15T23:39:05.078Z"
   },
   {
    "duration": 7,
    "start_time": "2023-09-15T23:39:05.106Z"
   },
   {
    "duration": 17,
    "start_time": "2023-09-15T23:39:05.114Z"
   },
   {
    "duration": 6,
    "start_time": "2023-09-15T23:43:59.960Z"
   },
   {
    "duration": 7,
    "start_time": "2023-09-15T23:50:42.445Z"
   },
   {
    "duration": 7,
    "start_time": "2023-09-15T23:51:40.545Z"
   },
   {
    "duration": 13,
    "start_time": "2023-09-15T23:59:04.281Z"
   },
   {
    "duration": 1142,
    "start_time": "2023-09-16T00:18:56.107Z"
   },
   {
    "duration": 150,
    "start_time": "2023-09-16T00:18:57.251Z"
   },
   {
    "duration": 145,
    "start_time": "2023-09-16T00:18:57.402Z"
   },
   {
    "duration": 121,
    "start_time": "2023-09-16T00:18:57.549Z"
   },
   {
    "duration": 24,
    "start_time": "2023-09-16T00:18:57.672Z"
   },
   {
    "duration": 16,
    "start_time": "2023-09-16T00:18:57.698Z"
   },
   {
    "duration": 12,
    "start_time": "2023-09-16T00:18:57.716Z"
   },
   {
    "duration": 23,
    "start_time": "2023-09-16T00:18:57.730Z"
   },
   {
    "duration": 17,
    "start_time": "2023-09-16T00:18:57.755Z"
   },
   {
    "duration": 160,
    "start_time": "2023-09-16T00:18:57.775Z"
   },
   {
    "duration": 99,
    "start_time": "2023-09-16T00:18:57.936Z"
   },
   {
    "duration": 300,
    "start_time": "2023-09-16T00:18:58.036Z"
   },
   {
    "duration": 177,
    "start_time": "2023-09-16T00:18:58.338Z"
   },
   {
    "duration": 201,
    "start_time": "2023-09-16T00:18:58.517Z"
   },
   {
    "duration": 116,
    "start_time": "2023-09-16T00:18:58.719Z"
   },
   {
    "duration": 172,
    "start_time": "2023-09-16T00:18:58.836Z"
   },
   {
    "duration": 163,
    "start_time": "2023-09-16T00:18:59.009Z"
   },
   {
    "duration": 157,
    "start_time": "2023-09-16T00:18:59.174Z"
   },
   {
    "duration": 186,
    "start_time": "2023-09-16T00:18:59.333Z"
   },
   {
    "duration": 21,
    "start_time": "2023-09-16T00:18:59.521Z"
   },
   {
    "duration": 116,
    "start_time": "2023-09-16T00:18:59.544Z"
   },
   {
    "duration": 22,
    "start_time": "2023-09-16T00:18:59.662Z"
   },
   {
    "duration": 26,
    "start_time": "2023-09-16T00:18:59.686Z"
   },
   {
    "duration": 40,
    "start_time": "2023-09-16T00:18:59.714Z"
   },
   {
    "duration": 1144,
    "start_time": "2023-09-16T00:33:31.619Z"
   },
   {
    "duration": 155,
    "start_time": "2023-09-16T00:33:32.765Z"
   },
   {
    "duration": 144,
    "start_time": "2023-09-16T00:33:32.922Z"
   },
   {
    "duration": 116,
    "start_time": "2023-09-16T00:33:33.069Z"
   },
   {
    "duration": 26,
    "start_time": "2023-09-16T00:33:33.187Z"
   },
   {
    "duration": 93,
    "start_time": "2023-09-16T00:33:33.214Z"
   },
   {
    "duration": 25,
    "start_time": "2023-09-16T00:33:33.310Z"
   },
   {
    "duration": 36,
    "start_time": "2023-09-16T00:33:33.337Z"
   },
   {
    "duration": 38,
    "start_time": "2023-09-16T00:33:33.375Z"
   },
   {
    "duration": 168,
    "start_time": "2023-09-16T00:33:33.416Z"
   },
   {
    "duration": 95,
    "start_time": "2023-09-16T00:33:33.586Z"
   },
   {
    "duration": 303,
    "start_time": "2023-09-16T00:33:33.683Z"
   },
   {
    "duration": 178,
    "start_time": "2023-09-16T00:33:33.987Z"
   },
   {
    "duration": 188,
    "start_time": "2023-09-16T00:33:34.167Z"
   },
   {
    "duration": 54,
    "start_time": "2023-09-16T00:33:34.357Z"
   },
   {
    "duration": 262,
    "start_time": "2023-09-16T00:33:34.413Z"
   },
   {
    "duration": 201,
    "start_time": "2023-09-16T00:33:34.677Z"
   },
   {
    "duration": 168,
    "start_time": "2023-09-16T00:33:34.880Z"
   },
   {
    "duration": 180,
    "start_time": "2023-09-16T00:33:35.050Z"
   },
   {
    "duration": 20,
    "start_time": "2023-09-16T00:33:35.232Z"
   },
   {
    "duration": 54,
    "start_time": "2023-09-16T00:33:35.253Z"
   },
   {
    "duration": 6,
    "start_time": "2023-09-16T00:33:35.309Z"
   },
   {
    "duration": 27,
    "start_time": "2023-09-16T00:33:35.316Z"
   },
   {
    "duration": 10,
    "start_time": "2023-09-16T00:33:35.345Z"
   },
   {
    "duration": 1286,
    "start_time": "2023-09-16T12:04:27.915Z"
   },
   {
    "duration": 196,
    "start_time": "2023-09-16T12:04:29.202Z"
   },
   {
    "duration": 254,
    "start_time": "2023-09-16T12:04:29.400Z"
   },
   {
    "duration": 111,
    "start_time": "2023-09-16T12:04:29.656Z"
   },
   {
    "duration": 63,
    "start_time": "2023-09-16T12:04:29.769Z"
   },
   {
    "duration": 9,
    "start_time": "2023-09-16T12:04:29.834Z"
   },
   {
    "duration": 4,
    "start_time": "2023-09-16T12:04:29.844Z"
   },
   {
    "duration": 13,
    "start_time": "2023-09-16T12:04:29.850Z"
   },
   {
    "duration": 8,
    "start_time": "2023-09-16T12:04:29.865Z"
   },
   {
    "duration": 161,
    "start_time": "2023-09-16T12:04:29.876Z"
   },
   {
    "duration": 107,
    "start_time": "2023-09-16T12:04:30.039Z"
   },
   {
    "duration": 299,
    "start_time": "2023-09-16T12:04:30.147Z"
   },
   {
    "duration": 174,
    "start_time": "2023-09-16T12:04:30.447Z"
   },
   {
    "duration": 170,
    "start_time": "2023-09-16T12:04:30.622Z"
   },
   {
    "duration": 106,
    "start_time": "2023-09-16T12:04:30.794Z"
   },
   {
    "duration": 171,
    "start_time": "2023-09-16T12:04:30.902Z"
   },
   {
    "duration": 150,
    "start_time": "2023-09-16T12:04:31.075Z"
   },
   {
    "duration": 152,
    "start_time": "2023-09-16T12:04:31.227Z"
   },
   {
    "duration": 173,
    "start_time": "2023-09-16T12:04:31.381Z"
   },
   {
    "duration": 21,
    "start_time": "2023-09-16T12:04:31.556Z"
   },
   {
    "duration": 34,
    "start_time": "2023-09-16T12:04:31.578Z"
   },
   {
    "duration": 14,
    "start_time": "2023-09-16T12:04:31.614Z"
   },
   {
    "duration": 23,
    "start_time": "2023-09-16T12:04:31.630Z"
   },
   {
    "duration": 8,
    "start_time": "2023-09-16T12:04:31.655Z"
   },
   {
    "duration": 6,
    "start_time": "2023-09-16T12:05:25.422Z"
   },
   {
    "duration": 1694,
    "start_time": "2023-09-16T16:30:01.545Z"
   },
   {
    "duration": 264,
    "start_time": "2023-09-16T16:30:03.246Z"
   },
   {
    "duration": 254,
    "start_time": "2023-09-16T16:30:03.512Z"
   },
   {
    "duration": 154,
    "start_time": "2023-09-16T16:30:03.770Z"
   },
   {
    "duration": 88,
    "start_time": "2023-09-16T16:30:03.929Z"
   },
   {
    "duration": 10,
    "start_time": "2023-09-16T16:30:04.019Z"
   },
   {
    "duration": 10,
    "start_time": "2023-09-16T16:30:04.030Z"
   },
   {
    "duration": 42,
    "start_time": "2023-09-16T16:30:04.042Z"
   },
   {
    "duration": 31,
    "start_time": "2023-09-16T16:30:04.086Z"
   },
   {
    "duration": 194,
    "start_time": "2023-09-16T16:30:04.120Z"
   },
   {
    "duration": 137,
    "start_time": "2023-09-16T16:30:04.317Z"
   },
   {
    "duration": 375,
    "start_time": "2023-09-16T16:30:04.460Z"
   },
   {
    "duration": 230,
    "start_time": "2023-09-16T16:30:04.837Z"
   },
   {
    "duration": 230,
    "start_time": "2023-09-16T16:30:05.070Z"
   },
   {
    "duration": 154,
    "start_time": "2023-09-16T16:30:05.305Z"
   },
   {
    "duration": 217,
    "start_time": "2023-09-16T16:30:05.462Z"
   },
   {
    "duration": 180,
    "start_time": "2023-09-16T16:30:05.690Z"
   },
   {
    "duration": 196,
    "start_time": "2023-09-16T16:30:05.872Z"
   },
   {
    "duration": 218,
    "start_time": "2023-09-16T16:30:06.069Z"
   },
   {
    "duration": 28,
    "start_time": "2023-09-16T16:30:06.289Z"
   },
   {
    "duration": 54,
    "start_time": "2023-09-16T16:30:06.319Z"
   },
   {
    "duration": 11,
    "start_time": "2023-09-16T16:30:06.375Z"
   },
   {
    "duration": 27,
    "start_time": "2023-09-16T16:30:06.388Z"
   },
   {
    "duration": 13,
    "start_time": "2023-09-16T16:30:06.417Z"
   },
   {
    "duration": 1418,
    "start_time": "2023-09-16T16:32:46.070Z"
   },
   {
    "duration": 206,
    "start_time": "2023-09-16T16:32:47.489Z"
   },
   {
    "duration": 183,
    "start_time": "2023-09-16T16:32:47.698Z"
   },
   {
    "duration": 137,
    "start_time": "2023-09-16T16:32:47.883Z"
   },
   {
    "duration": 33,
    "start_time": "2023-09-16T16:32:48.022Z"
   },
   {
    "duration": 30,
    "start_time": "2023-09-16T16:32:48.063Z"
   },
   {
    "duration": 6,
    "start_time": "2023-09-16T16:32:48.097Z"
   },
   {
    "duration": 6,
    "start_time": "2023-09-16T16:32:48.106Z"
   },
   {
    "duration": 12,
    "start_time": "2023-09-16T16:32:48.114Z"
   },
   {
    "duration": 263,
    "start_time": "2023-09-16T16:32:48.128Z"
   },
   {
    "duration": 108,
    "start_time": "2023-09-16T16:32:48.394Z"
   },
   {
    "duration": 324,
    "start_time": "2023-09-16T16:32:48.504Z"
   },
   {
    "duration": 339,
    "start_time": "2023-09-16T16:32:48.831Z"
   },
   {
    "duration": 239,
    "start_time": "2023-09-16T16:32:49.173Z"
   },
   {
    "duration": 127,
    "start_time": "2023-09-16T16:32:49.415Z"
   },
   {
    "duration": 241,
    "start_time": "2023-09-16T16:32:49.545Z"
   },
   {
    "duration": 202,
    "start_time": "2023-09-16T16:32:49.788Z"
   },
   {
    "duration": 193,
    "start_time": "2023-09-16T16:32:49.993Z"
   },
   {
    "duration": 217,
    "start_time": "2023-09-16T16:32:50.188Z"
   },
   {
    "duration": 38,
    "start_time": "2023-09-16T16:32:50.407Z"
   },
   {
    "duration": 50,
    "start_time": "2023-09-16T16:32:50.448Z"
   },
   {
    "duration": 6,
    "start_time": "2023-09-16T16:32:50.500Z"
   },
   {
    "duration": 20,
    "start_time": "2023-09-16T16:32:50.509Z"
   },
   {
    "duration": 39,
    "start_time": "2023-09-16T16:32:50.532Z"
   },
   {
    "duration": 1514,
    "start_time": "2023-09-16T17:51:14.205Z"
   },
   {
    "duration": 207,
    "start_time": "2023-09-16T17:51:15.722Z"
   },
   {
    "duration": 204,
    "start_time": "2023-09-16T17:51:15.930Z"
   },
   {
    "duration": 133,
    "start_time": "2023-09-16T17:51:16.137Z"
   },
   {
    "duration": 61,
    "start_time": "2023-09-16T17:51:16.272Z"
   },
   {
    "duration": 10,
    "start_time": "2023-09-16T17:51:16.336Z"
   },
   {
    "duration": 4,
    "start_time": "2023-09-16T17:51:16.348Z"
   },
   {
    "duration": 7,
    "start_time": "2023-09-16T17:51:16.353Z"
   },
   {
    "duration": 9,
    "start_time": "2023-09-16T17:51:16.361Z"
   },
   {
    "duration": 198,
    "start_time": "2023-09-16T17:51:16.373Z"
   },
   {
    "duration": 111,
    "start_time": "2023-09-16T17:51:16.572Z"
   },
   {
    "duration": 323,
    "start_time": "2023-09-16T17:51:16.685Z"
   },
   {
    "duration": 209,
    "start_time": "2023-09-16T17:51:17.011Z"
   },
   {
    "duration": 248,
    "start_time": "2023-09-16T17:51:17.222Z"
   },
   {
    "duration": 117,
    "start_time": "2023-09-16T17:51:17.472Z"
   },
   {
    "duration": 224,
    "start_time": "2023-09-16T17:51:17.591Z"
   },
   {
    "duration": 179,
    "start_time": "2023-09-16T17:51:17.817Z"
   },
   {
    "duration": 185,
    "start_time": "2023-09-16T17:51:17.998Z"
   },
   {
    "duration": 259,
    "start_time": "2023-09-16T17:51:18.185Z"
   },
   {
    "duration": 30,
    "start_time": "2023-09-16T17:51:18.446Z"
   },
   {
    "duration": 74,
    "start_time": "2023-09-16T17:51:18.479Z"
   },
   {
    "duration": 8,
    "start_time": "2023-09-16T17:51:18.555Z"
   },
   {
    "duration": 28,
    "start_time": "2023-09-16T17:51:18.565Z"
   },
   {
    "duration": 13,
    "start_time": "2023-09-16T17:51:18.595Z"
   },
   {
    "duration": 1331,
    "start_time": "2023-09-16T18:57:24.400Z"
   },
   {
    "duration": 210,
    "start_time": "2023-09-16T18:57:25.733Z"
   },
   {
    "duration": 201,
    "start_time": "2023-09-16T18:57:25.947Z"
   },
   {
    "duration": 121,
    "start_time": "2023-09-16T18:57:26.150Z"
   },
   {
    "duration": 60,
    "start_time": "2023-09-16T18:57:26.273Z"
   },
   {
    "duration": 11,
    "start_time": "2023-09-16T18:57:26.335Z"
   },
   {
    "duration": 27,
    "start_time": "2023-09-16T18:57:26.348Z"
   },
   {
    "duration": 80,
    "start_time": "2023-09-16T18:57:26.377Z"
   },
   {
    "duration": 50,
    "start_time": "2023-09-16T18:57:26.459Z"
   },
   {
    "duration": 187,
    "start_time": "2023-09-16T18:57:26.512Z"
   },
   {
    "duration": 105,
    "start_time": "2023-09-16T18:57:26.701Z"
   },
   {
    "duration": 338,
    "start_time": "2023-09-16T18:57:26.808Z"
   },
   {
    "duration": 186,
    "start_time": "2023-09-16T18:57:27.149Z"
   },
   {
    "duration": 186,
    "start_time": "2023-09-16T18:57:27.337Z"
   },
   {
    "duration": 47,
    "start_time": "2023-09-16T18:57:27.524Z"
   },
   {
    "duration": 248,
    "start_time": "2023-09-16T18:57:27.572Z"
   },
   {
    "duration": 184,
    "start_time": "2023-09-16T18:57:27.822Z"
   },
   {
    "duration": 168,
    "start_time": "2023-09-16T18:57:28.008Z"
   },
   {
    "duration": 195,
    "start_time": "2023-09-16T18:57:28.178Z"
   },
   {
    "duration": 23,
    "start_time": "2023-09-16T18:57:28.375Z"
   },
   {
    "duration": 53,
    "start_time": "2023-09-16T18:57:28.400Z"
   },
   {
    "duration": 6,
    "start_time": "2023-09-16T18:57:28.455Z"
   },
   {
    "duration": 19,
    "start_time": "2023-09-16T18:57:28.463Z"
   },
   {
    "duration": 34,
    "start_time": "2023-09-16T18:57:28.484Z"
   }
  ],
  "kernelspec": {
   "display_name": "Python 3 (ipykernel)",
   "language": "python",
   "name": "python3"
  },
  "language_info": {
   "codemirror_mode": {
    "name": "ipython",
    "version": 3
   },
   "file_extension": ".py",
   "mimetype": "text/x-python",
   "name": "python",
   "nbconvert_exporter": "python",
   "pygments_lexer": "ipython3",
   "version": "3.12.1"
  },
  "toc": {
   "base_numbering": 1,
   "nav_menu": {},
   "number_sections": true,
   "sideBar": true,
   "skip_h1_title": true,
   "title_cell": "Table of Contents",
   "title_sidebar": "Contents",
   "toc_cell": false,
   "toc_position": {},
   "toc_section_display": true,
   "toc_window_display": false
  }
 },
 "nbformat": 4,
 "nbformat_minor": 5
}
