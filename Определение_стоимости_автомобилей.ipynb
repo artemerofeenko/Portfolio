{
 "cells": [
  {
   "cell_type": "markdown",
   "metadata": {},
   "source": [
    "# Определение стоимости автомобилей"
   ]
  },
  {
   "cell_type": "markdown",
   "metadata": {},
   "source": [
    "## Описание проекта\n"
   ]
  },
  {
   "cell_type": "markdown",
   "metadata": {},
   "source": [
    "Сервис по продаже автомобилей с пробегом «Не бит, не крашен» разрабатывает приложение для привлечения новых клиентов. В нём можно быстро узнать рыночную стоимость своего автомобиля. В вашем распоряжении исторические данные: технические характеристики, комплектации и цены автомобилей. Вам нужно построить модель для определения стоимости. \n",
    "\n",
    "Заказчику важны:\n",
    "\n",
    "- качество предсказания;\n",
    "- скорость предсказания;\n",
    "- время обучения."
   ]
  },
  {
   "cell_type": "markdown",
   "metadata": {},
   "source": [
    "## Цель проекта"
   ]
  },
  {
   "cell_type": "markdown",
   "metadata": {},
   "source": [
    "Построить модель, чтобы определить стоимость автомобиля."
   ]
  },
  {
   "cell_type": "markdown",
   "metadata": {},
   "source": [
    "## Описание данных"
   ]
  },
  {
   "cell_type": "markdown",
   "metadata": {},
   "source": [
    "Данные содержат Датафрейм с информацией о компании."
   ]
  },
  {
   "cell_type": "markdown",
   "metadata": {},
   "source": [
    "## План работы"
   ]
  },
  {
   "cell_type": "markdown",
   "metadata": {},
   "source": [
    "1. Подготовка данных\n",
    "2. Обучение моделей\n",
    "3. Анализ моделей"
   ]
  },
  {
   "cell_type": "code",
   "execution_count": 1,
   "metadata": {},
   "outputs": [],
   "source": [
    "import pandas as pd\n",
    "import matplotlib.pyplot as plt\n",
    "import numpy as np\n",
    "from scipy import stats\n",
    "pd.options.mode.chained_assignment = None\n",
    "from sklearn.preprocessing import StandardScaler\n",
    "from sklearn.linear_model import LinearRegression\n",
    "from sklearn.linear_model import LogisticRegression\n",
    "from sklearn.model_selection import train_test_split\n",
    "from sklearn.metrics import accuracy_score\n",
    "from sklearn.metrics import recall_score\n",
    "from sklearn.metrics import precision_score\n",
    "from sklearn.metrics import confusion_matrix\n",
    "from sklearn.metrics import roc_auc_score\n",
    "from sklearn.metrics import r2_score\n",
    "from sklearn.metrics import mean_squared_error, mean_absolute_error\n",
    "import seaborn as sns\n",
    "from sklearn.preprocessing import OneHotEncoder\n",
    "from sklearn.preprocessing import OrdinalEncoder\n",
    "from sklearn.preprocessing import MinMaxScaler\n",
    "import warnings\n",
    "warnings.filterwarnings('ignore')\n",
    "from sklearn.compose import ColumnTransformer\n",
    "from sklearn.pipeline import Pipeline\n",
    "from sklearn.impute import SimpleImputer\n",
    "from sklearn.model_selection import GridSearchCV\n",
    "from sklearn.neighbors import KNeighborsClassifier\n",
    "from sklearn.tree import DecisionTreeClassifier\n",
    "from sklearn.tree import DecisionTreeRegressor\n",
    "from sklearn.neighbors import KNeighborsRegressor\n",
    "from sklearn.svm import SVC\n",
    "from sklearn.ensemble import RandomForestRegressor\n",
    "from sklearn.ensemble import GradientBoostingRegressor\n",
    "from sklearn.metrics import make_scorer\n",
    "from sklearn.svm import SVR\n",
    "from catboost import Pool, CatBoostRegressor, cv\n",
    "from lightgbm import LGBMRegressor\n",
    "import time\n",
    "import warnings\n",
    "warnings.filterwarnings(\"ignore\")"
   ]
  },
  {
   "cell_type": "markdown",
   "metadata": {},
   "source": [
    "## Подготовка данных"
   ]
  },
  {
   "cell_type": "code",
   "execution_count": 2,
   "metadata": {},
   "outputs": [
    {
     "name": "stdout",
     "output_type": "stream",
     "text": [
      "4\n",
      "           DateCrawled  Price  VehicleType  RegistrationYear Gearbox  Power  \\\n",
      "0  2016-03-24 11:52:17    480          NaN              1993  manual      0   \n",
      "1  2016-03-24 10:58:45  18300        coupe              2011  manual    190   \n",
      "2  2016-03-14 12:52:21   9800          suv              2004    auto    163   \n",
      "3  2016-03-17 16:54:04   1500        small              2001  manual     75   \n",
      "4  2016-03-31 17:25:20   3600        small              2008  manual     69   \n",
      "5  2016-04-04 17:36:23    650        sedan              1995  manual    102   \n",
      "6  2016-04-01 20:48:51   2200  convertible              2004  manual    109   \n",
      "7  2016-03-21 18:54:38      0        sedan              1980  manual     50   \n",
      "8  2016-04-04 23:42:13  14500          bus              2014  manual    125   \n",
      "9  2016-03-17 10:53:50    999        small              1998  manual    101   \n",
      "\n",
      "     Model  Kilometer  RegistrationMonth  FuelType       Brand Repaired  \\\n",
      "0     golf     150000                  0    petrol  volkswagen      NaN   \n",
      "1      NaN     125000                  5  gasoline        audi      yes   \n",
      "2    grand     125000                  8  gasoline        jeep      NaN   \n",
      "3     golf     150000                  6    petrol  volkswagen       no   \n",
      "4    fabia      90000                  7  gasoline       skoda       no   \n",
      "5      3er     150000                 10    petrol         bmw      yes   \n",
      "6  2_reihe     150000                  8    petrol     peugeot       no   \n",
      "7    other      40000                  7    petrol  volkswagen       no   \n",
      "8    c_max      30000                  8    petrol        ford      NaN   \n",
      "9     golf     150000                  0       NaN  volkswagen      NaN   \n",
      "\n",
      "           DateCreated  NumberOfPictures  PostalCode             LastSeen  \n",
      "0  2016-03-24 00:00:00                 0       70435  2016-04-07 03:16:57  \n",
      "1  2016-03-24 00:00:00                 0       66954  2016-04-07 01:46:50  \n",
      "2  2016-03-14 00:00:00                 0       90480  2016-04-05 12:47:46  \n",
      "3  2016-03-17 00:00:00                 0       91074  2016-03-17 17:40:17  \n",
      "4  2016-03-31 00:00:00                 0       60437  2016-04-06 10:17:21  \n",
      "5  2016-04-04 00:00:00                 0       33775  2016-04-06 19:17:07  \n",
      "6  2016-04-01 00:00:00                 0       67112  2016-04-05 18:18:39  \n",
      "7  2016-03-21 00:00:00                 0       19348  2016-03-25 16:47:58  \n",
      "8  2016-04-04 00:00:00                 0       94505  2016-04-04 23:42:13  \n",
      "9  2016-03-17 00:00:00                 0       27472  2016-03-31 17:17:06  \n",
      "<class 'pandas.core.frame.DataFrame'>\n",
      "RangeIndex: 354369 entries, 0 to 354368\n",
      "Data columns (total 16 columns):\n",
      " #   Column             Non-Null Count   Dtype \n",
      "---  ------             --------------   ----- \n",
      " 0   DateCrawled        354369 non-null  object\n",
      " 1   Price              354369 non-null  int64 \n",
      " 2   VehicleType        316879 non-null  object\n",
      " 3   RegistrationYear   354369 non-null  int64 \n",
      " 4   Gearbox            334536 non-null  object\n",
      " 5   Power              354369 non-null  int64 \n",
      " 6   Model              334664 non-null  object\n",
      " 7   Kilometer          354369 non-null  int64 \n",
      " 8   RegistrationMonth  354369 non-null  int64 \n",
      " 9   FuelType           321474 non-null  object\n",
      " 10  Brand              354369 non-null  object\n",
      " 11  Repaired           283215 non-null  object\n",
      " 12  DateCreated        354369 non-null  object\n",
      " 13  NumberOfPictures   354369 non-null  int64 \n",
      " 14  PostalCode         354369 non-null  int64 \n",
      " 15  LastSeen           354369 non-null  object\n",
      "dtypes: int64(7), object(9)\n",
      "memory usage: 43.3+ MB\n",
      "None\n"
     ]
    }
   ],
   "source": [
    "#анализируем набор данных\n",
    "filepath = r\"C:\\Users\\erofe\\Downloads\\autos.csv\"\n",
    "df = pd.read_csv(filepath, sep=',')\n",
    "#ищем дубликаты\n",
    "print(df.duplicated().sum())\n",
    "#выводим первые 10 строк таблицы\n",
    "print(df.head(10))\n",
    "#выводим информацию о таблице\n",
    "print(df.info())"
   ]
  },
  {
   "cell_type": "code",
   "execution_count": 3,
   "metadata": {},
   "outputs": [
    {
     "name": "stdout",
     "output_type": "stream",
     "text": [
      "[nan 'coupe' 'suv' 'small' 'sedan' 'convertible' 'bus' 'wagon' 'other']\n",
      "['manual' 'auto' nan]\n",
      "['golf' nan 'grand' 'fabia' '3er' '2_reihe' 'other' 'c_max' '3_reihe'\n",
      " 'passat' 'navara' 'ka' 'polo' 'twingo' 'a_klasse' 'scirocco' '5er'\n",
      " 'meriva' 'arosa' 'c4' 'civic' 'transporter' 'punto' 'e_klasse' 'clio'\n",
      " 'kadett' 'kangoo' 'corsa' 'one' 'fortwo' '1er' 'b_klasse' 'signum'\n",
      " 'astra' 'a8' 'jetta' 'fiesta' 'c_klasse' 'micra' 'vito' 'sprinter' '156'\n",
      " 'escort' 'forester' 'xc_reihe' 'scenic' 'a4' 'a1' 'insignia' 'combo'\n",
      " 'focus' 'tt' 'a6' 'jazz' 'omega' 'slk' '7er' '80' '147' '100' 'z_reihe'\n",
      " 'sportage' 'sorento' 'v40' 'ibiza' 'mustang' 'eos' 'touran' 'getz' 'a3'\n",
      " 'almera' 'megane' 'lupo' 'r19' 'zafira' 'caddy' 'mondeo' 'cordoba' 'colt'\n",
      " 'impreza' 'vectra' 'berlingo' 'tiguan' 'i_reihe' 'espace' 'sharan'\n",
      " '6_reihe' 'panda' 'up' 'seicento' 'ceed' '5_reihe' 'yeti' 'octavia' 'mii'\n",
      " 'rx_reihe' '6er' 'modus' 'fox' 'matiz' 'beetle' 'c1' 'rio' 'touareg'\n",
      " 'logan' 'spider' 'cuore' 's_max' 'a2' 'galaxy' 'c3' 'viano' 's_klasse'\n",
      " '1_reihe' 'avensis' 'roomster' 'sl' 'kaefer' 'santa' 'cooper' 'leon'\n",
      " '4_reihe' 'a5' '500' 'laguna' 'ptcruiser' 'clk' 'primera' 'x_reihe'\n",
      " 'exeo' '159' 'transit' 'juke' 'qashqai' 'carisma' 'accord' 'corolla'\n",
      " 'lanos' 'phaeton' 'verso' 'swift' 'rav' 'picanto' 'boxster' 'kalos'\n",
      " 'superb' 'stilo' 'alhambra' 'mx_reihe' 'roadster' 'ypsilon' 'cayenne'\n",
      " 'galant' 'justy' '90' 'sirion' 'crossfire' 'agila' 'duster' 'cr_reihe'\n",
      " 'v50' 'c_reihe' 'v_klasse' 'm_klasse' 'yaris' 'c5' 'aygo' 'cc' 'carnival'\n",
      " 'fusion' '911' 'bora' 'forfour' 'm_reihe' 'cl' 'tigra' '300c' 'spark'\n",
      " 'v70' 'kuga' 'x_type' 'ducato' 's_type' 'x_trail' 'toledo' 'altea'\n",
      " 'voyager' 'calibra' 'bravo' 'antara' 'tucson' 'citigo' 'jimny' 'wrangler'\n",
      " 'lybra' 'q7' 'lancer' 'captiva' 'c2' 'discovery' 'freelander' 'sandero'\n",
      " 'note' '900' 'cherokee' 'clubman' 'samara' 'defender' '601' 'cx_reihe'\n",
      " 'legacy' 'pajero' 'auris' 'niva' 's60' 'nubira' 'vivaro' 'g_klasse'\n",
      " 'lodgy' '850' 'range_rover' 'q3' 'serie_2' 'glk' 'charade' 'croma'\n",
      " 'outlander' 'doblo' 'musa' 'move' '9000' 'v60' '145' 'aveo' '200' 'b_max'\n",
      " 'range_rover_sport' 'terios' 'rangerover' 'q5' 'range_rover_evoque'\n",
      " 'materia' 'delta' 'gl' 'kalina' 'amarok' 'elefantino' 'i3' 'kappa'\n",
      " 'serie_3' 'serie_1']\n",
      "['petrol' 'gasoline' nan 'lpg' 'other' 'hybrid' 'cng' 'electric']\n",
      "['volkswagen' 'audi' 'jeep' 'skoda' 'bmw' 'peugeot' 'ford' 'mazda'\n",
      " 'nissan' 'renault' 'mercedes_benz' 'opel' 'seat' 'citroen' 'honda' 'fiat'\n",
      " 'mini' 'smart' 'hyundai' 'sonstige_autos' 'alfa_romeo' 'subaru' 'volvo'\n",
      " 'mitsubishi' 'kia' 'suzuki' 'lancia' 'toyota' 'chevrolet' 'dacia'\n",
      " 'daihatsu' 'trabant' 'saab' 'chrysler' 'jaguar' 'daewoo' 'porsche'\n",
      " 'rover' 'land_rover' 'lada']\n",
      "[nan 'yes' 'no']\n"
     ]
    }
   ],
   "source": [
    "#Проверка на неявные дубликаты\n",
    "print(df['VehicleType'].unique())\n",
    "print(df['Gearbox'].unique())\n",
    "print(df['Model'].unique())\n",
    "print(df['FuelType'].unique())\n",
    "print(df['Brand'].unique())\n",
    "print(df['Repaired'].unique())"
   ]
  },
  {
   "cell_type": "code",
   "execution_count": 4,
   "metadata": {},
   "outputs": [
    {
     "data": {
      "image/png": "[encoded data removed]",
      "text/plain": [
       "<Figure size 640x480 with 1 Axes>"
      ]
     },
     "metadata": {},
     "output_type": "display_data"
    }
   ],
   "source": [
    "#строим диаграммы размаха для столбцов, где выбросы надо будет возможно удалять\n",
    "df['Power'].plot(kind = 'box', title = 'Диаграмма размаха по столбцу Power', ylabel = 'Значения')\n",
    "plt.show()"
   ]
  },
  {
   "cell_type": "markdown",
   "metadata": {},
   "source": [
    "В данных присутствует большое количество в разных столбцах(VehicleType, Gearbox, Model, FuelType, FuelType, Repaired). Есть 4 полных дубликата(будет удалено). Неправильные типы данных в столбцах с датой. Неявных дубликатов не найдено. Так же есть данные с нулевым значением в цене, чего быть не может(эти данные мы удалим, так как данные без целевого признака нам не интересны). Будут удалены выбросы в столбце power."
   ]
  },
  {
   "cell_type": "code",
   "execution_count": 5,
   "metadata": {},
   "outputs": [],
   "source": [
    "#Уничтожаем дубликаты\n",
    "df = df.drop_duplicates().reset_index(drop = True)"
   ]
  },
  {
   "cell_type": "code",
   "execution_count": 6,
   "metadata": {},
   "outputs": [],
   "source": [
    "#Меняем тип данных на дату\n",
    "df['DateCrawled'] = pd.to_datetime(df['DateCrawled'])\n",
    "df['LastSeen'] = pd.to_datetime(df['LastSeen'])\n",
    "df['DateCreated'] = pd.to_datetime(df['DateCreated'])"
   ]
  },
  {
   "cell_type": "code",
   "execution_count": 7,
   "metadata": {},
   "outputs": [],
   "source": [
    "#Удаляем нулевые значения\n",
    "df = df.query('Price > 0')\n",
    "df = df.reset_index(drop = True)"
   ]
  },
  {
   "cell_type": "code",
   "execution_count": 8,
   "metadata": {},
   "outputs": [],
   "source": [
    "#строим функцию для удаления выбросов\n",
    "def remove_outliers(data, column_name, threshold=1.5):\n",
    "    \n",
    "    # Вычисляем квартили для столбца\n",
    "    Q1 = data[column_name].quantile(0.01)\n",
    "    Q3 = data[column_name].quantile(0.99)\n",
    "    \n",
    "    # Вычисляем IQR\n",
    "    IQR = Q3 - Q1\n",
    "    \n",
    "    # Вычисляем границы для определения выбросов\n",
    "    lower_bound = Q1 - threshold * IQR\n",
    "    upper_bound = Q3 + threshold * IQR\n",
    "    \n",
    "    # Удаляем выбросы\n",
    "    data_cleaned = data[(data[column_name] >= lower_bound) & (data[column_name] <= upper_bound)]\n",
    "    \n",
    "    return data_cleaned"
   ]
  },
  {
   "cell_type": "code",
   "execution_count": 9,
   "metadata": {},
   "outputs": [],
   "source": [
    "#Удаляем выбросы и нулевые значения\n",
    "df = remove_outliers(df, 'Power')\n",
    "df = df.query('Power > 35') #Поставим такое количество минимальных лошадиных сил, так как машин меньше 35 лошадиных сил сложно найти"
   ]
  },
  {
   "cell_type": "markdown",
   "metadata": {},
   "source": [
    "Во всех данных, где значений больше 2, замениним неизвестные значения на Unknown. В данных, где 2 значения, меняем на самое популярное."
   ]
  },
  {
   "cell_type": "code",
   "execution_count": 10,
   "metadata": {},
   "outputs": [],
   "source": [
    "df.fillna({'VehicleType':'unknown', 'Repaired':'no', 'Model':'unknown','Gearbox':'manual', 'FuelType':'unknown'}, inplace=True)"
   ]
  },
  {
   "cell_type": "code",
   "execution_count": 11,
   "metadata": {},
   "outputs": [
    {
     "data": {
      "image/png": "[encoded data removed]",
      "text/plain": [
       "<Figure size 640x480 with 1 Axes>"
      ]
     },
     "metadata": {},
     "output_type": "display_data"
    }
   ],
   "source": [
    "df['RegistrationYear'].plot(kind = 'box', title = 'Диаграмма размаха по столбцу RegistrationYear', ylabel = 'Значения')\n",
    "plt.show()"
   ]
  },
  {
   "cell_type": "code",
   "execution_count": 12,
   "metadata": {},
   "outputs": [],
   "source": [
    "#Удаляем выбросы\n",
    "df = df.query('RegistrationYear < 2023')\n",
    "df = df.query('RegistrationYear > 1970') #Поставим такое количество минимального года, так как машины раньше 1970 сложно найти."
   ]
  },
  {
   "cell_type": "code",
   "execution_count": 13,
   "metadata": {},
   "outputs": [
    {
     "data": {
      "text/plain": [
       "count                           305067\n",
       "mean     2016-03-21 13:18:21.598016512\n",
       "min                2016-03-05 14:06:22\n",
       "25%         2016-03-13 11:48:43.500000\n",
       "50%                2016-03-21 17:58:19\n",
       "75%         2016-03-29 14:49:32.500000\n",
       "max                2016-04-07 14:36:58\n",
       "Name: DateCrawled, dtype: object"
      ]
     },
     "execution_count": 13,
     "metadata": {},
     "output_type": "execute_result"
    }
   ],
   "source": [
    "df['DateCrawled'].describe()"
   ]
  },
  {
   "cell_type": "code",
   "execution_count": 14,
   "metadata": {},
   "outputs": [],
   "source": [
    "#Удаляем константный признак\n",
    "df = df.drop(['DateCrawled'], axis=1)"
   ]
  },
  {
   "cell_type": "code",
   "execution_count": 15,
   "metadata": {},
   "outputs": [
    {
     "name": "stdout",
     "output_type": "stream",
     "text": [
      "<class 'pandas.core.frame.DataFrame'>\n",
      "RangeIndex: 305067 entries, 0 to 305066\n",
      "Data columns (total 15 columns):\n",
      " #   Column             Non-Null Count   Dtype         \n",
      "---  ------             --------------   -----         \n",
      " 0   Price              305067 non-null  int64         \n",
      " 1   VehicleType        305067 non-null  object        \n",
      " 2   RegistrationYear   305067 non-null  int64         \n",
      " 3   Gearbox            305067 non-null  object        \n",
      " 4   Power              305067 non-null  int64         \n",
      " 5   Model              305067 non-null  object        \n",
      " 6   Kilometer          305067 non-null  int64         \n",
      " 7   RegistrationMonth  305067 non-null  int64         \n",
      " 8   FuelType           305067 non-null  object        \n",
      " 9   Brand              305067 non-null  object        \n",
      " 10  Repaired           305067 non-null  object        \n",
      " 11  DateCreated        305067 non-null  datetime64[ns]\n",
      " 12  NumberOfPictures   305067 non-null  int64         \n",
      " 13  PostalCode         305067 non-null  int64         \n",
      " 14  LastSeen           305067 non-null  datetime64[ns]\n",
      "dtypes: datetime64[ns](2), int64(7), object(6)\n",
      "memory usage: 34.9+ MB\n"
     ]
    }
   ],
   "source": [
    "df = df.reset_index(drop = True)\n",
    "df.info()"
   ]
  },
  {
   "cell_type": "markdown",
   "metadata": {},
   "source": [
    "Вывод: В данной части работы были подготовлены и предобработаны данные. Были уничтожены полные дубликаты, нулевые значения(часть было удалено, часть заменены) и аномальные значения и удален константный признак."
   ]
  },
  {
   "cell_type": "code",
   "execution_count": 16,
   "metadata": {},
   "outputs": [
    {
     "name": "stdout",
     "output_type": "stream",
     "text": [
      "[0]\n",
      "<class 'pandas.core.frame.DataFrame'>\n",
      "RangeIndex: 305067 entries, 0 to 305066\n",
      "Data columns (total 14 columns):\n",
      " #   Column             Non-Null Count   Dtype         \n",
      "---  ------             --------------   -----         \n",
      " 0   Price              305067 non-null  int64         \n",
      " 1   VehicleType        305067 non-null  object        \n",
      " 2   RegistrationYear   305067 non-null  int64         \n",
      " 3   Gearbox            305067 non-null  object        \n",
      " 4   Power              305067 non-null  int64         \n",
      " 5   Model              305067 non-null  object        \n",
      " 6   Kilometer          305067 non-null  int64         \n",
      " 7   RegistrationMonth  305067 non-null  int64         \n",
      " 8   FuelType           305067 non-null  object        \n",
      " 9   Brand              305067 non-null  object        \n",
      " 10  Repaired           305067 non-null  object        \n",
      " 11  DateCreated        305067 non-null  datetime64[ns]\n",
      " 12  PostalCode         305067 non-null  int64         \n",
      " 13  LastSeen           305067 non-null  datetime64[ns]\n",
      "dtypes: datetime64[ns](2), int64(6), object(6)\n",
      "memory usage: 32.6+ MB\n"
     ]
    }
   ],
   "source": [
    "#Удаляем ненужный нам признак\n",
    "print(df['NumberOfPictures'].unique())\n",
    "df = df.drop(['NumberOfPictures'], axis=1)\n",
    "df = df.reset_index(drop = True)\n",
    "df.info()"
   ]
  },
  {
   "cell_type": "markdown",
   "metadata": {},
   "source": [
    "## Обучение моделей"
   ]
  },
  {
   "cell_type": "code",
   "execution_count": 17,
   "metadata": {},
   "outputs": [],
   "source": [
    "# Разделяем данные на признаки и целевую переменную\n",
    "X = df.drop(['Price'], axis=1)\n",
    "y = df['Price']\n",
    "\n",
    "# Разбиение данных на обучающую (60%), валидационную (20%) и тестовую (20%) выборки\n",
    "X_train, X_temp, y_train, y_temp = train_test_split(X, y, test_size=0.4, random_state=42)\n",
    "X_val, X_test, y_val, y_test = train_test_split(X_temp, y_temp, test_size=0.5, random_state=42)\n",
    "\n",
    "# Определение количественных и категориальных признаков\n",
    "numeric_features = X_train.select_dtypes(include=['int64', 'float64']).columns\n",
    "categorical_features = X_train.select_dtypes(include=['object']).columns\n",
    "\n",
    "# Создание трансформатора для количественных данных\n",
    "numeric_transformer = Pipeline(steps=[\n",
    "    ('imputer', SimpleImputer(strategy='mean')),\n",
    "    ('scaler', StandardScaler())\n",
    "])\n",
    "\n",
    "# Создание трансформатора для категориальных данных(OE)\n",
    "categorical_transformer = Pipeline(steps=[\n",
    "    ('imputer', SimpleImputer(strategy='most_frequent')),\n",
    "    ('ordinal', OrdinalEncoder(handle_unknown='use_encoded_value', unknown_value=-1))\n",
    "])\n",
    "\n",
    "# Создание трансформатора для категориальных данных(OHE)\n",
    "categorical_transformer1 = Pipeline(steps=[\n",
    "    ('imputer', SimpleImputer(strategy='most_frequent')),\n",
    "    ('onehot', OneHotEncoder(drop='first', handle_unknown='ignore'))\n",
    "])\n",
    "\n",
    "# Создание ColumnTransformer (OE)\n",
    "preprocessor = ColumnTransformer(\n",
    "    transformers=[\n",
    "        ('num', numeric_transformer, numeric_features),\n",
    "        ('cat', categorical_transformer, categorical_features)\n",
    "    ])\n",
    "\n",
    "# Создание ColumnTransformer (OHE)\n",
    "preprocessor1 = ColumnTransformer(\n",
    "    transformers=[\n",
    "        ('num', numeric_transformer, numeric_features),\n",
    "        ('cat', categorical_transformer1, categorical_features)\n",
    "    ])\n",
    "\n",
    "# Определение моделей\n",
    "models = {\n",
    "    'LinearRegression': {'model': LinearRegression(), 'param_grid': {}},\n",
    "    'DecisionTreeRegressor': {'model': DecisionTreeRegressor(random_state=42), \n",
    "                              'param_grid': {'regressor__max_depth': [5, 10, 15]}},\n",
    "    'LGBMRegressor': {'model': LGBMRegressor(random_state=42), \n",
    "                      'param_grid': {'regressor__n_estimators': [50, 100, 200], 'regressor__max_depth': [5, 10, 15]}}\n",
    "}"
   ]
  },
  {
   "cell_type": "code",
   "execution_count": 18,
   "metadata": {},
   "outputs": [
    {
     "name": "stdout",
     "output_type": "stream",
     "text": [
      "LinearRegression:\n",
      "  RMSE на валидационной выборке - 2503.0058066371116\n",
      "  Время обучения - 2.6848998069763184 сек.\n",
      "  Время предсказания - 0.08528494834899902 сек.\n",
      "\n",
      "CPU times: total: 1.98 s\n",
      "Wall time: 2.77 s\n"
     ]
    }
   ],
   "source": [
    "%%time\n",
    "results = {}\n",
    "# Модель Linear Regression\n",
    "model_name = 'LinearRegression'\n",
    "config = models[model_name]\n",
    "\n",
    "pipeline = Pipeline([\n",
    "    ('preprocessor', preprocessor1),\n",
    "    ('regressor', config['model'])\n",
    "])\n",
    "\n",
    "start_time = time.time()\n",
    "pipeline.fit(X_train, y_train)\n",
    "training_time = time.time() - start_time\n",
    "\n",
    "start_time = time.time()\n",
    "y_pred = pipeline.predict(X_val)\n",
    "prediction_time = time.time() - start_time\n",
    "\n",
    "rmse = mean_squared_error(y_val, y_pred, squared=False)\n",
    "\n",
    "results[model_name] = {\n",
    "    'best_model': pipeline,\n",
    "    'RMSE': rmse,\n",
    "    'training_time': training_time,\n",
    "    'prediction_time': prediction_time\n",
    "}\n",
    "\n",
    "for model_name, result in results.items():\n",
    "    print(f\"{model_name}:\")\n",
    "    print(f\"  RMSE на валидационной выборке - {result['RMSE']}\")\n",
    "    print(f\"  Время обучения - {result['training_time']} сек.\")\n",
    "    print(f\"  Время предсказания - {result['prediction_time']} сек.\\n\")"
   ]
  },
  {
   "cell_type": "code",
   "execution_count": 19,
   "metadata": {},
   "outputs": [
    {
     "name": "stdout",
     "output_type": "stream",
     "text": [
      "DecisionTreeRegressor:\n",
      "  Время обучения модели с лучшими параметрами - 0.8672754764556885 сек.\n",
      "  Время предсказания модели с лучшими параметрами - 0.06860589981079102 сек.\n",
      "  RMSE на валидационной выборке - 2149.3856909576225\n",
      "  Время обучения - 1.2254929542541504 сек.\n",
      "  Время предсказания - 0.09139847755432129 сек.\n",
      "\n",
      "CPU times: total: 2.72 s\n",
      "Wall time: 8.12 s\n"
     ]
    }
   ],
   "source": [
    "%%time\n",
    "results = {}\n",
    "# Модель Decision Tree Regressor\n",
    "\n",
    "model_name = 'DecisionTreeRegressor'\n",
    "config = models[model_name]\n",
    "\n",
    "pipeline1 = Pipeline([\n",
    "    ('preprocessor', preprocessor),\n",
    "    ('regressor', config['model'])\n",
    "])\n",
    "\n",
    "# Создание экземпляра GridSearchCV\n",
    "grid_search = GridSearchCV(pipeline1, config['param_grid'], scoring='neg_mean_squared_error', n_jobs=-1)\n",
    "grid_search.fit(X_train, y_train)\n",
    "\n",
    "start_time = time.time()\n",
    "y_pred = grid_search.predict(X_val)\n",
    "prediction_time1 = time.time() - start_time\n",
    "\n",
    "start_time = time.time()\n",
    "pipeline1.fit(X_train, y_train)\n",
    "training_time = time.time() - start_time\n",
    "\n",
    "start_time = time.time()\n",
    "y_pred = pipeline1.predict(X_val)\n",
    "prediction_time = time.time() - start_time\n",
    "\n",
    "rmse = mean_squared_error(y_val, y_pred, squared=False)\n",
    "\n",
    "results[model_name] = {\n",
    "    'best_model': pipeline1,\n",
    "    'RMSE': rmse,\n",
    "    'training_time': training_time,\n",
    "    'prediction_time': prediction_time\n",
    "}\n",
    "\n",
    "for model_name, result in results.items():\n",
    "    print(f\"{model_name}:\")\n",
    "    print(f\"  Время обучения модели с лучшими параметрами - {grid_search.refit_time_} сек.\")\n",
    "    print(f\"  Время предсказания модели с лучшими параметрами - {prediction_time1} сек.\")\n",
    "    print(f\"  RMSE на валидационной выборке - {result['RMSE']}\")\n",
    "    print(f\"  Время обучения - {result['training_time']} сек.\")\n",
    "    print(f\"  Время предсказания - {result['prediction_time']} сек.\\n\")"
   ]
  },
  {
   "cell_type": "code",
   "execution_count": 33,
   "metadata": {},
   "outputs": [
    {
     "name": "stdout",
     "output_type": "stream",
     "text": [
      "[LightGBM] [Warning] Accuracy may be bad since you didn't explicitly set num_leaves OR 2^max_depth > num_leaves. (num_leaves=31).\n",
      "[LightGBM] [Warning] Accuracy may be bad since you didn't explicitly set num_leaves OR 2^max_depth > num_leaves. (num_leaves=31).\n",
      "[LightGBM] [Info] Auto-choosing row-wise multi-threading, the overhead of testing was 0.003253 seconds.\n",
      "You can set `force_row_wise=true` to remove the overhead.\n",
      "And if memory is not enough, you can set `force_col_wise=true`.\n",
      "[LightGBM] [Info] Total Bins 890\n",
      "[LightGBM] [Info] Number of data points in the train set: 183040, number of used features: 11\n",
      "[LightGBM] [Info] Start training from score 4801.442881\n",
      "[LightGBM] [Warning] Accuracy may be bad since you didn't explicitly set num_leaves OR 2^max_depth > num_leaves. (num_leaves=31).\n",
      "[LightGBM] [Info] Auto-choosing row-wise multi-threading, the overhead of testing was 0.003319 seconds.\n",
      "You can set `force_row_wise=true` to remove the overhead.\n",
      "And if memory is not enough, you can set `force_col_wise=true`.\n",
      "[LightGBM] [Info] Total Bins 890\n",
      "[LightGBM] [Info] Number of data points in the train set: 183040, number of used features: 11\n",
      "[LightGBM] [Info] Start training from score 4801.442881\n",
      "LGBMRegressor:\n",
      "  Время обучения модели с лучшими параметрами - 0.7696504592895508 сек.\n",
      "  Время предсказания модели с лучшими параметрами - 0.1740560531616211 сек.\n",
      "  RMSE на валидационной выборке - 1707.5275014161496\n",
      "  Время обучения - 0.6229653358459473 сек.\n",
      "  Время предсказания - 0.13281702995300293 сек.\n",
      "\n",
      "CPU times: total: 11.8 s\n",
      "Wall time: 27.5 s\n"
     ]
    }
   ],
   "source": [
    "%%time\n",
    "results = {}\n",
    "\n",
    "# Модель LGBM Regressor\n",
    "model_name = 'LGBMRegressor'\n",
    "config = models[model_name]\n",
    "\n",
    "pipeline2 = Pipeline([\n",
    "    ('preprocessor', preprocessor),\n",
    "    ('regressor', config['model'])\n",
    "])\n",
    "\n",
    "# Создание экземпляра GridSearchCV\n",
    "grid_search = GridSearchCV(pipeline2, config['param_grid'], scoring='neg_mean_squared_error', n_jobs=-1)\n",
    "grid_search.fit(X_train, y_train)\n",
    "\n",
    "start_time = time.time()\n",
    "y_pred = grid_search.predict(X_val)\n",
    "prediction_time1 = time.time() - start_time\n",
    "\n",
    "start_time = time.time()\n",
    "pipeline2.fit(X_train, y_train)\n",
    "training_time = time.time() - start_time\n",
    "\n",
    "start_time = time.time()\n",
    "y_pred = pipeline2.predict(X_val)\n",
    "prediction_time = time.time() - start_time\n",
    "\n",
    "rmse = mean_squared_error(y_val, y_pred, squared=False)\n",
    "\n",
    "results[model_name] = {\n",
    "    'best_model': pipeline2,\n",
    "    'RMSE': rmse,\n",
    "    'training_time': training_time,\n",
    "    'prediction_time': prediction_time\n",
    "}\n",
    "\n",
    "for model_name, result in results.items():\n",
    "    print(f\"{model_name}:\")\n",
    "    print(f\"  Время обучения модели с лучшими параметрами - {grid_search.refit_time_} сек.\")\n",
    "    print(f\"  Время предсказания модели с лучшими параметрами - {prediction_time1} сек.\")\n",
    "    print(f\"  RMSE на валидационной выборке - {result['RMSE']}\")\n",
    "    print(f\"  Время обучения - {result['training_time']} сек.\")\n",
    "    print(f\"  Время предсказания - {result['prediction_time']} сек.\\n\")"
   ]
  },
  {
   "cell_type": "markdown",
   "metadata": {},
   "source": [
    "Вывод: Лучшей моделью по качеству оказался градиентный бустинг, далее идет дерево решений, ну а совсем плохая модель это линейная регрессия(rmse больше 2500). По времени обучения и предсказания модели быстрее всего линейная регрессия(и по скорости 1 итерации и по общему времени), а медленнее всего градиентный бустинг(скорость 1 итерации схожа с деревом классификаций, но общее время сильно дольше)"
   ]
  },
  {
   "cell_type": "code",
   "execution_count": 23,
   "metadata": {},
   "outputs": [
    {
     "name": "stdout",
     "output_type": "stream",
     "text": [
      "  RMSE на тестовой выборке - 2165.69365902115\n"
     ]
    }
   ],
   "source": [
    "#Тестируем лучшую модель(дерево решений) на переобучение\n",
    "y_pred = pipeline1.predict(X_test)\n",
    "rmse = mean_squared_error(y_test, y_pred, squared=False)\n",
    "print(f\"  RMSE на тестовой выборке - {rmse}\")"
   ]
  },
  {
   "cell_type": "markdown",
   "metadata": {},
   "source": [
    "RMSE на тестовой выборке схоже, переобучения не произошло."
   ]
  },
  {
   "cell_type": "markdown",
   "metadata": {},
   "source": [
    "## Анализ моделей"
   ]
  },
  {
   "cell_type": "markdown",
   "metadata": {},
   "source": [
    "Вывод: По точности, третья модель является очень привлекательной. Но я бы все равно выбрал 2(дерево решений)она работает лучше всего, если считать соотношение 3 факторов."
   ]
  },
  {
   "cell_type": "markdown",
   "metadata": {},
   "source": [
    "## Общий вывод"
   ]
  },
  {
   "cell_type": "markdown",
   "metadata": {},
   "source": [
    "Были загружены данные, после чего проведена предварительная обработка. Осуществлено сравнение различных моделей при применении разнообразных наборов гиперпараметров. На основе метрики RMSE и времени обучения была определена наилучшая модель. По точности, третья модель является очень привлекательной. Но я бы все равно выбрал 2(дерево решений)она работает лучше всего, если считать соотношение 3 факторов."
   ]
  }
 ],
 "metadata": {
  "ExecuteTimeLog": [
   {
    "duration": 5977,
    "start_time": "2024-01-16T06:07:31.875Z"
   },
   {
    "duration": 1459,
    "start_time": "2024-01-16T06:07:48.346Z"
   },
   {
    "duration": 6,
    "start_time": "2024-01-16T06:08:04.752Z"
   },
   {
    "duration": 3357,
    "start_time": "2024-01-16T06:08:30.951Z"
   },
   {
    "duration": 9,
    "start_time": "2024-01-16T06:16:13.884Z"
   },
   {
    "duration": 1385,
    "start_time": "2024-01-16T06:16:17.067Z"
   },
   {
    "duration": 19,
    "start_time": "2024-01-16T06:16:18.454Z"
   },
   {
    "duration": 97,
    "start_time": "2024-01-16T06:16:31.053Z"
   },
   {
    "duration": 106,
    "start_time": "2024-01-16T06:17:22.940Z"
   },
   {
    "duration": 106,
    "start_time": "2024-01-16T06:18:55.340Z"
   },
   {
    "duration": 544,
    "start_time": "2024-01-16T06:20:40.903Z"
   },
   {
    "duration": 477,
    "start_time": "2024-01-16T06:21:05.107Z"
   },
   {
    "duration": 553,
    "start_time": "2024-01-16T06:21:10.769Z"
   },
   {
    "duration": 501,
    "start_time": "2024-01-16T06:21:19.873Z"
   },
   {
    "duration": 560,
    "start_time": "2024-01-16T06:21:38.298Z"
   },
   {
    "duration": 575,
    "start_time": "2024-01-16T06:21:46.020Z"
   },
   {
    "duration": 244,
    "start_time": "2024-01-16T06:26:47.310Z"
   },
   {
    "duration": 103,
    "start_time": "2024-01-16T06:26:58.301Z"
   },
   {
    "duration": 9,
    "start_time": "2024-01-16T06:28:27.319Z"
   },
   {
    "duration": 9,
    "start_time": "2024-01-16T06:28:31.411Z"
   },
   {
    "duration": 1628,
    "start_time": "2024-01-16T06:28:45.117Z"
   },
   {
    "duration": 57,
    "start_time": "2024-01-16T06:29:36.210Z"
   },
   {
    "duration": 69,
    "start_time": "2024-01-16T06:29:53.705Z"
   },
   {
    "duration": 85,
    "start_time": "2024-01-16T06:30:00.043Z"
   },
   {
    "duration": 85,
    "start_time": "2024-01-16T06:30:16.543Z"
   },
   {
    "duration": 9,
    "start_time": "2024-01-16T06:32:06.214Z"
   },
   {
    "duration": 139,
    "start_time": "2024-01-16T06:33:03.358Z"
   },
   {
    "duration": 15,
    "start_time": "2024-01-16T06:37:12.190Z"
   },
   {
    "duration": 3,
    "start_time": "2024-01-16T06:37:15.951Z"
   },
   {
    "duration": 3399,
    "start_time": "2024-01-16T06:37:16.518Z"
   },
   {
    "duration": 211,
    "start_time": "2024-01-16T06:37:21.907Z"
   },
   {
    "duration": 4740,
    "start_time": "2024-01-16T06:37:40.810Z"
   },
   {
    "duration": 1425,
    "start_time": "2024-01-16T06:38:08.616Z"
   },
   {
    "duration": 2726,
    "start_time": "2024-01-16T06:38:41.607Z"
   },
   {
    "duration": 1185,
    "start_time": "2024-01-16T06:38:44.335Z"
   },
   {
    "duration": 1420,
    "start_time": "2024-01-16T06:38:45.522Z"
   },
   {
    "duration": 108,
    "start_time": "2024-01-16T06:38:46.944Z"
   },
   {
    "duration": 162,
    "start_time": "2024-01-16T06:38:47.054Z"
   },
   {
    "duration": 560,
    "start_time": "2024-01-16T06:38:47.218Z"
   },
   {
    "duration": 255,
    "start_time": "2024-01-16T06:38:47.779Z"
   },
   {
    "duration": 83,
    "start_time": "2024-01-16T06:38:48.036Z"
   },
   {
    "duration": 4,
    "start_time": "2024-01-16T06:38:48.120Z"
   },
   {
    "duration": 26,
    "start_time": "2024-01-16T06:38:48.126Z"
   },
   {
    "duration": 46,
    "start_time": "2024-01-16T06:39:35.374Z"
   },
   {
    "duration": 119,
    "start_time": "2024-01-16T06:40:02.842Z"
   },
   {
    "duration": 74,
    "start_time": "2024-01-16T06:40:34.296Z"
   },
   {
    "duration": 54,
    "start_time": "2024-01-16T06:42:20.412Z"
   },
   {
    "duration": 104,
    "start_time": "2024-01-16T06:48:55.624Z"
   },
   {
    "duration": 145,
    "start_time": "2024-01-16T06:49:01.726Z"
   },
   {
    "duration": 170,
    "start_time": "2024-01-16T06:49:35.713Z"
   },
   {
    "duration": 5,
    "start_time": "2024-01-16T06:56:45.901Z"
   },
   {
    "duration": 50,
    "start_time": "2024-01-16T06:56:46.046Z"
   },
   {
    "duration": 115,
    "start_time": "2024-01-16T06:56:47.836Z"
   },
   {
    "duration": 3,
    "start_time": "2024-01-16T06:57:02.873Z"
   },
   {
    "duration": 59,
    "start_time": "2024-01-16T06:57:03.232Z"
   },
   {
    "duration": 123,
    "start_time": "2024-01-16T06:57:05.990Z"
   },
   {
    "duration": 56,
    "start_time": "2024-01-16T07:00:28.867Z"
   },
   {
    "duration": 152,
    "start_time": "2024-01-16T07:00:29.298Z"
   },
   {
    "duration": 3225,
    "start_time": "2024-01-16T08:39:26.511Z"
   },
   {
    "duration": 1441,
    "start_time": "2024-01-16T08:39:29.738Z"
   },
   {
    "duration": 1703,
    "start_time": "2024-01-16T08:39:31.181Z"
   },
   {
    "duration": 169,
    "start_time": "2024-01-16T08:39:32.891Z"
   },
   {
    "duration": 185,
    "start_time": "2024-01-16T08:39:33.061Z"
   },
   {
    "duration": 641,
    "start_time": "2024-01-16T08:39:33.248Z"
   },
   {
    "duration": 300,
    "start_time": "2024-01-16T08:39:33.892Z"
   },
   {
    "duration": 82,
    "start_time": "2024-01-16T08:39:34.194Z"
   },
   {
    "duration": 15,
    "start_time": "2024-01-16T08:39:34.278Z"
   },
   {
    "duration": 65,
    "start_time": "2024-01-16T08:39:34.296Z"
   },
   {
    "duration": 199,
    "start_time": "2024-01-16T08:39:34.363Z"
   },
   {
    "duration": 110,
    "start_time": "2024-01-16T08:39:34.564Z"
   },
   {
    "duration": 111,
    "start_time": "2024-01-16T08:40:20.839Z"
   },
   {
    "duration": 105,
    "start_time": "2024-01-16T08:40:28.118Z"
   },
   {
    "duration": 162,
    "start_time": "2024-01-16T08:40:32.213Z"
   },
   {
    "duration": 99,
    "start_time": "2024-01-16T08:40:59.283Z"
   },
   {
    "duration": 3175,
    "start_time": "2024-01-16T08:43:48.883Z"
   },
   {
    "duration": 1481,
    "start_time": "2024-01-16T08:43:52.060Z"
   },
   {
    "duration": 1603,
    "start_time": "2024-01-16T08:43:53.543Z"
   },
   {
    "duration": 132,
    "start_time": "2024-01-16T08:43:55.148Z"
   },
   {
    "duration": 173,
    "start_time": "2024-01-16T08:43:55.282Z"
   },
   {
    "duration": 607,
    "start_time": "2024-01-16T08:43:55.456Z"
   },
   {
    "duration": 300,
    "start_time": "2024-01-16T08:43:56.065Z"
   },
   {
    "duration": 88,
    "start_time": "2024-01-16T08:43:56.367Z"
   },
   {
    "duration": 4,
    "start_time": "2024-01-16T08:43:56.456Z"
   },
   {
    "duration": 77,
    "start_time": "2024-01-16T08:43:56.462Z"
   },
   {
    "duration": 208,
    "start_time": "2024-01-16T08:43:56.541Z"
   },
   {
    "duration": 3292,
    "start_time": "2024-01-16T08:56:49.221Z"
   },
   {
    "duration": 1472,
    "start_time": "2024-01-16T08:56:52.515Z"
   },
   {
    "duration": 1686,
    "start_time": "2024-01-16T08:56:53.993Z"
   },
   {
    "duration": 158,
    "start_time": "2024-01-16T08:56:55.681Z"
   },
   {
    "duration": 186,
    "start_time": "2024-01-16T08:56:55.840Z"
   },
   {
    "duration": 602,
    "start_time": "2024-01-16T08:56:56.027Z"
   },
   {
    "duration": 315,
    "start_time": "2024-01-16T08:56:56.630Z"
   },
   {
    "duration": 110,
    "start_time": "2024-01-16T08:56:56.946Z"
   },
   {
    "duration": 5,
    "start_time": "2024-01-16T08:56:57.059Z"
   },
   {
    "duration": 83,
    "start_time": "2024-01-16T08:56:57.066Z"
   },
   {
    "duration": 229,
    "start_time": "2024-01-16T08:56:57.151Z"
   },
   {
    "duration": 145,
    "start_time": "2024-01-16T08:56:57.382Z"
   },
   {
    "duration": 138,
    "start_time": "2024-01-16T08:56:57.529Z"
   },
   {
    "duration": 0,
    "start_time": "2024-01-16T08:56:57.668Z"
   },
   {
    "duration": 0,
    "start_time": "2024-01-16T08:56:57.669Z"
   },
   {
    "duration": 165,
    "start_time": "2024-01-16T08:58:30.083Z"
   },
   {
    "duration": 1330,
    "start_time": "2024-01-16T08:58:30.468Z"
   },
   {
    "duration": 7908,
    "start_time": "2024-01-16T08:58:32.210Z"
   },
   {
    "duration": 0,
    "start_time": "2024-01-16T08:58:40.119Z"
   },
   {
    "duration": 1156,
    "start_time": "2024-01-16T08:59:27.650Z"
   },
   {
    "duration": 7710,
    "start_time": "2024-01-16T08:59:33.766Z"
   },
   {
    "duration": 3342,
    "start_time": "2024-01-16T09:17:35.917Z"
   },
   {
    "duration": 1552,
    "start_time": "2024-01-16T09:17:39.262Z"
   },
   {
    "duration": 1771,
    "start_time": "2024-01-16T09:17:40.817Z"
   },
   {
    "duration": 167,
    "start_time": "2024-01-16T09:17:42.593Z"
   },
   {
    "duration": 182,
    "start_time": "2024-01-16T09:17:42.762Z"
   },
   {
    "duration": 682,
    "start_time": "2024-01-16T09:17:42.945Z"
   },
   {
    "duration": 345,
    "start_time": "2024-01-16T09:17:43.629Z"
   },
   {
    "duration": 73,
    "start_time": "2024-01-16T09:17:43.976Z"
   },
   {
    "duration": 6,
    "start_time": "2024-01-16T09:17:44.051Z"
   },
   {
    "duration": 85,
    "start_time": "2024-01-16T09:17:44.059Z"
   },
   {
    "duration": 213,
    "start_time": "2024-01-16T09:17:44.146Z"
   },
   {
    "duration": 137,
    "start_time": "2024-01-16T09:17:44.361Z"
   },
   {
    "duration": 1509,
    "start_time": "2024-01-16T09:17:44.503Z"
   },
   {
    "duration": 8252,
    "start_time": "2024-01-16T09:17:46.014Z"
   },
   {
    "duration": 124,
    "start_time": "2024-01-16T09:17:54.268Z"
   },
   {
    "duration": 0,
    "start_time": "2024-01-16T09:17:54.395Z"
   },
   {
    "duration": 3210,
    "start_time": "2024-01-16T09:18:34.503Z"
   },
   {
    "duration": 1470,
    "start_time": "2024-01-16T09:18:37.715Z"
   },
   {
    "duration": 1757,
    "start_time": "2024-01-16T09:18:39.187Z"
   },
   {
    "duration": 160,
    "start_time": "2024-01-16T09:18:40.946Z"
   },
   {
    "duration": 218,
    "start_time": "2024-01-16T09:18:41.110Z"
   },
   {
    "duration": 682,
    "start_time": "2024-01-16T09:18:41.330Z"
   },
   {
    "duration": 342,
    "start_time": "2024-01-16T09:18:42.013Z"
   },
   {
    "duration": 94,
    "start_time": "2024-01-16T09:18:42.357Z"
   },
   {
    "duration": 4,
    "start_time": "2024-01-16T09:18:42.453Z"
   },
   {
    "duration": 89,
    "start_time": "2024-01-16T09:18:42.459Z"
   },
   {
    "duration": 225,
    "start_time": "2024-01-16T09:18:42.550Z"
   },
   {
    "duration": 134,
    "start_time": "2024-01-16T09:18:42.777Z"
   },
   {
    "duration": 1399,
    "start_time": "2024-01-16T09:18:42.913Z"
   },
   {
    "duration": 8242,
    "start_time": "2024-01-16T09:18:44.316Z"
   },
   {
    "duration": 3308,
    "start_time": "2024-01-16T10:24:00.868Z"
   },
   {
    "duration": 1494,
    "start_time": "2024-01-16T10:24:04.179Z"
   },
   {
    "duration": 1730,
    "start_time": "2024-01-16T10:24:05.675Z"
   },
   {
    "duration": 136,
    "start_time": "2024-01-16T10:24:07.407Z"
   },
   {
    "duration": 182,
    "start_time": "2024-01-16T10:24:07.545Z"
   },
   {
    "duration": 678,
    "start_time": "2024-01-16T10:24:07.728Z"
   },
   {
    "duration": 332,
    "start_time": "2024-01-16T10:24:08.409Z"
   },
   {
    "duration": 99,
    "start_time": "2024-01-16T10:24:08.742Z"
   },
   {
    "duration": 4,
    "start_time": "2024-01-16T10:24:08.842Z"
   },
   {
    "duration": 81,
    "start_time": "2024-01-16T10:24:08.848Z"
   },
   {
    "duration": 202,
    "start_time": "2024-01-16T10:24:08.931Z"
   },
   {
    "duration": 137,
    "start_time": "2024-01-16T10:24:09.135Z"
   },
   {
    "duration": 1523,
    "start_time": "2024-01-16T10:24:09.273Z"
   },
   {
    "duration": 8188,
    "start_time": "2024-01-16T10:24:10.800Z"
   },
   {
    "duration": 1506119,
    "start_time": "2024-01-16T10:24:18.995Z"
   },
   {
    "duration": 3084,
    "start_time": "2024-01-16T10:58:45.159Z"
   },
   {
    "duration": 1471,
    "start_time": "2024-01-16T10:58:48.245Z"
   },
   {
    "duration": 1620,
    "start_time": "2024-01-16T10:58:49.718Z"
   },
   {
    "duration": 138,
    "start_time": "2024-01-16T10:58:51.339Z"
   },
   {
    "duration": 182,
    "start_time": "2024-01-16T10:58:51.480Z"
   },
   {
    "duration": 606,
    "start_time": "2024-01-16T10:58:51.664Z"
   },
   {
    "duration": 301,
    "start_time": "2024-01-16T10:58:52.272Z"
   },
   {
    "duration": 72,
    "start_time": "2024-01-16T10:58:52.575Z"
   },
   {
    "duration": 3,
    "start_time": "2024-01-16T10:58:52.649Z"
   },
   {
    "duration": 71,
    "start_time": "2024-01-16T10:58:52.654Z"
   },
   {
    "duration": 216,
    "start_time": "2024-01-16T10:58:52.727Z"
   },
   {
    "duration": 119,
    "start_time": "2024-01-16T10:58:52.945Z"
   },
   {
    "duration": 1629,
    "start_time": "2024-01-16T10:58:53.067Z"
   },
   {
    "duration": 7870,
    "start_time": "2024-01-16T10:58:54.699Z"
   },
   {
    "duration": 3212,
    "start_time": "2024-01-16T11:00:04.708Z"
   },
   {
    "duration": 1387,
    "start_time": "2024-01-16T11:00:07.922Z"
   },
   {
    "duration": 1626,
    "start_time": "2024-01-16T11:00:09.310Z"
   },
   {
    "duration": 130,
    "start_time": "2024-01-16T11:00:10.937Z"
   },
   {
    "duration": 183,
    "start_time": "2024-01-16T11:00:11.070Z"
   },
   {
    "duration": 600,
    "start_time": "2024-01-16T11:00:11.255Z"
   },
   {
    "duration": 309,
    "start_time": "2024-01-16T11:00:11.857Z"
   },
   {
    "duration": 89,
    "start_time": "2024-01-16T11:00:12.168Z"
   },
   {
    "duration": 4,
    "start_time": "2024-01-16T11:00:12.258Z"
   },
   {
    "duration": 72,
    "start_time": "2024-01-16T11:00:12.264Z"
   },
   {
    "duration": 215,
    "start_time": "2024-01-16T11:00:12.337Z"
   },
   {
    "duration": 144,
    "start_time": "2024-01-16T11:00:12.554Z"
   },
   {
    "duration": 1401,
    "start_time": "2024-01-16T11:00:12.705Z"
   },
   {
    "duration": 7839,
    "start_time": "2024-01-16T11:00:14.115Z"
   },
   {
    "duration": 3131,
    "start_time": "2024-01-16T11:02:30.429Z"
   },
   {
    "duration": 1394,
    "start_time": "2024-01-16T11:02:33.563Z"
   },
   {
    "duration": 1648,
    "start_time": "2024-01-16T11:02:34.959Z"
   },
   {
    "duration": 138,
    "start_time": "2024-01-16T11:02:36.609Z"
   },
   {
    "duration": 175,
    "start_time": "2024-01-16T11:02:36.748Z"
   },
   {
    "duration": 651,
    "start_time": "2024-01-16T11:02:36.925Z"
   },
   {
    "duration": 301,
    "start_time": "2024-01-16T11:02:37.578Z"
   },
   {
    "duration": 67,
    "start_time": "2024-01-16T11:02:37.881Z"
   },
   {
    "duration": 4,
    "start_time": "2024-01-16T11:02:37.949Z"
   },
   {
    "duration": 78,
    "start_time": "2024-01-16T11:02:37.955Z"
   },
   {
    "duration": 201,
    "start_time": "2024-01-16T11:02:38.035Z"
   },
   {
    "duration": 141,
    "start_time": "2024-01-16T11:02:38.238Z"
   },
   {
    "duration": 1431,
    "start_time": "2024-01-16T11:02:38.381Z"
   },
   {
    "duration": 7741,
    "start_time": "2024-01-16T11:02:39.892Z"
   },
   {
    "duration": 353974,
    "start_time": "2024-01-16T11:02:47.635Z"
   },
   {
    "duration": 3236,
    "start_time": "2024-01-16T12:11:44.181Z"
   },
   {
    "duration": 1419,
    "start_time": "2024-01-16T12:11:47.420Z"
   },
   {
    "duration": 1667,
    "start_time": "2024-01-16T12:11:48.840Z"
   },
   {
    "duration": 140,
    "start_time": "2024-01-16T12:11:50.509Z"
   },
   {
    "duration": 174,
    "start_time": "2024-01-16T12:11:50.651Z"
   },
   {
    "duration": 626,
    "start_time": "2024-01-16T12:11:50.826Z"
   },
   {
    "duration": 335,
    "start_time": "2024-01-16T12:11:51.454Z"
   },
   {
    "duration": 66,
    "start_time": "2024-01-16T12:11:51.791Z"
   },
   {
    "duration": 4,
    "start_time": "2024-01-16T12:11:51.859Z"
   },
   {
    "duration": 76,
    "start_time": "2024-01-16T12:11:51.865Z"
   },
   {
    "duration": 201,
    "start_time": "2024-01-16T12:11:51.943Z"
   },
   {
    "duration": 126,
    "start_time": "2024-01-16T12:11:52.145Z"
   },
   {
    "duration": 1537,
    "start_time": "2024-01-16T12:11:52.273Z"
   },
   {
    "duration": 8108,
    "start_time": "2024-01-16T12:11:53.894Z"
   },
   {
    "duration": 245006,
    "start_time": "2024-01-16T12:12:02.004Z"
   },
   {
    "duration": 112,
    "start_time": "2024-01-16T13:55:44.386Z"
   },
   {
    "duration": 57,
    "start_time": "2024-01-17T16:02:34.171Z"
   },
   {
    "duration": 6976,
    "start_time": "2024-01-17T16:02:41.544Z"
   },
   {
    "duration": 1635,
    "start_time": "2024-01-17T16:02:48.523Z"
   },
   {
    "duration": 1908,
    "start_time": "2024-01-17T16:02:50.160Z"
   },
   {
    "duration": 132,
    "start_time": "2024-01-17T16:02:52.071Z"
   },
   {
    "duration": 187,
    "start_time": "2024-01-17T16:02:52.205Z"
   },
   {
    "duration": 687,
    "start_time": "2024-01-17T16:02:52.394Z"
   },
   {
    "duration": 324,
    "start_time": "2024-01-17T16:02:53.083Z"
   },
   {
    "duration": 87,
    "start_time": "2024-01-17T16:02:53.408Z"
   },
   {
    "duration": 5,
    "start_time": "2024-01-17T16:02:53.497Z"
   },
   {
    "duration": 75,
    "start_time": "2024-01-17T16:02:53.506Z"
   },
   {
    "duration": 200,
    "start_time": "2024-01-17T16:02:53.582Z"
   },
   {
    "duration": 6,
    "start_time": "2024-01-17T16:02:53.784Z"
   },
   {
    "duration": 250,
    "start_time": "2024-01-17T16:02:53.791Z"
   },
   {
    "duration": 0,
    "start_time": "2024-01-17T16:02:54.042Z"
   },
   {
    "duration": 0,
    "start_time": "2024-01-17T16:02:54.043Z"
   },
   {
    "duration": 0,
    "start_time": "2024-01-17T16:02:54.044Z"
   },
   {
    "duration": 133,
    "start_time": "2024-01-17T16:03:15.825Z"
   },
   {
    "duration": 203,
    "start_time": "2024-01-17T16:03:30.701Z"
   },
   {
    "duration": 43,
    "start_time": "2024-01-17T16:04:22.800Z"
   },
   {
    "duration": 130,
    "start_time": "2024-01-17T16:04:25.458Z"
   },
   {
    "duration": 73,
    "start_time": "2024-01-17T16:05:36.841Z"
   },
   {
    "duration": 135,
    "start_time": "2024-01-17T16:05:38.964Z"
   },
   {
    "duration": 60,
    "start_time": "2024-01-17T16:05:58.223Z"
   },
   {
    "duration": 138,
    "start_time": "2024-01-17T16:05:59.501Z"
   },
   {
    "duration": 3022,
    "start_time": "2024-01-17T16:07:52.856Z"
   },
   {
    "duration": 1359,
    "start_time": "2024-01-17T16:07:55.881Z"
   },
   {
    "duration": 1611,
    "start_time": "2024-01-17T16:07:57.242Z"
   },
   {
    "duration": 137,
    "start_time": "2024-01-17T16:07:58.856Z"
   },
   {
    "duration": 171,
    "start_time": "2024-01-17T16:07:58.995Z"
   },
   {
    "duration": 630,
    "start_time": "2024-01-17T16:07:59.167Z"
   },
   {
    "duration": 289,
    "start_time": "2024-01-17T16:07:59.799Z"
   },
   {
    "duration": 72,
    "start_time": "2024-01-17T16:08:00.090Z"
   },
   {
    "duration": 5,
    "start_time": "2024-01-17T16:08:00.163Z"
   },
   {
    "duration": 113,
    "start_time": "2024-01-17T16:08:00.170Z"
   },
   {
    "duration": 83,
    "start_time": "2024-01-17T16:08:00.284Z"
   },
   {
    "duration": 182,
    "start_time": "2024-01-17T16:08:00.369Z"
   },
   {
    "duration": 57,
    "start_time": "2024-01-17T16:08:00.553Z"
   },
   {
    "duration": 36,
    "start_time": "2024-01-17T16:08:00.611Z"
   },
   {
    "duration": 198,
    "start_time": "2024-01-17T16:08:00.648Z"
   },
   {
    "duration": 144,
    "start_time": "2024-01-17T16:08:00.847Z"
   },
   {
    "duration": 0,
    "start_time": "2024-01-17T16:08:00.992Z"
   },
   {
    "duration": 0,
    "start_time": "2024-01-17T16:08:00.994Z"
   },
   {
    "duration": 0,
    "start_time": "2024-01-17T16:08:00.995Z"
   },
   {
    "duration": 3019,
    "start_time": "2024-01-17T16:08:16.126Z"
   },
   {
    "duration": 1394,
    "start_time": "2024-01-17T16:08:19.147Z"
   },
   {
    "duration": 1626,
    "start_time": "2024-01-17T16:08:20.542Z"
   },
   {
    "duration": 127,
    "start_time": "2024-01-17T16:08:22.170Z"
   },
   {
    "duration": 172,
    "start_time": "2024-01-17T16:08:22.299Z"
   },
   {
    "duration": 612,
    "start_time": "2024-01-17T16:08:22.472Z"
   },
   {
    "duration": 300,
    "start_time": "2024-01-17T16:08:23.085Z"
   },
   {
    "duration": 86,
    "start_time": "2024-01-17T16:08:23.386Z"
   },
   {
    "duration": 4,
    "start_time": "2024-01-17T16:08:23.474Z"
   },
   {
    "duration": 75,
    "start_time": "2024-01-17T16:08:23.480Z"
   },
   {
    "duration": 83,
    "start_time": "2024-01-17T16:08:23.557Z"
   },
   {
    "duration": 127,
    "start_time": "2024-01-17T16:08:23.642Z"
   },
   {
    "duration": 69,
    "start_time": "2024-01-17T16:08:23.771Z"
   },
   {
    "duration": 19,
    "start_time": "2024-01-17T16:08:23.842Z"
   },
   {
    "duration": 116,
    "start_time": "2024-01-17T16:08:23.863Z"
   },
   {
    "duration": 238,
    "start_time": "2024-01-17T16:08:23.980Z"
   },
   {
    "duration": 0,
    "start_time": "2024-01-17T16:08:24.220Z"
   },
   {
    "duration": 0,
    "start_time": "2024-01-17T16:08:24.222Z"
   },
   {
    "duration": 0,
    "start_time": "2024-01-17T16:08:24.223Z"
   },
   {
    "duration": 3111,
    "start_time": "2024-01-17T16:11:51.083Z"
   },
   {
    "duration": 1479,
    "start_time": "2024-01-17T16:11:54.197Z"
   },
   {
    "duration": 1631,
    "start_time": "2024-01-17T16:11:55.679Z"
   },
   {
    "duration": 133,
    "start_time": "2024-01-17T16:11:57.312Z"
   },
   {
    "duration": 179,
    "start_time": "2024-01-17T16:11:57.447Z"
   },
   {
    "duration": 625,
    "start_time": "2024-01-17T16:11:57.627Z"
   },
   {
    "duration": 312,
    "start_time": "2024-01-17T16:11:58.254Z"
   },
   {
    "duration": 76,
    "start_time": "2024-01-17T16:11:58.568Z"
   },
   {
    "duration": 4,
    "start_time": "2024-01-17T16:11:58.646Z"
   },
   {
    "duration": 74,
    "start_time": "2024-01-17T16:11:58.653Z"
   },
   {
    "duration": 80,
    "start_time": "2024-01-17T16:11:58.729Z"
   },
   {
    "duration": 134,
    "start_time": "2024-01-17T16:11:58.811Z"
   },
   {
    "duration": 62,
    "start_time": "2024-01-17T16:11:58.947Z"
   },
   {
    "duration": 20,
    "start_time": "2024-01-17T16:11:59.022Z"
   },
   {
    "duration": 123,
    "start_time": "2024-01-17T16:11:59.044Z"
   },
   {
    "duration": 243,
    "start_time": "2024-01-17T16:11:59.170Z"
   },
   {
    "duration": 0,
    "start_time": "2024-01-17T16:11:59.415Z"
   },
   {
    "duration": 0,
    "start_time": "2024-01-17T16:11:59.423Z"
   },
   {
    "duration": 0,
    "start_time": "2024-01-17T16:11:59.424Z"
   },
   {
    "duration": 127,
    "start_time": "2024-01-17T16:12:13.223Z"
   },
   {
    "duration": 103,
    "start_time": "2024-01-17T16:14:35.959Z"
   },
   {
    "duration": 3079,
    "start_time": "2024-01-17T16:21:06.474Z"
   },
   {
    "duration": 1491,
    "start_time": "2024-01-17T16:21:09.555Z"
   },
   {
    "duration": 1651,
    "start_time": "2024-01-17T16:21:11.048Z"
   },
   {
    "duration": 137,
    "start_time": "2024-01-17T16:21:12.701Z"
   },
   {
    "duration": 185,
    "start_time": "2024-01-17T16:21:12.841Z"
   },
   {
    "duration": 665,
    "start_time": "2024-01-17T16:21:13.028Z"
   },
   {
    "duration": 303,
    "start_time": "2024-01-17T16:21:13.695Z"
   },
   {
    "duration": 85,
    "start_time": "2024-01-17T16:21:13.999Z"
   },
   {
    "duration": 4,
    "start_time": "2024-01-17T16:21:14.086Z"
   },
   {
    "duration": 69,
    "start_time": "2024-01-17T16:21:14.091Z"
   },
   {
    "duration": 88,
    "start_time": "2024-01-17T16:21:14.162Z"
   },
   {
    "duration": 129,
    "start_time": "2024-01-17T16:21:14.251Z"
   },
   {
    "duration": 70,
    "start_time": "2024-01-17T16:21:14.382Z"
   },
   {
    "duration": 18,
    "start_time": "2024-01-17T16:21:14.455Z"
   },
   {
    "duration": 119,
    "start_time": "2024-01-17T16:21:14.475Z"
   },
   {
    "duration": 124,
    "start_time": "2024-01-17T16:21:14.595Z"
   },
   {
    "duration": 5438,
    "start_time": "2024-01-17T16:21:14.722Z"
   },
   {
    "duration": 19675,
    "start_time": "2024-01-17T16:21:20.222Z"
   },
   {
    "duration": 3139,
    "start_time": "2024-01-17T16:26:50.072Z"
   },
   {
    "duration": 1450,
    "start_time": "2024-01-17T16:26:53.214Z"
   },
   {
    "duration": 1594,
    "start_time": "2024-01-17T16:26:54.666Z"
   },
   {
    "duration": 128,
    "start_time": "2024-01-17T16:26:56.262Z"
   },
   {
    "duration": 173,
    "start_time": "2024-01-17T16:26:56.392Z"
   },
   {
    "duration": 623,
    "start_time": "2024-01-17T16:26:56.567Z"
   },
   {
    "duration": 307,
    "start_time": "2024-01-17T16:26:57.191Z"
   },
   {
    "duration": 85,
    "start_time": "2024-01-17T16:26:57.501Z"
   },
   {
    "duration": 4,
    "start_time": "2024-01-17T16:26:57.588Z"
   },
   {
    "duration": 93,
    "start_time": "2024-01-17T16:26:57.594Z"
   },
   {
    "duration": 80,
    "start_time": "2024-01-17T16:26:57.689Z"
   },
   {
    "duration": 128,
    "start_time": "2024-01-17T16:26:57.771Z"
   },
   {
    "duration": 67,
    "start_time": "2024-01-17T16:26:57.900Z"
   },
   {
    "duration": 20,
    "start_time": "2024-01-17T16:26:57.971Z"
   },
   {
    "duration": 120,
    "start_time": "2024-01-17T16:26:57.993Z"
   },
   {
    "duration": 139,
    "start_time": "2024-01-17T16:26:58.115Z"
   },
   {
    "duration": 182,
    "start_time": "2024-01-17T16:26:58.256Z"
   },
   {
    "duration": 19769,
    "start_time": "2024-01-17T16:26:58.439Z"
   },
   {
    "duration": 3076,
    "start_time": "2024-01-17T16:28:26.451Z"
   },
   {
    "duration": 1452,
    "start_time": "2024-01-17T16:28:29.530Z"
   },
   {
    "duration": 1599,
    "start_time": "2024-01-17T16:28:30.984Z"
   },
   {
    "duration": 126,
    "start_time": "2024-01-17T16:28:32.586Z"
   },
   {
    "duration": 167,
    "start_time": "2024-01-17T16:28:32.723Z"
   },
   {
    "duration": 628,
    "start_time": "2024-01-17T16:28:32.891Z"
   },
   {
    "duration": 302,
    "start_time": "2024-01-17T16:28:33.521Z"
   },
   {
    "duration": 78,
    "start_time": "2024-01-17T16:28:33.825Z"
   },
   {
    "duration": 3,
    "start_time": "2024-01-17T16:28:33.905Z"
   },
   {
    "duration": 63,
    "start_time": "2024-01-17T16:28:33.923Z"
   },
   {
    "duration": 84,
    "start_time": "2024-01-17T16:28:33.988Z"
   },
   {
    "duration": 132,
    "start_time": "2024-01-17T16:28:34.073Z"
   },
   {
    "duration": 70,
    "start_time": "2024-01-17T16:28:34.207Z"
   },
   {
    "duration": 19,
    "start_time": "2024-01-17T16:28:34.279Z"
   },
   {
    "duration": 117,
    "start_time": "2024-01-17T16:28:34.299Z"
   },
   {
    "duration": 122,
    "start_time": "2024-01-17T16:28:34.417Z"
   },
   {
    "duration": 201,
    "start_time": "2024-01-17T16:28:34.541Z"
   },
   {
    "duration": 19435,
    "start_time": "2024-01-17T16:28:34.744Z"
   },
   {
    "duration": 3041,
    "start_time": "2024-01-17T16:29:40.827Z"
   },
   {
    "duration": 1393,
    "start_time": "2024-01-17T16:29:43.870Z"
   },
   {
    "duration": 1627,
    "start_time": "2024-01-17T16:29:45.265Z"
   },
   {
    "duration": 136,
    "start_time": "2024-01-17T16:29:46.894Z"
   },
   {
    "duration": 171,
    "start_time": "2024-01-17T16:29:47.033Z"
   },
   {
    "duration": 610,
    "start_time": "2024-01-17T16:29:47.205Z"
   },
   {
    "duration": 290,
    "start_time": "2024-01-17T16:29:47.817Z"
   },
   {
    "duration": 85,
    "start_time": "2024-01-17T16:29:48.108Z"
   },
   {
    "duration": 4,
    "start_time": "2024-01-17T16:29:48.195Z"
   },
   {
    "duration": 74,
    "start_time": "2024-01-17T16:29:48.201Z"
   },
   {
    "duration": 83,
    "start_time": "2024-01-17T16:29:48.276Z"
   },
   {
    "duration": 126,
    "start_time": "2024-01-17T16:29:48.360Z"
   },
   {
    "duration": 68,
    "start_time": "2024-01-17T16:29:48.487Z"
   },
   {
    "duration": 20,
    "start_time": "2024-01-17T16:29:48.557Z"
   },
   {
    "duration": 129,
    "start_time": "2024-01-17T16:29:48.578Z"
   },
   {
    "duration": 124,
    "start_time": "2024-01-17T16:29:48.709Z"
   },
   {
    "duration": 227,
    "start_time": "2024-01-17T16:29:48.835Z"
   },
   {
    "duration": 20043,
    "start_time": "2024-01-17T16:29:49.064Z"
   },
   {
    "duration": 3058,
    "start_time": "2024-01-17T16:30:19.860Z"
   },
   {
    "duration": 1431,
    "start_time": "2024-01-17T16:30:22.921Z"
   },
   {
    "duration": 1639,
    "start_time": "2024-01-17T16:30:24.354Z"
   },
   {
    "duration": 137,
    "start_time": "2024-01-17T16:30:25.995Z"
   },
   {
    "duration": 178,
    "start_time": "2024-01-17T16:30:26.134Z"
   },
   {
    "duration": 603,
    "start_time": "2024-01-17T16:30:26.313Z"
   },
   {
    "duration": 293,
    "start_time": "2024-01-17T16:30:26.918Z"
   },
   {
    "duration": 73,
    "start_time": "2024-01-17T16:30:27.213Z"
   },
   {
    "duration": 4,
    "start_time": "2024-01-17T16:30:27.288Z"
   },
   {
    "duration": 75,
    "start_time": "2024-01-17T16:30:27.293Z"
   },
   {
    "duration": 100,
    "start_time": "2024-01-17T16:30:27.369Z"
   },
   {
    "duration": 142,
    "start_time": "2024-01-17T16:30:27.470Z"
   },
   {
    "duration": 67,
    "start_time": "2024-01-17T16:30:27.613Z"
   },
   {
    "duration": 19,
    "start_time": "2024-01-17T16:30:27.683Z"
   },
   {
    "duration": 120,
    "start_time": "2024-01-17T16:30:27.703Z"
   },
   {
    "duration": 118,
    "start_time": "2024-01-17T16:30:27.825Z"
   },
   {
    "duration": 977,
    "start_time": "2024-01-17T16:30:27.945Z"
   },
   {
    "duration": 19871,
    "start_time": "2024-01-17T16:30:28.925Z"
   },
   {
    "duration": 3144,
    "start_time": "2024-01-17T16:34:03.220Z"
   },
   {
    "duration": 1370,
    "start_time": "2024-01-17T16:34:06.367Z"
   },
   {
    "duration": 1578,
    "start_time": "2024-01-17T16:34:07.738Z"
   },
   {
    "duration": 134,
    "start_time": "2024-01-17T16:34:09.318Z"
   },
   {
    "duration": 188,
    "start_time": "2024-01-17T16:34:09.454Z"
   },
   {
    "duration": 599,
    "start_time": "2024-01-17T16:34:09.644Z"
   },
   {
    "duration": 294,
    "start_time": "2024-01-17T16:34:10.244Z"
   },
   {
    "duration": 66,
    "start_time": "2024-01-17T16:34:10.540Z"
   },
   {
    "duration": 15,
    "start_time": "2024-01-17T16:34:10.608Z"
   },
   {
    "duration": 79,
    "start_time": "2024-01-17T16:34:10.625Z"
   },
   {
    "duration": 89,
    "start_time": "2024-01-17T16:34:10.706Z"
   },
   {
    "duration": 131,
    "start_time": "2024-01-17T16:34:10.797Z"
   },
   {
    "duration": 59,
    "start_time": "2024-01-17T16:34:10.929Z"
   },
   {
    "duration": 33,
    "start_time": "2024-01-17T16:34:10.990Z"
   },
   {
    "duration": 112,
    "start_time": "2024-01-17T16:34:11.025Z"
   },
   {
    "duration": 124,
    "start_time": "2024-01-17T16:34:11.139Z"
   },
   {
    "duration": 961,
    "start_time": "2024-01-17T16:34:11.265Z"
   },
   {
    "duration": 2945,
    "start_time": "2024-01-17T16:34:12.229Z"
   },
   {
    "duration": 8460,
    "start_time": "2024-01-17T16:34:15.176Z"
   },
   {
    "duration": 3066,
    "start_time": "2024-01-17T16:38:09.016Z"
   },
   {
    "duration": 1376,
    "start_time": "2024-01-17T16:38:12.085Z"
   },
   {
    "duration": 1667,
    "start_time": "2024-01-17T16:38:13.463Z"
   },
   {
    "duration": 134,
    "start_time": "2024-01-17T16:38:15.131Z"
   },
   {
    "duration": 216,
    "start_time": "2024-01-17T16:38:15.268Z"
   },
   {
    "duration": 649,
    "start_time": "2024-01-17T16:38:15.486Z"
   },
   {
    "duration": 309,
    "start_time": "2024-01-17T16:38:16.137Z"
   },
   {
    "duration": 89,
    "start_time": "2024-01-17T16:38:16.447Z"
   },
   {
    "duration": 5,
    "start_time": "2024-01-17T16:38:16.538Z"
   },
   {
    "duration": 72,
    "start_time": "2024-01-17T16:38:16.544Z"
   },
   {
    "duration": 80,
    "start_time": "2024-01-17T16:38:16.624Z"
   },
   {
    "duration": 139,
    "start_time": "2024-01-17T16:38:16.706Z"
   },
   {
    "duration": 76,
    "start_time": "2024-01-17T16:38:16.847Z"
   },
   {
    "duration": 18,
    "start_time": "2024-01-17T16:38:16.926Z"
   },
   {
    "duration": 118,
    "start_time": "2024-01-17T16:38:16.946Z"
   },
   {
    "duration": 124,
    "start_time": "2024-01-17T16:38:17.066Z"
   },
   {
    "duration": 944,
    "start_time": "2024-01-17T16:38:17.192Z"
   },
   {
    "duration": 19948,
    "start_time": "2024-01-17T16:38:18.138Z"
   },
   {
    "duration": 2995,
    "start_time": "2024-01-17T16:42:41.688Z"
   },
   {
    "duration": 1464,
    "start_time": "2024-01-17T16:42:44.686Z"
   },
   {
    "duration": 1630,
    "start_time": "2024-01-17T16:42:46.152Z"
   },
   {
    "duration": 141,
    "start_time": "2024-01-17T16:42:47.784Z"
   },
   {
    "duration": 165,
    "start_time": "2024-01-17T16:42:47.926Z"
   },
   {
    "duration": 608,
    "start_time": "2024-01-17T16:42:48.092Z"
   },
   {
    "duration": 291,
    "start_time": "2024-01-17T16:42:48.702Z"
   },
   {
    "duration": 69,
    "start_time": "2024-01-17T16:42:48.995Z"
   },
   {
    "duration": 4,
    "start_time": "2024-01-17T16:42:49.066Z"
   },
   {
    "duration": 71,
    "start_time": "2024-01-17T16:42:49.073Z"
   },
   {
    "duration": 87,
    "start_time": "2024-01-17T16:42:49.145Z"
   },
   {
    "duration": 132,
    "start_time": "2024-01-17T16:42:49.234Z"
   },
   {
    "duration": 63,
    "start_time": "2024-01-17T16:42:49.368Z"
   },
   {
    "duration": 18,
    "start_time": "2024-01-17T16:42:49.433Z"
   },
   {
    "duration": 128,
    "start_time": "2024-01-17T16:42:49.453Z"
   },
   {
    "duration": 141,
    "start_time": "2024-01-17T16:42:49.582Z"
   },
   {
    "duration": 907,
    "start_time": "2024-01-17T16:42:49.725Z"
   },
   {
    "duration": 20133,
    "start_time": "2024-01-17T16:42:50.635Z"
   },
   {
    "duration": 375055,
    "start_time": "2024-01-17T16:43:10.770Z"
   },
   {
    "duration": 6650,
    "start_time": "2024-01-18T08:09:46.400Z"
   },
   {
    "duration": 1448,
    "start_time": "2024-01-18T08:09:53.052Z"
   },
   {
    "duration": 1934,
    "start_time": "2024-01-18T08:09:54.502Z"
   },
   {
    "duration": 139,
    "start_time": "2024-01-18T08:09:56.438Z"
   },
   {
    "duration": 191,
    "start_time": "2024-01-18T08:09:56.580Z"
   },
   {
    "duration": 652,
    "start_time": "2024-01-18T08:09:56.773Z"
   },
   {
    "duration": 336,
    "start_time": "2024-01-18T08:09:57.426Z"
   },
   {
    "duration": 85,
    "start_time": "2024-01-18T08:09:57.764Z"
   },
   {
    "duration": 4,
    "start_time": "2024-01-18T08:09:57.851Z"
   },
   {
    "duration": 70,
    "start_time": "2024-01-18T08:09:57.856Z"
   },
   {
    "duration": 80,
    "start_time": "2024-01-18T08:09:57.928Z"
   },
   {
    "duration": 139,
    "start_time": "2024-01-18T08:09:58.009Z"
   },
   {
    "duration": 73,
    "start_time": "2024-01-18T08:09:58.150Z"
   },
   {
    "duration": 22,
    "start_time": "2024-01-18T08:09:58.226Z"
   },
   {
    "duration": 134,
    "start_time": "2024-01-18T08:09:58.250Z"
   },
   {
    "duration": 6,
    "start_time": "2024-01-18T08:09:58.386Z"
   },
   {
    "duration": 6201,
    "start_time": "2024-01-18T09:05:31.021Z"
   },
   {
    "duration": 1440,
    "start_time": "2024-01-18T09:05:37.225Z"
   },
   {
    "duration": 1676,
    "start_time": "2024-01-18T09:05:38.667Z"
   },
   {
    "duration": 127,
    "start_time": "2024-01-18T09:05:40.345Z"
   },
   {
    "duration": 156,
    "start_time": "2024-01-18T09:05:40.474Z"
   },
   {
    "duration": 598,
    "start_time": "2024-01-18T09:05:40.631Z"
   },
   {
    "duration": 272,
    "start_time": "2024-01-18T09:05:41.230Z"
   },
   {
    "duration": 77,
    "start_time": "2024-01-18T09:05:41.504Z"
   },
   {
    "duration": 4,
    "start_time": "2024-01-18T09:05:41.583Z"
   },
   {
    "duration": 87,
    "start_time": "2024-01-18T09:05:41.589Z"
   },
   {
    "duration": 70,
    "start_time": "2024-01-18T09:05:41.678Z"
   },
   {
    "duration": 118,
    "start_time": "2024-01-18T09:05:41.749Z"
   },
   {
    "duration": 55,
    "start_time": "2024-01-18T09:05:41.869Z"
   },
   {
    "duration": 17,
    "start_time": "2024-01-18T09:05:41.926Z"
   },
   {
    "duration": 110,
    "start_time": "2024-01-18T09:05:41.945Z"
   },
   {
    "duration": 13,
    "start_time": "2024-01-18T09:05:42.057Z"
   },
   {
    "duration": 19,
    "start_time": "2024-01-18T09:07:05.234Z"
   },
   {
    "duration": 83,
    "start_time": "2024-01-18T09:07:11.460Z"
   },
   {
    "duration": 1437,
    "start_time": "2024-01-18T09:07:31.868Z"
   },
   {
    "duration": 2950,
    "start_time": "2024-01-18T09:07:41.493Z"
   },
   {
    "duration": 1355,
    "start_time": "2024-01-18T09:07:44.445Z"
   },
   {
    "duration": 1454,
    "start_time": "2024-01-18T09:07:45.802Z"
   },
   {
    "duration": 124,
    "start_time": "2024-01-18T09:07:47.258Z"
   },
   {
    "duration": 154,
    "start_time": "2024-01-18T09:07:47.383Z"
   },
   {
    "duration": 573,
    "start_time": "2024-01-18T09:07:47.539Z"
   },
   {
    "duration": 275,
    "start_time": "2024-01-18T09:07:48.114Z"
   },
   {
    "duration": 62,
    "start_time": "2024-01-18T09:07:48.390Z"
   },
   {
    "duration": 11,
    "start_time": "2024-01-18T09:07:48.454Z"
   },
   {
    "duration": 57,
    "start_time": "2024-01-18T09:07:48.469Z"
   },
   {
    "duration": 92,
    "start_time": "2024-01-18T09:07:48.528Z"
   },
   {
    "duration": 127,
    "start_time": "2024-01-18T09:07:48.622Z"
   },
   {
    "duration": 62,
    "start_time": "2024-01-18T09:07:48.751Z"
   },
   {
    "duration": 18,
    "start_time": "2024-01-18T09:07:48.814Z"
   },
   {
    "duration": 115,
    "start_time": "2024-01-18T09:07:48.834Z"
   },
   {
    "duration": 31,
    "start_time": "2024-01-18T09:07:48.950Z"
   },
   {
    "duration": 4,
    "start_time": "2024-01-18T09:07:48.983Z"
   },
   {
    "duration": 134,
    "start_time": "2024-01-18T09:07:48.988Z"
   },
   {
    "duration": 844,
    "start_time": "2024-01-18T09:07:49.124Z"
   },
   {
    "duration": 17575,
    "start_time": "2024-01-18T09:07:49.970Z"
   },
   {
    "duration": 2772,
    "start_time": "2024-01-18T09:09:12.079Z"
   },
   {
    "duration": 1305,
    "start_time": "2024-01-18T09:09:14.853Z"
   },
   {
    "duration": 1414,
    "start_time": "2024-01-18T09:09:16.160Z"
   },
   {
    "duration": 122,
    "start_time": "2024-01-18T09:09:17.575Z"
   },
   {
    "duration": 153,
    "start_time": "2024-01-18T09:09:17.698Z"
   },
   {
    "duration": 548,
    "start_time": "2024-01-18T09:09:17.853Z"
   },
   {
    "duration": 267,
    "start_time": "2024-01-18T09:09:18.403Z"
   },
   {
    "duration": 62,
    "start_time": "2024-01-18T09:09:18.672Z"
   },
   {
    "duration": 4,
    "start_time": "2024-01-18T09:09:18.736Z"
   },
   {
    "duration": 72,
    "start_time": "2024-01-18T09:09:18.741Z"
   },
   {
    "duration": 77,
    "start_time": "2024-01-18T09:09:18.814Z"
   },
   {
    "duration": 113,
    "start_time": "2024-01-18T09:09:18.893Z"
   },
   {
    "duration": 63,
    "start_time": "2024-01-18T09:09:19.007Z"
   },
   {
    "duration": 18,
    "start_time": "2024-01-18T09:09:19.072Z"
   },
   {
    "duration": 115,
    "start_time": "2024-01-18T09:09:19.092Z"
   },
   {
    "duration": 20,
    "start_time": "2024-01-18T09:09:19.208Z"
   },
   {
    "duration": 21,
    "start_time": "2024-01-18T09:09:19.229Z"
   },
   {
    "duration": 122,
    "start_time": "2024-01-18T09:09:19.252Z"
   },
   {
    "duration": 0,
    "start_time": "2024-01-18T09:09:19.375Z"
   },
   {
    "duration": 0,
    "start_time": "2024-01-18T09:09:19.376Z"
   },
   {
    "duration": 0,
    "start_time": "2024-01-18T09:09:19.377Z"
   },
   {
    "duration": 0,
    "start_time": "2024-01-18T09:09:19.378Z"
   },
   {
    "duration": 2752,
    "start_time": "2024-01-18T09:10:47.256Z"
   },
   {
    "duration": 1234,
    "start_time": "2024-01-18T09:10:50.010Z"
   },
   {
    "duration": 1438,
    "start_time": "2024-01-18T09:10:51.246Z"
   },
   {
    "duration": 118,
    "start_time": "2024-01-18T09:10:52.686Z"
   },
   {
    "duration": 153,
    "start_time": "2024-01-18T09:10:52.806Z"
   },
   {
    "duration": 567,
    "start_time": "2024-01-18T09:10:52.961Z"
   },
   {
    "duration": 271,
    "start_time": "2024-01-18T09:10:53.530Z"
   },
   {
    "duration": 65,
    "start_time": "2024-01-18T09:10:53.802Z"
   },
   {
    "duration": 3,
    "start_time": "2024-01-18T09:10:53.869Z"
   },
   {
    "duration": 94,
    "start_time": "2024-01-18T09:10:53.875Z"
   },
   {
    "duration": 72,
    "start_time": "2024-01-18T09:10:53.970Z"
   },
   {
    "duration": 120,
    "start_time": "2024-01-18T09:10:54.043Z"
   },
   {
    "duration": 56,
    "start_time": "2024-01-18T09:10:54.165Z"
   },
   {
    "duration": 45,
    "start_time": "2024-01-18T09:10:54.223Z"
   },
   {
    "duration": 18,
    "start_time": "2024-01-18T09:10:54.269Z"
   },
   {
    "duration": 115,
    "start_time": "2024-01-18T09:10:54.288Z"
   },
   {
    "duration": 19,
    "start_time": "2024-01-18T09:10:54.405Z"
   },
   {
    "duration": 16,
    "start_time": "2024-01-18T09:10:54.426Z"
   },
   {
    "duration": 154,
    "start_time": "2024-01-18T09:10:54.444Z"
   },
   {
    "duration": 0,
    "start_time": "2024-01-18T09:10:54.599Z"
   },
   {
    "duration": 0,
    "start_time": "2024-01-18T09:10:54.600Z"
   },
   {
    "duration": 0,
    "start_time": "2024-01-18T09:10:54.601Z"
   },
   {
    "duration": 0,
    "start_time": "2024-01-18T09:10:54.603Z"
   },
   {
    "duration": 1258,
    "start_time": "2024-01-18T09:12:49.134Z"
   },
   {
    "duration": 141,
    "start_time": "2024-01-18T09:24:38.635Z"
   },
   {
    "duration": 93,
    "start_time": "2024-01-18T09:33:11.308Z"
   },
   {
    "duration": 126,
    "start_time": "2024-01-18T09:33:18.693Z"
   },
   {
    "duration": 42946,
    "start_time": "2024-01-18T09:33:19.544Z"
   },
   {
    "duration": 1875,
    "start_time": "2024-01-18T09:34:02.492Z"
   },
   {
    "duration": 5707,
    "start_time": "2024-01-18T09:34:18.093Z"
   },
   {
    "duration": 1244,
    "start_time": "2024-01-18T09:34:23.802Z"
   },
   {
    "duration": 1464,
    "start_time": "2024-01-18T09:34:25.048Z"
   },
   {
    "duration": 124,
    "start_time": "2024-01-18T09:34:26.514Z"
   },
   {
    "duration": 166,
    "start_time": "2024-01-18T09:34:26.640Z"
   },
   {
    "duration": 577,
    "start_time": "2024-01-18T09:34:26.808Z"
   },
   {
    "duration": 274,
    "start_time": "2024-01-18T09:34:27.386Z"
   },
   {
    "duration": 76,
    "start_time": "2024-01-18T09:34:27.661Z"
   },
   {
    "duration": 5,
    "start_time": "2024-01-18T09:34:27.738Z"
   },
   {
    "duration": 76,
    "start_time": "2024-01-18T09:34:27.745Z"
   },
   {
    "duration": 88,
    "start_time": "2024-01-18T09:34:27.824Z"
   },
   {
    "duration": 118,
    "start_time": "2024-01-18T09:34:27.914Z"
   },
   {
    "duration": 58,
    "start_time": "2024-01-18T09:34:28.033Z"
   },
   {
    "duration": 34,
    "start_time": "2024-01-18T09:34:28.092Z"
   },
   {
    "duration": 21,
    "start_time": "2024-01-18T09:34:28.127Z"
   },
   {
    "duration": 108,
    "start_time": "2024-01-18T09:34:28.149Z"
   },
   {
    "duration": 118,
    "start_time": "2024-01-18T09:34:28.265Z"
   },
   {
    "duration": 140,
    "start_time": "2024-01-18T09:34:28.384Z"
   },
   {
    "duration": 42637,
    "start_time": "2024-01-18T09:34:28.526Z"
   },
   {
    "duration": 1829,
    "start_time": "2024-01-18T09:35:11.166Z"
   },
   {
    "duration": 6578,
    "start_time": "2024-01-18T09:35:12.997Z"
   },
   {
    "duration": 114,
    "start_time": "2024-01-18T09:43:27.688Z"
   },
   {
    "duration": 2826,
    "start_time": "2024-01-18T09:43:35.833Z"
   },
   {
    "duration": 1421,
    "start_time": "2024-01-18T09:43:38.662Z"
   },
   {
    "duration": 1526,
    "start_time": "2024-01-18T09:43:40.084Z"
   },
   {
    "duration": 126,
    "start_time": "2024-01-18T09:43:41.612Z"
   },
   {
    "duration": 174,
    "start_time": "2024-01-18T09:43:41.739Z"
   },
   {
    "duration": 586,
    "start_time": "2024-01-18T09:43:41.915Z"
   },
   {
    "duration": 291,
    "start_time": "2024-01-18T09:43:42.503Z"
   },
   {
    "duration": 82,
    "start_time": "2024-01-18T09:43:42.795Z"
   },
   {
    "duration": 4,
    "start_time": "2024-01-18T09:43:42.879Z"
   },
   {
    "duration": 83,
    "start_time": "2024-01-18T09:43:42.885Z"
   },
   {
    "duration": 73,
    "start_time": "2024-01-18T09:43:42.970Z"
   },
   {
    "duration": 123,
    "start_time": "2024-01-18T09:43:43.044Z"
   },
   {
    "duration": 50,
    "start_time": "2024-01-18T09:43:43.169Z"
   },
   {
    "duration": 46,
    "start_time": "2024-01-18T09:43:43.220Z"
   },
   {
    "duration": 18,
    "start_time": "2024-01-18T09:43:43.268Z"
   },
   {
    "duration": 107,
    "start_time": "2024-01-18T09:43:43.287Z"
   },
   {
    "duration": 121,
    "start_time": "2024-01-18T09:43:43.396Z"
   },
   {
    "duration": 141,
    "start_time": "2024-01-18T09:43:43.518Z"
   },
   {
    "duration": 41961,
    "start_time": "2024-01-18T09:43:43.660Z"
   },
   {
    "duration": 111,
    "start_time": "2024-01-18T09:44:25.622Z"
   },
   {
    "duration": 0,
    "start_time": "2024-01-18T09:44:25.734Z"
   },
   {
    "duration": 0,
    "start_time": "2024-01-18T09:44:25.736Z"
   },
   {
    "duration": 0,
    "start_time": "2024-01-18T09:44:25.737Z"
   },
   {
    "duration": 1832,
    "start_time": "2024-01-18T09:44:39.462Z"
   },
   {
    "duration": 8419,
    "start_time": "2024-01-18T09:44:41.362Z"
   },
   {
    "duration": 323,
    "start_time": "2024-01-18T09:44:49.783Z"
   },
   {
    "duration": 145,
    "start_time": "2024-01-18T09:45:51.949Z"
   },
   {
    "duration": 145,
    "start_time": "2024-01-18T09:46:04.307Z"
   },
   {
    "duration": 153,
    "start_time": "2024-01-18T09:46:30.850Z"
   },
   {
    "duration": 148,
    "start_time": "2024-01-18T09:46:35.524Z"
   },
   {
    "duration": 165,
    "start_time": "2024-01-18T09:47:37.750Z"
   },
   {
    "duration": 142,
    "start_time": "2024-01-18T09:47:58.571Z"
   },
   {
    "duration": 142,
    "start_time": "2024-01-18T09:48:23.544Z"
   },
   {
    "duration": 146,
    "start_time": "2024-01-18T09:51:48.715Z"
   },
   {
    "duration": 2891,
    "start_time": "2024-01-18T09:52:08.781Z"
   },
   {
    "duration": 1278,
    "start_time": "2024-01-18T09:52:11.674Z"
   },
   {
    "duration": 1438,
    "start_time": "2024-01-18T09:52:12.953Z"
   },
   {
    "duration": 120,
    "start_time": "2024-01-18T09:52:14.393Z"
   },
   {
    "duration": 151,
    "start_time": "2024-01-18T09:52:14.514Z"
   },
   {
    "duration": 565,
    "start_time": "2024-01-18T09:52:14.667Z"
   },
   {
    "duration": 296,
    "start_time": "2024-01-18T09:52:15.234Z"
   },
   {
    "duration": 80,
    "start_time": "2024-01-18T09:52:15.532Z"
   },
   {
    "duration": 4,
    "start_time": "2024-01-18T09:52:15.614Z"
   },
   {
    "duration": 79,
    "start_time": "2024-01-18T09:52:15.620Z"
   },
   {
    "duration": 78,
    "start_time": "2024-01-18T09:52:15.701Z"
   },
   {
    "duration": 139,
    "start_time": "2024-01-18T09:52:15.780Z"
   },
   {
    "duration": 58,
    "start_time": "2024-01-18T09:52:15.920Z"
   },
   {
    "duration": 35,
    "start_time": "2024-01-18T09:52:15.980Z"
   },
   {
    "duration": 21,
    "start_time": "2024-01-18T09:52:16.016Z"
   },
   {
    "duration": 127,
    "start_time": "2024-01-18T09:52:16.039Z"
   },
   {
    "duration": 117,
    "start_time": "2024-01-18T09:52:16.168Z"
   },
   {
    "duration": 143,
    "start_time": "2024-01-18T09:52:16.286Z"
   },
   {
    "duration": 42286,
    "start_time": "2024-01-18T09:52:16.431Z"
   },
   {
    "duration": 1858,
    "start_time": "2024-01-18T09:52:58.719Z"
   },
   {
    "duration": 6892,
    "start_time": "2024-01-18T09:53:00.579Z"
   },
   {
    "duration": 176,
    "start_time": "2024-01-18T09:53:07.473Z"
   },
   {
    "duration": 61,
    "start_time": "2024-01-18T19:32:36.860Z"
   },
   {
    "duration": 6746,
    "start_time": "2024-01-18T19:37:05.924Z"
   },
   {
    "duration": 1644,
    "start_time": "2024-01-18T19:37:12.673Z"
   },
   {
    "duration": 1856,
    "start_time": "2024-01-18T19:37:14.319Z"
   },
   {
    "duration": 136,
    "start_time": "2024-01-18T19:37:16.177Z"
   },
   {
    "duration": 176,
    "start_time": "2024-01-18T19:37:16.316Z"
   },
   {
    "duration": 630,
    "start_time": "2024-01-18T19:37:16.493Z"
   },
   {
    "duration": 293,
    "start_time": "2024-01-18T19:37:17.125Z"
   },
   {
    "duration": 72,
    "start_time": "2024-01-18T19:37:17.420Z"
   },
   {
    "duration": 4,
    "start_time": "2024-01-18T19:37:17.494Z"
   },
   {
    "duration": 73,
    "start_time": "2024-01-18T19:37:17.500Z"
   },
   {
    "duration": 93,
    "start_time": "2024-01-18T19:37:17.575Z"
   },
   {
    "duration": 132,
    "start_time": "2024-01-18T19:37:17.670Z"
   },
   {
    "duration": 66,
    "start_time": "2024-01-18T19:37:17.804Z"
   },
   {
    "duration": 39,
    "start_time": "2024-01-18T19:37:17.873Z"
   },
   {
    "duration": 20,
    "start_time": "2024-01-18T19:37:17.914Z"
   },
   {
    "duration": 133,
    "start_time": "2024-01-18T19:37:17.936Z"
   },
   {
    "duration": 131,
    "start_time": "2024-01-18T19:37:18.071Z"
   },
   {
    "duration": 149,
    "start_time": "2024-01-18T19:37:18.204Z"
   },
   {
    "duration": 42742,
    "start_time": "2024-01-18T19:37:18.355Z"
   },
   {
    "duration": 214,
    "start_time": "2024-01-18T19:38:01.099Z"
   },
   {
    "duration": 82,
    "start_time": "2024-01-18T19:38:01.314Z"
   },
   {
    "duration": 14,
    "start_time": "2024-01-18T19:38:01.398Z"
   },
   {
    "duration": 2046,
    "start_time": "2024-01-18T19:39:14.026Z"
   },
   {
    "duration": 17745,
    "start_time": "2024-01-18T19:41:02.740Z"
   },
   {
    "duration": 16920,
    "start_time": "2024-01-18T19:45:32.411Z"
   },
   {
    "duration": 3050,
    "start_time": "2024-01-18T19:48:32.439Z"
   },
   {
    "duration": 1507,
    "start_time": "2024-01-18T19:48:35.491Z"
   },
   {
    "duration": 1630,
    "start_time": "2024-01-18T19:48:37.000Z"
   },
   {
    "duration": 135,
    "start_time": "2024-01-18T19:48:38.632Z"
   },
   {
    "duration": 168,
    "start_time": "2024-01-18T19:48:38.769Z"
   },
   {
    "duration": 633,
    "start_time": "2024-01-18T19:48:38.939Z"
   },
   {
    "duration": 295,
    "start_time": "2024-01-18T19:48:39.574Z"
   },
   {
    "duration": 92,
    "start_time": "2024-01-18T19:48:39.871Z"
   },
   {
    "duration": 5,
    "start_time": "2024-01-18T19:48:39.965Z"
   },
   {
    "duration": 77,
    "start_time": "2024-01-18T19:48:39.973Z"
   },
   {
    "duration": 79,
    "start_time": "2024-01-18T19:48:40.052Z"
   },
   {
    "duration": 137,
    "start_time": "2024-01-18T19:48:40.133Z"
   },
   {
    "duration": 55,
    "start_time": "2024-01-18T19:48:40.272Z"
   },
   {
    "duration": 54,
    "start_time": "2024-01-18T19:48:40.329Z"
   },
   {
    "duration": 19,
    "start_time": "2024-01-18T19:48:40.385Z"
   },
   {
    "duration": 122,
    "start_time": "2024-01-18T19:48:40.405Z"
   },
   {
    "duration": 132,
    "start_time": "2024-01-18T19:48:40.529Z"
   },
   {
    "duration": 152,
    "start_time": "2024-01-18T19:48:40.663Z"
   },
   {
    "duration": 43479,
    "start_time": "2024-01-18T19:48:40.817Z"
   },
   {
    "duration": 17394,
    "start_time": "2024-01-18T19:49:24.297Z"
   },
   {
    "duration": 297976,
    "start_time": "2024-01-18T19:49:41.693Z"
   },
   {
    "duration": 207,
    "start_time": "2024-01-18T19:54:39.671Z"
   }
  ],
  "kernelspec": {
   "display_name": "Python 3 (ipykernel)",
   "language": "python",
   "name": "python3"
  },
  "language_info": {
   "codemirror_mode": {
    "name": "ipython",
    "version": 3
   },
   "file_extension": ".py",
   "mimetype": "text/x-python",
   "name": "python",
   "nbconvert_exporter": "python",
   "pygments_lexer": "ipython3",
   "version": "3.12.1"
  },
  "toc": {
   "base_numbering": 1,
   "nav_menu": {},
   "number_sections": true,
   "sideBar": true,
   "skip_h1_title": true,
   "title_cell": "Table of Contents",
   "title_sidebar": "Contents",
   "toc_cell": false,
   "toc_position": {},
   "toc_section_display": true,
   "toc_window_display": false
  }
 },
 "nbformat": 4,
 "nbformat_minor": 4
}
