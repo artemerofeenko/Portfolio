{
 "cells": [
  {
   "cell_type": "markdown",
   "id": "e89e2605",
   "metadata": {
    "deletable": false,
    "editable": false,
    "id": "c81daeeb"
   },
   "source": [
    "# Исследование надежности заемщиков\n"
   ]
  },
  {
   "cell_type": "markdown",
   "id": "e5cbc812",
   "metadata": {
    "deletable": false,
    "editable": false,
    "id": "827c20bf"
   },
   "source": [
    "Во второй части проекта вы выполните шаги 3 и 4. Их вручную проверит ревьюер.\n",
    "Чтобы вам не пришлось писать код заново для шагов 1 и 2, мы добавили авторские решения в ячейки с кодом. \n",
    "\n"
   ]
  },
  {
   "cell_type": "markdown",
   "id": "657a39d7",
   "metadata": {
    "deletable": false,
    "editable": false,
    "id": "744d7639"
   },
   "source": [
    "## Откройте таблицу и изучите общую информацию о данных"
   ]
  },
  {
   "cell_type": "markdown",
   "id": "b01a8e97",
   "metadata": {
    "deletable": false,
    "editable": false,
    "id": "e7a14c31"
   },
   "source": [
    "**Задание 1. Импортируйте библиотеку pandas. Считайте данные из csv-файла в датафрейм и сохраните в переменную `data`. Путь к файлу:**\n",
    "\n",
    "`/datasets/data.csv`"
   ]
  },
  {
   "cell_type": "code",
   "execution_count": 1,
   "id": "a3fce552",
   "metadata": {
    "deletable": false,
    "id": "7bcf75c9"
   },
   "outputs": [],
   "source": [
    "import pandas as pd\n",
    "\n",
    "try:\n",
    "    data = pd.read_csv('/datasets/data.csv')\n",
    "except:\n",
    "    data = pd.read_csv('https://code.s3.yandex.net/datasets/data.csv')"
   ]
  },
  {
   "cell_type": "markdown",
   "id": "d339e524",
   "metadata": {
    "deletable": false,
    "editable": false,
    "id": "b8038fe3"
   },
   "source": [
    "**Задание 2. Выведите первые 20 строчек датафрейма `data` на экран.**"
   ]
  },
  {
   "cell_type": "code",
   "execution_count": 2,
   "id": "3e73bbd8",
   "metadata": {
    "deletable": false,
    "id": "2a7cab99",
    "outputId": "1a8f3ef2-d323-4ec2-ddf7-89670b5944c4"
   },
   "outputs": [
    {
     "data": {
      "text/html": [
       "<div>\n",
       "<style scoped>\n",
       "    .dataframe tbody tr th:only-of-type {\n",
       "        vertical-align: middle;\n",
       "    }\n",
       "\n",
       "    .dataframe tbody tr th {\n",
       "        vertical-align: top;\n",
       "    }\n",
       "\n",
       "    .dataframe thead th {\n",
       "        text-align: right;\n",
       "    }\n",
       "</style>\n",
       "<table border=\"1\" class=\"dataframe\">\n",
       "  <thead>\n",
       "    <tr style=\"text-align: right;\">\n",
       "      <th></th>\n",
       "      <th>children</th>\n",
       "      <th>days_employed</th>\n",
       "      <th>dob_years</th>\n",
       "      <th>education</th>\n",
       "      <th>education_id</th>\n",
       "      <th>family_status</th>\n",
       "      <th>family_status_id</th>\n",
       "      <th>gender</th>\n",
       "      <th>income_type</th>\n",
       "      <th>debt</th>\n",
       "      <th>total_income</th>\n",
       "      <th>purpose</th>\n",
       "    </tr>\n",
       "  </thead>\n",
       "  <tbody>\n",
       "    <tr>\n",
       "      <th>0</th>\n",
       "      <td>1</td>\n",
       "      <td>-8437.673028</td>\n",
       "      <td>42</td>\n",
       "      <td>высшее</td>\n",
       "      <td>0</td>\n",
       "      <td>женат / замужем</td>\n",
       "      <td>0</td>\n",
       "      <td>F</td>\n",
       "      <td>сотрудник</td>\n",
       "      <td>0</td>\n",
       "      <td>253875.639453</td>\n",
       "      <td>покупка жилья</td>\n",
       "    </tr>\n",
       "    <tr>\n",
       "      <th>1</th>\n",
       "      <td>1</td>\n",
       "      <td>-4024.803754</td>\n",
       "      <td>36</td>\n",
       "      <td>среднее</td>\n",
       "      <td>1</td>\n",
       "      <td>женат / замужем</td>\n",
       "      <td>0</td>\n",
       "      <td>F</td>\n",
       "      <td>сотрудник</td>\n",
       "      <td>0</td>\n",
       "      <td>112080.014102</td>\n",
       "      <td>приобретение автомобиля</td>\n",
       "    </tr>\n",
       "    <tr>\n",
       "      <th>2</th>\n",
       "      <td>0</td>\n",
       "      <td>-5623.422610</td>\n",
       "      <td>33</td>\n",
       "      <td>Среднее</td>\n",
       "      <td>1</td>\n",
       "      <td>женат / замужем</td>\n",
       "      <td>0</td>\n",
       "      <td>M</td>\n",
       "      <td>сотрудник</td>\n",
       "      <td>0</td>\n",
       "      <td>145885.952297</td>\n",
       "      <td>покупка жилья</td>\n",
       "    </tr>\n",
       "    <tr>\n",
       "      <th>3</th>\n",
       "      <td>3</td>\n",
       "      <td>-4124.747207</td>\n",
       "      <td>32</td>\n",
       "      <td>среднее</td>\n",
       "      <td>1</td>\n",
       "      <td>женат / замужем</td>\n",
       "      <td>0</td>\n",
       "      <td>M</td>\n",
       "      <td>сотрудник</td>\n",
       "      <td>0</td>\n",
       "      <td>267628.550329</td>\n",
       "      <td>дополнительное образование</td>\n",
       "    </tr>\n",
       "    <tr>\n",
       "      <th>4</th>\n",
       "      <td>0</td>\n",
       "      <td>340266.072047</td>\n",
       "      <td>53</td>\n",
       "      <td>среднее</td>\n",
       "      <td>1</td>\n",
       "      <td>гражданский брак</td>\n",
       "      <td>1</td>\n",
       "      <td>F</td>\n",
       "      <td>пенсионер</td>\n",
       "      <td>0</td>\n",
       "      <td>158616.077870</td>\n",
       "      <td>сыграть свадьбу</td>\n",
       "    </tr>\n",
       "    <tr>\n",
       "      <th>5</th>\n",
       "      <td>0</td>\n",
       "      <td>-926.185831</td>\n",
       "      <td>27</td>\n",
       "      <td>высшее</td>\n",
       "      <td>0</td>\n",
       "      <td>гражданский брак</td>\n",
       "      <td>1</td>\n",
       "      <td>M</td>\n",
       "      <td>компаньон</td>\n",
       "      <td>0</td>\n",
       "      <td>255763.565419</td>\n",
       "      <td>покупка жилья</td>\n",
       "    </tr>\n",
       "    <tr>\n",
       "      <th>6</th>\n",
       "      <td>0</td>\n",
       "      <td>-2879.202052</td>\n",
       "      <td>43</td>\n",
       "      <td>высшее</td>\n",
       "      <td>0</td>\n",
       "      <td>женат / замужем</td>\n",
       "      <td>0</td>\n",
       "      <td>F</td>\n",
       "      <td>компаньон</td>\n",
       "      <td>0</td>\n",
       "      <td>240525.971920</td>\n",
       "      <td>операции с жильем</td>\n",
       "    </tr>\n",
       "    <tr>\n",
       "      <th>7</th>\n",
       "      <td>0</td>\n",
       "      <td>-152.779569</td>\n",
       "      <td>50</td>\n",
       "      <td>СРЕДНЕЕ</td>\n",
       "      <td>1</td>\n",
       "      <td>женат / замужем</td>\n",
       "      <td>0</td>\n",
       "      <td>M</td>\n",
       "      <td>сотрудник</td>\n",
       "      <td>0</td>\n",
       "      <td>135823.934197</td>\n",
       "      <td>образование</td>\n",
       "    </tr>\n",
       "    <tr>\n",
       "      <th>8</th>\n",
       "      <td>2</td>\n",
       "      <td>-6929.865299</td>\n",
       "      <td>35</td>\n",
       "      <td>ВЫСШЕЕ</td>\n",
       "      <td>0</td>\n",
       "      <td>гражданский брак</td>\n",
       "      <td>1</td>\n",
       "      <td>F</td>\n",
       "      <td>сотрудник</td>\n",
       "      <td>0</td>\n",
       "      <td>95856.832424</td>\n",
       "      <td>на проведение свадьбы</td>\n",
       "    </tr>\n",
       "    <tr>\n",
       "      <th>9</th>\n",
       "      <td>0</td>\n",
       "      <td>-2188.756445</td>\n",
       "      <td>41</td>\n",
       "      <td>среднее</td>\n",
       "      <td>1</td>\n",
       "      <td>женат / замужем</td>\n",
       "      <td>0</td>\n",
       "      <td>M</td>\n",
       "      <td>сотрудник</td>\n",
       "      <td>0</td>\n",
       "      <td>144425.938277</td>\n",
       "      <td>покупка жилья для семьи</td>\n",
       "    </tr>\n",
       "    <tr>\n",
       "      <th>10</th>\n",
       "      <td>2</td>\n",
       "      <td>-4171.483647</td>\n",
       "      <td>36</td>\n",
       "      <td>высшее</td>\n",
       "      <td>0</td>\n",
       "      <td>женат / замужем</td>\n",
       "      <td>0</td>\n",
       "      <td>M</td>\n",
       "      <td>компаньон</td>\n",
       "      <td>0</td>\n",
       "      <td>113943.491460</td>\n",
       "      <td>покупка недвижимости</td>\n",
       "    </tr>\n",
       "    <tr>\n",
       "      <th>11</th>\n",
       "      <td>0</td>\n",
       "      <td>-792.701887</td>\n",
       "      <td>40</td>\n",
       "      <td>среднее</td>\n",
       "      <td>1</td>\n",
       "      <td>женат / замужем</td>\n",
       "      <td>0</td>\n",
       "      <td>F</td>\n",
       "      <td>сотрудник</td>\n",
       "      <td>0</td>\n",
       "      <td>77069.234271</td>\n",
       "      <td>покупка коммерческой недвижимости</td>\n",
       "    </tr>\n",
       "    <tr>\n",
       "      <th>12</th>\n",
       "      <td>0</td>\n",
       "      <td>NaN</td>\n",
       "      <td>65</td>\n",
       "      <td>среднее</td>\n",
       "      <td>1</td>\n",
       "      <td>гражданский брак</td>\n",
       "      <td>1</td>\n",
       "      <td>M</td>\n",
       "      <td>пенсионер</td>\n",
       "      <td>0</td>\n",
       "      <td>NaN</td>\n",
       "      <td>сыграть свадьбу</td>\n",
       "    </tr>\n",
       "    <tr>\n",
       "      <th>13</th>\n",
       "      <td>0</td>\n",
       "      <td>-1846.641941</td>\n",
       "      <td>54</td>\n",
       "      <td>неоконченное высшее</td>\n",
       "      <td>2</td>\n",
       "      <td>женат / замужем</td>\n",
       "      <td>0</td>\n",
       "      <td>F</td>\n",
       "      <td>сотрудник</td>\n",
       "      <td>0</td>\n",
       "      <td>130458.228857</td>\n",
       "      <td>приобретение автомобиля</td>\n",
       "    </tr>\n",
       "    <tr>\n",
       "      <th>14</th>\n",
       "      <td>0</td>\n",
       "      <td>-1844.956182</td>\n",
       "      <td>56</td>\n",
       "      <td>высшее</td>\n",
       "      <td>0</td>\n",
       "      <td>гражданский брак</td>\n",
       "      <td>1</td>\n",
       "      <td>F</td>\n",
       "      <td>компаньон</td>\n",
       "      <td>1</td>\n",
       "      <td>165127.911772</td>\n",
       "      <td>покупка жилой недвижимости</td>\n",
       "    </tr>\n",
       "    <tr>\n",
       "      <th>15</th>\n",
       "      <td>1</td>\n",
       "      <td>-972.364419</td>\n",
       "      <td>26</td>\n",
       "      <td>среднее</td>\n",
       "      <td>1</td>\n",
       "      <td>женат / замужем</td>\n",
       "      <td>0</td>\n",
       "      <td>F</td>\n",
       "      <td>сотрудник</td>\n",
       "      <td>0</td>\n",
       "      <td>116820.904450</td>\n",
       "      <td>строительство собственной недвижимости</td>\n",
       "    </tr>\n",
       "    <tr>\n",
       "      <th>16</th>\n",
       "      <td>0</td>\n",
       "      <td>-1719.934226</td>\n",
       "      <td>35</td>\n",
       "      <td>среднее</td>\n",
       "      <td>1</td>\n",
       "      <td>женат / замужем</td>\n",
       "      <td>0</td>\n",
       "      <td>F</td>\n",
       "      <td>сотрудник</td>\n",
       "      <td>0</td>\n",
       "      <td>289202.704229</td>\n",
       "      <td>недвижимость</td>\n",
       "    </tr>\n",
       "    <tr>\n",
       "      <th>17</th>\n",
       "      <td>0</td>\n",
       "      <td>-2369.999720</td>\n",
       "      <td>33</td>\n",
       "      <td>высшее</td>\n",
       "      <td>0</td>\n",
       "      <td>гражданский брак</td>\n",
       "      <td>1</td>\n",
       "      <td>M</td>\n",
       "      <td>сотрудник</td>\n",
       "      <td>0</td>\n",
       "      <td>90410.586745</td>\n",
       "      <td>строительство недвижимости</td>\n",
       "    </tr>\n",
       "    <tr>\n",
       "      <th>18</th>\n",
       "      <td>0</td>\n",
       "      <td>400281.136913</td>\n",
       "      <td>53</td>\n",
       "      <td>среднее</td>\n",
       "      <td>1</td>\n",
       "      <td>вдовец / вдова</td>\n",
       "      <td>2</td>\n",
       "      <td>F</td>\n",
       "      <td>пенсионер</td>\n",
       "      <td>0</td>\n",
       "      <td>56823.777243</td>\n",
       "      <td>на покупку подержанного автомобиля</td>\n",
       "    </tr>\n",
       "    <tr>\n",
       "      <th>19</th>\n",
       "      <td>0</td>\n",
       "      <td>-10038.818549</td>\n",
       "      <td>48</td>\n",
       "      <td>СРЕДНЕЕ</td>\n",
       "      <td>1</td>\n",
       "      <td>в разводе</td>\n",
       "      <td>3</td>\n",
       "      <td>F</td>\n",
       "      <td>сотрудник</td>\n",
       "      <td>0</td>\n",
       "      <td>242831.107982</td>\n",
       "      <td>на покупку своего автомобиля</td>\n",
       "    </tr>\n",
       "  </tbody>\n",
       "</table>\n",
       "</div>"
      ],
      "text/plain": [
       "    children  days_employed  dob_years            education  education_id  \\\n",
       "0          1   -8437.673028         42               высшее             0   \n",
       "1          1   -4024.803754         36              среднее             1   \n",
       "2          0   -5623.422610         33              Среднее             1   \n",
       "3          3   -4124.747207         32              среднее             1   \n",
       "4          0  340266.072047         53              среднее             1   \n",
       "5          0    -926.185831         27               высшее             0   \n",
       "6          0   -2879.202052         43               высшее             0   \n",
       "7          0    -152.779569         50              СРЕДНЕЕ             1   \n",
       "8          2   -6929.865299         35               ВЫСШЕЕ             0   \n",
       "9          0   -2188.756445         41              среднее             1   \n",
       "10         2   -4171.483647         36               высшее             0   \n",
       "11         0    -792.701887         40              среднее             1   \n",
       "12         0            NaN         65              среднее             1   \n",
       "13         0   -1846.641941         54  неоконченное высшее             2   \n",
       "14         0   -1844.956182         56               высшее             0   \n",
       "15         1    -972.364419         26              среднее             1   \n",
       "16         0   -1719.934226         35              среднее             1   \n",
       "17         0   -2369.999720         33               высшее             0   \n",
       "18         0  400281.136913         53              среднее             1   \n",
       "19         0  -10038.818549         48              СРЕДНЕЕ             1   \n",
       "\n",
       "       family_status  family_status_id gender income_type  debt  \\\n",
       "0    женат / замужем                 0      F   сотрудник     0   \n",
       "1    женат / замужем                 0      F   сотрудник     0   \n",
       "2    женат / замужем                 0      M   сотрудник     0   \n",
       "3    женат / замужем                 0      M   сотрудник     0   \n",
       "4   гражданский брак                 1      F   пенсионер     0   \n",
       "5   гражданский брак                 1      M   компаньон     0   \n",
       "6    женат / замужем                 0      F   компаньон     0   \n",
       "7    женат / замужем                 0      M   сотрудник     0   \n",
       "8   гражданский брак                 1      F   сотрудник     0   \n",
       "9    женат / замужем                 0      M   сотрудник     0   \n",
       "10   женат / замужем                 0      M   компаньон     0   \n",
       "11   женат / замужем                 0      F   сотрудник     0   \n",
       "12  гражданский брак                 1      M   пенсионер     0   \n",
       "13   женат / замужем                 0      F   сотрудник     0   \n",
       "14  гражданский брак                 1      F   компаньон     1   \n",
       "15   женат / замужем                 0      F   сотрудник     0   \n",
       "16   женат / замужем                 0      F   сотрудник     0   \n",
       "17  гражданский брак                 1      M   сотрудник     0   \n",
       "18    вдовец / вдова                 2      F   пенсионер     0   \n",
       "19         в разводе                 3      F   сотрудник     0   \n",
       "\n",
       "     total_income                                 purpose  \n",
       "0   253875.639453                           покупка жилья  \n",
       "1   112080.014102                 приобретение автомобиля  \n",
       "2   145885.952297                           покупка жилья  \n",
       "3   267628.550329              дополнительное образование  \n",
       "4   158616.077870                         сыграть свадьбу  \n",
       "5   255763.565419                           покупка жилья  \n",
       "6   240525.971920                       операции с жильем  \n",
       "7   135823.934197                             образование  \n",
       "8    95856.832424                   на проведение свадьбы  \n",
       "9   144425.938277                 покупка жилья для семьи  \n",
       "10  113943.491460                    покупка недвижимости  \n",
       "11   77069.234271       покупка коммерческой недвижимости  \n",
       "12            NaN                         сыграть свадьбу  \n",
       "13  130458.228857                 приобретение автомобиля  \n",
       "14  165127.911772              покупка жилой недвижимости  \n",
       "15  116820.904450  строительство собственной недвижимости  \n",
       "16  289202.704229                            недвижимость  \n",
       "17   90410.586745              строительство недвижимости  \n",
       "18   56823.777243      на покупку подержанного автомобиля  \n",
       "19  242831.107982            на покупку своего автомобиля  "
      ]
     },
     "execution_count": 2,
     "metadata": {},
     "output_type": "execute_result"
    }
   ],
   "source": [
    "data.head(20)"
   ]
  },
  {
   "cell_type": "markdown",
   "id": "95c237df",
   "metadata": {
    "deletable": false,
    "editable": false,
    "id": "1c12e233"
   },
   "source": [
    "**Задание 3. Выведите основную информацию о датафрейме с помощью метода `info()`.**"
   ]
  },
  {
   "cell_type": "code",
   "execution_count": 3,
   "id": "2a3cd1b5",
   "metadata": {
    "deletable": false,
    "id": "2b757bca",
    "outputId": "15376089-8dad-46c9-b520-c05248d43158"
   },
   "outputs": [
    {
     "name": "stdout",
     "output_type": "stream",
     "text": [
      "<class 'pandas.core.frame.DataFrame'>\n",
      "RangeIndex: 21525 entries, 0 to 21524\n",
      "Data columns (total 12 columns):\n",
      " #   Column            Non-Null Count  Dtype  \n",
      "---  ------            --------------  -----  \n",
      " 0   children          21525 non-null  int64  \n",
      " 1   days_employed     19351 non-null  float64\n",
      " 2   dob_years         21525 non-null  int64  \n",
      " 3   education         21525 non-null  object \n",
      " 4   education_id      21525 non-null  int64  \n",
      " 5   family_status     21525 non-null  object \n",
      " 6   family_status_id  21525 non-null  int64  \n",
      " 7   gender            21525 non-null  object \n",
      " 8   income_type       21525 non-null  object \n",
      " 9   debt              21525 non-null  int64  \n",
      " 10  total_income      19351 non-null  float64\n",
      " 11  purpose           21525 non-null  object \n",
      "dtypes: float64(2), int64(5), object(5)\n",
      "memory usage: 2.0+ MB\n"
     ]
    }
   ],
   "source": [
    "data.info()"
   ]
  },
  {
   "cell_type": "markdown",
   "id": "6a3f2f9f",
   "metadata": {
    "deletable": false,
    "editable": false,
    "id": "333ec665"
   },
   "source": [
    "## Предобработка данных"
   ]
  },
  {
   "cell_type": "markdown",
   "id": "c5549676",
   "metadata": {
    "deletable": false,
    "editable": false,
    "id": "02d92d53"
   },
   "source": [
    "### Удаление пропусков"
   ]
  },
  {
   "cell_type": "markdown",
   "id": "9207a0a8",
   "metadata": {
    "deletable": false,
    "editable": false,
    "id": "cd84967c"
   },
   "source": [
    "**Задание 4. Выведите количество пропущенных значений для каждого столбца. Используйте комбинацию двух методов.**"
   ]
  },
  {
   "cell_type": "code",
   "execution_count": 4,
   "id": "af9abc3d",
   "metadata": {
    "deletable": false,
    "id": "7f9b2309",
    "outputId": "81f4d817-781c-465c-ed15-91ce4446810d"
   },
   "outputs": [
    {
     "data": {
      "text/plain": [
       "children               0\n",
       "days_employed       2174\n",
       "dob_years              0\n",
       "education              0\n",
       "education_id           0\n",
       "family_status          0\n",
       "family_status_id       0\n",
       "gender                 0\n",
       "income_type            0\n",
       "debt                   0\n",
       "total_income        2174\n",
       "purpose                0\n",
       "dtype: int64"
      ]
     },
     "execution_count": 4,
     "metadata": {},
     "output_type": "execute_result"
    }
   ],
   "source": [
    "data.isna().sum()"
   ]
  },
  {
   "cell_type": "markdown",
   "id": "0fe1c56c",
   "metadata": {
    "deletable": false,
    "editable": false,
    "id": "db86e27b"
   },
   "source": [
    "**Задание 5. В двух столбцах есть пропущенные значения. Один из них — `days_employed`. Пропуски в этом столбце вы обработаете на следующем этапе. Другой столбец с пропущенными значениями — `total_income` — хранит данные о доходах. На сумму дохода сильнее всего влияет тип занятости, поэтому заполнить пропуски в этом столбце нужно медианным значением по каждому типу из столбца `income_type`. Например, у человека с типом занятости `сотрудник` пропуск в столбце `total_income` должен быть заполнен медианным доходом среди всех записей с тем же типом.**"
   ]
  },
  {
   "cell_type": "code",
   "execution_count": 5,
   "id": "255719b2",
   "metadata": {
    "deletable": false,
    "id": "42006a93"
   },
   "outputs": [],
   "source": [
    "for t in data['income_type'].unique():\n",
    "    data.loc[(data['income_type'] == t) & (data['total_income'].isna()), 'total_income'] = \\\n",
    "    data.loc[(data['income_type'] == t), 'total_income'].median()"
   ]
  },
  {
   "cell_type": "markdown",
   "id": "14861638",
   "metadata": {
    "deletable": false,
    "editable": false,
    "id": "89da5ece"
   },
   "source": [
    "### Обработка аномальных значений"
   ]
  },
  {
   "cell_type": "markdown",
   "id": "2f87ffef",
   "metadata": {
    "deletable": false,
    "editable": false,
    "id": "57964554"
   },
   "source": [
    "**Задание 6. В данных могут встречаться артефакты (аномалии) — значения, которые не отражают действительность и появились по какой-то ошибке. таким артефактом будет отрицательное количество дней трудового стажа в столбце `days_employed`. Для реальных данных это нормально. Обработайте значения в этом столбце: замените все отрицательные значения положительными с помощью метода `abs()`.**"
   ]
  },
  {
   "cell_type": "code",
   "execution_count": 6,
   "id": "685c8e71",
   "metadata": {
    "deletable": false,
    "id": "f6f055bf"
   },
   "outputs": [],
   "source": [
    "data['days_employed'] = data['days_employed'].abs()"
   ]
  },
  {
   "cell_type": "markdown",
   "id": "d687a913",
   "metadata": {
    "deletable": false,
    "editable": false,
    "id": "6107dd2f"
   },
   "source": [
    "**Задание 7. Для каждого типа занятости выведите медианное значение трудового стажа `days_employed` в днях.**"
   ]
  },
  {
   "cell_type": "code",
   "execution_count": 7,
   "id": "93705311",
   "metadata": {
    "deletable": false,
    "id": "85a5faf6",
    "outputId": "801ef80e-522b-4668-f34e-565af7432bcf"
   },
   "outputs": [
    {
     "data": {
      "text/plain": [
       "income_type\n",
       "безработный        366413.652744\n",
       "в декрете            3296.759962\n",
       "госслужащий          2689.368353\n",
       "компаньон            1547.382223\n",
       "пенсионер          365213.306266\n",
       "предприниматель       520.848083\n",
       "сотрудник            1574.202821\n",
       "студент               578.751554\n",
       "Name: days_employed, dtype: float64"
      ]
     },
     "execution_count": 7,
     "metadata": {},
     "output_type": "execute_result"
    }
   ],
   "source": [
    "data.groupby('income_type')['days_employed'].agg('median')"
   ]
  },
  {
   "cell_type": "markdown",
   "id": "db89a5e2",
   "metadata": {
    "deletable": false,
    "editable": false,
    "id": "38d1a030"
   },
   "source": [
    "У двух типов (безработные и пенсионеры) получатся аномально большие значения. Исправить такие значения сложно, поэтому оставьте их как есть. Тем более этот столбец не понадобится вам для исследования."
   ]
  },
  {
   "cell_type": "markdown",
   "id": "4a2f056f",
   "metadata": {
    "deletable": false,
    "editable": false,
    "id": "d8a9f147"
   },
   "source": [
    "**Задание 8. Выведите перечень уникальных значений столбца `children`.**"
   ]
  },
  {
   "cell_type": "code",
   "execution_count": 8,
   "id": "53bb0b99",
   "metadata": {
    "deletable": false,
    "id": "ef5056eb",
    "outputId": "6975b15c-7f95-4697-d16d-a0c79b657b03"
   },
   "outputs": [
    {
     "data": {
      "text/plain": [
       "array([ 1,  0,  3,  2, -1,  4, 20,  5])"
      ]
     },
     "execution_count": 8,
     "metadata": {},
     "output_type": "execute_result"
    }
   ],
   "source": [
    "data['children'].unique()"
   ]
  },
  {
   "cell_type": "markdown",
   "id": "0218475e",
   "metadata": {
    "deletable": false,
    "editable": false,
    "id": "40b9ebf2"
   },
   "source": [
    "**Задание 9. В столбце `children` есть два аномальных значения. Удалите строки, в которых встречаются такие аномальные значения из датафрейма `data`.**"
   ]
  },
  {
   "cell_type": "code",
   "execution_count": 9,
   "id": "fbbb3aa4",
   "metadata": {
    "deletable": false,
    "id": "3ff9801d"
   },
   "outputs": [],
   "source": [
    "data = data[(data['children'] != -1) & (data['children'] != 20)]"
   ]
  },
  {
   "cell_type": "markdown",
   "id": "945e8cf6",
   "metadata": {
    "deletable": false,
    "editable": false,
    "id": "bbc4d0ce"
   },
   "source": [
    "**Задание 10. Ещё раз выведите перечень уникальных значений столбца `children`, чтобы убедиться, что артефакты удалены.**"
   ]
  },
  {
   "cell_type": "code",
   "execution_count": 10,
   "id": "817e194a",
   "metadata": {
    "deletable": false,
    "id": "ad4fa8b7",
    "outputId": "b2097101-d49d-44d9-901b-32a65c9463d1"
   },
   "outputs": [
    {
     "data": {
      "text/plain": [
       "array([1, 0, 3, 2, 4, 5])"
      ]
     },
     "execution_count": 10,
     "metadata": {},
     "output_type": "execute_result"
    }
   ],
   "source": [
    "data['children'].unique()"
   ]
  },
  {
   "cell_type": "markdown",
   "id": "1e9b8498",
   "metadata": {
    "deletable": false,
    "editable": false,
    "id": "75440b63"
   },
   "source": [
    "### Удаление пропусков (продолжение)"
   ]
  },
  {
   "cell_type": "markdown",
   "id": "75adbd77",
   "metadata": {
    "deletable": false,
    "editable": false,
    "id": "f4ea573f"
   },
   "source": [
    "**Задание 11. Заполните пропуски в столбце `days_employed` медианными значениями по каждого типа занятости `income_type`.**"
   ]
  },
  {
   "cell_type": "code",
   "execution_count": 11,
   "id": "5177d6bb",
   "metadata": {
    "deletable": false,
    "id": "af6b1a7e"
   },
   "outputs": [],
   "source": [
    "for t in data['income_type'].unique():\n",
    "    data.loc[(data['income_type'] == t) & (data['days_employed'].isna()), 'days_employed'] = \\\n",
    "    data.loc[(data['income_type'] == t), 'days_employed'].median()"
   ]
  },
  {
   "cell_type": "markdown",
   "id": "77ad2afa",
   "metadata": {
    "deletable": false,
    "editable": false,
    "id": "2753f40d"
   },
   "source": [
    "**Задание 12. Убедитесь, что все пропуски заполнены. Проверьте себя и ещё раз выведите количество пропущенных значений для каждого столбца с помощью двух методов.**"
   ]
  },
  {
   "cell_type": "code",
   "execution_count": 12,
   "id": "e132c749",
   "metadata": {
    "deletable": false,
    "id": "55f78bc2",
    "outputId": "8da1e4e1-358e-4e87-98c9-f261bce0a7b2"
   },
   "outputs": [
    {
     "data": {
      "text/plain": [
       "children            0\n",
       "days_employed       0\n",
       "dob_years           0\n",
       "education           0\n",
       "education_id        0\n",
       "family_status       0\n",
       "family_status_id    0\n",
       "gender              0\n",
       "income_type         0\n",
       "debt                0\n",
       "total_income        0\n",
       "purpose             0\n",
       "dtype: int64"
      ]
     },
     "execution_count": 12,
     "metadata": {},
     "output_type": "execute_result"
    }
   ],
   "source": [
    "data.isna().sum()"
   ]
  },
  {
   "cell_type": "markdown",
   "id": "f73a9a51",
   "metadata": {
    "deletable": false,
    "editable": false,
    "id": "ddc81e43"
   },
   "source": [
    "### Изменение типов данных"
   ]
  },
  {
   "cell_type": "markdown",
   "id": "0e379b7e",
   "metadata": {
    "deletable": false,
    "editable": false,
    "id": "42d19d24"
   },
   "source": [
    "**Задание 13. Замените вещественный тип данных в столбце `total_income` на целочисленный с помощью метода `astype()`.**"
   ]
  },
  {
   "cell_type": "code",
   "execution_count": 13,
   "id": "acfdbf52",
   "metadata": {
    "deletable": false,
    "id": "920b65ad"
   },
   "outputs": [],
   "source": [
    "data['total_income'] = data['total_income'].astype(int)"
   ]
  },
  {
   "cell_type": "markdown",
   "id": "32bc50d1",
   "metadata": {
    "deletable": false,
    "editable": false,
    "id": "80c420ba"
   },
   "source": [
    "### Обработка дубликатов"
   ]
  },
  {
   "cell_type": "markdown",
   "id": "781ca98e",
   "metadata": {
    "deletable": false,
    "editable": false
   },
   "source": [
    "**Задание 14. Обработайте неявные дубликаты в столбце `education`. В этом столбце есть одни и те же значения, но записанные по-разному: с использованием заглавных и строчных букв. Приведите их к нижнему регистру. Проверьте остальные столбцы.**"
   ]
  },
  {
   "cell_type": "code",
   "execution_count": 14,
   "id": "15c90cae",
   "metadata": {
    "deletable": false
   },
   "outputs": [],
   "source": [
    "data['education'] = data['education'].str.lower()"
   ]
  },
  {
   "cell_type": "markdown",
   "id": "a5e0f463",
   "metadata": {
    "deletable": false,
    "editable": false,
    "id": "dc587695"
   },
   "source": [
    "**Задание 15. Выведите на экран количество строк-дубликатов в данных. Если такие строки присутствуют, удалите их.**"
   ]
  },
  {
   "cell_type": "code",
   "execution_count": 15,
   "id": "e1a3cf14",
   "metadata": {
    "deletable": false,
    "id": "3ee445e4",
    "outputId": "9684deba-1934-42d1-99e1-cda61740f822"
   },
   "outputs": [
    {
     "data": {
      "text/plain": [
       "71"
      ]
     },
     "execution_count": 15,
     "metadata": {},
     "output_type": "execute_result"
    }
   ],
   "source": [
    "data.duplicated().sum()"
   ]
  },
  {
   "cell_type": "code",
   "execution_count": 16,
   "id": "a953b8b3",
   "metadata": {
    "deletable": false,
    "id": "8575fe05"
   },
   "outputs": [],
   "source": [
    "data = data.drop_duplicates()"
   ]
  },
  {
   "cell_type": "markdown",
   "id": "95bd20dc",
   "metadata": {
    "deletable": false,
    "editable": false,
    "id": "9904cf55"
   },
   "source": [
    "### Категоризация данных"
   ]
  },
  {
   "cell_type": "markdown",
   "id": "4e3eef7c",
   "metadata": {
    "deletable": false,
    "editable": false,
    "id": "72fcc8a2"
   },
   "source": [
    "**Задание 16. На основании диапазонов, указанных ниже, создайте в датафрейме `data` столбец `total_income_category` с категориями:**\n",
    "\n",
    "- 0–30000 — `'E'`;\n",
    "- 30001–50000 — `'D'`;\n",
    "- 50001–200000 — `'C'`;\n",
    "- 200001–1000000 — `'B'`;\n",
    "- 1000001 и выше — `'A'`.\n",
    "\n",
    "\n",
    "**Например, кредитополучателю с доходом 25000 нужно назначить категорию `'E'`, а клиенту, получающему 235000, — `'B'`. Используйте собственную функцию с именем `categorize_income()` и метод `apply()`.**"
   ]
  },
  {
   "cell_type": "code",
   "execution_count": 17,
   "id": "4589d359",
   "metadata": {
    "deletable": false,
    "id": "e1771346"
   },
   "outputs": [],
   "source": [
    "def categorize_income(income):\n",
    "    try:\n",
    "        if 0 <= income <= 30000:\n",
    "            return 'E'\n",
    "        elif 30001 <= income <= 50000:\n",
    "            return 'D'\n",
    "        elif 50001 <= income <= 200000:\n",
    "            return 'C'\n",
    "        elif 200001 <= income <= 1000000:\n",
    "            return 'B'\n",
    "        elif income >= 1000001:\n",
    "            return 'A'\n",
    "    except:\n",
    "        pass"
   ]
  },
  {
   "cell_type": "code",
   "execution_count": 18,
   "id": "9481a819",
   "metadata": {
    "deletable": false,
    "id": "d5f3586d"
   },
   "outputs": [],
   "source": [
    "data['total_income_category'] = data['total_income'].apply(categorize_income)"
   ]
  },
  {
   "cell_type": "markdown",
   "id": "81fa9b1b",
   "metadata": {
    "deletable": false,
    "editable": false,
    "id": "dde49b5c"
   },
   "source": [
    "**Задание 17. Выведите на экран перечень уникальных целей взятия кредита из столбца `purpose`.**"
   ]
  },
  {
   "cell_type": "code",
   "execution_count": 19,
   "id": "4cd3cdee",
   "metadata": {
    "deletable": false,
    "id": "f67ce9b3",
    "outputId": "673c12d9-7d7e-4ae0-9812-c622c89dd244"
   },
   "outputs": [
    {
     "data": {
      "text/plain": [
       "array(['покупка жилья', 'приобретение автомобиля',\n",
       "       'дополнительное образование', 'сыграть свадьбу',\n",
       "       'операции с жильем', 'образование', 'на проведение свадьбы',\n",
       "       'покупка жилья для семьи', 'покупка недвижимости',\n",
       "       'покупка коммерческой недвижимости', 'покупка жилой недвижимости',\n",
       "       'строительство собственной недвижимости', 'недвижимость',\n",
       "       'строительство недвижимости', 'на покупку подержанного автомобиля',\n",
       "       'на покупку своего автомобиля',\n",
       "       'операции с коммерческой недвижимостью',\n",
       "       'строительство жилой недвижимости', 'жилье',\n",
       "       'операции со своей недвижимостью', 'автомобили',\n",
       "       'заняться образованием', 'сделка с подержанным автомобилем',\n",
       "       'получение образования', 'автомобиль', 'свадьба',\n",
       "       'получение дополнительного образования', 'покупка своего жилья',\n",
       "       'операции с недвижимостью', 'получение высшего образования',\n",
       "       'свой автомобиль', 'сделка с автомобилем',\n",
       "       'профильное образование', 'высшее образование',\n",
       "       'покупка жилья для сдачи', 'на покупку автомобиля', 'ремонт жилью',\n",
       "       'заняться высшим образованием'], dtype=object)"
      ]
     },
     "execution_count": 19,
     "metadata": {},
     "output_type": "execute_result"
    }
   ],
   "source": [
    "data['purpose'].unique()"
   ]
  },
  {
   "cell_type": "markdown",
   "id": "8114815f",
   "metadata": {
    "deletable": false,
    "editable": false,
    "id": "85d0aef0"
   },
   "source": [
    "**Задание 18. Создайте функцию, которая на основании данных из столбца `purpose` сформирует новый столбец `purpose_category`, в который войдут следующие категории:**\n",
    "\n",
    "- `'операции с автомобилем'`,\n",
    "- `'операции с недвижимостью'`,\n",
    "- `'проведение свадьбы'`,\n",
    "- `'получение образования'`.\n",
    "\n",
    "**Например, если в столбце `purpose` находится подстрока `'на покупку автомобиля'`, то в столбце `purpose_category` должна появиться строка `'операции с автомобилем'`.**\n",
    "\n",
    "**Используйте собственную функцию с именем `categorize_purpose()` и метод `apply()`. Изучите данные в столбце `purpose` и определите, какие подстроки помогут вам правильно определить категорию.**"
   ]
  },
  {
   "cell_type": "code",
   "execution_count": 20,
   "id": "03539da3",
   "metadata": {
    "deletable": false,
    "id": "e149fab4"
   },
   "outputs": [],
   "source": [
    "def categorize_purpose(row):\n",
    "    try:\n",
    "        if 'автом' in row:\n",
    "            return 'операции с автомобилем'\n",
    "        elif 'жил' in row or 'недвиж' in row:\n",
    "            return 'операции с недвижимостью'\n",
    "        elif 'свад' in row:\n",
    "            return 'проведение свадьбы'\n",
    "        elif 'образов' in row:\n",
    "            return 'получение образования'\n",
    "    except:\n",
    "        return 'нет категории'"
   ]
  },
  {
   "cell_type": "code",
   "execution_count": 21,
   "id": "39162dc8",
   "metadata": {
    "deletable": false,
    "id": "bf36e69b"
   },
   "outputs": [],
   "source": [
    "data['purpose_category'] = data['purpose'].apply(categorize_purpose)"
   ]
  },
  {
   "cell_type": "markdown",
   "id": "1a4cb0cc",
   "metadata": {
    "deletable": false,
    "editable": false,
    "id": "09b242bf"
   },
   "source": [
    "### Шаг 3. Исследуйте данные и ответьте на вопросы"
   ]
  },
  {
   "cell_type": "markdown",
   "id": "b1077be4",
   "metadata": {
    "deletable": false,
    "editable": false,
    "id": "c5d66278"
   },
   "source": [
    "#### 3.1 Есть ли зависимость между количеством детей и возвратом кредита в срок?"
   ]
  },
  {
   "cell_type": "code",
   "execution_count": 39,
   "id": "ae729a5e",
   "metadata": {
    "deletable": false,
    "id": "2cacfc4a"
   },
   "outputs": [
    {
     "name": "stdout",
     "output_type": "stream",
     "text": [
      "                                               Количество клиентов в категории\n",
      "Название категории Доля возвращенных кредитов                                 \n",
      "0 детей            92.456178%                                          14091.0\n",
      "1 ребёнок          90.765391%                                           4808.0\n",
      "2 ребёнка          90.545809%                                           2052.0\n",
      "3 ребёнка          91.818182%                                            330.0\n",
      "4 ребёнка          90.243902%                                             41.0\n",
      "5 детей            100.000000%                                             9.0\n"
     ]
    }
   ],
   "source": [
    "#Делаем счётчик для условной конструкции в цикле для вычисления количества возвратов кредитов по количеству детей\n",
    "zero_children = 0\n",
    "one_child = 0\n",
    "two_children = 0\n",
    "three_children = 0\n",
    "four_children = 0\n",
    "five_children = 0\n",
    "debtors = 0\n",
    "#строим цикл с уловной конструкцией внутри\n",
    "for index, row in data.iterrows():\n",
    "    if row['debt'] == 0 and row['children'] == 0:\n",
    "        zero_children += 1\n",
    "    elif row['debt'] == 0 and row['children'] == 1:\n",
    "        one_child += 1\n",
    "    elif row['debt'] == 0 and row['children'] == 2:\n",
    "        two_children += 1\n",
    "    elif row['debt'] == 0 and row['children'] == 3:\n",
    "        three_children += 1\n",
    "    elif row['debt'] == 0 and row['children'] == 4:\n",
    "        four_children += 1\n",
    "    elif row['debt'] == 0 and row['children'] == 5:\n",
    "        five_children += 1\n",
    "    else:\n",
    "        debtors += 1\n",
    "#находим количство людей по количеству детей и выводим все найденные данные на экран\n",
    "number_of_children = data['children'].value_counts()\n",
    "data['Количество клиентов в категории'] = pd.Series(data['children'].value_counts())\n",
    "data['Название категории'] = pd.Series(['0 детей', '1 ребёнок', '2 ребёнка', '3 ребёнка', '4 ребёнка', '5 детей'])\n",
    "data['Доля возвращенных кредитов'] = pd.Series([\"{:%}\".format(zero_children/number_of_children[0]), \"{:%}\".format(one_child/number_of_children[1]), \"{:%}\".format(two_children/number_of_children[2]), \"{:%}\".format(three_children/number_of_children[3]), \"{:%}\".format(four_children/number_of_children[4]), \"{:%}\".format(five_children/number_of_children[5])])\n",
    "table = data.pivot_table(index =  ['Название категории', 'Доля возвращенных кредитов'], values = 'Количество клиентов в категории')\n",
    "print (table)\n"
   ]
  },
  {
   "cell_type": "markdown",
   "id": "529de5cd",
   "metadata": {
    "deletable": false,
    "id": "3a6b99ec"
   },
   "source": [
    "**Вывод: зависимость между количеством детей и сдачей кредита в срок частично прослеживается, ведь люди с детьми с меньшим шансом сдают кредит в срок нежели без них, но сильная разница не прослеживается, только на 1,2 процента, но на эти данные нельзя смотреть как на абсолютную истину, ведь людей с детьми меньше и данных в таблице соответственно тоже меньше.** "
   ]
  },
  {
   "cell_type": "markdown",
   "id": "8caafe67",
   "metadata": {
    "deletable": false,
    "editable": false,
    "id": "97be82ca"
   },
   "source": [
    "#### 3.2 Есть ли зависимость между семейным положением и возвратом кредита в срок?"
   ]
  },
  {
   "cell_type": "code",
   "execution_count": 40,
   "id": "79607579",
   "metadata": {
    "deletable": false,
    "id": "dc3f7ee8"
   },
   "outputs": [
    {
     "name": "stdout",
     "output_type": "stream",
     "text": [
      "женат / замужем          12261\n",
      "гражданский брак          4134\n",
      "Не женат / не замужем     2796\n",
      "в разводе                 1189\n",
      "вдовец / вдова             951\n",
      "Name: family_status, dtype: int64\n",
      "                                                 Количество клиентов в категории\n",
      "Название категории   Доля возвращенных кредитов                                 \n",
      "Не женат, не замужем 90.236052%                                           2796.0\n",
      "в разводе            92.935240%                                           1189.0\n",
      "вдовец, вдова        93.375394%                                            951.0\n",
      "гражданский брак     90.686986%                                           4134.0\n",
      "женат, замужем       92.439442%                                          12261.0\n"
     ]
    }
   ],
   "source": [
    "#Делаем счётчик для условной конструкции в цикле для вычисления количества возвратов кредитов по семейному положению\n",
    "married = 0\n",
    "live_together = 0\n",
    "not_married = 0\n",
    "divorced = 0\n",
    "widow = 0\n",
    "debtors = 0\n",
    "#строим цикл с уловной конструкцией внутри\n",
    "for index, row in data.iterrows():\n",
    "    if row['debt'] == 0 and row['family_status'] == 'женат / замужем':\n",
    "        married += 1\n",
    "    elif row['debt'] == 0 and row['family_status'] == 'гражданский брак':\n",
    "        live_together += 1\n",
    "    elif row['debt'] == 0 and row['family_status'] == 'Не женат / не замужем':\n",
    "        not_married += 1\n",
    "    elif row['debt'] == 0 and row['family_status'] == 'в разводе':\n",
    "        divorced += 1\n",
    "    elif row['debt'] == 0 and row['family_status'] == 'вдовец / вдова':\n",
    "        widow += 1\n",
    "    else:\n",
    "        debtors += 1\n",
    "#находим количство людей по семейному статусу и выводим все найденные данные на экран\n",
    "family_status_of_people  = data['family_status'].value_counts()\n",
    "print (family_status_of_people)\n",
    "data['Количество клиентов в категории'] = pd.Series([12261, 4134, 2796, 1189, 951])\n",
    "data['Название категории'] = pd.Series(['женат, замужем', 'гражданский брак', 'Не женат, не замужем', 'в разводе', 'вдовец, вдова'])\n",
    "data['Доля возвращенных кредитов'] = pd.Series([\"{:%}\".format(married/family_status_of_people[0]), \"{:%}\".format(live_together/family_status_of_people[1]), \"{:%}\".format(not_married/family_status_of_people[2]), \"{:%}\".format(divorced/family_status_of_people[3]), \"{:%}\".format(widow/family_status_of_people[4])])\n",
    "table = data.pivot_table(index =  ['Название категории', 'Доля возвращенных кредитов'], values = 'Количество клиентов в категории')\n",
    "print (table)"
   ]
  },
  {
   "cell_type": "markdown",
   "id": "37f93cb3",
   "metadata": {
    "deletable": false,
    "id": "1cef7837"
   },
   "source": [
    "**Вывод: зависимость между семейным положением и возвратом кредита в срок прослеживается, люди, находящиеся в браке или когда-либо там находившиеся, отдают кредит немного чаще чем иные подгруппы людей.** "
   ]
  },
  {
   "cell_type": "markdown",
   "id": "4591a59e",
   "metadata": {
    "deletable": false,
    "editable": false,
    "id": "1e8b2fca"
   },
   "source": [
    "#### 3.3 Есть ли зависимость между уровнем дохода и возвратом кредита в срок?"
   ]
  },
  {
   "cell_type": "code",
   "execution_count": 41,
   "id": "5d27835f",
   "metadata": {
    "deletable": false,
    "id": "cd7e3720"
   },
   "outputs": [
    {
     "name": "stdout",
     "output_type": "stream",
     "text": [
      "C    15921\n",
      "B     5014\n",
      "D      349\n",
      "A       25\n",
      "E       22\n",
      "Name: total_income_category, dtype: int64\n",
      "                                               Количество клиентов в категории\n",
      "Название категории Доля возвращенных кредитов                                 \n",
      "доход A            92.000000%                                             25.0\n",
      "доход B            92.939769%                                           5014.0\n",
      "доход C            91.501790%                                          15921.0\n",
      "доход D            93.982808%                                            349.0\n",
      "доход E            90.909091%                                             22.0\n"
     ]
    }
   ],
   "source": [
    "#Делаем счётчик для условной конструкции в цикле для вычисления количества возвратов кредитов по количеству дохода\n",
    "A_level = 0\n",
    "B_level = 0\n",
    "C_level = 0\n",
    "D_level = 0\n",
    "E_level = 0\n",
    "debtors = 0\n",
    "#строим цикл с уловной конструкцией внутри\n",
    "for index, row in data.iterrows():\n",
    "    if row['debt'] == 0 and row['total_income_category'] == 'A':\n",
    "        A_level += 1\n",
    "    elif row['debt'] == 0 and row['total_income_category'] == 'B':\n",
    "        B_level += 1\n",
    "    elif row['debt'] == 0 and row['total_income_category'] == 'C':\n",
    "        C_level += 1\n",
    "    elif row['debt'] == 0 and row['total_income_category'] == 'D':\n",
    "        D_level += 1\n",
    "    elif row['debt'] == 0 and row['total_income_category'] == 'E':\n",
    "        E_level += 1\n",
    "    else:\n",
    "        debtors += 1\n",
    "#находим количство людей по количеству дохода и выводим все найденные данные на экран\n",
    "income_category_of_people = data['total_income_category'].value_counts()\n",
    "print (income_category_of_people)\n",
    "data['Количество клиентов в категории'] = pd.Series([15921, 5014, 349, 25, 22])\n",
    "data['Название категории'] = pd.Series(['доход C', 'доход B', 'доход D', 'доход A', 'доход E'])\n",
    "data['Доля возвращенных кредитов'] = pd.Series([\"{:%}\".format(C_level/income_category_of_people[0]), \"{:%}\".format(B_level/income_category_of_people[1]), \"{:%}\".format(D_level/income_category_of_people[2]), \"{:%}\".format(A_level/income_category_of_people[3]), \"{:%}\".format(E_level/income_category_of_people[4])])\n",
    "table = data.pivot_table(index =  ['Название категории', 'Доля возвращенных кредитов'], values = 'Количество клиентов в категории')\n",
    "print (table)"
   ]
  },
  {
   "cell_type": "markdown",
   "id": "5191d8b8",
   "metadata": {
    "deletable": false,
    "id": "e8593def"
   },
   "source": [
    "**Вывод: зависимость практически не прослеживается, ведь разность в 2, 3 процента является лишь погрешностью между разными категориями доходов, так как людей в этих категориях не равное количество, хотя можно заметить что люди с доходом D отдают кредит чаще всех, а вот люди с доходом E, наоборот, реже всех.** "
   ]
  },
  {
   "cell_type": "markdown",
   "id": "9d285bb8",
   "metadata": {
    "deletable": false,
    "editable": false,
    "id": "99ecbd1f"
   },
   "source": [
    "#### 3.4 Как разные цели кредита влияют на его возврат в срок?"
   ]
  },
  {
   "cell_type": "code",
   "execution_count": 42,
   "id": "b691044a",
   "metadata": {
    "deletable": false,
    "id": "2b687290"
   },
   "outputs": [
    {
     "name": "stdout",
     "output_type": "stream",
     "text": [
      "операции с недвижимостью    10751\n",
      "операции с автомобилем       4279\n",
      "получение образования        3988\n",
      "проведение свадьбы           2313\n",
      "Name: purpose_category, dtype: int64\n",
      "                                                     Количество клиентов в категории\n",
      "Название категории       Доля возвращенных кредитов                                 \n",
      "операции с автомобилем   90.652022%                                           4279.0\n",
      "операции с недвижимостью 92.744861%                                          10751.0\n",
      "получение образования    90.747242%                                           3988.0\n",
      "проведение свадьбы       92.088197%                                           2313.0\n"
     ]
    }
   ],
   "source": [
    "#Делаем счётчик для условной конструкции в цикле для вычисления количества возвратов кредитов по цели кредита\n",
    "automobile = 0\n",
    "real_estate = 0\n",
    "marriage = 0\n",
    "education = 0\n",
    "debtors = 0\n",
    "#строим цикл с уловной конструкцией внутри\n",
    "for index, row in data.iterrows():\n",
    "    if row['debt'] == 0 and row['purpose_category'] == 'операции с автомобилем':\n",
    "        automobile += 1\n",
    "    elif row['debt'] == 0 and row['purpose_category'] == 'операции с недвижимостью':\n",
    "        real_estate += 1\n",
    "    elif row['debt'] == 0 and row['purpose_category'] == 'проведение свадьбы':\n",
    "        marriage += 1\n",
    "    elif row['debt'] == 0 and row['purpose_category'] == 'получение образования':\n",
    "        education += 1\n",
    "    else:\n",
    "        debtors += 1\n",
    "#находим количство людей по цели кредита и выводим все найденные данные на экран\n",
    "purpose_category_of_people = data['purpose_category'].value_counts()\n",
    "print (purpose_category_of_people)\n",
    "data['Количество клиентов в категории'] = pd.Series([10751, 4279, 3988, 2313])\n",
    "data['Название категории'] = pd.Series(['операции с недвижимостью', 'операции с автомобилем', 'получение образования', 'проведение свадьбы'])\n",
    "data['Доля возвращенных кредитов'] = pd.Series([\"{:%}\".format(real_estate/purpose_category_of_people[0]), \"{:%}\".format(automobile/purpose_category_of_people[1]), \"{:%}\".format(education/purpose_category_of_people[2]), \"{:%}\".format(marriage/purpose_category_of_people[3])])\n",
    "table = data.pivot_table(index =  ['Название категории', 'Доля возвращенных кредитов'], values = 'Количество клиентов в категории')\n",
    "print (table)"
   ]
  },
  {
   "cell_type": "markdown",
   "id": "bda52d79",
   "metadata": {
    "deletable": false,
    "id": "b4bb2ce6"
   },
   "source": [
    "**Вывод: можно заметить, что люди, которые берут кредит под операции с недвижимостью или проведения свадьбы, возвращают деньги в банк немного чаще, чем остальные группы людей.** "
   ]
  },
  {
   "cell_type": "markdown",
   "id": "50c78f86",
   "metadata": {
    "deletable": false,
    "editable": false,
    "id": "09c3ac4c"
   },
   "source": [
    "#### 3.5 Приведите возможные причины появления пропусков в исходных данных."
   ]
  },
  {
   "cell_type": "markdown",
   "id": "d8aca819",
   "metadata": {
    "deletable": false,
    "id": "9da2ceda"
   },
   "source": [
    "*Ответ:Некорректный сбор данных, Технические проблемы, Несовместимость формата данных, Отсутствие обязательной информации, Удаление или скрытие данных, Человеческий фактор, Повреждение данных.* "
   ]
  },
  {
   "cell_type": "markdown",
   "id": "7b59ccca",
   "metadata": {
    "deletable": false,
    "editable": false,
    "id": "7b0487d6"
   },
   "source": [
    "#### 3.6 Объясните, почему заполнить пропуски медианным значением — лучшее решение для количественных переменных."
   ]
  },
  {
   "cell_type": "markdown",
   "id": "f8b50635",
   "metadata": {
    "deletable": false,
    "id": "7ecf2b8e"
   },
   "source": [
    "*Ответ: Медиана является устойчивой мерой центральной тенденции, которая не чувствительна к выбросам в данных.\n",
    "Заполнение пропусков медианным значением позволяет сохранить общую форму распределения и не искажает статистические свойства переменной.\n",
    "Медиана лучше справляется с асимметричными распределениями, чем среднее значение, поскольку она не зависит от экстремальных значений.\n",
    "По сравнению с использованием других мер центральной тенденции, таких как среднее или мода, медиана менее подвержена ошибке в случае небольших выборок или неоднородности данных.\n",
    "Заполнение пропусков медианным значением позволяет сохранить согласованность и стабильность в анализе данных, так как оно не изменяется при повторных вычислениях.\n",
    "Медиана является интуитивно понятной мерой центральной тенденции, которую легко интерпретировать и объяснить другим пользователям или заинтересованным сторонам.\n",
    "Заполнение пропусков медианным значением простое и быстрое решение, которое может быть эффективно применено к большим наборам данных без большого объема вычислений.* "
   ]
  },
  {
   "cell_type": "markdown",
   "id": "b1e8c938",
   "metadata": {
    "deletable": false,
    "editable": false,
    "id": "6db5255a"
   },
   "source": [
    "### Шаг 4: общий вывод."
   ]
  },
  {
   "cell_type": "markdown",
   "id": "01438f54",
   "metadata": {
    "deletable": false,
    "id": "bad65432"
   },
   "source": [
    "**В данном проекте мы выяснили, какие именно факторы влияют на возврат кредита в срок, благодаря этим данным, мы можем понять, что идеальный заёмщик это человек находящийся или находившийся в браке, имеющий 5 детей, с доходом типа D и берущий кредит под операции с недвижимостью.**"
   ]
  }
 ],
 "metadata": {
  "ExecuteTimeLog": [
   {
    "duration": 75,
    "start_time": "2023-05-15T13:57:14.193Z"
   },
   {
    "duration": 7,
    "start_time": "2023-05-15T13:57:27.273Z"
   },
   {
    "duration": 895,
    "start_time": "2023-05-15T13:57:39.087Z"
   },
   {
    "duration": 34,
    "start_time": "2023-05-15T13:57:39.985Z"
   },
   {
    "duration": 40,
    "start_time": "2023-05-15T13:57:40.196Z"
   },
   {
    "duration": 10,
    "start_time": "2023-05-15T13:57:40.842Z"
   },
   {
    "duration": 62,
    "start_time": "2023-05-15T13:57:41.279Z"
   },
   {
    "duration": 4,
    "start_time": "2023-05-15T13:57:41.776Z"
   },
   {
    "duration": 10,
    "start_time": "2023-05-15T13:57:42.168Z"
   },
   {
    "duration": 5,
    "start_time": "2023-05-15T13:57:42.757Z"
   },
   {
    "duration": 13,
    "start_time": "2023-05-15T13:57:43.116Z"
   },
   {
    "duration": 5,
    "start_time": "2023-05-15T13:57:43.470Z"
   },
   {
    "duration": 67,
    "start_time": "2023-05-15T13:57:44.068Z"
   },
   {
    "duration": 21,
    "start_time": "2023-05-15T13:57:44.426Z"
   },
   {
    "duration": 5,
    "start_time": "2023-05-15T13:57:45.035Z"
   },
   {
    "duration": 25,
    "start_time": "2023-05-15T13:57:45.617Z"
   },
   {
    "duration": 31,
    "start_time": "2023-05-15T13:57:45.955Z"
   },
   {
    "duration": 19,
    "start_time": "2023-05-15T13:57:46.175Z"
   },
   {
    "duration": 4,
    "start_time": "2023-05-15T13:57:47.456Z"
   },
   {
    "duration": 13,
    "start_time": "2023-05-15T13:57:48.378Z"
   },
   {
    "duration": 19,
    "start_time": "2023-05-15T13:57:49.521Z"
   },
   {
    "duration": 9,
    "start_time": "2023-05-15T13:57:50.224Z"
   },
   {
    "duration": 18,
    "start_time": "2023-05-15T13:57:50.625Z"
   },
   {
    "duration": 20,
    "start_time": "2023-05-15T13:57:52.428Z"
   },
   {
    "duration": 32,
    "start_time": "2023-05-15T13:59:59.045Z"
   },
   {
    "duration": 6,
    "start_time": "2023-05-15T14:09:11.130Z"
   },
   {
    "duration": 4,
    "start_time": "2023-05-15T14:09:39.640Z"
   },
   {
    "duration": 4,
    "start_time": "2023-05-15T14:10:00.184Z"
   },
   {
    "duration": 4,
    "start_time": "2023-05-15T14:10:22.192Z"
   },
   {
    "duration": 15,
    "start_time": "2023-05-15T14:13:15.765Z"
   },
   {
    "duration": 12,
    "start_time": "2023-05-15T14:13:34.595Z"
   },
   {
    "duration": 13,
    "start_time": "2023-05-15T14:13:52.330Z"
   },
   {
    "duration": 43,
    "start_time": "2023-05-15T14:14:54.865Z"
   },
   {
    "duration": 22,
    "start_time": "2023-05-15T14:15:12.514Z"
   },
   {
    "duration": 22,
    "start_time": "2023-05-15T14:15:21.621Z"
   },
   {
    "duration": 24,
    "start_time": "2023-05-15T14:15:47.618Z"
   },
   {
    "duration": 34,
    "start_time": "2023-05-15T14:16:10.078Z"
   },
   {
    "duration": 12,
    "start_time": "2023-05-15T14:16:50.831Z"
   },
   {
    "duration": 22,
    "start_time": "2023-05-15T14:27:50.330Z"
   },
   {
    "duration": 12,
    "start_time": "2023-05-15T14:31:11.574Z"
   },
   {
    "duration": 11,
    "start_time": "2023-05-15T14:40:23.808Z"
   },
   {
    "duration": 13,
    "start_time": "2023-05-15T14:42:57.226Z"
   },
   {
    "duration": 14,
    "start_time": "2023-05-15T14:44:46.119Z"
   },
   {
    "duration": 10,
    "start_time": "2023-05-15T14:52:05.284Z"
   },
   {
    "duration": 1698,
    "start_time": "2023-05-15T14:54:29.826Z"
   },
   {
    "duration": 286,
    "start_time": "2023-05-15T14:57:33.577Z"
   },
   {
    "duration": 1598,
    "start_time": "2023-05-15T14:57:58.394Z"
   },
   {
    "duration": 1647,
    "start_time": "2023-05-15T14:58:54.207Z"
   },
   {
    "duration": 1582,
    "start_time": "2023-05-15T14:59:10.524Z"
   },
   {
    "duration": 1547,
    "start_time": "2023-05-15T15:04:04.723Z"
   },
   {
    "duration": 1487,
    "start_time": "2023-05-15T15:10:38.862Z"
   },
   {
    "duration": 429,
    "start_time": "2023-05-15T15:11:29.957Z"
   },
   {
    "duration": 439,
    "start_time": "2023-05-15T15:11:55.909Z"
   },
   {
    "duration": 152,
    "start_time": "2023-05-15T15:14:07.324Z"
   },
   {
    "duration": 332,
    "start_time": "2023-05-15T15:14:23.513Z"
   },
   {
    "duration": 868,
    "start_time": "2023-05-15T15:14:37.767Z"
   },
   {
    "duration": 318,
    "start_time": "2023-05-15T15:15:01.710Z"
   },
   {
    "duration": 90,
    "start_time": "2023-05-15T15:17:02.156Z"
   },
   {
    "duration": 1696,
    "start_time": "2023-05-15T15:19:18.825Z"
   },
   {
    "duration": 1858,
    "start_time": "2023-05-15T15:21:06.849Z"
   },
   {
    "duration": 1541,
    "start_time": "2023-05-15T15:39:13.823Z"
   },
   {
    "duration": 2735,
    "start_time": "2023-05-15T15:48:04.482Z"
   },
   {
    "duration": 1481,
    "start_time": "2023-05-15T15:58:03.829Z"
   },
   {
    "duration": 60,
    "start_time": "2023-05-17T15:38:40.148Z"
   },
   {
    "duration": 1156,
    "start_time": "2023-05-17T15:39:00.749Z"
   },
   {
    "duration": 33,
    "start_time": "2023-05-17T15:39:01.908Z"
   },
   {
    "duration": 91,
    "start_time": "2023-05-17T15:39:01.943Z"
   },
   {
    "duration": 26,
    "start_time": "2023-05-17T15:39:02.047Z"
   },
   {
    "duration": 37,
    "start_time": "2023-05-17T15:39:02.346Z"
   },
   {
    "duration": 4,
    "start_time": "2023-05-17T15:39:03.283Z"
   },
   {
    "duration": 10,
    "start_time": "2023-05-17T15:39:03.588Z"
   },
   {
    "duration": 5,
    "start_time": "2023-05-17T15:39:04.099Z"
   },
   {
    "duration": 8,
    "start_time": "2023-05-17T15:39:04.414Z"
   },
   {
    "duration": 5,
    "start_time": "2023-05-17T15:39:04.787Z"
   },
   {
    "duration": 38,
    "start_time": "2023-05-17T15:39:05.309Z"
   },
   {
    "duration": 14,
    "start_time": "2023-05-17T15:39:05.871Z"
   },
   {
    "duration": 4,
    "start_time": "2023-05-17T15:39:06.431Z"
   },
   {
    "duration": 20,
    "start_time": "2023-05-17T15:39:06.976Z"
   },
   {
    "duration": 22,
    "start_time": "2023-05-17T15:39:07.317Z"
   },
   {
    "duration": 21,
    "start_time": "2023-05-17T15:39:07.494Z"
   },
   {
    "duration": 5,
    "start_time": "2023-05-17T15:39:07.990Z"
   },
   {
    "duration": 11,
    "start_time": "2023-05-17T15:39:08.183Z"
   },
   {
    "duration": 7,
    "start_time": "2023-05-17T15:39:08.504Z"
   },
   {
    "duration": 5,
    "start_time": "2023-05-17T15:39:08.838Z"
   },
   {
    "duration": 10,
    "start_time": "2023-05-17T15:39:09.074Z"
   },
   {
    "duration": 1517,
    "start_time": "2023-05-17T15:39:09.734Z"
   },
   {
    "duration": 1564,
    "start_time": "2023-05-17T15:39:11.254Z"
   },
   {
    "duration": 1431,
    "start_time": "2023-05-17T16:17:56.600Z"
   },
   {
    "duration": 7,
    "start_time": "2023-05-17T16:32:06.472Z"
   },
   {
    "duration": 810,
    "start_time": "2023-05-18T05:57:35.716Z"
   },
   {
    "duration": 38,
    "start_time": "2023-05-18T05:57:36.528Z"
   },
   {
    "duration": 15,
    "start_time": "2023-05-18T05:57:38.231Z"
   },
   {
    "duration": 15,
    "start_time": "2023-05-18T05:57:38.923Z"
   },
   {
    "duration": 33,
    "start_time": "2023-05-18T05:57:39.300Z"
   },
   {
    "duration": 4,
    "start_time": "2023-05-18T05:57:39.900Z"
   },
   {
    "duration": 8,
    "start_time": "2023-05-18T05:57:40.261Z"
   },
   {
    "duration": 4,
    "start_time": "2023-05-18T05:57:40.764Z"
   },
   {
    "duration": 6,
    "start_time": "2023-05-18T05:57:41.080Z"
   },
   {
    "duration": 5,
    "start_time": "2023-05-18T05:57:41.458Z"
   },
   {
    "duration": 31,
    "start_time": "2023-05-18T05:57:41.974Z"
   },
   {
    "duration": 9,
    "start_time": "2023-05-18T05:57:42.358Z"
   },
   {
    "duration": 3,
    "start_time": "2023-05-18T05:57:42.929Z"
   },
   {
    "duration": 17,
    "start_time": "2023-05-18T05:57:43.454Z"
   },
   {
    "duration": 27,
    "start_time": "2023-05-18T05:57:43.800Z"
   },
   {
    "duration": 17,
    "start_time": "2023-05-18T05:57:43.988Z"
   },
   {
    "duration": 4,
    "start_time": "2023-05-18T05:57:44.529Z"
   },
   {
    "duration": 12,
    "start_time": "2023-05-18T05:57:44.716Z"
   },
   {
    "duration": 7,
    "start_time": "2023-05-18T05:57:45.085Z"
   },
   {
    "duration": 3,
    "start_time": "2023-05-18T05:57:45.457Z"
   },
   {
    "duration": 8,
    "start_time": "2023-05-18T05:57:45.661Z"
   },
   {
    "duration": 1400,
    "start_time": "2023-05-18T05:57:46.182Z"
   },
   {
    "duration": 1326,
    "start_time": "2023-05-18T05:57:47.584Z"
   },
   {
    "duration": 7,
    "start_time": "2023-05-18T05:58:52.460Z"
   },
   {
    "duration": 7,
    "start_time": "2023-05-18T06:02:50.564Z"
   },
   {
    "duration": 2285,
    "start_time": "2023-05-18T06:20:31.559Z"
   },
   {
    "duration": 1991,
    "start_time": "2023-05-18T06:20:45.713Z"
   },
   {
    "duration": 1902,
    "start_time": "2023-05-18T06:59:25.891Z"
   },
   {
    "duration": 2168,
    "start_time": "2023-05-18T07:04:46.058Z"
   },
   {
    "duration": 8,
    "start_time": "2023-05-18T08:03:34.010Z"
   },
   {
    "duration": 1041,
    "start_time": "2023-05-18T08:26:25.255Z"
   },
   {
    "duration": 13,
    "start_time": "2023-05-18T08:33:47.212Z"
   },
   {
    "duration": 4407,
    "start_time": "2023-05-18T08:33:58.084Z"
   },
   {
    "duration": 1751,
    "start_time": "2023-05-18T08:35:40.183Z"
   },
   {
    "duration": 575,
    "start_time": "2023-05-18T14:10:12.304Z"
   },
   {
    "duration": 32,
    "start_time": "2023-05-18T14:10:12.881Z"
   },
   {
    "duration": 15,
    "start_time": "2023-05-18T14:10:12.914Z"
   },
   {
    "duration": 12,
    "start_time": "2023-05-18T14:10:13.502Z"
   },
   {
    "duration": 40,
    "start_time": "2023-05-18T14:10:13.812Z"
   },
   {
    "duration": 4,
    "start_time": "2023-05-18T14:10:14.304Z"
   },
   {
    "duration": 13,
    "start_time": "2023-05-18T14:10:14.600Z"
   },
   {
    "duration": 4,
    "start_time": "2023-05-18T14:10:15.325Z"
   },
   {
    "duration": 8,
    "start_time": "2023-05-18T14:10:15.700Z"
   },
   {
    "duration": 7,
    "start_time": "2023-05-18T14:10:16.001Z"
   },
   {
    "duration": 33,
    "start_time": "2023-05-18T14:10:16.517Z"
   },
   {
    "duration": 9,
    "start_time": "2023-05-18T14:10:16.905Z"
   },
   {
    "duration": 4,
    "start_time": "2023-05-18T14:10:17.343Z"
   },
   {
    "duration": 11,
    "start_time": "2023-05-18T14:10:17.852Z"
   },
   {
    "duration": 21,
    "start_time": "2023-05-18T14:10:18.202Z"
   },
   {
    "duration": 25,
    "start_time": "2023-05-18T14:10:18.363Z"
   },
   {
    "duration": 7,
    "start_time": "2023-05-18T14:10:18.898Z"
   },
   {
    "duration": 9,
    "start_time": "2023-05-18T14:10:19.007Z"
   },
   {
    "duration": 15,
    "start_time": "2023-05-18T14:10:19.370Z"
   },
   {
    "duration": 3,
    "start_time": "2023-05-18T14:10:19.704Z"
   },
   {
    "duration": 13,
    "start_time": "2023-05-18T14:10:19.896Z"
   },
   {
    "duration": 1477,
    "start_time": "2023-05-18T14:10:20.463Z"
   },
   {
    "duration": 1587,
    "start_time": "2023-05-18T14:10:21.942Z"
   },
   {
    "duration": 1807,
    "start_time": "2023-05-18T14:10:23.530Z"
   },
   {
    "duration": 1655,
    "start_time": "2023-05-18T14:10:25.339Z"
   },
   {
    "duration": 1635,
    "start_time": "2023-05-18T14:11:04.411Z"
   },
   {
    "duration": 1853,
    "start_time": "2023-05-18T14:13:13.354Z"
   },
   {
    "duration": 7,
    "start_time": "2023-05-18T14:15:08.911Z"
   },
   {
    "duration": 10,
    "start_time": "2023-05-18T14:15:27.396Z"
   },
   {
    "duration": 6,
    "start_time": "2023-05-18T14:15:31.924Z"
   },
   {
    "duration": 10,
    "start_time": "2023-05-18T14:15:41.799Z"
   },
   {
    "duration": 1680,
    "start_time": "2023-05-18T14:15:49.876Z"
   },
   {
    "duration": 1700,
    "start_time": "2023-05-18T14:18:37.973Z"
   },
   {
    "duration": 1471,
    "start_time": "2023-05-18T14:43:07.770Z"
   },
   {
    "duration": 75,
    "start_time": "2023-05-18T14:44:01.982Z"
   },
   {
    "duration": 19,
    "start_time": "2023-05-18T14:44:02.263Z"
   },
   {
    "duration": 21,
    "start_time": "2023-05-18T14:44:02.561Z"
   },
   {
    "duration": 11,
    "start_time": "2023-05-18T14:44:03.191Z"
   },
   {
    "duration": 45,
    "start_time": "2023-05-18T14:44:03.473Z"
   },
   {
    "duration": 3,
    "start_time": "2023-05-18T14:44:03.922Z"
   },
   {
    "duration": 13,
    "start_time": "2023-05-18T14:44:04.285Z"
   },
   {
    "duration": 5,
    "start_time": "2023-05-18T14:44:05.251Z"
   },
   {
    "duration": 6,
    "start_time": "2023-05-18T14:44:05.593Z"
   },
   {
    "duration": 4,
    "start_time": "2023-05-18T14:44:05.913Z"
   },
   {
    "duration": 35,
    "start_time": "2023-05-18T14:44:06.459Z"
   },
   {
    "duration": 9,
    "start_time": "2023-05-18T14:44:06.798Z"
   },
   {
    "duration": 4,
    "start_time": "2023-05-18T14:44:07.287Z"
   },
   {
    "duration": 18,
    "start_time": "2023-05-18T14:44:07.775Z"
   },
   {
    "duration": 18,
    "start_time": "2023-05-18T14:44:08.148Z"
   },
   {
    "duration": 17,
    "start_time": "2023-05-18T14:44:08.290Z"
   },
   {
    "duration": 10,
    "start_time": "2023-05-18T14:44:08.775Z"
   },
   {
    "duration": 12,
    "start_time": "2023-05-18T14:44:08.919Z"
   },
   {
    "duration": 6,
    "start_time": "2023-05-18T14:44:09.287Z"
   },
   {
    "duration": 3,
    "start_time": "2023-05-18T14:44:09.589Z"
   },
   {
    "duration": 18,
    "start_time": "2023-05-18T14:44:09.773Z"
   },
   {
    "duration": 1387,
    "start_time": "2023-05-18T14:44:10.348Z"
   },
   {
    "duration": 1398,
    "start_time": "2023-05-18T14:44:11.737Z"
   },
   {
    "duration": 1528,
    "start_time": "2023-05-18T14:44:13.137Z"
   },
   {
    "duration": 1370,
    "start_time": "2023-05-18T14:44:14.667Z"
   },
   {
    "duration": 1491,
    "start_time": "2023-05-18T14:44:16.038Z"
   },
   {
    "duration": 1414,
    "start_time": "2023-05-18T14:44:17.532Z"
   },
   {
    "duration": 1366,
    "start_time": "2023-05-18T14:46:28.688Z"
   },
   {
    "duration": 1443,
    "start_time": "2023-05-18T14:46:31.758Z"
   },
   {
    "duration": 406,
    "start_time": "2023-05-18T15:13:51.953Z"
   },
   {
    "duration": 19,
    "start_time": "2023-05-18T15:13:52.361Z"
   },
   {
    "duration": 16,
    "start_time": "2023-05-18T15:13:52.381Z"
   },
   {
    "duration": 13,
    "start_time": "2023-05-18T15:13:52.399Z"
   },
   {
    "duration": 39,
    "start_time": "2023-05-18T15:13:52.415Z"
   },
   {
    "duration": 4,
    "start_time": "2023-05-18T15:13:52.455Z"
   },
   {
    "duration": 12,
    "start_time": "2023-05-18T15:13:52.461Z"
   },
   {
    "duration": 24,
    "start_time": "2023-05-18T15:13:52.475Z"
   },
   {
    "duration": 38,
    "start_time": "2023-05-18T15:13:52.501Z"
   },
   {
    "duration": 7,
    "start_time": "2023-05-18T15:13:52.541Z"
   },
   {
    "duration": 41,
    "start_time": "2023-05-18T15:13:52.549Z"
   },
   {
    "duration": 8,
    "start_time": "2023-05-18T15:13:52.593Z"
   },
   {
    "duration": 32,
    "start_time": "2023-05-18T15:13:52.603Z"
   },
   {
    "duration": 17,
    "start_time": "2023-05-18T15:13:52.637Z"
   },
   {
    "duration": 26,
    "start_time": "2023-05-18T15:13:52.655Z"
   },
   {
    "duration": 14,
    "start_time": "2023-05-18T15:13:52.682Z"
   },
   {
    "duration": 3,
    "start_time": "2023-05-18T15:13:52.698Z"
   },
   {
    "duration": 21,
    "start_time": "2023-05-18T15:13:52.702Z"
   },
   {
    "duration": 7,
    "start_time": "2023-05-18T15:13:52.724Z"
   },
   {
    "duration": 7,
    "start_time": "2023-05-18T15:13:52.732Z"
   },
   {
    "duration": 12,
    "start_time": "2023-05-18T15:13:52.741Z"
   },
   {
    "duration": 1259,
    "start_time": "2023-05-18T15:13:52.754Z"
   },
   {
    "duration": 1268,
    "start_time": "2023-05-18T15:13:54.014Z"
   },
   {
    "duration": 2149,
    "start_time": "2023-05-18T15:13:55.284Z"
   },
   {
    "duration": 1394,
    "start_time": "2023-05-18T15:13:57.435Z"
   },
   {
    "duration": 119,
    "start_time": "2023-05-18T15:13:58.830Z"
   },
   {
    "duration": 149,
    "start_time": "2023-05-18T15:17:12.927Z"
   },
   {
    "duration": 63,
    "start_time": "2023-05-18T20:44:30.656Z"
   },
   {
    "duration": 569,
    "start_time": "2023-05-18T20:44:40.125Z"
   },
   {
    "duration": 27,
    "start_time": "2023-05-18T20:44:40.696Z"
   },
   {
    "duration": 19,
    "start_time": "2023-05-18T20:44:40.724Z"
   },
   {
    "duration": 12,
    "start_time": "2023-05-18T20:44:40.746Z"
   },
   {
    "duration": 57,
    "start_time": "2023-05-18T20:44:40.762Z"
   },
   {
    "duration": 6,
    "start_time": "2023-05-18T20:44:40.821Z"
   },
   {
    "duration": 15,
    "start_time": "2023-05-18T20:44:40.829Z"
   },
   {
    "duration": 8,
    "start_time": "2023-05-18T20:44:40.856Z"
   },
   {
    "duration": 22,
    "start_time": "2023-05-18T20:44:40.867Z"
   },
   {
    "duration": 5,
    "start_time": "2023-05-18T20:44:40.892Z"
   },
   {
    "duration": 42,
    "start_time": "2023-05-18T20:44:40.899Z"
   },
   {
    "duration": 34,
    "start_time": "2023-05-18T20:44:40.943Z"
   },
   {
    "duration": 4,
    "start_time": "2023-05-18T20:44:40.979Z"
   },
   {
    "duration": 14,
    "start_time": "2023-05-18T20:44:40.987Z"
   },
   {
    "duration": 23,
    "start_time": "2023-05-18T20:44:41.004Z"
   },
   {
    "duration": 39,
    "start_time": "2023-05-18T20:44:41.029Z"
   },
   {
    "duration": 8,
    "start_time": "2023-05-18T20:44:41.074Z"
   },
   {
    "duration": 16,
    "start_time": "2023-05-18T20:44:41.084Z"
   },
   {
    "duration": 9,
    "start_time": "2023-05-18T20:44:41.101Z"
   },
   {
    "duration": 4,
    "start_time": "2023-05-18T20:44:41.113Z"
   },
   {
    "duration": 16,
    "start_time": "2023-05-18T20:44:41.119Z"
   },
   {
    "duration": 1621,
    "start_time": "2023-05-18T20:44:41.137Z"
   },
   {
    "duration": 1761,
    "start_time": "2023-05-18T20:44:42.762Z"
   },
   {
    "duration": 57,
    "start_time": "2023-05-18T20:44:44.525Z"
   },
   {
    "duration": 1819,
    "start_time": "2023-05-18T20:44:44.587Z"
   },
   {
    "duration": 3138,
    "start_time": "2023-05-18T20:44:46.407Z"
   },
   {
    "duration": 155,
    "start_time": "2023-05-18T20:44:49.546Z"
   },
   {
    "duration": 61,
    "start_time": "2023-05-18T20:44:55.819Z"
   },
   {
    "duration": 10,
    "start_time": "2023-05-18T20:45:09.445Z"
   },
   {
    "duration": 10,
    "start_time": "2023-05-18T20:45:41.540Z"
   },
   {
    "duration": 4,
    "start_time": "2023-05-18T20:45:54.497Z"
   },
   {
    "duration": 4,
    "start_time": "2023-05-18T20:46:32.122Z"
   },
   {
    "duration": 4,
    "start_time": "2023-05-18T20:46:36.291Z"
   },
   {
    "duration": 1031,
    "start_time": "2023-05-30T15:11:59.586Z"
   },
   {
    "duration": 18,
    "start_time": "2023-05-30T15:12:00.619Z"
   },
   {
    "duration": 44,
    "start_time": "2023-05-30T15:12:00.639Z"
   },
   {
    "duration": 8,
    "start_time": "2023-05-30T15:12:00.738Z"
   },
   {
    "duration": 27,
    "start_time": "2023-05-30T15:12:01.050Z"
   },
   {
    "duration": 3,
    "start_time": "2023-05-30T15:12:01.544Z"
   },
   {
    "duration": 8,
    "start_time": "2023-05-30T15:12:01.893Z"
   },
   {
    "duration": 4,
    "start_time": "2023-05-30T15:12:02.338Z"
   },
   {
    "duration": 6,
    "start_time": "2023-05-30T15:12:02.645Z"
   },
   {
    "duration": 5,
    "start_time": "2023-05-30T15:12:02.952Z"
   },
   {
    "duration": 28,
    "start_time": "2023-05-30T15:12:03.424Z"
   },
   {
    "duration": 9,
    "start_time": "2023-05-30T15:12:03.730Z"
   },
   {
    "duration": 4,
    "start_time": "2023-05-30T15:12:04.167Z"
   },
   {
    "duration": 11,
    "start_time": "2023-05-30T15:12:04.795Z"
   },
   {
    "duration": 17,
    "start_time": "2023-05-30T15:12:05.027Z"
   },
   {
    "duration": 15,
    "start_time": "2023-05-30T15:12:05.179Z"
   },
   {
    "duration": 3,
    "start_time": "2023-05-30T15:12:05.678Z"
   },
   {
    "duration": 10,
    "start_time": "2023-05-30T15:12:05.995Z"
   },
   {
    "duration": 5,
    "start_time": "2023-05-30T15:12:06.351Z"
   },
   {
    "duration": 3,
    "start_time": "2023-05-30T15:12:06.698Z"
   },
   {
    "duration": 9,
    "start_time": "2023-05-30T15:12:06.859Z"
   },
   {
    "duration": 9,
    "start_time": "2023-05-30T15:12:07.387Z"
   },
   {
    "duration": 1464,
    "start_time": "2023-05-30T15:12:08.278Z"
   },
   {
    "duration": 0,
    "start_time": "2023-05-30T15:12:09.744Z"
   },
   {
    "duration": 1541,
    "start_time": "2023-05-30T15:12:09.764Z"
   },
   {
    "duration": 1342,
    "start_time": "2023-05-30T15:14:27.825Z"
   },
   {
    "duration": 1346,
    "start_time": "2023-05-30T15:23:48.891Z"
   },
   {
    "duration": 1366,
    "start_time": "2023-05-30T15:26:31.873Z"
   },
   {
    "duration": 1398,
    "start_time": "2023-05-30T15:27:55.589Z"
   },
   {
    "duration": 1350,
    "start_time": "2023-05-30T15:33:21.030Z"
   },
   {
    "duration": 1438,
    "start_time": "2023-05-30T15:34:27.520Z"
   },
   {
    "duration": 1485,
    "start_time": "2023-05-30T15:34:59.982Z"
   },
   {
    "duration": 1373,
    "start_time": "2023-05-30T15:35:56.535Z"
   },
   {
    "duration": 1365,
    "start_time": "2023-05-30T15:36:18.512Z"
   },
   {
    "duration": 1360,
    "start_time": "2023-05-30T15:37:57.097Z"
   },
   {
    "duration": 1766,
    "start_time": "2023-05-30T15:40:11.502Z"
   },
   {
    "duration": 1387,
    "start_time": "2023-05-30T15:41:31.993Z"
   },
   {
    "duration": 1409,
    "start_time": "2023-05-30T15:42:52.632Z"
   },
   {
    "duration": 1352,
    "start_time": "2023-05-30T15:43:56.195Z"
   },
   {
    "duration": 1351,
    "start_time": "2023-05-30T15:44:29.185Z"
   },
   {
    "duration": 1412,
    "start_time": "2023-05-30T15:45:15.120Z"
   },
   {
    "duration": 1377,
    "start_time": "2023-05-30T15:46:29.557Z"
   },
   {
    "duration": 1382,
    "start_time": "2023-05-30T15:47:54.825Z"
   },
   {
    "duration": 1404,
    "start_time": "2023-05-30T15:48:20.613Z"
   },
   {
    "duration": 1614,
    "start_time": "2023-05-30T15:53:41.112Z"
   },
   {
    "duration": 1334,
    "start_time": "2023-05-30T15:54:19.323Z"
   },
   {
    "duration": 1359,
    "start_time": "2023-05-30T15:54:47.808Z"
   },
   {
    "duration": 5989,
    "start_time": "2023-05-30T15:55:57.639Z"
   },
   {
    "duration": 1418,
    "start_time": "2023-05-30T15:56:37.461Z"
   },
   {
    "duration": 1402,
    "start_time": "2023-05-30T15:56:47.983Z"
   },
   {
    "duration": 1396,
    "start_time": "2023-05-30T15:56:56.448Z"
   },
   {
    "duration": 1561,
    "start_time": "2023-05-30T15:57:10.076Z"
   },
   {
    "duration": 1377,
    "start_time": "2023-05-30T16:03:12.990Z"
   },
   {
    "duration": 3808,
    "start_time": "2023-05-30T16:04:52.661Z"
   },
   {
    "duration": 1380,
    "start_time": "2023-05-30T16:05:23.731Z"
   },
   {
    "duration": 1411,
    "start_time": "2023-05-30T16:10:45.766Z"
   },
   {
    "duration": 6,
    "start_time": "2023-05-30T16:19:20.357Z"
   },
   {
    "duration": 8,
    "start_time": "2023-05-30T16:20:14.280Z"
   },
   {
    "duration": 1491,
    "start_time": "2023-05-30T16:22:04.366Z"
   },
   {
    "duration": 1344,
    "start_time": "2023-05-30T16:24:41.027Z"
   },
   {
    "duration": 1374,
    "start_time": "2023-05-30T16:25:00.731Z"
   },
   {
    "duration": 1412,
    "start_time": "2023-05-30T16:25:53.813Z"
   },
   {
    "duration": 1454,
    "start_time": "2023-05-30T16:28:05.248Z"
   },
   {
    "duration": 1326,
    "start_time": "2023-05-30T16:28:17.225Z"
   },
   {
    "duration": 1326,
    "start_time": "2023-05-30T16:29:24.633Z"
   },
   {
    "duration": 1353,
    "start_time": "2023-05-30T16:30:57.545Z"
   },
   {
    "duration": 1353,
    "start_time": "2023-05-30T16:31:19.642Z"
   },
   {
    "duration": 1506,
    "start_time": "2023-05-30T16:31:41.748Z"
   },
   {
    "duration": 1396,
    "start_time": "2023-05-30T16:32:31.549Z"
   },
   {
    "duration": 1413,
    "start_time": "2023-05-30T16:32:46.074Z"
   },
   {
    "duration": 1395,
    "start_time": "2023-05-30T16:34:25.491Z"
   },
   {
    "duration": 1527,
    "start_time": "2023-05-30T16:34:39.658Z"
   },
   {
    "duration": 1028,
    "start_time": "2023-06-01T18:46:23.652Z"
   },
   {
    "duration": 23,
    "start_time": "2023-06-01T18:46:24.684Z"
   },
   {
    "duration": 14,
    "start_time": "2023-06-01T18:46:24.708Z"
   },
   {
    "duration": 9,
    "start_time": "2023-06-01T18:46:25.017Z"
   },
   {
    "duration": 32,
    "start_time": "2023-06-01T18:46:25.362Z"
   },
   {
    "duration": 3,
    "start_time": "2023-06-01T18:46:25.818Z"
   },
   {
    "duration": 8,
    "start_time": "2023-06-01T18:46:26.155Z"
   },
   {
    "duration": 4,
    "start_time": "2023-06-01T18:46:26.666Z"
   },
   {
    "duration": 6,
    "start_time": "2023-06-01T18:46:27.008Z"
   },
   {
    "duration": 5,
    "start_time": "2023-06-01T18:46:27.352Z"
   },
   {
    "duration": 30,
    "start_time": "2023-06-01T18:46:27.840Z"
   },
   {
    "duration": 9,
    "start_time": "2023-06-01T18:46:28.154Z"
   },
   {
    "duration": 4,
    "start_time": "2023-06-01T18:46:28.648Z"
   },
   {
    "duration": 10,
    "start_time": "2023-06-01T18:46:29.116Z"
   },
   {
    "duration": 19,
    "start_time": "2023-06-01T18:46:29.825Z"
   },
   {
    "duration": 16,
    "start_time": "2023-06-01T18:46:29.985Z"
   },
   {
    "duration": 4,
    "start_time": "2023-06-01T18:46:30.506Z"
   },
   {
    "duration": 10,
    "start_time": "2023-06-01T18:46:30.650Z"
   },
   {
    "duration": 6,
    "start_time": "2023-06-01T18:46:30.963Z"
   },
   {
    "duration": 4,
    "start_time": "2023-06-01T18:46:31.314Z"
   },
   {
    "duration": 8,
    "start_time": "2023-06-01T18:46:31.480Z"
   },
   {
    "duration": 1591,
    "start_time": "2023-06-01T18:46:32.049Z"
   },
   {
    "duration": 1526,
    "start_time": "2023-06-01T18:47:12.923Z"
   },
   {
    "duration": 1513,
    "start_time": "2023-06-01T18:47:37.124Z"
   },
   {
    "duration": 1530,
    "start_time": "2023-06-01T18:50:15.620Z"
   },
   {
    "duration": 1531,
    "start_time": "2023-06-01T18:53:09.741Z"
   },
   {
    "duration": 1598,
    "start_time": "2023-06-01T18:53:30.239Z"
   },
   {
    "duration": 1529,
    "start_time": "2023-06-01T18:53:56.390Z"
   },
   {
    "duration": 1529,
    "start_time": "2023-06-01T18:54:31.223Z"
   },
   {
    "duration": 1555,
    "start_time": "2023-06-01T18:54:49.020Z"
   },
   {
    "duration": 631,
    "start_time": "2023-06-03T11:53:27.152Z"
   },
   {
    "duration": 19,
    "start_time": "2023-06-03T11:53:27.785Z"
   },
   {
    "duration": 35,
    "start_time": "2023-06-03T11:53:27.811Z"
   },
   {
    "duration": 9,
    "start_time": "2023-06-03T11:53:28.382Z"
   },
   {
    "duration": 33,
    "start_time": "2023-06-03T11:53:28.686Z"
   },
   {
    "duration": 4,
    "start_time": "2023-06-03T11:53:29.372Z"
   },
   {
    "duration": 8,
    "start_time": "2023-06-03T11:53:29.669Z"
   },
   {
    "duration": 4,
    "start_time": "2023-06-03T11:53:30.156Z"
   },
   {
    "duration": 6,
    "start_time": "2023-06-03T11:53:30.493Z"
   },
   {
    "duration": 4,
    "start_time": "2023-06-03T11:53:30.798Z"
   },
   {
    "duration": 30,
    "start_time": "2023-06-03T11:53:31.469Z"
   },
   {
    "duration": 10,
    "start_time": "2023-06-03T11:53:31.780Z"
   },
   {
    "duration": 4,
    "start_time": "2023-06-03T11:53:32.269Z"
   },
   {
    "duration": 12,
    "start_time": "2023-06-03T11:53:32.757Z"
   },
   {
    "duration": 17,
    "start_time": "2023-06-03T11:53:33.101Z"
   },
   {
    "duration": 19,
    "start_time": "2023-06-03T11:53:33.268Z"
   },
   {
    "duration": 4,
    "start_time": "2023-06-03T11:53:33.764Z"
   },
   {
    "duration": 9,
    "start_time": "2023-06-03T11:53:33.932Z"
   },
   {
    "duration": 5,
    "start_time": "2023-06-03T11:53:34.293Z"
   },
   {
    "duration": 3,
    "start_time": "2023-06-03T11:53:34.637Z"
   },
   {
    "duration": 8,
    "start_time": "2023-06-03T11:53:34.813Z"
   },
   {
    "duration": 1234,
    "start_time": "2023-06-03T11:53:35.365Z"
   },
   {
    "duration": 76,
    "start_time": "2023-06-03T11:53:52.163Z"
   },
   {
    "duration": 1219,
    "start_time": "2023-06-03T11:54:03.374Z"
   },
   {
    "duration": 1394,
    "start_time": "2023-06-03T11:55:04.070Z"
   },
   {
    "duration": 1372,
    "start_time": "2023-06-03T11:57:18.268Z"
   },
   {
    "duration": 1263,
    "start_time": "2023-06-03T11:57:58.741Z"
   },
   {
    "duration": 1354,
    "start_time": "2023-06-03T11:58:10.284Z"
   },
   {
    "duration": 1247,
    "start_time": "2023-06-03T11:58:21.716Z"
   },
   {
    "duration": 1325,
    "start_time": "2023-06-03T11:58:28.628Z"
   },
   {
    "duration": 1550,
    "start_time": "2023-06-03T11:58:34.277Z"
   },
   {
    "duration": 1303,
    "start_time": "2023-06-03T12:00:22.835Z"
   },
   {
    "duration": 1222,
    "start_time": "2023-06-03T12:00:46.379Z"
   },
   {
    "duration": 1364,
    "start_time": "2023-06-03T12:01:31.124Z"
   },
   {
    "duration": 1354,
    "start_time": "2023-06-03T12:02:10.692Z"
   },
   {
    "duration": 1329,
    "start_time": "2023-06-03T12:02:24.987Z"
   },
   {
    "duration": 1347,
    "start_time": "2023-06-03T12:03:09.452Z"
   },
   {
    "duration": 1349,
    "start_time": "2023-06-03T12:03:29.499Z"
   },
   {
    "duration": 1305,
    "start_time": "2023-06-03T12:04:15.084Z"
   },
   {
    "duration": 1322,
    "start_time": "2023-06-03T12:04:50.987Z"
   },
   {
    "duration": 50,
    "start_time": "2023-06-04T11:24:27.523Z"
   },
   {
    "duration": 548,
    "start_time": "2023-06-04T11:24:35.672Z"
   },
   {
    "duration": 22,
    "start_time": "2023-06-04T11:24:36.222Z"
   },
   {
    "duration": 16,
    "start_time": "2023-06-04T11:24:36.264Z"
   },
   {
    "duration": 13,
    "start_time": "2023-06-04T11:24:37.014Z"
   },
   {
    "duration": 39,
    "start_time": "2023-06-04T11:24:37.576Z"
   },
   {
    "duration": 4,
    "start_time": "2023-06-04T11:24:38.079Z"
   },
   {
    "duration": 7,
    "start_time": "2023-06-04T11:24:38.754Z"
   },
   {
    "duration": 4,
    "start_time": "2023-06-04T11:24:39.421Z"
   },
   {
    "duration": 18,
    "start_time": "2023-06-04T11:24:39.760Z"
   },
   {
    "duration": 5,
    "start_time": "2023-06-04T11:24:40.120Z"
   },
   {
    "duration": 53,
    "start_time": "2023-06-04T11:24:40.650Z"
   },
   {
    "duration": 11,
    "start_time": "2023-06-04T11:24:41.018Z"
   },
   {
    "duration": 4,
    "start_time": "2023-06-04T11:24:41.570Z"
   },
   {
    "duration": 10,
    "start_time": "2023-06-04T11:24:42.113Z"
   },
   {
    "duration": 19,
    "start_time": "2023-06-04T11:24:42.442Z"
   },
   {
    "duration": 16,
    "start_time": "2023-06-04T11:24:42.634Z"
   },
   {
    "duration": 3,
    "start_time": "2023-06-04T11:24:43.336Z"
   },
   {
    "duration": 11,
    "start_time": "2023-06-04T11:24:43.506Z"
   },
   {
    "duration": 7,
    "start_time": "2023-06-04T11:24:44.048Z"
   },
   {
    "duration": 3,
    "start_time": "2023-06-04T11:24:44.648Z"
   },
   {
    "duration": 13,
    "start_time": "2023-06-04T11:24:44.955Z"
   },
   {
    "duration": 1493,
    "start_time": "2023-06-04T11:24:46.026Z"
   },
   {
    "duration": 1389,
    "start_time": "2023-06-04T11:25:52.019Z"
   },
   {
    "duration": 1424,
    "start_time": "2023-06-04T11:27:35.420Z"
   },
   {
    "duration": 1459,
    "start_time": "2023-06-04T11:28:10.676Z"
   },
   {
    "duration": 755,
    "start_time": "2023-07-08T08:21:13.845Z"
   },
   {
    "duration": 26,
    "start_time": "2023-07-08T08:21:14.603Z"
   },
   {
    "duration": 29,
    "start_time": "2023-07-08T08:21:14.631Z"
   },
   {
    "duration": 12,
    "start_time": "2023-07-08T08:21:15.164Z"
   },
   {
    "duration": 38,
    "start_time": "2023-07-08T08:21:15.585Z"
   },
   {
    "duration": 4,
    "start_time": "2023-07-08T08:21:16.073Z"
   },
   {
    "duration": 10,
    "start_time": "2023-07-08T08:21:17.288Z"
   },
   {
    "duration": 12,
    "start_time": "2023-07-08T08:21:17.300Z"
   },
   {
    "duration": 8,
    "start_time": "2023-07-08T08:21:17.471Z"
   },
   {
    "duration": 5,
    "start_time": "2023-07-08T08:21:17.797Z"
   },
   {
    "duration": 37,
    "start_time": "2023-07-08T08:21:18.331Z"
   },
   {
    "duration": 12,
    "start_time": "2023-07-08T08:21:18.711Z"
   },
   {
    "duration": 4,
    "start_time": "2023-07-08T08:21:19.295Z"
   },
   {
    "duration": 13,
    "start_time": "2023-07-08T08:21:19.839Z"
   },
   {
    "duration": 31,
    "start_time": "2023-07-08T08:21:20.237Z"
   },
   {
    "duration": 23,
    "start_time": "2023-07-08T08:21:20.434Z"
   },
   {
    "duration": 7,
    "start_time": "2023-07-08T08:21:20.975Z"
   },
   {
    "duration": 11,
    "start_time": "2023-07-08T08:21:21.367Z"
   },
   {
    "duration": 7,
    "start_time": "2023-07-08T08:21:21.753Z"
   },
   {
    "duration": 4,
    "start_time": "2023-07-08T08:21:22.176Z"
   },
   {
    "duration": 13,
    "start_time": "2023-07-08T08:21:22.398Z"
   },
   {
    "duration": 1609,
    "start_time": "2023-07-08T08:21:23.057Z"
   },
   {
    "duration": 1566,
    "start_time": "2023-07-08T08:21:27.551Z"
   },
   {
    "duration": 1512,
    "start_time": "2023-07-08T08:22:11.426Z"
   },
   {
    "duration": 1592,
    "start_time": "2023-07-08T08:22:15.034Z"
   },
   {
    "duration": 1577,
    "start_time": "2023-07-08T08:23:01.229Z"
   },
   {
    "duration": 1640,
    "start_time": "2023-07-08T08:27:39.046Z"
   },
   {
    "duration": 1611,
    "start_time": "2023-07-08T08:28:16.402Z"
   },
   {
    "duration": 1536,
    "start_time": "2023-07-08T08:28:56.508Z"
   },
   {
    "duration": 1596,
    "start_time": "2023-07-08T08:29:21.071Z"
   },
   {
    "duration": 1813,
    "start_time": "2023-07-08T08:29:45.141Z"
   },
   {
    "duration": 1545,
    "start_time": "2023-07-08T08:30:22.250Z"
   },
   {
    "duration": 1874,
    "start_time": "2023-07-08T08:30:42.518Z"
   },
   {
    "duration": 540,
    "start_time": "2023-07-08T08:31:09.462Z"
   },
   {
    "duration": 1674,
    "start_time": "2023-07-08T08:31:21.641Z"
   },
   {
    "duration": 1617,
    "start_time": "2023-07-08T08:31:44.396Z"
   },
   {
    "duration": 1575,
    "start_time": "2023-07-08T08:32:33.243Z"
   },
   {
    "duration": 1621,
    "start_time": "2023-07-08T08:32:43.347Z"
   },
   {
    "duration": 1548,
    "start_time": "2023-07-08T08:33:02.860Z"
   },
   {
    "duration": 1584,
    "start_time": "2023-07-08T08:33:56.595Z"
   },
   {
    "duration": 1796,
    "start_time": "2023-07-08T08:35:38.895Z"
   },
   {
    "duration": 536,
    "start_time": "2023-07-12T11:10:05.585Z"
   },
   {
    "duration": 24,
    "start_time": "2023-07-12T11:10:06.389Z"
   },
   {
    "duration": 15,
    "start_time": "2023-07-12T11:10:06.926Z"
   },
   {
    "duration": 11,
    "start_time": "2023-07-12T11:10:07.599Z"
   },
   {
    "duration": 39,
    "start_time": "2023-07-12T11:10:08.127Z"
   },
   {
    "duration": 4,
    "start_time": "2023-07-12T11:10:08.703Z"
   },
   {
    "duration": 8,
    "start_time": "2023-07-12T11:10:09.026Z"
   },
   {
    "duration": 6,
    "start_time": "2023-07-12T11:10:09.521Z"
   },
   {
    "duration": 7,
    "start_time": "2023-07-12T11:10:09.987Z"
   },
   {
    "duration": 5,
    "start_time": "2023-07-12T11:10:10.388Z"
   },
   {
    "duration": 37,
    "start_time": "2023-07-12T11:10:10.915Z"
   },
   {
    "duration": 11,
    "start_time": "2023-07-12T11:10:11.235Z"
   },
   {
    "duration": 4,
    "start_time": "2023-07-12T11:10:11.862Z"
   },
   {
    "duration": 16,
    "start_time": "2023-07-12T11:10:12.557Z"
   },
   {
    "duration": 20,
    "start_time": "2023-07-12T11:10:12.928Z"
   },
   {
    "duration": 18,
    "start_time": "2023-07-12T11:10:13.118Z"
   },
   {
    "duration": 4,
    "start_time": "2023-07-12T11:10:13.790Z"
   },
   {
    "duration": 13,
    "start_time": "2023-07-12T11:10:13.986Z"
   },
   {
    "duration": 6,
    "start_time": "2023-07-12T11:10:14.336Z"
   },
   {
    "duration": 4,
    "start_time": "2023-07-12T11:10:14.736Z"
   },
   {
    "duration": 10,
    "start_time": "2023-07-12T11:10:14.913Z"
   },
   {
    "duration": 1517,
    "start_time": "2023-07-12T11:10:15.988Z"
   },
   {
    "duration": 1655,
    "start_time": "2023-07-12T11:10:17.606Z"
   },
   {
    "duration": 1638,
    "start_time": "2023-07-12T11:21:57.618Z"
   },
   {
    "duration": 1569,
    "start_time": "2023-07-12T11:22:20.812Z"
   },
   {
    "duration": 1579,
    "start_time": "2023-07-12T11:23:49.182Z"
   },
   {
    "duration": 1519,
    "start_time": "2023-07-12T11:28:48.456Z"
   },
   {
    "duration": 1638,
    "start_time": "2023-07-12T11:33:36.297Z"
   },
   {
    "duration": 1583,
    "start_time": "2023-07-12T11:41:01.147Z"
   },
   {
    "duration": 1674,
    "start_time": "2023-07-12T11:41:03.243Z"
   },
   {
    "duration": 1450,
    "start_time": "2023-07-12T11:46:29.195Z"
   },
   {
    "duration": 1511,
    "start_time": "2023-07-12T11:46:33.893Z"
   },
   {
    "duration": 1630,
    "start_time": "2023-07-12T11:46:35.407Z"
   },
   {
    "duration": 1549,
    "start_time": "2023-07-12T11:46:37.039Z"
   },
   {
    "duration": 1442,
    "start_time": "2023-07-12T11:51:50.625Z"
   },
   {
    "duration": 1436,
    "start_time": "2023-07-12T11:52:08.387Z"
   },
   {
    "duration": 1547,
    "start_time": "2023-07-12T11:55:49.809Z"
   },
   {
    "duration": 1536,
    "start_time": "2023-07-12T11:56:15.802Z"
   },
   {
    "duration": 1536,
    "start_time": "2023-07-12T11:57:05.528Z"
   },
   {
    "duration": 1572,
    "start_time": "2023-07-12T11:57:09.995Z"
   },
   {
    "duration": 1695,
    "start_time": "2023-07-12T11:57:11.569Z"
   },
   {
    "duration": 1562,
    "start_time": "2023-07-12T11:57:18.735Z"
   }
  ],
  "colab": {
   "name": "dpp_template_part2.ipynb",
   "provenance": []
  },
  "kernelspec": {
   "display_name": "Python 3 (ipykernel)",
   "language": "python",
   "name": "python3"
  },
  "language_info": {
   "codemirror_mode": {
    "name": "ipython",
    "version": 3
   },
   "file_extension": ".py",
   "mimetype": "text/x-python",
   "name": "python",
   "nbconvert_exporter": "python",
   "pygments_lexer": "ipython3",
   "version": "3.12.1"
  },
  "toc": {
   "base_numbering": 1,
   "nav_menu": {},
   "number_sections": true,
   "sideBar": true,
   "skip_h1_title": true,
   "title_cell": "Table of Contents",
   "title_sidebar": "Contents",
   "toc_cell": false,
   "toc_position": {},
   "toc_section_display": true,
   "toc_window_display": true
  }
 },
 "nbformat": 4,
 "nbformat_minor": 5
}
