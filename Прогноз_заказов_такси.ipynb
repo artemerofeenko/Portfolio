{
 "cells": [
  {
   "cell_type": "markdown",
   "id": "e0724959-06cd-4150-9f59-94410e94cf5a",
   "metadata": {},
   "source": [
    "# Прогноз количества заказов такси на следующий час"
   ]
  },
  {
   "cell_type": "markdown",
   "id": "69122443-5c2e-435d-82ff-eae287ac0728",
   "metadata": {},
   "source": [
    "## Описание проекта"
   ]
  },
  {
   "cell_type": "markdown",
   "id": "3defc6ca-083b-4ebc-afa4-b4f6ee929121",
   "metadata": {},
   "source": [
    "Компания «Чётенькое такси» собрала исторические данные о заказах такси в аэропортах. Чтобы привлекать больше водителей в период пиковой нагрузки, нужно спрогнозировать количество заказов такси на следующий час. Постройте модель для такого предсказания."
   ]
  },
  {
   "cell_type": "markdown",
   "id": "41dcbef3-6a71-4dd9-8190-09398265c26b",
   "metadata": {},
   "source": [
    "## Цель проекта"
   ]
  },
  {
   "cell_type": "markdown",
   "id": "63cee7b7-5895-4334-a843-02861c81bf5d",
   "metadata": {},
   "source": [
    "Построить модель, чтобы спрогнозировать количество заказов такси на следующий час."
   ]
  },
  {
   "cell_type": "markdown",
   "id": "7d700c25-a1d5-4dc0-8650-543abae3931d",
   "metadata": {},
   "source": [
    "## Описание данных"
   ]
  },
  {
   "cell_type": "markdown",
   "id": "775f34d3-a3a8-404c-8b08-b8241ef7f1f1",
   "metadata": {},
   "source": [
    "Данные содержат Датафрейм с информацией о компании"
   ]
  },
  {
   "cell_type": "markdown",
   "id": "565c7443-a8f3-4654-84cd-9455b74e9c78",
   "metadata": {},
   "source": [
    "## План работы"
   ]
  },
  {
   "cell_type": "markdown",
   "id": "73134df7-766a-4742-acc6-e36d56aac5d2",
   "metadata": {},
   "source": [
    "1. Загрузка и подготовка данных\n",
    "2. Анализ данных\n",
    "3. Обучение модели\n",
    "4. Проверка на тестовых данных"
   ]
  },
  {
   "cell_type": "code",
   "execution_count": 1,
   "id": "6547c787-9306-4d26-80de-cc25f34200d0",
   "metadata": {},
   "outputs": [],
   "source": [
    "import pandas as pd\n",
    "import matplotlib.pyplot as plt\n",
    "import numpy as np\n",
    "from scipy import stats\n",
    "pd.options.mode.chained_assignment = None\n",
    "from sklearn.preprocessing import StandardScaler\n",
    "from sklearn.linear_model import LinearRegression\n",
    "from sklearn.linear_model import LogisticRegression\n",
    "from sklearn.model_selection import train_test_split\n",
    "from sklearn.metrics import accuracy_score\n",
    "from sklearn.metrics import recall_score\n",
    "from sklearn.metrics import precision_score\n",
    "from sklearn.metrics import confusion_matrix\n",
    "from sklearn.metrics import roc_auc_score\n",
    "from sklearn.metrics import r2_score\n",
    "from sklearn.metrics import mean_squared_error, mean_absolute_error\n",
    "from sklearn.preprocessing import OneHotEncoder\n",
    "from sklearn.preprocessing import MinMaxScaler\n",
    "import warnings\n",
    "warnings.filterwarnings('ignore')\n",
    "from sklearn.compose import ColumnTransformer\n",
    "from sklearn.pipeline import Pipeline\n",
    "from sklearn.impute import SimpleImputer\n",
    "from sklearn.model_selection import GridSearchCV\n",
    "from sklearn.neighbors import KNeighborsClassifier\n",
    "from sklearn.tree import DecisionTreeClassifier\n",
    "from sklearn.tree import DecisionTreeRegressor\n",
    "from sklearn.neighbors import KNeighborsRegressor\n",
    "from sklearn.svm import SVC\n",
    "from sklearn.ensemble import RandomForestRegressor\n",
    "from sklearn.ensemble import GradientBoostingRegressor\n",
    "from sklearn.metrics import make_scorer\n",
    "from sklearn.svm import SVR\n",
    "from statsmodels.tsa.seasonal import seasonal_decompose\n",
    "import os\n",
    "from sklearn.model_selection import TimeSeriesSplit\n",
    "from sklearn.model_selection import cross_val_score\n",
    "import math"
   ]
  },
  {
   "cell_type": "markdown",
   "id": "4ed3bd0a-de34-4a3c-a650-25b9113040f4",
   "metadata": {},
   "source": [
    "## Загрузка и подготовка данных"
   ]
  },
  {
   "cell_type": "code",
   "execution_count": 2,
   "id": "b3c6c45c-2242-4225-95f7-4ff51339ee58",
   "metadata": {},
   "outputs": [
    {
     "name": "stdout",
     "output_type": "stream",
     "text": [
      "                     num_orders\n",
      "datetime                       \n",
      "2018-03-01 00:00:00           9\n",
      "2018-03-01 00:10:00          14\n",
      "2018-03-01 00:20:00          28\n",
      "2018-03-01 00:30:00          20\n",
      "2018-03-01 00:40:00          32\n",
      "2018-03-01 00:50:00          21\n",
      "2018-03-01 01:00:00           7\n",
      "2018-03-01 01:10:00           5\n",
      "2018-03-01 01:20:00          17\n",
      "2018-03-01 01:30:00          12\n",
      "<class 'pandas.core.frame.DataFrame'>\n",
      "DatetimeIndex: 26496 entries, 2018-03-01 00:00:00 to 2018-08-31 23:50:00\n",
      "Data columns (total 1 columns):\n",
      " #   Column      Non-Null Count  Dtype\n",
      "---  ------      --------------  -----\n",
      " 0   num_orders  26496 non-null  int64\n",
      "dtypes: int64(1)\n",
      "memory usage: 414.0 KB\n",
      "None\n"
     ]
    }
   ],
   "source": [
    "# Локальный и серверный пути к файлу\n",
    "local_filepath = r\"C:\\Users\\erofe\\Downloads\\taxi.csv\"\n",
    "server_filepath = \"/datasets/taxi.csv\"\n",
    "\n",
    "# Попытка загрузки данных с локального пути\n",
    "try:\n",
    "    df = pd.read_csv(local_filepath, sep=',', parse_dates=[0], index_col=0)\n",
    "except FileNotFoundError:\n",
    "    # Если локальный путь не существует, попробовать серверный путь\n",
    "    try:\n",
    "        df = pd.read_csv(server_filepath, sep=',', parse_dates=[0], index_col=0)\n",
    "    except FileNotFoundError:\n",
    "        print('Файл не найден. Проверьте пути к файлам.')\n",
    "\n",
    "# Вывод первых 10 строк таблицы\n",
    "print(df.head(10))\n",
    "\n",
    "# Вывод информации о таблице\n",
    "print(df.info())"
   ]
  },
  {
   "cell_type": "markdown",
   "id": "2f1ad6b1-2990-426e-ada9-256fa39c91cb",
   "metadata": {},
   "source": [
    "На первый взгляд, с данными все хорошо пропущенных значений не наблюдается."
   ]
  },
  {
   "cell_type": "code",
   "execution_count": 3,
   "id": "e3988029-dffc-441a-868c-7eb85963def0",
   "metadata": {},
   "outputs": [
    {
     "data": {
      "text/html": [
       "<div>\n",
       "<style scoped>\n",
       "    .dataframe tbody tr th:only-of-type {\n",
       "        vertical-align: middle;\n",
       "    }\n",
       "\n",
       "    .dataframe tbody tr th {\n",
       "        vertical-align: top;\n",
       "    }\n",
       "\n",
       "    .dataframe thead th {\n",
       "        text-align: right;\n",
       "    }\n",
       "</style>\n",
       "<table border=\"1\" class=\"dataframe\">\n",
       "  <thead>\n",
       "    <tr style=\"text-align: right;\">\n",
       "      <th></th>\n",
       "      <th>num_orders</th>\n",
       "    </tr>\n",
       "    <tr>\n",
       "      <th>datetime</th>\n",
       "      <th></th>\n",
       "    </tr>\n",
       "  </thead>\n",
       "  <tbody>\n",
       "    <tr>\n",
       "      <th>2018-03-01 00:00:00</th>\n",
       "      <td>124</td>\n",
       "    </tr>\n",
       "    <tr>\n",
       "      <th>2018-03-01 01:00:00</th>\n",
       "      <td>85</td>\n",
       "    </tr>\n",
       "    <tr>\n",
       "      <th>2018-03-01 02:00:00</th>\n",
       "      <td>71</td>\n",
       "    </tr>\n",
       "    <tr>\n",
       "      <th>2018-03-01 03:00:00</th>\n",
       "      <td>66</td>\n",
       "    </tr>\n",
       "    <tr>\n",
       "      <th>2018-03-01 04:00:00</th>\n",
       "      <td>43</td>\n",
       "    </tr>\n",
       "    <tr>\n",
       "      <th>...</th>\n",
       "      <td>...</td>\n",
       "    </tr>\n",
       "    <tr>\n",
       "      <th>2018-08-31 19:00:00</th>\n",
       "      <td>136</td>\n",
       "    </tr>\n",
       "    <tr>\n",
       "      <th>2018-08-31 20:00:00</th>\n",
       "      <td>154</td>\n",
       "    </tr>\n",
       "    <tr>\n",
       "      <th>2018-08-31 21:00:00</th>\n",
       "      <td>159</td>\n",
       "    </tr>\n",
       "    <tr>\n",
       "      <th>2018-08-31 22:00:00</th>\n",
       "      <td>223</td>\n",
       "    </tr>\n",
       "    <tr>\n",
       "      <th>2018-08-31 23:00:00</th>\n",
       "      <td>205</td>\n",
       "    </tr>\n",
       "  </tbody>\n",
       "</table>\n",
       "<p>4416 rows × 1 columns</p>\n",
       "</div>"
      ],
      "text/plain": [
       "                     num_orders\n",
       "datetime                       \n",
       "2018-03-01 00:00:00         124\n",
       "2018-03-01 01:00:00          85\n",
       "2018-03-01 02:00:00          71\n",
       "2018-03-01 03:00:00          66\n",
       "2018-03-01 04:00:00          43\n",
       "...                         ...\n",
       "2018-08-31 19:00:00         136\n",
       "2018-08-31 20:00:00         154\n",
       "2018-08-31 21:00:00         159\n",
       "2018-08-31 22:00:00         223\n",
       "2018-08-31 23:00:00         205\n",
       "\n",
       "[4416 rows x 1 columns]"
      ]
     },
     "execution_count": 3,
     "metadata": {},
     "output_type": "execute_result"
    }
   ],
   "source": [
    "#Проводим ресемплирование по 1 часу\n",
    "df = df.resample(\"1H\").sum()\n",
    "df"
   ]
  },
  {
   "cell_type": "markdown",
   "id": "9600282a-43d4-4b9d-a49b-5e89a1cd582c",
   "metadata": {},
   "source": [
    "Вывод: В данной части работы, мы загрузили данные и провели ресемплирование по 1 часу."
   ]
  },
  {
   "cell_type": "markdown",
   "id": "688032f2-4501-4004-b359-39670e45166c",
   "metadata": {},
   "source": [
    "## Анализ данных"
   ]
  },
  {
   "cell_type": "markdown",
   "id": "045fdc2e-e76f-4047-882e-5f1fbf637971",
   "metadata": {},
   "source": [
    "Создадим дополнительную переменную скользящего среднего и скользящего стандартного отклонения, для более точного анализа"
   ]
  },
  {
   "cell_type": "code",
   "execution_count": 4,
   "id": "914b865f-7e47-41e2-9c40-cac720421929",
   "metadata": {},
   "outputs": [],
   "source": [
    "df[\"mean\"] = df[\"num_orders\"].rolling(15, closed = 'left').mean()\n",
    "df[\"std\"] = df[\"num_orders\"].rolling(15, closed = 'left').std()"
   ]
  },
  {
   "cell_type": "code",
   "execution_count": 5,
   "id": "00caeb05-ea25-4a05-a228-905e447539ce",
   "metadata": {},
   "outputs": [
    {
     "data": {
      "image/png": "[encoded data removed]",
      "text/plain": [
       "<Figure size 640x480 with 1 Axes>"
      ]
     },
     "metadata": {},
     "output_type": "display_data"
    }
   ],
   "source": [
    "df.plot(title = 'График по столбцу num_orders')\n",
    "plt.xlabel('Дата')\n",
    "plt.ylabel('Количество заказов')\n",
    "plt.show()"
   ]
  },
  {
   "cell_type": "markdown",
   "id": "c68056d2-982c-4c7a-814f-e587d13bbc82",
   "metadata": {},
   "source": [
    "Выборка достаточно нестационарна, но для точной оценки надо еще оценить разность ряда"
   ]
  },
  {
   "cell_type": "code",
   "execution_count": 6,
   "id": "8526943b-5568-4e4a-a4ca-d9c81af4b87c",
   "metadata": {},
   "outputs": [
    {
     "data": {
      "image/png": "[encoded data removed]",
      "text/plain": [
       "<Figure size 640x480 with 1 Axes>"
      ]
     },
     "metadata": {},
     "output_type": "display_data"
    }
   ],
   "source": [
    "df0 = df - df.shift()\n",
    "df0[\"mean\"] = df0[\"num_orders\"].rolling(15, closed = 'left').mean()\n",
    "df0[\"std\"] = df0[\"num_orders\"].rolling(15, closed = 'left').std()\n",
    "df0.plot(title = 'График по столбцу num_orders')\n",
    "plt.xlabel('Дата')\n",
    "plt.ylabel('Количество заказов')\n",
    "plt.show()"
   ]
  },
  {
   "cell_type": "markdown",
   "id": "cbaf5e6e-b213-4423-a0f4-e47a9db24ea6",
   "metadata": {},
   "source": [
    "По графикам видно, что наша выборка нестационарна"
   ]
  },
  {
   "cell_type": "code",
   "execution_count": 7,
   "id": "f9d8e1a9-3308-41f6-824a-0df22fff3e51",
   "metadata": {},
   "outputs": [
    {
     "data": {
      "text/html": [
       "<div>\n",
       "<style scoped>\n",
       "    .dataframe tbody tr th:only-of-type {\n",
       "        vertical-align: middle;\n",
       "    }\n",
       "\n",
       "    .dataframe tbody tr th {\n",
       "        vertical-align: top;\n",
       "    }\n",
       "\n",
       "    .dataframe thead th {\n",
       "        text-align: right;\n",
       "    }\n",
       "</style>\n",
       "<table border=\"1\" class=\"dataframe\">\n",
       "  <thead>\n",
       "    <tr style=\"text-align: right;\">\n",
       "      <th></th>\n",
       "      <th>num_orders</th>\n",
       "    </tr>\n",
       "    <tr>\n",
       "      <th>datetime</th>\n",
       "      <th></th>\n",
       "    </tr>\n",
       "  </thead>\n",
       "  <tbody>\n",
       "    <tr>\n",
       "      <th>2018-03-01 00:00:00</th>\n",
       "      <td>124</td>\n",
       "    </tr>\n",
       "    <tr>\n",
       "      <th>2018-03-01 01:00:00</th>\n",
       "      <td>85</td>\n",
       "    </tr>\n",
       "    <tr>\n",
       "      <th>2018-03-01 02:00:00</th>\n",
       "      <td>71</td>\n",
       "    </tr>\n",
       "    <tr>\n",
       "      <th>2018-03-01 03:00:00</th>\n",
       "      <td>66</td>\n",
       "    </tr>\n",
       "    <tr>\n",
       "      <th>2018-03-01 04:00:00</th>\n",
       "      <td>43</td>\n",
       "    </tr>\n",
       "    <tr>\n",
       "      <th>...</th>\n",
       "      <td>...</td>\n",
       "    </tr>\n",
       "    <tr>\n",
       "      <th>2018-08-31 19:00:00</th>\n",
       "      <td>136</td>\n",
       "    </tr>\n",
       "    <tr>\n",
       "      <th>2018-08-31 20:00:00</th>\n",
       "      <td>154</td>\n",
       "    </tr>\n",
       "    <tr>\n",
       "      <th>2018-08-31 21:00:00</th>\n",
       "      <td>159</td>\n",
       "    </tr>\n",
       "    <tr>\n",
       "      <th>2018-08-31 22:00:00</th>\n",
       "      <td>223</td>\n",
       "    </tr>\n",
       "    <tr>\n",
       "      <th>2018-08-31 23:00:00</th>\n",
       "      <td>205</td>\n",
       "    </tr>\n",
       "  </tbody>\n",
       "</table>\n",
       "<p>4416 rows × 1 columns</p>\n",
       "</div>"
      ],
      "text/plain": [
       "                     num_orders\n",
       "datetime                       \n",
       "2018-03-01 00:00:00         124\n",
       "2018-03-01 01:00:00          85\n",
       "2018-03-01 02:00:00          71\n",
       "2018-03-01 03:00:00          66\n",
       "2018-03-01 04:00:00          43\n",
       "...                         ...\n",
       "2018-08-31 19:00:00         136\n",
       "2018-08-31 20:00:00         154\n",
       "2018-08-31 21:00:00         159\n",
       "2018-08-31 22:00:00         223\n",
       "2018-08-31 23:00:00         205\n",
       "\n",
       "[4416 rows x 1 columns]"
      ]
     },
     "execution_count": 7,
     "metadata": {},
     "output_type": "execute_result"
    }
   ],
   "source": [
    "#Удалим ненужные нам признаки\n",
    "df = df.drop(['std', 'mean'], axis=1)\n",
    "df"
   ]
  },
  {
   "cell_type": "code",
   "execution_count": 8,
   "id": "71c9b965-fb00-47a6-b54d-22a597ab9c57",
   "metadata": {},
   "outputs": [
    {
     "data": {
      "image/png": "[encoded data removed]",
      "text/plain": [
       "<Figure size 600x800 with 1 Axes>"
      ]
     },
     "metadata": {},
     "output_type": "display_data"
    },
    {
     "data": {
      "image/png": "[encoded data removed]",
      "text/plain": [
       "<Figure size 640x480 with 1 Axes>"
      ]
     },
     "metadata": {},
     "output_type": "display_data"
    },
    {
     "data": {
      "image/png": "[encoded data removed]",
      "text/plain": [
       "<Figure size 640x480 with 1 Axes>"
      ]
     },
     "metadata": {},
     "output_type": "display_data"
    },
    {
     "data": {
      "text/plain": [
       "<Figure size 640x480 with 0 Axes>"
      ]
     },
     "metadata": {},
     "output_type": "display_data"
    }
   ],
   "source": [
    "#Строим необходимые графики\n",
    "decomposed = seasonal_decompose(df)\n",
    "plt.figure(figsize=(6, 8))\n",
    "plt.subplot(311)\n",
    "# Чтобы график корректно отобразился, указываем его\n",
    "# оси ax, равными plt.gca() (англ. get current axis,\n",
    "# получить текущие оси)\n",
    "decomposed.trend.plot(ax=plt.gca())\n",
    "plt.title('тренд')\n",
    "plt.xlabel('Дата')\n",
    "plt.ylabel('Количество заказов')\n",
    "plt.show()\n",
    "plt.subplot(312)\n",
    "decomposed.seasonal.plot(ax=plt.gca())\n",
    "plt.title('сезонная составляющая')\n",
    "plt.xlabel('Дата')\n",
    "plt.ylabel('Количество заказов')\n",
    "plt.show()\n",
    "plt.subplot(313)\n",
    "decomposed.resid.plot(ax=plt.gca())\n",
    "plt.title('остаток декомпозиции')\n",
    "plt.xlabel('Дата')\n",
    "plt.ylabel('Количество заказов')\n",
    "plt.show()\n",
    "plt.tight_layout()"
   ]
  },
  {
   "cell_type": "markdown",
   "id": "4a876a27",
   "metadata": {},
   "source": [
    "Сезонная составляющая не влияет на количество заказов, в то время, как линия тренда показывает, что количество заказов становится все больше и больше."
   ]
  },
  {
   "cell_type": "code",
   "execution_count": 9,
   "id": "11ed82fc",
   "metadata": {},
   "outputs": [
    {
     "data": {
      "image/png": "[encoded data removed]",
      "text/plain": [
       "<Figure size 600x800 with 1 Axes>"
      ]
     },
     "metadata": {},
     "output_type": "display_data"
    },
    {
     "data": {
      "image/png": "[encoded data removed]",
      "text/plain": [
       "<Figure size 640x480 with 1 Axes>"
      ]
     },
     "metadata": {},
     "output_type": "display_data"
    },
    {
     "data": {
      "image/png": "[encoded data removed]",
      "text/plain": [
       "<Figure size 640x480 with 1 Axes>"
      ]
     },
     "metadata": {},
     "output_type": "display_data"
    },
    {
     "data": {
      "text/plain": [
       "<Figure size 640x480 with 0 Axes>"
      ]
     },
     "metadata": {},
     "output_type": "display_data"
    }
   ],
   "source": [
    "#Строим необходимые графики\n",
    "decomposed = seasonal_decompose(df['2018-03-01 00:00:00':'2018-03-04 00:00:00'])\n",
    "plt.figure(figsize=(6, 8))\n",
    "plt.subplot(311)\n",
    "# Чтобы график корректно отобразился, указываем его\n",
    "# оси ax, равными plt.gca() (англ. get current axis,\n",
    "# получить текущие оси)\n",
    "decomposed.trend.plot(ax=plt.gca())\n",
    "plt.title('тренд')\n",
    "plt.xlabel('Время')\n",
    "plt.ylabel('Количество заказов')\n",
    "plt.show()\n",
    "plt.subplot(312)\n",
    "decomposed.seasonal.plot(ax=plt.gca())\n",
    "plt.title('сезонная составляющая')\n",
    "plt.xlabel('Время')\n",
    "plt.ylabel('Количество заказов')\n",
    "plt.show()\n",
    "plt.subplot(313)\n",
    "decomposed.resid.plot(ax=plt.gca())\n",
    "plt.title('остаток декомпозиции')\n",
    "plt.xlabel('Время')\n",
    "plt.ylabel('Количество заказов')\n",
    "plt.show()\n",
    "plt.tight_layout()"
   ]
  },
  {
   "cell_type": "markdown",
   "id": "3a5601d6",
   "metadata": {},
   "source": [
    "Рассмотрев количество заказов в разрезе 3 суток, мы выяснили, что сезонность здесь присутствует суточная, самое большое количество заказов приходится на время около 00.00, а самое маленькое примерно на 6 утра. Это скорее всего связано с количеством прибывающих рейсов в аэропорт в данное время, и с нежеланием или невозможностью проезда на общественном транспорте в позднее время."
   ]
  },
  {
   "cell_type": "markdown",
   "id": "7eacf48b-ffcd-49a9-b60b-d0baa4984630",
   "metadata": {},
   "source": [
    "Вывод: В данной части работы был проведен анализ данных, выяснено, что выборка является стационарной и были построены и проанализированны графики тренда, сезонной составляющей и остатка декомпозиции."
   ]
  },
  {
   "cell_type": "markdown",
   "id": "763ca917-13d0-47e6-ae92-c0adc7f9530b",
   "metadata": {},
   "source": [
    "## Обучение и проверка модели"
   ]
  },
  {
   "cell_type": "code",
   "execution_count": 10,
   "id": "f25b3da5",
   "metadata": {},
   "outputs": [],
   "source": [
    "#Создаем новые признаки для обучения молдели\n",
    "def make_features(df, max_lag, rolling_mean_size):\n",
    "    df['day'] = df.index.day\n",
    "    df['dayofweek'] = df.index.dayofweek\n",
    "    \n",
    "    for lag in range(1, max_lag + 1):\n",
    "        df['lag_{}'.format(lag)] = df['num_orders'].shift(lag)\n",
    "\n",
    "    df['rolling_mean'] = df['num_orders'].shift().rolling(window=rolling_mean_size).mean()"
   ]
  },
  {
   "cell_type": "code",
   "execution_count": 11,
   "id": "54aacaed-bae0-4924-a856-1a0daa10ae52",
   "metadata": {},
   "outputs": [
    {
     "data": {
      "text/html": [
       "<div>\n",
       "<style scoped>\n",
       "    .dataframe tbody tr th:only-of-type {\n",
       "        vertical-align: middle;\n",
       "    }\n",
       "\n",
       "    .dataframe tbody tr th {\n",
       "        vertical-align: top;\n",
       "    }\n",
       "\n",
       "    .dataframe thead th {\n",
       "        text-align: right;\n",
       "    }\n",
       "</style>\n",
       "<table border=\"1\" class=\"dataframe\">\n",
       "  <thead>\n",
       "    <tr style=\"text-align: right;\">\n",
       "      <th></th>\n",
       "      <th>num_orders</th>\n",
       "      <th>day</th>\n",
       "      <th>dayofweek</th>\n",
       "      <th>lag_1</th>\n",
       "      <th>lag_2</th>\n",
       "      <th>lag_3</th>\n",
       "      <th>lag_4</th>\n",
       "      <th>lag_5</th>\n",
       "      <th>lag_6</th>\n",
       "      <th>lag_7</th>\n",
       "      <th>...</th>\n",
       "      <th>lag_16</th>\n",
       "      <th>lag_17</th>\n",
       "      <th>lag_18</th>\n",
       "      <th>lag_19</th>\n",
       "      <th>lag_20</th>\n",
       "      <th>lag_21</th>\n",
       "      <th>lag_22</th>\n",
       "      <th>lag_23</th>\n",
       "      <th>lag_24</th>\n",
       "      <th>rolling_mean</th>\n",
       "    </tr>\n",
       "    <tr>\n",
       "      <th>datetime</th>\n",
       "      <th></th>\n",
       "      <th></th>\n",
       "      <th></th>\n",
       "      <th></th>\n",
       "      <th></th>\n",
       "      <th></th>\n",
       "      <th></th>\n",
       "      <th></th>\n",
       "      <th></th>\n",
       "      <th></th>\n",
       "      <th></th>\n",
       "      <th></th>\n",
       "      <th></th>\n",
       "      <th></th>\n",
       "      <th></th>\n",
       "      <th></th>\n",
       "      <th></th>\n",
       "      <th></th>\n",
       "      <th></th>\n",
       "      <th></th>\n",
       "      <th></th>\n",
       "    </tr>\n",
       "  </thead>\n",
       "  <tbody>\n",
       "    <tr>\n",
       "      <th>2018-03-01 00:00:00</th>\n",
       "      <td>124</td>\n",
       "      <td>1</td>\n",
       "      <td>3</td>\n",
       "      <td>NaN</td>\n",
       "      <td>NaN</td>\n",
       "      <td>NaN</td>\n",
       "      <td>NaN</td>\n",
       "      <td>NaN</td>\n",
       "      <td>NaN</td>\n",
       "      <td>NaN</td>\n",
       "      <td>...</td>\n",
       "      <td>NaN</td>\n",
       "      <td>NaN</td>\n",
       "      <td>NaN</td>\n",
       "      <td>NaN</td>\n",
       "      <td>NaN</td>\n",
       "      <td>NaN</td>\n",
       "      <td>NaN</td>\n",
       "      <td>NaN</td>\n",
       "      <td>NaN</td>\n",
       "      <td>NaN</td>\n",
       "    </tr>\n",
       "    <tr>\n",
       "      <th>2018-03-01 01:00:00</th>\n",
       "      <td>85</td>\n",
       "      <td>1</td>\n",
       "      <td>3</td>\n",
       "      <td>124.0</td>\n",
       "      <td>NaN</td>\n",
       "      <td>NaN</td>\n",
       "      <td>NaN</td>\n",
       "      <td>NaN</td>\n",
       "      <td>NaN</td>\n",
       "      <td>NaN</td>\n",
       "      <td>...</td>\n",
       "      <td>NaN</td>\n",
       "      <td>NaN</td>\n",
       "      <td>NaN</td>\n",
       "      <td>NaN</td>\n",
       "      <td>NaN</td>\n",
       "      <td>NaN</td>\n",
       "      <td>NaN</td>\n",
       "      <td>NaN</td>\n",
       "      <td>NaN</td>\n",
       "      <td>NaN</td>\n",
       "    </tr>\n",
       "    <tr>\n",
       "      <th>2018-03-01 02:00:00</th>\n",
       "      <td>71</td>\n",
       "      <td>1</td>\n",
       "      <td>3</td>\n",
       "      <td>85.0</td>\n",
       "      <td>124.0</td>\n",
       "      <td>NaN</td>\n",
       "      <td>NaN</td>\n",
       "      <td>NaN</td>\n",
       "      <td>NaN</td>\n",
       "      <td>NaN</td>\n",
       "      <td>...</td>\n",
       "      <td>NaN</td>\n",
       "      <td>NaN</td>\n",
       "      <td>NaN</td>\n",
       "      <td>NaN</td>\n",
       "      <td>NaN</td>\n",
       "      <td>NaN</td>\n",
       "      <td>NaN</td>\n",
       "      <td>NaN</td>\n",
       "      <td>NaN</td>\n",
       "      <td>NaN</td>\n",
       "    </tr>\n",
       "    <tr>\n",
       "      <th>2018-03-01 03:00:00</th>\n",
       "      <td>66</td>\n",
       "      <td>1</td>\n",
       "      <td>3</td>\n",
       "      <td>71.0</td>\n",
       "      <td>85.0</td>\n",
       "      <td>124.0</td>\n",
       "      <td>NaN</td>\n",
       "      <td>NaN</td>\n",
       "      <td>NaN</td>\n",
       "      <td>NaN</td>\n",
       "      <td>...</td>\n",
       "      <td>NaN</td>\n",
       "      <td>NaN</td>\n",
       "      <td>NaN</td>\n",
       "      <td>NaN</td>\n",
       "      <td>NaN</td>\n",
       "      <td>NaN</td>\n",
       "      <td>NaN</td>\n",
       "      <td>NaN</td>\n",
       "      <td>NaN</td>\n",
       "      <td>NaN</td>\n",
       "    </tr>\n",
       "    <tr>\n",
       "      <th>2018-03-01 04:00:00</th>\n",
       "      <td>43</td>\n",
       "      <td>1</td>\n",
       "      <td>3</td>\n",
       "      <td>66.0</td>\n",
       "      <td>71.0</td>\n",
       "      <td>85.0</td>\n",
       "      <td>124.0</td>\n",
       "      <td>NaN</td>\n",
       "      <td>NaN</td>\n",
       "      <td>NaN</td>\n",
       "      <td>...</td>\n",
       "      <td>NaN</td>\n",
       "      <td>NaN</td>\n",
       "      <td>NaN</td>\n",
       "      <td>NaN</td>\n",
       "      <td>NaN</td>\n",
       "      <td>NaN</td>\n",
       "      <td>NaN</td>\n",
       "      <td>NaN</td>\n",
       "      <td>NaN</td>\n",
       "      <td>NaN</td>\n",
       "    </tr>\n",
       "    <tr>\n",
       "      <th>...</th>\n",
       "      <td>...</td>\n",
       "      <td>...</td>\n",
       "      <td>...</td>\n",
       "      <td>...</td>\n",
       "      <td>...</td>\n",
       "      <td>...</td>\n",
       "      <td>...</td>\n",
       "      <td>...</td>\n",
       "      <td>...</td>\n",
       "      <td>...</td>\n",
       "      <td>...</td>\n",
       "      <td>...</td>\n",
       "      <td>...</td>\n",
       "      <td>...</td>\n",
       "      <td>...</td>\n",
       "      <td>...</td>\n",
       "      <td>...</td>\n",
       "      <td>...</td>\n",
       "      <td>...</td>\n",
       "      <td>...</td>\n",
       "      <td>...</td>\n",
       "    </tr>\n",
       "    <tr>\n",
       "      <th>2018-08-31 19:00:00</th>\n",
       "      <td>136</td>\n",
       "      <td>31</td>\n",
       "      <td>4</td>\n",
       "      <td>207.0</td>\n",
       "      <td>217.0</td>\n",
       "      <td>197.0</td>\n",
       "      <td>116.0</td>\n",
       "      <td>133.0</td>\n",
       "      <td>166.0</td>\n",
       "      <td>136.0</td>\n",
       "      <td>...</td>\n",
       "      <td>99.0</td>\n",
       "      <td>230.0</td>\n",
       "      <td>194.0</td>\n",
       "      <td>276.0</td>\n",
       "      <td>246.0</td>\n",
       "      <td>158.0</td>\n",
       "      <td>198.0</td>\n",
       "      <td>142.0</td>\n",
       "      <td>72.0</td>\n",
       "      <td>156.133333</td>\n",
       "    </tr>\n",
       "    <tr>\n",
       "      <th>2018-08-31 20:00:00</th>\n",
       "      <td>154</td>\n",
       "      <td>31</td>\n",
       "      <td>4</td>\n",
       "      <td>136.0</td>\n",
       "      <td>207.0</td>\n",
       "      <td>217.0</td>\n",
       "      <td>197.0</td>\n",
       "      <td>116.0</td>\n",
       "      <td>133.0</td>\n",
       "      <td>166.0</td>\n",
       "      <td>...</td>\n",
       "      <td>268.0</td>\n",
       "      <td>99.0</td>\n",
       "      <td>230.0</td>\n",
       "      <td>194.0</td>\n",
       "      <td>276.0</td>\n",
       "      <td>246.0</td>\n",
       "      <td>158.0</td>\n",
       "      <td>198.0</td>\n",
       "      <td>142.0</td>\n",
       "      <td>147.333333</td>\n",
       "    </tr>\n",
       "    <tr>\n",
       "      <th>2018-08-31 21:00:00</th>\n",
       "      <td>159</td>\n",
       "      <td>31</td>\n",
       "      <td>4</td>\n",
       "      <td>154.0</td>\n",
       "      <td>136.0</td>\n",
       "      <td>207.0</td>\n",
       "      <td>217.0</td>\n",
       "      <td>197.0</td>\n",
       "      <td>116.0</td>\n",
       "      <td>133.0</td>\n",
       "      <td>...</td>\n",
       "      <td>78.0</td>\n",
       "      <td>268.0</td>\n",
       "      <td>99.0</td>\n",
       "      <td>230.0</td>\n",
       "      <td>194.0</td>\n",
       "      <td>276.0</td>\n",
       "      <td>246.0</td>\n",
       "      <td>158.0</td>\n",
       "      <td>198.0</td>\n",
       "      <td>152.400000</td>\n",
       "    </tr>\n",
       "    <tr>\n",
       "      <th>2018-08-31 22:00:00</th>\n",
       "      <td>223</td>\n",
       "      <td>31</td>\n",
       "      <td>4</td>\n",
       "      <td>159.0</td>\n",
       "      <td>154.0</td>\n",
       "      <td>136.0</td>\n",
       "      <td>207.0</td>\n",
       "      <td>217.0</td>\n",
       "      <td>197.0</td>\n",
       "      <td>116.0</td>\n",
       "      <td>...</td>\n",
       "      <td>35.0</td>\n",
       "      <td>78.0</td>\n",
       "      <td>268.0</td>\n",
       "      <td>99.0</td>\n",
       "      <td>230.0</td>\n",
       "      <td>194.0</td>\n",
       "      <td>276.0</td>\n",
       "      <td>246.0</td>\n",
       "      <td>158.0</td>\n",
       "      <td>160.666667</td>\n",
       "    </tr>\n",
       "    <tr>\n",
       "      <th>2018-08-31 23:00:00</th>\n",
       "      <td>205</td>\n",
       "      <td>31</td>\n",
       "      <td>4</td>\n",
       "      <td>223.0</td>\n",
       "      <td>159.0</td>\n",
       "      <td>154.0</td>\n",
       "      <td>136.0</td>\n",
       "      <td>207.0</td>\n",
       "      <td>217.0</td>\n",
       "      <td>197.0</td>\n",
       "      <td>...</td>\n",
       "      <td>46.0</td>\n",
       "      <td>35.0</td>\n",
       "      <td>78.0</td>\n",
       "      <td>268.0</td>\n",
       "      <td>99.0</td>\n",
       "      <td>230.0</td>\n",
       "      <td>194.0</td>\n",
       "      <td>276.0</td>\n",
       "      <td>246.0</td>\n",
       "      <td>172.466667</td>\n",
       "    </tr>\n",
       "  </tbody>\n",
       "</table>\n",
       "<p>4416 rows × 28 columns</p>\n",
       "</div>"
      ],
      "text/plain": [
       "                     num_orders  day  dayofweek  lag_1  lag_2  lag_3  lag_4  \\\n",
       "datetime                                                                      \n",
       "2018-03-01 00:00:00         124    1          3    NaN    NaN    NaN    NaN   \n",
       "2018-03-01 01:00:00          85    1          3  124.0    NaN    NaN    NaN   \n",
       "2018-03-01 02:00:00          71    1          3   85.0  124.0    NaN    NaN   \n",
       "2018-03-01 03:00:00          66    1          3   71.0   85.0  124.0    NaN   \n",
       "2018-03-01 04:00:00          43    1          3   66.0   71.0   85.0  124.0   \n",
       "...                         ...  ...        ...    ...    ...    ...    ...   \n",
       "2018-08-31 19:00:00         136   31          4  207.0  217.0  197.0  116.0   \n",
       "2018-08-31 20:00:00         154   31          4  136.0  207.0  217.0  197.0   \n",
       "2018-08-31 21:00:00         159   31          4  154.0  136.0  207.0  217.0   \n",
       "2018-08-31 22:00:00         223   31          4  159.0  154.0  136.0  207.0   \n",
       "2018-08-31 23:00:00         205   31          4  223.0  159.0  154.0  136.0   \n",
       "\n",
       "                     lag_5  lag_6  lag_7  ...  lag_16  lag_17  lag_18  lag_19  \\\n",
       "datetime                                  ...                                   \n",
       "2018-03-01 00:00:00    NaN    NaN    NaN  ...     NaN     NaN     NaN     NaN   \n",
       "2018-03-01 01:00:00    NaN    NaN    NaN  ...     NaN     NaN     NaN     NaN   \n",
       "2018-03-01 02:00:00    NaN    NaN    NaN  ...     NaN     NaN     NaN     NaN   \n",
       "2018-03-01 03:00:00    NaN    NaN    NaN  ...     NaN     NaN     NaN     NaN   \n",
       "2018-03-01 04:00:00    NaN    NaN    NaN  ...     NaN     NaN     NaN     NaN   \n",
       "...                    ...    ...    ...  ...     ...     ...     ...     ...   \n",
       "2018-08-31 19:00:00  133.0  166.0  136.0  ...    99.0   230.0   194.0   276.0   \n",
       "2018-08-31 20:00:00  116.0  133.0  166.0  ...   268.0    99.0   230.0   194.0   \n",
       "2018-08-31 21:00:00  197.0  116.0  133.0  ...    78.0   268.0    99.0   230.0   \n",
       "2018-08-31 22:00:00  217.0  197.0  116.0  ...    35.0    78.0   268.0    99.0   \n",
       "2018-08-31 23:00:00  207.0  217.0  197.0  ...    46.0    35.0    78.0   268.0   \n",
       "\n",
       "                     lag_20  lag_21  lag_22  lag_23  lag_24  rolling_mean  \n",
       "datetime                                                                   \n",
       "2018-03-01 00:00:00     NaN     NaN     NaN     NaN     NaN           NaN  \n",
       "2018-03-01 01:00:00     NaN     NaN     NaN     NaN     NaN           NaN  \n",
       "2018-03-01 02:00:00     NaN     NaN     NaN     NaN     NaN           NaN  \n",
       "2018-03-01 03:00:00     NaN     NaN     NaN     NaN     NaN           NaN  \n",
       "2018-03-01 04:00:00     NaN     NaN     NaN     NaN     NaN           NaN  \n",
       "...                     ...     ...     ...     ...     ...           ...  \n",
       "2018-08-31 19:00:00   246.0   158.0   198.0   142.0    72.0    156.133333  \n",
       "2018-08-31 20:00:00   276.0   246.0   158.0   198.0   142.0    147.333333  \n",
       "2018-08-31 21:00:00   194.0   276.0   246.0   158.0   198.0    152.400000  \n",
       "2018-08-31 22:00:00   230.0   194.0   276.0   246.0   158.0    160.666667  \n",
       "2018-08-31 23:00:00    99.0   230.0   194.0   276.0   246.0    172.466667  \n",
       "\n",
       "[4416 rows x 28 columns]"
      ]
     },
     "execution_count": 11,
     "metadata": {},
     "output_type": "execute_result"
    }
   ],
   "source": [
    "make_features(df,24,15)\n",
    "df"
   ]
  },
  {
   "cell_type": "code",
   "execution_count": 12,
   "id": "337c955e-b819-4a8c-961c-0125018c0645",
   "metadata": {},
   "outputs": [],
   "source": [
    "# Разделяем данные на признаки и целевую переменную\n",
    "X = df.drop(['num_orders'], axis=1)\n",
    "y = df['num_orders']\n",
    "\n",
    "# Разбиение данных на обучающую (90%) и тестовую (10%) выборки\n",
    "X_train, X_test, y_train, y_test = train_test_split(X, y, test_size=0.1, random_state=42, shuffle=True)"
   ]
  },
  {
   "cell_type": "code",
   "execution_count": 13,
   "id": "b84d3f20",
   "metadata": {},
   "outputs": [],
   "source": [
    "# Определение количественных и категориальных признаков\n",
    "numeric_features = X_train.select_dtypes(include=['int64', 'float64']).columns\n",
    "categorical_features = X_train.select_dtypes(include=['object']).columns"
   ]
  },
  {
   "cell_type": "code",
   "execution_count": 14,
   "id": "93b1e8eb",
   "metadata": {},
   "outputs": [],
   "source": [
    "# Создание трансформатора для количественных данных\n",
    "numeric_transformer = Pipeline(steps=[\n",
    "    ('imputer', SimpleImputer(strategy='mean')),\n",
    "    ('scaler', StandardScaler())\n",
    "])\n",
    "\n",
    "# Создание ColumnTransformer\n",
    "preprocessor = ColumnTransformer(\n",
    "    transformers=[\n",
    "        ('num', numeric_transformer, numeric_features)\n",
    "    ])\n",
    "\n",
    "# Создание пайплайна предварительной обработки данных и поиска лучшей модели\n",
    "models = {\n",
    "    'LinearRegression': {'model': LinearRegression(), 'param_grid': {}},\n",
    "    'DecisionTreeRegressor': {'model': DecisionTreeRegressor(random_state=42), \n",
    "                              'param_grid': {'regressor__max_depth': [5, 10, 15]}},\n",
    "    'RandomForestRegressor': {'model': RandomForestRegressor(random_state=42), 'param_grid': {\n",
    "            'regressor__n_estimators': [50, 100, 200],\n",
    "            'regressor__max_depth': [5, 10, 15]\n",
    "        }}\n",
    "}"
   ]
  },
  {
   "cell_type": "code",
   "execution_count": 15,
   "id": "cda00dc7-6b75-4403-b7c5-890bf6532184",
   "metadata": {},
   "outputs": [
    {
     "name": "stdout",
     "output_type": "stream",
     "text": [
      "LinearRegression: Лучшие параметры - {}\n",
      "LinearRegression: Лучшая модель - Pipeline(steps=[('preprocessor',\n",
      "                 ColumnTransformer(transformers=[('num',\n",
      "                                                  Pipeline(steps=[('imputer',\n",
      "                                                                   SimpleImputer()),\n",
      "                                                                  ('scaler',\n",
      "                                                                   StandardScaler())]),\n",
      "                                                  Index(['lag_1', 'lag_2', 'lag_3', 'lag_4', 'lag_5', 'lag_6', 'lag_7', 'lag_8',\n",
      "       'lag_9', 'lag_10', 'lag_11', 'lag_12', 'lag_13', 'lag_14', 'lag_15',\n",
      "       'lag_16', 'lag_17', 'lag_18', 'lag_19', 'lag_20', 'lag_21', 'lag_22',\n",
      "       'lag_23', 'lag_24', 'rolling_mean'],\n",
      "      dtype='object'))])),\n",
      "                ('regressor', LinearRegression())])\n",
      "LinearRegression: Средняя оценка кросс-валидации - 28.677254398509774\n",
      "\n",
      "DecisionTreeRegressor: Лучшие параметры - {'regressor__max_depth': 5}\n",
      "DecisionTreeRegressor: Лучшая модель - Pipeline(steps=[('preprocessor',\n",
      "                 ColumnTransformer(transformers=[('num',\n",
      "                                                  Pipeline(steps=[('imputer',\n",
      "                                                                   SimpleImputer()),\n",
      "                                                                  ('scaler',\n",
      "                                                                   StandardScaler())]),\n",
      "                                                  Index(['lag_1', 'lag_2', 'lag_3', 'lag_4', 'lag_5', 'lag_6', 'lag_7', 'lag_8',\n",
      "       'lag_9', 'lag_10', 'lag_11', 'lag_12', 'lag_13', 'lag_14', 'lag_15',\n",
      "       'lag_16', 'lag_17', 'lag_18', 'lag_19', 'lag_20', 'lag_21', 'lag_22',\n",
      "       'lag_23', 'lag_24', 'rolling_mean'],\n",
      "      dtype='object'))])),\n",
      "                ('regressor',\n",
      "                 DecisionTreeRegressor(max_depth=5, random_state=42))])\n",
      "DecisionTreeRegressor: Средняя оценка кросс-валидации - 31.820310317997585\n",
      "\n",
      "RandomForestRegressor: Лучшие параметры - {'regressor__max_depth': 15, 'regressor__n_estimators': 200}\n",
      "RandomForestRegressor: Лучшая модель - Pipeline(steps=[('preprocessor',\n",
      "                 ColumnTransformer(transformers=[('num',\n",
      "                                                  Pipeline(steps=[('imputer',\n",
      "                                                                   SimpleImputer()),\n",
      "                                                                  ('scaler',\n",
      "                                                                   StandardScaler())]),\n",
      "                                                  Index(['lag_1', 'lag_2', 'lag_3', 'lag_4', 'lag_5', 'lag_6', 'lag_7', 'lag_8',\n",
      "       'lag_9', 'lag_10', 'lag_11', 'lag_12', 'lag_13', 'lag_14', 'lag_15',\n",
      "       'lag_16', 'lag_17', 'lag_18', 'lag_19', 'lag_20', 'lag_21', 'lag_22',\n",
      "       'lag_23', 'lag_24', 'rolling_mean'],\n",
      "      dtype='object'))])),\n",
      "                ('regressor',\n",
      "                 RandomForestRegressor(max_depth=15, n_estimators=200,\n",
      "                                       random_state=42))])\n",
      "RandomForestRegressor: Средняя оценка кросс-валидации - 26.315186925713984\n",
      "\n"
     ]
    }
   ],
   "source": [
    "results = {}\n",
    "\n",
    "# Изменим параметр cv на TimeSeriesSplit\n",
    "tscv = TimeSeriesSplit(n_splits=5)\n",
    "\n",
    "for model_name, config in models.items():\n",
    "    pipeline = Pipeline(steps=[\n",
    "        ('preprocessor', preprocessor),\n",
    "        ('regressor', config['model'])\n",
    "    ])\n",
    "    \n",
    "    grid_search = GridSearchCV(pipeline, config['param_grid'], cv=tscv, scoring='neg_mean_squared_error')\n",
    "    \n",
    "    grid_search.fit(X_train, y_train)\n",
    "    cv_scores = cross_val_score(grid_search, X_train, y_train, cv=tscv, scoring='neg_mean_squared_error')\n",
    "    \n",
    "    print(f\"{model_name}: Лучшие параметры - {grid_search.best_params_}\")\n",
    "    print(f\"{model_name}: Лучшая модель - {grid_search.best_estimator_}\")\n",
    "    \n",
    "    # Вывод средней оценки кросс-валидации\n",
    "    print(f\"{model_name}: Средняя оценка кросс-валидации - {math.sqrt(abs(cv_scores).mean())}\\n\")\n",
    "    \n",
    "    results[model_name] = {\n",
    "        'best_params': grid_search.best_estimator_['regressor'].get_params(),\n",
    "        'best_model': grid_search.best_estimator_,\n",
    "        'cv_scores': cv_scores\n",
    "    }"
   ]
  },
  {
   "cell_type": "markdown",
   "id": "1490ddcc-b5ce-47ee-ac31-85100d2091d5",
   "metadata": {},
   "source": [
    "Вывод: Лучшей моделью по нужной нам метрике RMSE стал RandomForestRegressor, именно его мы и будем тестировать далее."
   ]
  },
  {
   "cell_type": "markdown",
   "id": "5336dc80-e225-466d-a9ac-b8945fc63212",
   "metadata": {},
   "source": [
    "## Проверка на тестовых данных"
   ]
  },
  {
   "cell_type": "code",
   "execution_count": 16,
   "id": "8280561e-1f72-4261-b806-7da488d2040c",
   "metadata": {},
   "outputs": [
    {
     "name": "stdout",
     "output_type": "stream",
     "text": [
      "RandomForestRegressor на тестовой выборке: RMSE - 24.159514572583866\n"
     ]
    }
   ],
   "source": [
    "# Извлекаем лучшую модель RandomForestRegressor\n",
    "best_random_forest_model = results['RandomForestRegressor']['best_model']\n",
    "\n",
    "# Предсказания на тестовой выборке\n",
    "y_test_pred = best_random_forest_model.predict(X_test)\n",
    "\n",
    "# Рассчитываем RMSE на тестовой выборке\n",
    "test_rmse = mean_squared_error(y_test, y_test_pred, squared=False)\n",
    "\n",
    "print(f\"RandomForestRegressor на тестовой выборке: RMSE - {test_rmse}\")"
   ]
  },
  {
   "cell_type": "markdown",
   "id": "7661fd06-097f-40d9-b30a-df26fdada87d",
   "metadata": {},
   "source": [
    "Вывод: была проеведена проверка на тестовых данных, модель не переобучилась и показывает результаты, даже лучшие, чем на тренировочной выборке (скорее всего это связано с масштабом выборок)."
   ]
  },
  {
   "cell_type": "markdown",
   "id": "f1bd05d8-d572-492b-b434-94a0afe17c2a",
   "metadata": {},
   "source": [
    "## Общий вывод"
   ]
  },
  {
   "cell_type": "markdown",
   "id": "4daad05d-4ca3-419a-b2e3-eaa3ebfc3401",
   "metadata": {},
   "source": [
    "Была проведена работа разработке модели для прогноза количества заказов на следующий час. Для начала была проведена загрузка и сэмплирование данных. Далее был проведен анализ имеющегося временного ряда, выясненно, что он стационарный и не подверженный сезонности. Далее были обучены несколько моделей с разными гиперпараметрами и найдена лучшая - RandomForestRegressor. Она же была проверена на тестовой выборке и так же показала высокие результаты."
   ]
  }
 ],
 "metadata": {
  "ExecuteTimeLog": [
   {
    "duration": 3393,
    "start_time": "2024-01-19T11:37:12.911Z"
   },
   {
    "duration": 151,
    "start_time": "2024-01-19T11:37:16.306Z"
   },
   {
    "duration": 0,
    "start_time": "2024-01-19T11:37:16.459Z"
   },
   {
    "duration": 0,
    "start_time": "2024-01-19T11:37:16.460Z"
   },
   {
    "duration": 0,
    "start_time": "2024-01-19T11:37:16.461Z"
   },
   {
    "duration": 0,
    "start_time": "2024-01-19T11:37:16.462Z"
   },
   {
    "duration": 0,
    "start_time": "2024-01-19T11:37:16.462Z"
   },
   {
    "duration": 0,
    "start_time": "2024-01-19T11:37:16.463Z"
   },
   {
    "duration": 0,
    "start_time": "2024-01-19T11:37:16.464Z"
   },
   {
    "duration": 0,
    "start_time": "2024-01-19T11:37:16.465Z"
   },
   {
    "duration": 0,
    "start_time": "2024-01-19T11:37:16.466Z"
   },
   {
    "duration": 0,
    "start_time": "2024-01-19T11:37:16.467Z"
   },
   {
    "duration": 3630,
    "start_time": "2024-01-19T11:38:17.545Z"
   },
   {
    "duration": 55,
    "start_time": "2024-01-19T11:38:21.177Z"
   },
   {
    "duration": 15,
    "start_time": "2024-01-19T11:38:21.233Z"
   },
   {
    "duration": 6,
    "start_time": "2024-01-19T11:38:21.249Z"
   },
   {
    "duration": 283,
    "start_time": "2024-01-19T11:38:21.256Z"
   },
   {
    "duration": 370,
    "start_time": "2024-01-19T11:38:21.540Z"
   },
   {
    "duration": 13,
    "start_time": "2024-01-19T11:38:21.912Z"
   },
   {
    "duration": 560,
    "start_time": "2024-01-19T11:38:21.926Z"
   },
   {
    "duration": 4,
    "start_time": "2024-01-19T11:38:22.487Z"
   },
   {
    "duration": 60,
    "start_time": "2024-01-19T11:38:22.493Z"
   },
   {
    "duration": 8,
    "start_time": "2024-01-19T11:38:22.555Z"
   },
   {
    "duration": 18,
    "start_time": "2024-01-19T11:38:22.564Z"
   },
   {
    "duration": 4,
    "start_time": "2024-01-19T11:38:30.588Z"
   },
   {
    "duration": 1720,
    "start_time": "2024-01-19T12:08:32.244Z"
   },
   {
    "duration": 0,
    "start_time": "2024-01-19T12:08:33.966Z"
   },
   {
    "duration": 8,
    "start_time": "2024-01-19T12:08:35.355Z"
   },
   {
    "duration": 149,
    "start_time": "2024-01-19T12:08:42.947Z"
   },
   {
    "duration": 25,
    "start_time": "2024-01-19T12:10:32.883Z"
   },
   {
    "duration": 55,
    "start_time": "2024-01-19T12:10:34.334Z"
   },
   {
    "duration": 16,
    "start_time": "2024-01-19T12:10:40.542Z"
   },
   {
    "duration": 13,
    "start_time": "2024-01-19T12:10:44.220Z"
   },
   {
    "duration": 7,
    "start_time": "2024-01-19T12:10:49.686Z"
   },
   {
    "duration": 298,
    "start_time": "2024-01-19T12:10:55.372Z"
   },
   {
    "duration": 100,
    "start_time": "2024-01-19T12:15:02.136Z"
   },
   {
    "duration": 7,
    "start_time": "2024-01-19T13:55:18.394Z"
   },
   {
    "duration": 103,
    "start_time": "2024-01-19T13:55:20.394Z"
   },
   {
    "duration": 17,
    "start_time": "2024-01-19T16:32:53.268Z"
   },
   {
    "duration": 5,
    "start_time": "2024-01-19T16:37:45.799Z"
   },
   {
    "duration": 95,
    "start_time": "2024-01-19T16:37:46.220Z"
   },
   {
    "duration": 12,
    "start_time": "2024-01-19T16:37:47.576Z"
   },
   {
    "duration": 6,
    "start_time": "2024-01-19T16:37:48.572Z"
   },
   {
    "duration": 324,
    "start_time": "2024-01-19T16:37:49.282Z"
   },
   {
    "duration": 300,
    "start_time": "2024-01-19T16:37:50.178Z"
   },
   {
    "duration": 10,
    "start_time": "2024-01-19T16:37:50.678Z"
   },
   {
    "duration": 562,
    "start_time": "2024-01-19T16:37:50.858Z"
   },
   {
    "duration": 5,
    "start_time": "2024-01-19T16:37:57.625Z"
   },
   {
    "duration": 423,
    "start_time": "2024-01-19T16:38:11.724Z"
   },
   {
    "duration": 10,
    "start_time": "2024-01-19T16:58:45.648Z"
   },
   {
    "duration": 11,
    "start_time": "2024-01-19T16:58:46.182Z"
   },
   {
    "duration": 1389,
    "start_time": "2024-01-19T16:59:00.148Z"
   },
   {
    "duration": 102,
    "start_time": "2024-01-19T16:59:01.539Z"
   },
   {
    "duration": 15,
    "start_time": "2024-01-19T16:59:01.642Z"
   },
   {
    "duration": 33,
    "start_time": "2024-01-19T16:59:01.659Z"
   },
   {
    "duration": 306,
    "start_time": "2024-01-19T16:59:01.694Z"
   },
   {
    "duration": 363,
    "start_time": "2024-01-19T16:59:02.001Z"
   },
   {
    "duration": 11,
    "start_time": "2024-01-19T16:59:02.365Z"
   },
   {
    "duration": 568,
    "start_time": "2024-01-19T16:59:02.378Z"
   },
   {
    "duration": 363,
    "start_time": "2024-01-19T16:59:02.948Z"
   },
   {
    "duration": 4,
    "start_time": "2024-01-19T16:59:03.313Z"
   },
   {
    "duration": 170,
    "start_time": "2024-01-19T16:59:03.319Z"
   },
   {
    "duration": 19,
    "start_time": "2024-01-19T16:59:03.491Z"
   },
   {
    "duration": 137,
    "start_time": "2024-01-19T16:59:03.512Z"
   },
   {
    "duration": 44,
    "start_time": "2024-01-19T16:59:03.652Z"
   },
   {
    "duration": 3586,
    "start_time": "2024-01-19T16:59:03.698Z"
   },
   {
    "duration": 104,
    "start_time": "2024-01-19T16:59:07.286Z"
   },
   {
    "duration": 17,
    "start_time": "2024-01-19T17:08:16.015Z"
   },
   {
    "duration": 9,
    "start_time": "2024-01-19T17:11:13.814Z"
   },
   {
    "duration": 1426,
    "start_time": "2024-01-19T17:11:48.397Z"
   },
   {
    "duration": 119,
    "start_time": "2024-01-19T17:11:49.824Z"
   },
   {
    "duration": 15,
    "start_time": "2024-01-19T17:11:49.945Z"
   },
   {
    "duration": 8,
    "start_time": "2024-01-19T17:11:49.961Z"
   },
   {
    "duration": 285,
    "start_time": "2024-01-19T17:11:49.971Z"
   },
   {
    "duration": 425,
    "start_time": "2024-01-19T17:11:50.257Z"
   },
   {
    "duration": 14,
    "start_time": "2024-01-19T17:11:50.683Z"
   },
   {
    "duration": 547,
    "start_time": "2024-01-19T17:11:50.699Z"
   },
   {
    "duration": 391,
    "start_time": "2024-01-19T17:11:51.248Z"
   },
   {
    "duration": 3,
    "start_time": "2024-01-19T17:11:51.642Z"
   },
   {
    "duration": 62,
    "start_time": "2024-01-19T17:11:51.647Z"
   },
   {
    "duration": 9,
    "start_time": "2024-01-19T17:11:51.711Z"
   },
   {
    "duration": 86,
    "start_time": "2024-01-19T17:11:51.721Z"
   },
   {
    "duration": 16,
    "start_time": "2024-01-19T17:11:51.809Z"
   },
   {
    "duration": 2204,
    "start_time": "2024-01-19T17:11:51.826Z"
   },
   {
    "duration": 0,
    "start_time": "2024-01-19T17:11:54.032Z"
   },
   {
    "duration": 4,
    "start_time": "2024-01-19T17:13:46.325Z"
   },
   {
    "duration": 69963,
    "start_time": "2024-01-19T17:13:47.483Z"
   },
   {
    "duration": 44,
    "start_time": "2024-01-19T17:17:17.704Z"
   },
   {
    "duration": 1344,
    "start_time": "2024-01-19T17:25:42.673Z"
   },
   {
    "duration": 96,
    "start_time": "2024-01-19T17:25:44.019Z"
   },
   {
    "duration": 17,
    "start_time": "2024-01-19T17:25:44.117Z"
   },
   {
    "duration": 13,
    "start_time": "2024-01-19T17:25:44.135Z"
   },
   {
    "duration": 305,
    "start_time": "2024-01-19T17:25:44.150Z"
   },
   {
    "duration": 362,
    "start_time": "2024-01-19T17:25:44.457Z"
   },
   {
    "duration": 9,
    "start_time": "2024-01-19T17:25:44.820Z"
   },
   {
    "duration": 569,
    "start_time": "2024-01-19T17:25:44.830Z"
   },
   {
    "duration": 380,
    "start_time": "2024-01-19T17:25:45.400Z"
   },
   {
    "duration": 5,
    "start_time": "2024-01-19T17:25:45.781Z"
   },
   {
    "duration": 68,
    "start_time": "2024-01-19T17:25:45.793Z"
   },
   {
    "duration": 9,
    "start_time": "2024-01-19T17:25:45.863Z"
   },
   {
    "duration": 87,
    "start_time": "2024-01-19T17:25:45.873Z"
   },
   {
    "duration": 8,
    "start_time": "2024-01-19T17:25:45.962Z"
   },
   {
    "duration": 68703,
    "start_time": "2024-01-19T17:25:45.971Z"
   },
   {
    "duration": 45,
    "start_time": "2024-01-19T17:26:54.675Z"
   },
   {
    "duration": 1339,
    "start_time": "2024-01-19T17:28:17.615Z"
   },
   {
    "duration": 107,
    "start_time": "2024-01-19T17:28:18.956Z"
   },
   {
    "duration": 16,
    "start_time": "2024-01-19T17:28:19.064Z"
   },
   {
    "duration": 7,
    "start_time": "2024-01-19T17:28:19.082Z"
   },
   {
    "duration": 294,
    "start_time": "2024-01-19T17:28:19.090Z"
   },
   {
    "duration": 364,
    "start_time": "2024-01-19T17:28:19.385Z"
   },
   {
    "duration": 10,
    "start_time": "2024-01-19T17:28:19.750Z"
   },
   {
    "duration": 536,
    "start_time": "2024-01-19T17:28:19.761Z"
   },
   {
    "duration": 351,
    "start_time": "2024-01-19T17:28:20.298Z"
   },
   {
    "duration": 4,
    "start_time": "2024-01-19T17:28:20.651Z"
   },
   {
    "duration": 77,
    "start_time": "2024-01-19T17:28:20.656Z"
   },
   {
    "duration": 9,
    "start_time": "2024-01-19T17:28:20.734Z"
   },
   {
    "duration": 88,
    "start_time": "2024-01-19T17:28:20.744Z"
   },
   {
    "duration": 35,
    "start_time": "2024-01-19T17:28:20.833Z"
   },
   {
    "duration": 68646,
    "start_time": "2024-01-19T17:28:20.869Z"
   },
   {
    "duration": 42,
    "start_time": "2024-01-19T17:29:29.517Z"
   },
   {
    "duration": 1755,
    "start_time": "2024-01-20T16:26:13.701Z"
   },
   {
    "duration": 197,
    "start_time": "2024-01-20T16:26:15.458Z"
   },
   {
    "duration": 18,
    "start_time": "2024-01-20T16:26:15.656Z"
   },
   {
    "duration": 7,
    "start_time": "2024-01-20T16:26:16.626Z"
   },
   {
    "duration": 320,
    "start_time": "2024-01-20T16:26:17.253Z"
   },
   {
    "duration": 413,
    "start_time": "2024-01-20T16:26:18.143Z"
   },
   {
    "duration": 14,
    "start_time": "2024-01-20T16:26:18.791Z"
   },
   {
    "duration": 620,
    "start_time": "2024-01-20T16:26:18.931Z"
   },
   {
    "duration": 417,
    "start_time": "2024-01-20T16:26:19.552Z"
   },
   {
    "duration": 4,
    "start_time": "2024-01-20T16:26:20.581Z"
   },
   {
    "duration": 54,
    "start_time": "2024-01-20T16:26:21.573Z"
   },
   {
    "duration": 10,
    "start_time": "2024-01-20T16:26:21.731Z"
   },
   {
    "duration": 6,
    "start_time": "2024-01-20T16:26:23.270Z"
   },
   {
    "duration": 87,
    "start_time": "2024-01-20T16:26:23.718Z"
   },
   {
    "duration": 118,
    "start_time": "2024-01-20T16:26:24.527Z"
   },
   {
    "duration": 77,
    "start_time": "2024-01-20T16:27:01.824Z"
   },
   {
    "duration": 6,
    "start_time": "2024-01-20T16:27:08.434Z"
   },
   {
    "duration": 4081,
    "start_time": "2024-01-20T16:27:12.545Z"
   },
   {
    "duration": 96081,
    "start_time": "2024-01-20T16:28:36.066Z"
   },
   {
    "duration": 1441,
    "start_time": "2024-01-20T16:31:02.362Z"
   },
   {
    "duration": 101,
    "start_time": "2024-01-20T16:31:03.805Z"
   },
   {
    "duration": 19,
    "start_time": "2024-01-20T16:31:03.907Z"
   },
   {
    "duration": 8,
    "start_time": "2024-01-20T16:31:03.927Z"
   },
   {
    "duration": 337,
    "start_time": "2024-01-20T16:31:03.937Z"
   },
   {
    "duration": 410,
    "start_time": "2024-01-20T16:31:04.276Z"
   },
   {
    "duration": 12,
    "start_time": "2024-01-20T16:31:04.687Z"
   },
   {
    "duration": 648,
    "start_time": "2024-01-20T16:31:04.700Z"
   },
   {
    "duration": 442,
    "start_time": "2024-01-20T16:31:05.350Z"
   },
   {
    "duration": 4,
    "start_time": "2024-01-20T16:31:05.793Z"
   },
   {
    "duration": 67,
    "start_time": "2024-01-20T16:31:05.799Z"
   },
   {
    "duration": 9,
    "start_time": "2024-01-20T16:31:05.868Z"
   },
   {
    "duration": 11,
    "start_time": "2024-01-20T16:31:05.879Z"
   },
   {
    "duration": 10,
    "start_time": "2024-01-20T16:31:05.893Z"
   },
   {
    "duration": 122953,
    "start_time": "2024-01-20T16:31:05.922Z"
   },
   {
    "duration": 30,
    "start_time": "2024-01-20T16:33:08.877Z"
   },
   {
    "duration": 1470,
    "start_time": "2024-01-20T16:40:29.907Z"
   },
   {
    "duration": 109,
    "start_time": "2024-01-20T16:40:31.379Z"
   },
   {
    "duration": 18,
    "start_time": "2024-01-20T16:40:31.490Z"
   },
   {
    "duration": 19,
    "start_time": "2024-01-20T16:40:31.510Z"
   },
   {
    "duration": 354,
    "start_time": "2024-01-20T16:40:31.531Z"
   },
   {
    "duration": 426,
    "start_time": "2024-01-20T16:40:31.886Z"
   },
   {
    "duration": 17,
    "start_time": "2024-01-20T16:40:32.314Z"
   },
   {
    "duration": 603,
    "start_time": "2024-01-20T16:40:32.333Z"
   },
   {
    "duration": 426,
    "start_time": "2024-01-20T16:40:32.938Z"
   },
   {
    "duration": 4,
    "start_time": "2024-01-20T16:40:33.365Z"
   },
   {
    "duration": 96,
    "start_time": "2024-01-20T16:40:33.371Z"
   },
   {
    "duration": 9,
    "start_time": "2024-01-20T16:40:33.468Z"
   },
   {
    "duration": 14,
    "start_time": "2024-01-20T16:40:33.478Z"
   },
   {
    "duration": 24,
    "start_time": "2024-01-20T16:40:33.495Z"
   },
   {
    "duration": 399533,
    "start_time": "2024-01-20T16:40:33.521Z"
   },
   {
    "duration": 30,
    "start_time": "2024-01-20T16:47:13.056Z"
   },
   {
    "duration": 123,
    "start_time": "2024-01-20T16:50:03.043Z"
   },
   {
    "duration": 4973,
    "start_time": "2024-01-20T16:52:28.851Z"
   },
   {
    "duration": 12,
    "start_time": "2024-01-20T16:53:12.755Z"
   },
   {
    "duration": 1503,
    "start_time": "2024-01-20T16:55:20.107Z"
   },
   {
    "duration": 101,
    "start_time": "2024-01-20T16:55:21.612Z"
   },
   {
    "duration": 17,
    "start_time": "2024-01-20T16:55:21.715Z"
   },
   {
    "duration": 7,
    "start_time": "2024-01-20T16:55:21.733Z"
   },
   {
    "duration": 317,
    "start_time": "2024-01-20T16:55:21.743Z"
   },
   {
    "duration": 404,
    "start_time": "2024-01-20T16:55:22.062Z"
   },
   {
    "duration": 10,
    "start_time": "2024-01-20T16:55:22.468Z"
   },
   {
    "duration": 601,
    "start_time": "2024-01-20T16:55:22.480Z"
   },
   {
    "duration": 449,
    "start_time": "2024-01-20T16:55:23.082Z"
   },
   {
    "duration": 5,
    "start_time": "2024-01-20T16:55:23.532Z"
   },
   {
    "duration": 59,
    "start_time": "2024-01-20T16:55:23.539Z"
   },
   {
    "duration": 23,
    "start_time": "2024-01-20T16:55:23.600Z"
   },
   {
    "duration": 7,
    "start_time": "2024-01-20T16:55:23.625Z"
   },
   {
    "duration": 8,
    "start_time": "2024-01-20T16:55:23.636Z"
   },
   {
    "duration": 400626,
    "start_time": "2024-01-20T16:55:23.646Z"
   },
   {
    "duration": 30,
    "start_time": "2024-01-20T17:02:04.274Z"
   },
   {
    "duration": 12,
    "start_time": "2024-01-20T17:02:36.848Z"
   },
   {
    "duration": 11,
    "start_time": "2024-01-20T17:02:54.068Z"
   },
   {
    "duration": 6486,
    "start_time": "2024-01-20T17:07:08.757Z"
   },
   {
    "duration": 6446,
    "start_time": "2024-01-20T17:07:59.079Z"
   },
   {
    "duration": 6407,
    "start_time": "2024-01-20T17:08:22.117Z"
   },
   {
    "duration": 7,
    "start_time": "2024-01-20T17:09:05.592Z"
   },
   {
    "duration": 1526,
    "start_time": "2024-01-20T17:11:00.138Z"
   },
   {
    "duration": 96,
    "start_time": "2024-01-20T17:11:01.666Z"
   },
   {
    "duration": 21,
    "start_time": "2024-01-20T17:11:01.764Z"
   },
   {
    "duration": 40,
    "start_time": "2024-01-20T17:11:01.787Z"
   },
   {
    "duration": 368,
    "start_time": "2024-01-20T17:11:01.829Z"
   },
   {
    "duration": 414,
    "start_time": "2024-01-20T17:11:02.199Z"
   },
   {
    "duration": 16,
    "start_time": "2024-01-20T17:11:02.615Z"
   },
   {
    "duration": 634,
    "start_time": "2024-01-20T17:11:02.633Z"
   },
   {
    "duration": 410,
    "start_time": "2024-01-20T17:11:03.269Z"
   },
   {
    "duration": 4,
    "start_time": "2024-01-20T17:11:03.681Z"
   },
   {
    "duration": 92,
    "start_time": "2024-01-20T17:11:03.687Z"
   },
   {
    "duration": 9,
    "start_time": "2024-01-20T17:11:03.780Z"
   },
   {
    "duration": 17,
    "start_time": "2024-01-20T17:11:03.790Z"
   },
   {
    "duration": 88,
    "start_time": "2024-01-20T17:11:03.809Z"
   },
   {
    "duration": 1493,
    "start_time": "2024-01-20T17:12:08.448Z"
   },
   {
    "duration": 92,
    "start_time": "2024-01-20T17:12:09.943Z"
   },
   {
    "duration": 21,
    "start_time": "2024-01-20T17:12:10.036Z"
   },
   {
    "duration": 8,
    "start_time": "2024-01-20T17:12:10.059Z"
   },
   {
    "duration": 341,
    "start_time": "2024-01-20T17:12:10.069Z"
   },
   {
    "duration": 419,
    "start_time": "2024-01-20T17:12:10.412Z"
   },
   {
    "duration": 11,
    "start_time": "2024-01-20T17:12:10.832Z"
   },
   {
    "duration": 616,
    "start_time": "2024-01-20T17:12:10.844Z"
   },
   {
    "duration": 402,
    "start_time": "2024-01-20T17:12:11.462Z"
   },
   {
    "duration": 4,
    "start_time": "2024-01-20T17:12:11.866Z"
   },
   {
    "duration": 71,
    "start_time": "2024-01-20T17:12:11.871Z"
   },
   {
    "duration": 9,
    "start_time": "2024-01-20T17:12:11.944Z"
   },
   {
    "duration": 7,
    "start_time": "2024-01-20T17:12:11.954Z"
   },
   {
    "duration": 5,
    "start_time": "2024-01-20T17:12:11.964Z"
   },
   {
    "duration": 398192,
    "start_time": "2024-01-20T17:12:11.971Z"
   },
   {
    "duration": 30,
    "start_time": "2024-01-20T17:18:50.165Z"
   }
  ],
  "kernelspec": {
   "display_name": "Python 3 (ipykernel)",
   "language": "python",
   "name": "python3"
  },
  "language_info": {
   "codemirror_mode": {
    "name": "ipython",
    "version": 3
   },
   "file_extension": ".py",
   "mimetype": "text/x-python",
   "name": "python",
   "nbconvert_exporter": "python",
   "pygments_lexer": "ipython3",
   "version": "3.12.1"
  },
  "toc": {
   "base_numbering": 1,
   "nav_menu": {},
   "number_sections": true,
   "sideBar": true,
   "skip_h1_title": true,
   "title_cell": "Table of Contents",
   "title_sidebar": "Contents",
   "toc_cell": false,
   "toc_position": {},
   "toc_section_display": true,
   "toc_window_display": false
  }
 },
 "nbformat": 4,
 "nbformat_minor": 5
}
